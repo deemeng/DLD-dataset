{
 "cells": [
  {
   "cell_type": "code",
   "execution_count": 7,
   "id": "9b3a2c97-59e1-409d-9d4f-0f5de56453bf",
   "metadata": {
    "tags": []
   },
   "outputs": [],
   "source": [
    "import numpy as np\n",
    "import pandas as pd\n",
    "import os\n",
    "import re\n",
    "\n",
    "import matplotlib.pyplot as plt\n",
    "import numpy as np\n",
    "from matplotlib import colors\n",
    "from matplotlib.ticker import PercentFormatter\n",
    "from utils.common import save_tab, load_tab\n",
    "from params import *\n",
    "\n",
    "# Create a random number generator with a fixed seed for reproducibility\n",
    "rng = np.random.default_rng(19680801)"
   ]
  },
  {
   "cell_type": "code",
   "execution_count": null,
   "id": "a579e6cf-d692-48cc-98f6-ab326b8ce65b",
   "metadata": {
    "tags": []
   },
   "outputs": [],
   "source": [
    "# path\n",
    "ROOT = os.path.abspath('..')\n",
    "path_domain_linker = os.path.join(ROOT, 'domain_linker/origin_dsAll')\n",
    "\n",
    "path_drop = os.path.join(path_domain_linker, 'DROP_LinkerList.txt')"
   ]
  },
  {
   "cell_type": "markdown",
   "id": "13178e86-480d-454c-b9f4-7ff3e9bbfc70",
   "metadata": {
    "tags": []
   },
   "source": [
    "# Comparing 2 versions of DS-All datasets\n",
    "\n",
    "DS-All: is the original version of DS-All dataset\\\n",
    "DROP: the slightly modified DS-All dataset was been used for DROP (a domian linker predictor)."
   ]
  },
  {
   "cell_type": "markdown",
   "id": "2c2d56f4-95e8-4eae-9883-dab09bbeee6e",
   "metadata": {
    "tags": []
   },
   "source": [
    "## Loading"
   ]
  },
  {
   "cell_type": "code",
   "execution_count": 3,
   "id": "8bfb2cde-40fd-4d90-a962-f15d602570c2",
   "metadata": {
    "tags": []
   },
   "outputs": [],
   "source": [
    "df_drop = pd.read_csv(path_drop, sep='\\t')\n",
    "df_dsAll = pd.read_csv(path_dsAll, sep='\\t')"
   ]
  },
  {
   "cell_type": "code",
   "execution_count": 4,
   "id": "1c764883-9aa0-492f-b95d-dd4e6cbde161",
   "metadata": {
    "tags": []
   },
   "outputs": [
    {
     "data": {
      "text/plain": [
       "206"
      ]
     },
     "execution_count": 4,
     "metadata": {},
     "output_type": "execute_result"
    }
   ],
   "source": [
    "len(df_dsAll['PDBID'].unique())"
   ]
  },
  {
   "cell_type": "code",
   "execution_count": 5,
   "id": "91159342-1bcc-46e8-9bc2-4142c45e480b",
   "metadata": {},
   "outputs": [
    {
     "data": {
      "text/html": [
       "<div>\n",
       "<style scoped>\n",
       "    .dataframe tbody tr th:only-of-type {\n",
       "        vertical-align: middle;\n",
       "    }\n",
       "\n",
       "    .dataframe tbody tr th {\n",
       "        vertical-align: top;\n",
       "    }\n",
       "\n",
       "    .dataframe thead th {\n",
       "        text-align: right;\n",
       "    }\n",
       "</style>\n",
       "<table border=\"1\" class=\"dataframe\">\n",
       "  <thead>\n",
       "    <tr style=\"text-align: right;\">\n",
       "      <th></th>\n",
       "      <th>PDBID</th>\n",
       "      <th>LinkerPosition</th>\n",
       "    </tr>\n",
       "  </thead>\n",
       "  <tbody>\n",
       "    <tr>\n",
       "      <th>0</th>\n",
       "      <td>1a0p</td>\n",
       "      <td>89-114</td>\n",
       "    </tr>\n",
       "    <tr>\n",
       "      <th>1</th>\n",
       "      <td>1a2v_A</td>\n",
       "      <td>110-117 &amp; 232-242</td>\n",
       "    </tr>\n",
       "    <tr>\n",
       "      <th>2</th>\n",
       "      <td>1a6c_A</td>\n",
       "      <td>164-178</td>\n",
       "    </tr>\n",
       "    <tr>\n",
       "      <th>3</th>\n",
       "      <td>1a6q</td>\n",
       "      <td>291-298</td>\n",
       "    </tr>\n",
       "    <tr>\n",
       "      <th>4</th>\n",
       "      <td>1au7_A</td>\n",
       "      <td>74-109</td>\n",
       "    </tr>\n",
       "    <tr>\n",
       "      <th>...</th>\n",
       "      <td>...</td>\n",
       "      <td>...</td>\n",
       "    </tr>\n",
       "    <tr>\n",
       "      <th>201</th>\n",
       "      <td>2pia</td>\n",
       "      <td>99-112 &amp; 224-237</td>\n",
       "    </tr>\n",
       "    <tr>\n",
       "      <th>202</th>\n",
       "      <td>2sli</td>\n",
       "      <td>272-290</td>\n",
       "    </tr>\n",
       "    <tr>\n",
       "      <th>203</th>\n",
       "      <td>3pro_D</td>\n",
       "      <td>84-87</td>\n",
       "    </tr>\n",
       "    <tr>\n",
       "      <th>204</th>\n",
       "      <td>4crx_A</td>\n",
       "      <td>127-138</td>\n",
       "    </tr>\n",
       "    <tr>\n",
       "      <th>205</th>\n",
       "      <td>6pax_A</td>\n",
       "      <td>61-77</td>\n",
       "    </tr>\n",
       "  </tbody>\n",
       "</table>\n",
       "<p>206 rows × 2 columns</p>\n",
       "</div>"
      ],
      "text/plain": [
       "      PDBID      LinkerPosition\n",
       "0      1a0p              89-114\n",
       "1    1a2v_A   110-117 & 232-242\n",
       "2    1a6c_A             164-178\n",
       "3      1a6q             291-298\n",
       "4    1au7_A              74-109\n",
       "..      ...                 ...\n",
       "201    2pia    99-112 & 224-237\n",
       "202    2sli             272-290\n",
       "203  3pro_D               84-87\n",
       "204  4crx_A             127-138\n",
       "205  6pax_A               61-77\n",
       "\n",
       "[206 rows x 2 columns]"
      ]
     },
     "execution_count": 5,
     "metadata": {},
     "output_type": "execute_result"
    }
   ],
   "source": [
    "df_dsAll"
   ]
  },
  {
   "cell_type": "markdown",
   "id": "f0435a43-ea84-4777-82fb-1d9207b864a1",
   "metadata": {
    "jp-MarkdownHeadingCollapsed": true,
    "tags": []
   },
   "source": [
    "## DROP\n",
    "\n",
    "DS-All dataset from DROP predictor: https://paperpile.com/shared/bg48a6"
   ]
  },
  {
   "cell_type": "code",
   "execution_count": 66,
   "id": "7ec34102-410d-4427-8c31-748873001618",
   "metadata": {
    "tags": []
   },
   "outputs": [],
   "source": [
    "# split PDBID into: pdbid, chainID, is multidomain or not\n",
    "pdbid_split = np.array([x.split('_')+[1] if '_' in x else x.split('|')+[0] for x in df_drop['PDBID']])\n",
    "# multi_domain: 1 - yes, 0 - no.\n",
    "df_drop[['PDBID', 'chain', 'multi_chain']] = pdbid_split\n",
    "# trans str to int\n",
    "df_drop['multi_chain'] = [int(x) for x in df_drop['multi_chain']]"
   ]
  },
  {
   "cell_type": "code",
   "execution_count": 67,
   "id": "130c0a84-d5aa-49f6-bd0c-8077603a0c0c",
   "metadata": {
    "tags": []
   },
   "outputs": [
    {
     "data": {
      "text/html": [
       "<div>\n",
       "<style scoped>\n",
       "    .dataframe tbody tr th:only-of-type {\n",
       "        vertical-align: middle;\n",
       "    }\n",
       "\n",
       "    .dataframe tbody tr th {\n",
       "        vertical-align: top;\n",
       "    }\n",
       "\n",
       "    .dataframe thead th {\n",
       "        text-align: right;\n",
       "    }\n",
       "</style>\n",
       "<table border=\"1\" class=\"dataframe\">\n",
       "  <thead>\n",
       "    <tr style=\"text-align: right;\">\n",
       "      <th></th>\n",
       "      <th>PDBID</th>\n",
       "      <th>START</th>\n",
       "      <th>END</th>\n",
       "      <th>chain</th>\n",
       "      <th>multi_chain</th>\n",
       "    </tr>\n",
       "  </thead>\n",
       "  <tbody>\n",
       "    <tr>\n",
       "      <th>168</th>\n",
       "      <td>1rtm</td>\n",
       "      <td>31</td>\n",
       "      <td>38</td>\n",
       "      <td>1</td>\n",
       "      <td>1</td>\n",
       "    </tr>\n",
       "  </tbody>\n",
       "</table>\n",
       "</div>"
      ],
      "text/plain": [
       "    PDBID  START  END chain  multi_chain\n",
       "168  1rtm     31   38     1            1"
      ]
     },
     "execution_count": 67,
     "metadata": {},
     "output_type": "execute_result"
    }
   ],
   "source": [
    "df_drop[df_drop['PDBID']=='1rtm']"
   ]
  },
  {
   "cell_type": "code",
   "execution_count": 68,
   "id": "52cdd701-3d4f-4d99-94d1-9f1c01a05f71",
   "metadata": {
    "tags": []
   },
   "outputs": [
    {
     "data": {
      "text/html": [
       "<div>\n",
       "<style scoped>\n",
       "    .dataframe tbody tr th:only-of-type {\n",
       "        vertical-align: middle;\n",
       "    }\n",
       "\n",
       "    .dataframe tbody tr th {\n",
       "        vertical-align: top;\n",
       "    }\n",
       "\n",
       "    .dataframe thead th {\n",
       "        text-align: right;\n",
       "    }\n",
       "</style>\n",
       "<table border=\"1\" class=\"dataframe\">\n",
       "  <thead>\n",
       "    <tr style=\"text-align: right;\">\n",
       "      <th></th>\n",
       "      <th>PDBID</th>\n",
       "      <th>START</th>\n",
       "      <th>END</th>\n",
       "      <th>chain</th>\n",
       "      <th>multi_chain</th>\n",
       "    </tr>\n",
       "  </thead>\n",
       "  <tbody>\n",
       "    <tr>\n",
       "      <th>0</th>\n",
       "      <td>1a2v</td>\n",
       "      <td>215</td>\n",
       "      <td>225</td>\n",
       "      <td>A</td>\n",
       "      <td>1</td>\n",
       "    </tr>\n",
       "    <tr>\n",
       "      <th>1</th>\n",
       "      <td>1a2v</td>\n",
       "      <td>93</td>\n",
       "      <td>100</td>\n",
       "      <td>A</td>\n",
       "      <td>1</td>\n",
       "    </tr>\n",
       "    <tr>\n",
       "      <th>2</th>\n",
       "      <td>1a6c</td>\n",
       "      <td>164</td>\n",
       "      <td>178</td>\n",
       "      <td>A</td>\n",
       "      <td>1</td>\n",
       "    </tr>\n",
       "    <tr>\n",
       "      <th>3</th>\n",
       "      <td>1a6q</td>\n",
       "      <td>291</td>\n",
       "      <td>298</td>\n",
       "      <td>2</td>\n",
       "      <td>0</td>\n",
       "    </tr>\n",
       "    <tr>\n",
       "      <th>4</th>\n",
       "      <td>1b8a</td>\n",
       "      <td>100</td>\n",
       "      <td>116</td>\n",
       "      <td>A</td>\n",
       "      <td>1</td>\n",
       "    </tr>\n",
       "    <tr>\n",
       "      <th>...</th>\n",
       "      <td>...</td>\n",
       "      <td>...</td>\n",
       "      <td>...</td>\n",
       "      <td>...</td>\n",
       "      <td>...</td>\n",
       "    </tr>\n",
       "    <tr>\n",
       "      <th>207</th>\n",
       "      <td>2pia</td>\n",
       "      <td>99</td>\n",
       "      <td>112</td>\n",
       "      <td>9</td>\n",
       "      <td>0</td>\n",
       "    </tr>\n",
       "    <tr>\n",
       "      <th>208</th>\n",
       "      <td>2sli</td>\n",
       "      <td>192</td>\n",
       "      <td>210</td>\n",
       "      <td>1</td>\n",
       "      <td>0</td>\n",
       "    </tr>\n",
       "    <tr>\n",
       "      <th>209</th>\n",
       "      <td>3pro</td>\n",
       "      <td>84</td>\n",
       "      <td>87</td>\n",
       "      <td>D</td>\n",
       "      <td>1</td>\n",
       "    </tr>\n",
       "    <tr>\n",
       "      <th>210</th>\n",
       "      <td>4crx</td>\n",
       "      <td>108</td>\n",
       "      <td>119</td>\n",
       "      <td>A</td>\n",
       "      <td>1</td>\n",
       "    </tr>\n",
       "    <tr>\n",
       "      <th>211</th>\n",
       "      <td>6pax</td>\n",
       "      <td>61</td>\n",
       "      <td>77</td>\n",
       "      <td>A</td>\n",
       "      <td>1</td>\n",
       "    </tr>\n",
       "  </tbody>\n",
       "</table>\n",
       "<p>212 rows × 5 columns</p>\n",
       "</div>"
      ],
      "text/plain": [
       "    PDBID  START  END chain  multi_chain\n",
       "0    1a2v    215  225     A            1\n",
       "1    1a2v     93  100     A            1\n",
       "2    1a6c    164  178     A            1\n",
       "3    1a6q    291  298     2            0\n",
       "4    1b8a    100  116     A            1\n",
       "..    ...    ...  ...   ...          ...\n",
       "207  2pia     99  112     9            0\n",
       "208  2sli    192  210     1            0\n",
       "209  3pro     84   87     D            1\n",
       "210  4crx    108  119     A            1\n",
       "211  6pax     61   77     A            1\n",
       "\n",
       "[212 rows x 5 columns]"
      ]
     },
     "execution_count": 68,
     "metadata": {},
     "output_type": "execute_result"
    }
   ],
   "source": [
    "# 'chain' of the protein sequences with only one chain is the first number of 'START'\n",
    "df_drop"
   ]
  },
  {
   "cell_type": "code",
   "execution_count": 69,
   "id": "3089a94c-04b3-4e05-a2d0-a1279b609227",
   "metadata": {
    "tags": []
   },
   "outputs": [],
   "source": [
    "# set proteins with only one chain, 'chain' column to zero\n",
    "# df_drop['chain'] = ['0' if re.search(r'[0-9]', x) else x for x, y in df_drop['chain']]\n",
    "df_drop['chain'] = ['0' if y==0 else x for x, y in zip(df_drop['chain'], df_drop['multi_chain'])]"
   ]
  },
  {
   "cell_type": "markdown",
   "id": "e3b5dea6-ccfe-490b-81d4-a4f6a8648190",
   "metadata": {},
   "source": [
    "**Linker length**"
   ]
  },
  {
   "cell_type": "code",
   "execution_count": 70,
   "id": "b4f39460-fae7-4206-b4e5-68146883697e",
   "metadata": {
    "tags": []
   },
   "outputs": [],
   "source": [
    "# calculate linker length\n",
    "df_drop['LENGTH'] = df_drop['END'] - df_drop['START'] + 1\n",
    "df_drop = df_drop.sort_values(by=['PDBID', 'START']).reset_index(drop=True)"
   ]
  },
  {
   "cell_type": "markdown",
   "id": "c3569106-9c61-412c-b96a-a1ab8d0c7658",
   "metadata": {
    "tags": []
   },
   "source": [
    "## DS-All\n",
    "\n",
    "DS-All dataset from original paper:\n",
    "https://paperpile.com/shared/VOhRRB"
   ]
  },
  {
   "cell_type": "code",
   "execution_count": 4,
   "id": "e1bea29c-baf7-4f36-b4ab-c3db28989ae6",
   "metadata": {
    "tags": []
   },
   "outputs": [],
   "source": [
    "# split PDBID into: pdbid, chainID, is multidomain or not\n",
    "pdbid_split = np.array([x.split('_')+[1] if '_' in x else [x, 0, 0] for x in df_dsAll['PDBID']])\n",
    "# multi_domain: 1 - yes, 0 - no.\n",
    "df_dsAll[['PDBID', 'chain', 'multi_chain']] = pdbid_split\n",
    "# trans str to int\n",
    "df_dsAll['multi_chain'] = [int(x) for x in df_dsAll['multi_chain']]"
   ]
  },
  {
   "cell_type": "code",
   "execution_count": 7,
   "id": "6a9d7b1b-3619-4abb-8816-d661703c5da5",
   "metadata": {
    "tags": []
   },
   "outputs": [
    {
     "data": {
      "text/html": [
       "<div>\n",
       "<style scoped>\n",
       "    .dataframe tbody tr th:only-of-type {\n",
       "        vertical-align: middle;\n",
       "    }\n",
       "\n",
       "    .dataframe tbody tr th {\n",
       "        vertical-align: top;\n",
       "    }\n",
       "\n",
       "    .dataframe thead th {\n",
       "        text-align: right;\n",
       "    }\n",
       "</style>\n",
       "<table border=\"1\" class=\"dataframe\">\n",
       "  <thead>\n",
       "    <tr style=\"text-align: right;\">\n",
       "      <th></th>\n",
       "      <th>PDBID</th>\n",
       "      <th>LinkerPosition</th>\n",
       "      <th>chain</th>\n",
       "      <th>multi_chain</th>\n",
       "    </tr>\n",
       "  </thead>\n",
       "  <tbody>\n",
       "    <tr>\n",
       "      <th>0</th>\n",
       "      <td>1a0p</td>\n",
       "      <td>89-114</td>\n",
       "      <td>0</td>\n",
       "      <td>0</td>\n",
       "    </tr>\n",
       "    <tr>\n",
       "      <th>1</th>\n",
       "      <td>1a2v</td>\n",
       "      <td>110-117 &amp; 232-242</td>\n",
       "      <td>A</td>\n",
       "      <td>1</td>\n",
       "    </tr>\n",
       "    <tr>\n",
       "      <th>2</th>\n",
       "      <td>1a6c</td>\n",
       "      <td>164-178</td>\n",
       "      <td>A</td>\n",
       "      <td>1</td>\n",
       "    </tr>\n",
       "    <tr>\n",
       "      <th>3</th>\n",
       "      <td>1a6q</td>\n",
       "      <td>291-298</td>\n",
       "      <td>0</td>\n",
       "      <td>0</td>\n",
       "    </tr>\n",
       "    <tr>\n",
       "      <th>4</th>\n",
       "      <td>1au7</td>\n",
       "      <td>74-109</td>\n",
       "      <td>A</td>\n",
       "      <td>1</td>\n",
       "    </tr>\n",
       "  </tbody>\n",
       "</table>\n",
       "</div>"
      ],
      "text/plain": [
       "  PDBID      LinkerPosition chain  multi_chain\n",
       "0  1a0p              89-114     0            0\n",
       "1  1a2v   110-117 & 232-242     A            1\n",
       "2  1a6c             164-178     A            1\n",
       "3  1a6q             291-298     0            0\n",
       "4  1au7              74-109     A            1"
      ]
     },
     "execution_count": 7,
     "metadata": {},
     "output_type": "execute_result"
    }
   ],
   "source": [
    "df_dsAll[:5]"
   ]
  },
  {
   "cell_type": "code",
   "execution_count": 5,
   "id": "29d3f5c7-69a4-42f3-973a-9bba80f5567f",
   "metadata": {},
   "outputs": [],
   "source": [
    "# split LinkerPosition into start & end columns\n",
    "dict_dsAll = {'PDBID': [], 'START': [], 'END': [], 'chain': [], 'multi_chain':[]}\n",
    "for index, row in df_dsAll.iterrows():\n",
    "    linker_position = row['LinkerPosition']\n",
    "    for lp in linker_position.split('&'):\n",
    "        dict_dsAll['PDBID'] += [row['PDBID']]\n",
    "        dict_dsAll['START'] += [int(lp.split('-')[0])]\n",
    "        dict_dsAll['END'] += [int(lp.split('-')[1])]\n",
    "        dict_dsAll['chain'] += [row['chain']]\n",
    "        dict_dsAll['multi_chain'] += [row['multi_chain']]\n",
    "\n",
    "df_dsAll = pd.DataFrame(dict_dsAll).sort_values(by=['PDBID', 'START'])"
   ]
  },
  {
   "cell_type": "code",
   "execution_count": 6,
   "id": "648db61d-0d8e-4c06-a17a-c29f14d1e771",
   "metadata": {
    "tags": []
   },
   "outputs": [
    {
     "data": {
      "text/plain": [
       "206"
      ]
     },
     "execution_count": 6,
     "metadata": {},
     "output_type": "execute_result"
    }
   ],
   "source": [
    "len(df_dsAll['PDBID'].unique())"
   ]
  },
  {
   "cell_type": "markdown",
   "id": "c6eb4bda-528d-4628-aecf-e9a30c9e8870",
   "metadata": {},
   "source": [
    "**Linker length**"
   ]
  },
  {
   "cell_type": "code",
   "execution_count": 7,
   "id": "eea4e074-d675-4927-89b4-ef20bcb99587",
   "metadata": {
    "tags": []
   },
   "outputs": [],
   "source": [
    "# calculate linker length\n",
    "df_dsAll['length'] = df_dsAll['END'] - df_dsAll['START'] + 1\n",
    "df_dsAll = df_dsAll.sort_values(by=['PDBID', 'START'])"
   ]
  },
  {
   "cell_type": "code",
   "execution_count": 8,
   "id": "8788fe86-97fb-47a5-9991-7b78bb7eefa3",
   "metadata": {},
   "outputs": [
    {
     "data": {
      "text/plain": [
       "(180, 212, 222, 234, 242)"
      ]
     },
     "execution_count": 8,
     "metadata": {},
     "output_type": "execute_result"
    }
   ],
   "source": [
    "sum(df_dsAll['length']<15), sum(df_dsAll['length']<20), sum(df_dsAll['length']<25), sum(df_dsAll['length']<35), sum(df_dsAll['length']<50)"
   ]
  },
  {
   "cell_type": "code",
   "execution_count": 9,
   "id": "215422c0-8545-4eca-9813-75f7c569931b",
   "metadata": {},
   "outputs": [
    {
     "data": {
      "image/png": "[encoded data removed]",
      "text/plain": [
       "<Figure size 432x288 with 1 Axes>"
      ]
     },
     "metadata": {
      "needs_background": "light"
     },
     "output_type": "display_data"
    }
   ],
   "source": [
    "import matplotlib.pyplot as plt\n",
    "\n",
    "x = [u'(0, 15)', u'[15, 20)', u'[20, 25)', u'[25, 35)', u'[35, 50)', u'[50, )']\n",
    "y = [180, 32, 10, 12, 8, 4]\n",
    "\n",
    "fig, ax = plt.subplots()  \n",
    "width = 0.75 # the width of the bars \n",
    "ind = np.arange(len(y))  # the x locations for the groups\n",
    "for i, v in enumerate(y):\n",
    "    ax.text(v + 3, i + .25, str(v), fontweight='bold')\n",
    "ax.barh(ind, y, width,) #color=\"blue\")\n",
    "ax.set_yticks(ind+width/2)\n",
    "ax.set_yticklabels(x, minor=False)\n",
    "plt.title('Length distribution of DS-All')\n",
    "plt.xlabel('number of Domain-linkers')\n",
    "plt.ylabel('length')      \n",
    "#plt.show()\n",
    "plt.savefig(os.path.join('test.png'), dpi=300, format='png', bbox_inches='tight') # use format='svg' or 'pdf' for vectorial pictures"
   ]
  },
  {
   "cell_type": "markdown",
   "id": "f348aa70-4d96-412d-9eb9-784d464455a1",
   "metadata": {},
   "source": [
    "#### save DS-All dataset"
   ]
  },
  {
   "cell_type": "code",
   "execution_count": 10,
   "id": "b6756ebd-a380-4196-8d77-e7c86499d59d",
   "metadata": {},
   "outputs": [],
   "source": [
    "save_tab(df_dsAll, path_dsAll_tab)"
   ]
  },
  {
   "cell_type": "code",
   "execution_count": 78,
   "id": "1bd0777c-614e-4b62-918d-25ec0f9584bf",
   "metadata": {},
   "outputs": [
    {
     "data": {
      "text/plain": [
       "(array([61., 37., 37., 39., 13., 14., 13.,  6.,  2.,  5.,  2.,  2.,  3.,\n",
       "         2.,  1.,  2.,  2.,  0.,  0.,  1.,  1.,  0.,  0.,  0.,  0.,  0.,\n",
       "         0.,  0.,  0.,  0.,  0.,  1.,  0.,  0.,  0.,  0.,  0.,  0.,  0.,\n",
       "         1.,  0.,  0.,  0.,  0.,  0.,  0.,  0.,  0.,  0.,  0.,  0.,  0.,\n",
       "         0.,  0.,  0.,  0.,  0.,  0.,  0.,  0.,  0.,  0.,  0.,  0.,  0.,\n",
       "         0.,  0.,  0.,  0.,  0.,  0.,  0.,  0.,  0.,  0.,  0.,  0.,  0.,\n",
       "         0.,  0.,  0.,  0.,  0.,  0.,  0.,  0.,  0.,  0.,  0.,  0.,  0.,\n",
       "         0.,  0.,  0.,  0.,  0.,  0.,  0.,  0.,  1.]),\n",
       " array([  4.  ,   6.29,   8.58,  10.87,  13.16,  15.45,  17.74,  20.03,\n",
       "         22.32,  24.61,  26.9 ,  29.19,  31.48,  33.77,  36.06,  38.35,\n",
       "         40.64,  42.93,  45.22,  47.51,  49.8 ,  52.09,  54.38,  56.67,\n",
       "         58.96,  61.25,  63.54,  65.83,  68.12,  70.41,  72.7 ,  74.99,\n",
       "         77.28,  79.57,  81.86,  84.15,  86.44,  88.73,  91.02,  93.31,\n",
       "         95.6 ,  97.89, 100.18, 102.47, 104.76, 107.05, 109.34, 111.63,\n",
       "        113.92, 116.21, 118.5 , 120.79, 123.08, 125.37, 127.66, 129.95,\n",
       "        132.24, 134.53, 136.82, 139.11, 141.4 , 143.69, 145.98, 148.27,\n",
       "        150.56, 152.85, 155.14, 157.43, 159.72, 162.01, 164.3 , 166.59,\n",
       "        168.88, 171.17, 173.46, 175.75, 178.04, 180.33, 182.62, 184.91,\n",
       "        187.2 , 189.49, 191.78, 194.07, 196.36, 198.65, 200.94, 203.23,\n",
       "        205.52, 207.81, 210.1 , 212.39, 214.68, 216.97, 219.26, 221.55,\n",
       "        223.84, 226.13, 228.42, 230.71, 233.  ]),\n",
       " <BarContainer object of 100 artists>)"
      ]
     },
     "execution_count": 78,
     "metadata": {},
     "output_type": "execute_result"
    },
    {
     "data": {
      "image/png": "[encoded data removed]",
      "text/plain": [
       "<Figure size 864x432 with 1 Axes>"
      ]
     },
     "metadata": {
      "needs_background": "light"
     },
     "output_type": "display_data"
    }
   ],
   "source": [
    "\n",
    "plt.figure(figsize=(12, 6))\n",
    "\n",
    "# We can also normalize our inputs by the total number of counts\n",
    "plt.hist(df_dsAll['LENGTH'], bins=100, density=False)\n"
   ]
  },
  {
   "cell_type": "code",
   "execution_count": 13,
   "id": "cdbecbe0-cbca-4d6f-8d5b-fb68452e4d36",
   "metadata": {},
   "outputs": [
    {
     "data": {
      "text/html": [
       "<div>\n",
       "<style scoped>\n",
       "    .dataframe tbody tr th:only-of-type {\n",
       "        vertical-align: middle;\n",
       "    }\n",
       "\n",
       "    .dataframe tbody tr th {\n",
       "        vertical-align: top;\n",
       "    }\n",
       "\n",
       "    .dataframe thead th {\n",
       "        text-align: right;\n",
       "    }\n",
       "</style>\n",
       "<table border=\"1\" class=\"dataframe\">\n",
       "  <thead>\n",
       "    <tr style=\"text-align: right;\">\n",
       "      <th></th>\n",
       "      <th>PDBID</th>\n",
       "      <th>START</th>\n",
       "      <th>END</th>\n",
       "      <th>chain</th>\n",
       "      <th>multi_chain</th>\n",
       "      <th>length</th>\n",
       "    </tr>\n",
       "  </thead>\n",
       "  <tbody>\n",
       "    <tr>\n",
       "      <th>186</th>\n",
       "      <td>1r6z</td>\n",
       "      <td>369</td>\n",
       "      <td>601</td>\n",
       "      <td>A</td>\n",
       "      <td>1</td>\n",
       "      <td>233</td>\n",
       "    </tr>\n",
       "    <tr>\n",
       "      <th>219</th>\n",
       "      <td>1v1h</td>\n",
       "      <td>391</td>\n",
       "      <td>467</td>\n",
       "      <td>A</td>\n",
       "      <td>1</td>\n",
       "      <td>77</td>\n",
       "    </tr>\n",
       "    <tr>\n",
       "      <th>229</th>\n",
       "      <td>1x86</td>\n",
       "      <td>992</td>\n",
       "      <td>1086</td>\n",
       "      <td>G</td>\n",
       "      <td>1</td>\n",
       "      <td>95</td>\n",
       "    </tr>\n",
       "    <tr>\n",
       "      <th>235</th>\n",
       "      <td>2atc</td>\n",
       "      <td>77</td>\n",
       "      <td>126</td>\n",
       "      <td>B</td>\n",
       "      <td>1</td>\n",
       "      <td>50</td>\n",
       "    </tr>\n",
       "  </tbody>\n",
       "</table>\n",
       "</div>"
      ],
      "text/plain": [
       "    PDBID  START   END chain  multi_chain  length\n",
       "186  1r6z    369   601     A            1     233\n",
       "219  1v1h    391   467     A            1      77\n",
       "229  1x86    992  1086     G            1      95\n",
       "235  2atc     77   126     B            1      50"
      ]
     },
     "execution_count": 13,
     "metadata": {},
     "output_type": "execute_result"
    }
   ],
   "source": [
    "df_dsAll[df_dsAll['length']>=50]"
   ]
  },
  {
   "cell_type": "markdown",
   "id": "b4d1f0b9-91af-4317-bf9e-56b614c88e63",
   "metadata": {
    "jp-MarkdownHeadingCollapsed": true,
    "tags": []
   },
   "source": [
    "## DROP vs DS-All"
   ]
  },
  {
   "cell_type": "markdown",
   "id": "d0d3ea39-68df-4009-9dec-abc13d94cef3",
   "metadata": {},
   "source": [
    "### Separate different PDBID and identical PDBID"
   ]
  },
  {
   "cell_type": "code",
   "execution_count": 17,
   "id": "544f264a-5ee0-4445-b6a5-232faf7632f2",
   "metadata": {
    "tags": []
   },
   "outputs": [
    {
     "data": {
      "text/plain": [
       "(246, 212)"
      ]
     },
     "execution_count": 17,
     "metadata": {},
     "output_type": "execute_result"
    }
   ],
   "source": [
    "df_dsAll.shape[0], df_drop.shape[0]"
   ]
  },
  {
   "cell_type": "code",
   "execution_count": 18,
   "id": "ca5a452a-edad-43c5-b60d-f8050f2375c5",
   "metadata": {
    "tags": []
   },
   "outputs": [
    {
     "data": {
      "text/plain": [
       "(206, 178)"
      ]
     },
     "execution_count": 18,
     "metadata": {},
     "output_type": "execute_result"
    }
   ],
   "source": [
    "len(df_dsAll['PDBID'].unique()), len(df_drop['PDBID'].unique())"
   ]
  },
  {
   "cell_type": "code",
   "execution_count": 19,
   "id": "9bc714ee-2960-4403-afb2-64f3613bf5ab",
   "metadata": {
    "tags": []
   },
   "outputs": [
    {
     "name": "stdout",
     "output_type": "stream",
     "text": [
      "28 set()\n"
     ]
    }
   ],
   "source": [
    "# proteins in DS-All but not in DROP\n",
    "diffList_dsAll_drop = set(df_dsAll['PDBID']) - set(df_drop['PDBID'])\n",
    "\n",
    "print(len(diffList_dsAll_drop), set(df_drop['PDBID']) - set(df_dsAll['PDBID']))\n",
    "\n",
    "# therefore, proteins in DROP is a subset of dsAll. union \n",
    "unionList_dsAll_drop = set(df_drop['PDBID'])"
   ]
  },
  {
   "cell_type": "code",
   "execution_count": 20,
   "id": "6b6ddda8-6e73-4450-a395-7bc8c4744c42",
   "metadata": {
    "tags": []
   },
   "outputs": [
    {
     "data": {
      "text/plain": [
       "212"
      ]
     },
     "execution_count": 20,
     "metadata": {},
     "output_type": "execute_result"
    }
   ],
   "source": [
    "df_union = df_dsAll[df_dsAll['PDBID'].isin(unionList_dsAll_drop)].sort_values(by=['PDBID', 'START']).reset_index(drop=True)\n",
    "df_union.shape[0]"
   ]
  },
  {
   "cell_type": "code",
   "execution_count": 21,
   "id": "55eeb407-1030-483b-9055-23c9ae0a9ee3",
   "metadata": {
    "tags": []
   },
   "outputs": [
    {
     "data": {
      "text/plain": [
       "34"
      ]
     },
     "execution_count": 21,
     "metadata": {},
     "output_type": "execute_result"
    }
   ],
   "source": [
    "df_diff = df_dsAll[df_dsAll['PDBID'].isin(diffList_dsAll_drop)].sort_values(by=['PDBID', 'START']).reset_index(drop=True)\n",
    "df_diff.shape[0]"
   ]
  },
  {
   "cell_type": "code",
   "execution_count": 22,
   "id": "0a200799-8210-4978-8b73-e3120622a293",
   "metadata": {},
   "outputs": [],
   "source": [
    "# df_drop[df_drop['multi_chain']==0]"
   ]
  },
  {
   "cell_type": "code",
   "execution_count": 23,
   "id": "756c24d8-6b94-4ed6-88a9-6ebd64387b8f",
   "metadata": {},
   "outputs": [],
   "source": [
    "# df_union[~df_union.apply(tuple,1).isin(df_drop.apply(tuple,1))]"
   ]
  },
  {
   "cell_type": "code",
   "execution_count": 24,
   "id": "3ea128a5-25fe-46d3-858f-bae7f59f5060",
   "metadata": {},
   "outputs": [],
   "source": [
    "# df_drop[~df_drop.apply(tuple,1).isin(df_union.apply(tuple,1))]"
   ]
  },
  {
   "cell_type": "markdown",
   "id": "e61f4d25-39d1-464a-9d66-fee5dece1202",
   "metadata": {},
   "source": [
    "### identical PDBID"
   ]
  },
  {
   "cell_type": "code",
   "execution_count": 25,
   "id": "8a705f5b-04aa-4fd5-a647-59f25977ade9",
   "metadata": {
    "tags": []
   },
   "outputs": [
    {
     "data": {
      "text/plain": [
       "(False, True)"
      ]
     },
     "execution_count": 25,
     "metadata": {},
     "output_type": "execute_result"
    }
   ],
   "source": [
    "df_union['LENGTH'].equals(df_drop['LENGTH']), df_union['chain'].equals(df_drop['chain'])"
   ]
  },
  {
   "cell_type": "code",
   "execution_count": 26,
   "id": "0d63b8f2-0984-4a80-815a-e2c3f06737e4",
   "metadata": {
    "tags": []
   },
   "outputs": [],
   "source": [
    "# set index\n",
    "df_union_i = df_union.set_index(['PDBID',  'multi_chain', 'chain'])\n",
    "df_drop_i = df_drop.set_index(['PDBID',  'multi_chain', 'chain'])"
   ]
  },
  {
   "cell_type": "code",
   "execution_count": 27,
   "id": "1d72de5e-2b84-447c-aa88-37aafb3b13e3",
   "metadata": {
    "tags": []
   },
   "outputs": [],
   "source": [
    "df_concat = pd.concat([df_union_i, df_drop_i], axis=1)\n",
    "df_concat.columns = ['START', 'END', 'LENGTH', 'START_d', 'END_d', 'LENGTH_d']\n",
    "df_concat = df_concat.reset_index()"
   ]
  },
  {
   "cell_type": "code",
   "execution_count": 28,
   "id": "9a808683-3747-4bc8-aef3-1cb89cb86f52",
   "metadata": {
    "tags": []
   },
   "outputs": [
    {
     "data": {
      "text/html": [
       "<div>\n",
       "<style scoped>\n",
       "    .dataframe tbody tr th:only-of-type {\n",
       "        vertical-align: middle;\n",
       "    }\n",
       "\n",
       "    .dataframe tbody tr th {\n",
       "        vertical-align: top;\n",
       "    }\n",
       "\n",
       "    .dataframe thead th {\n",
       "        text-align: right;\n",
       "    }\n",
       "</style>\n",
       "<table border=\"1\" class=\"dataframe\">\n",
       "  <thead>\n",
       "    <tr style=\"text-align: right;\">\n",
       "      <th></th>\n",
       "      <th>PDBID</th>\n",
       "      <th>multi_chain</th>\n",
       "      <th>chain</th>\n",
       "      <th>START</th>\n",
       "      <th>END</th>\n",
       "      <th>LENGTH</th>\n",
       "      <th>START_d</th>\n",
       "      <th>END_d</th>\n",
       "      <th>LENGTH_d</th>\n",
       "    </tr>\n",
       "  </thead>\n",
       "  <tbody>\n",
       "    <tr>\n",
       "      <th>3</th>\n",
       "      <td>1a6q</td>\n",
       "      <td>0</td>\n",
       "      <td>0</td>\n",
       "      <td>291</td>\n",
       "      <td>298</td>\n",
       "      <td>8</td>\n",
       "      <td>291</td>\n",
       "      <td>298</td>\n",
       "      <td>8</td>\n",
       "    </tr>\n",
       "    <tr>\n",
       "      <th>18</th>\n",
       "      <td>1cfb</td>\n",
       "      <td>0</td>\n",
       "      <td>0</td>\n",
       "      <td>709</td>\n",
       "      <td>720</td>\n",
       "      <td>12</td>\n",
       "      <td>100</td>\n",
       "      <td>111</td>\n",
       "      <td>12</td>\n",
       "    </tr>\n",
       "    <tr>\n",
       "      <th>27</th>\n",
       "      <td>1ddt</td>\n",
       "      <td>0</td>\n",
       "      <td>0</td>\n",
       "      <td>377</td>\n",
       "      <td>388</td>\n",
       "      <td>12</td>\n",
       "      <td>377</td>\n",
       "      <td>388</td>\n",
       "      <td>12</td>\n",
       "    </tr>\n",
       "    <tr>\n",
       "      <th>44</th>\n",
       "      <td>1eut</td>\n",
       "      <td>0</td>\n",
       "      <td>0</td>\n",
       "      <td>502</td>\n",
       "      <td>505</td>\n",
       "      <td>4</td>\n",
       "      <td>460</td>\n",
       "      <td>463</td>\n",
       "      <td>4</td>\n",
       "    </tr>\n",
       "    <tr>\n",
       "      <th>46</th>\n",
       "      <td>1fbr</td>\n",
       "      <td>0</td>\n",
       "      <td>0</td>\n",
       "      <td>45</td>\n",
       "      <td>48</td>\n",
       "      <td>4</td>\n",
       "      <td>45</td>\n",
       "      <td>48</td>\n",
       "      <td>4</td>\n",
       "    </tr>\n",
       "    <tr>\n",
       "      <th>49</th>\n",
       "      <td>1fnf</td>\n",
       "      <td>0</td>\n",
       "      <td>0</td>\n",
       "      <td>1233</td>\n",
       "      <td>1239</td>\n",
       "      <td>7</td>\n",
       "      <td>92</td>\n",
       "      <td>98</td>\n",
       "      <td>7</td>\n",
       "    </tr>\n",
       "    <tr>\n",
       "      <th>50</th>\n",
       "      <td>1fnf</td>\n",
       "      <td>0</td>\n",
       "      <td>0</td>\n",
       "      <td>1325</td>\n",
       "      <td>1330</td>\n",
       "      <td>6</td>\n",
       "      <td>184</td>\n",
       "      <td>189</td>\n",
       "      <td>6</td>\n",
       "    </tr>\n",
       "    <tr>\n",
       "      <th>51</th>\n",
       "      <td>1fnf</td>\n",
       "      <td>0</td>\n",
       "      <td>0</td>\n",
       "      <td>1415</td>\n",
       "      <td>1420</td>\n",
       "      <td>6</td>\n",
       "      <td>274</td>\n",
       "      <td>279</td>\n",
       "      <td>6</td>\n",
       "    </tr>\n",
       "    <tr>\n",
       "      <th>64</th>\n",
       "      <td>1grj</td>\n",
       "      <td>0</td>\n",
       "      <td>0</td>\n",
       "      <td>80</td>\n",
       "      <td>90</td>\n",
       "      <td>11</td>\n",
       "      <td>80</td>\n",
       "      <td>90</td>\n",
       "      <td>11</td>\n",
       "    </tr>\n",
       "    <tr>\n",
       "      <th>71</th>\n",
       "      <td>1hfh</td>\n",
       "      <td>0</td>\n",
       "      <td>0</td>\n",
       "      <td>63</td>\n",
       "      <td>75</td>\n",
       "      <td>13</td>\n",
       "      <td>63</td>\n",
       "      <td>75</td>\n",
       "      <td>13</td>\n",
       "    </tr>\n",
       "    <tr>\n",
       "      <th>73</th>\n",
       "      <td>1hnf</td>\n",
       "      <td>0</td>\n",
       "      <td>0</td>\n",
       "      <td>104</td>\n",
       "      <td>109</td>\n",
       "      <td>6</td>\n",
       "      <td>104</td>\n",
       "      <td>109</td>\n",
       "      <td>6</td>\n",
       "    </tr>\n",
       "    <tr>\n",
       "      <th>143</th>\n",
       "      <td>1prs</td>\n",
       "      <td>0</td>\n",
       "      <td>0</td>\n",
       "      <td>87</td>\n",
       "      <td>92</td>\n",
       "      <td>6</td>\n",
       "      <td>87</td>\n",
       "      <td>92</td>\n",
       "      <td>6</td>\n",
       "    </tr>\n",
       "    <tr>\n",
       "      <th>169</th>\n",
       "      <td>1ryt</td>\n",
       "      <td>0</td>\n",
       "      <td>0</td>\n",
       "      <td>144</td>\n",
       "      <td>148</td>\n",
       "      <td>5</td>\n",
       "      <td>143</td>\n",
       "      <td>147</td>\n",
       "      <td>5</td>\n",
       "    </tr>\n",
       "    <tr>\n",
       "      <th>175</th>\n",
       "      <td>1svb</td>\n",
       "      <td>0</td>\n",
       "      <td>0</td>\n",
       "      <td>294</td>\n",
       "      <td>306</td>\n",
       "      <td>13</td>\n",
       "      <td>294</td>\n",
       "      <td>306</td>\n",
       "      <td>13</td>\n",
       "    </tr>\n",
       "    <tr>\n",
       "      <th>197</th>\n",
       "      <td>1xpa</td>\n",
       "      <td>0</td>\n",
       "      <td>0</td>\n",
       "      <td>121</td>\n",
       "      <td>138</td>\n",
       "      <td>18</td>\n",
       "      <td>24</td>\n",
       "      <td>41</td>\n",
       "      <td>18</td>\n",
       "    </tr>\n",
       "    <tr>\n",
       "      <th>200</th>\n",
       "      <td>1zxq</td>\n",
       "      <td>0</td>\n",
       "      <td>0</td>\n",
       "      <td>85</td>\n",
       "      <td>91</td>\n",
       "      <td>7</td>\n",
       "      <td>85</td>\n",
       "      <td>91</td>\n",
       "      <td>7</td>\n",
       "    </tr>\n",
       "    <tr>\n",
       "      <th>202</th>\n",
       "      <td>2bb2</td>\n",
       "      <td>0</td>\n",
       "      <td>0</td>\n",
       "      <td>81</td>\n",
       "      <td>88</td>\n",
       "      <td>8</td>\n",
       "      <td>86</td>\n",
       "      <td>93</td>\n",
       "      <td>8</td>\n",
       "    </tr>\n",
       "    <tr>\n",
       "      <th>206</th>\n",
       "      <td>2pia</td>\n",
       "      <td>0</td>\n",
       "      <td>0</td>\n",
       "      <td>99</td>\n",
       "      <td>112</td>\n",
       "      <td>14</td>\n",
       "      <td>99</td>\n",
       "      <td>112</td>\n",
       "      <td>14</td>\n",
       "    </tr>\n",
       "    <tr>\n",
       "      <th>207</th>\n",
       "      <td>2pia</td>\n",
       "      <td>0</td>\n",
       "      <td>0</td>\n",
       "      <td>224</td>\n",
       "      <td>237</td>\n",
       "      <td>14</td>\n",
       "      <td>224</td>\n",
       "      <td>237</td>\n",
       "      <td>14</td>\n",
       "    </tr>\n",
       "    <tr>\n",
       "      <th>208</th>\n",
       "      <td>2sli</td>\n",
       "      <td>0</td>\n",
       "      <td>0</td>\n",
       "      <td>272</td>\n",
       "      <td>290</td>\n",
       "      <td>19</td>\n",
       "      <td>192</td>\n",
       "      <td>210</td>\n",
       "      <td>19</td>\n",
       "    </tr>\n",
       "  </tbody>\n",
       "</table>\n",
       "</div>"
      ],
      "text/plain": [
       "    PDBID  multi_chain chain  START   END  LENGTH  START_d  END_d  LENGTH_d\n",
       "3    1a6q            0     0    291   298       8      291    298         8\n",
       "18   1cfb            0     0    709   720      12      100    111        12\n",
       "27   1ddt            0     0    377   388      12      377    388        12\n",
       "44   1eut            0     0    502   505       4      460    463         4\n",
       "46   1fbr            0     0     45    48       4       45     48         4\n",
       "49   1fnf            0     0   1233  1239       7       92     98         7\n",
       "50   1fnf            0     0   1325  1330       6      184    189         6\n",
       "51   1fnf            0     0   1415  1420       6      274    279         6\n",
       "64   1grj            0     0     80    90      11       80     90        11\n",
       "71   1hfh            0     0     63    75      13       63     75        13\n",
       "73   1hnf            0     0    104   109       6      104    109         6\n",
       "143  1prs            0     0     87    92       6       87     92         6\n",
       "169  1ryt            0     0    144   148       5      143    147         5\n",
       "175  1svb            0     0    294   306      13      294    306        13\n",
       "197  1xpa            0     0    121   138      18       24     41        18\n",
       "200  1zxq            0     0     85    91       7       85     91         7\n",
       "202  2bb2            0     0     81    88       8       86     93         8\n",
       "206  2pia            0     0     99   112      14       99    112        14\n",
       "207  2pia            0     0    224   237      14      224    237        14\n",
       "208  2sli            0     0    272   290      19      192    210        19"
      ]
     },
     "execution_count": 28,
     "metadata": {},
     "output_type": "execute_result"
    }
   ],
   "source": [
    "df_concat[df_concat['multi_chain']==0]"
   ]
  },
  {
   "cell_type": "code",
   "execution_count": 29,
   "id": "ce36a691-df15-4371-9552-b57c0ac79890",
   "metadata": {
    "tags": []
   },
   "outputs": [
    {
     "data": {
      "text/html": [
       "<div>\n",
       "<style scoped>\n",
       "    .dataframe tbody tr th:only-of-type {\n",
       "        vertical-align: middle;\n",
       "    }\n",
       "\n",
       "    .dataframe tbody tr th {\n",
       "        vertical-align: top;\n",
       "    }\n",
       "\n",
       "    .dataframe thead th {\n",
       "        text-align: right;\n",
       "    }\n",
       "</style>\n",
       "<table border=\"1\" class=\"dataframe\">\n",
       "  <thead>\n",
       "    <tr style=\"text-align: right;\">\n",
       "      <th></th>\n",
       "      <th>PDBID</th>\n",
       "      <th>multi_chain</th>\n",
       "      <th>chain</th>\n",
       "      <th>START</th>\n",
       "      <th>END</th>\n",
       "      <th>LENGTH</th>\n",
       "      <th>START_d</th>\n",
       "      <th>END_d</th>\n",
       "      <th>LENGTH_d</th>\n",
       "    </tr>\n",
       "  </thead>\n",
       "  <tbody>\n",
       "    <tr>\n",
       "      <th>0</th>\n",
       "      <td>1a2v</td>\n",
       "      <td>1</td>\n",
       "      <td>A</td>\n",
       "      <td>110</td>\n",
       "      <td>117</td>\n",
       "      <td>8</td>\n",
       "      <td>93</td>\n",
       "      <td>100</td>\n",
       "      <td>8</td>\n",
       "    </tr>\n",
       "    <tr>\n",
       "      <th>1</th>\n",
       "      <td>1a2v</td>\n",
       "      <td>1</td>\n",
       "      <td>A</td>\n",
       "      <td>232</td>\n",
       "      <td>242</td>\n",
       "      <td>11</td>\n",
       "      <td>215</td>\n",
       "      <td>225</td>\n",
       "      <td>11</td>\n",
       "    </tr>\n",
       "    <tr>\n",
       "      <th>11</th>\n",
       "      <td>1bml</td>\n",
       "      <td>1</td>\n",
       "      <td>D</td>\n",
       "      <td>146</td>\n",
       "      <td>157</td>\n",
       "      <td>12</td>\n",
       "      <td>135</td>\n",
       "      <td>146</td>\n",
       "      <td>12</td>\n",
       "    </tr>\n",
       "    <tr>\n",
       "      <th>12</th>\n",
       "      <td>1bml</td>\n",
       "      <td>1</td>\n",
       "      <td>D</td>\n",
       "      <td>278</td>\n",
       "      <td>292</td>\n",
       "      <td>15</td>\n",
       "      <td>267</td>\n",
       "      <td>281</td>\n",
       "      <td>15</td>\n",
       "    </tr>\n",
       "    <tr>\n",
       "      <th>13</th>\n",
       "      <td>1c1a</td>\n",
       "      <td>1</td>\n",
       "      <td>B</td>\n",
       "      <td>213</td>\n",
       "      <td>222</td>\n",
       "      <td>10</td>\n",
       "      <td>165</td>\n",
       "      <td>174</td>\n",
       "      <td>10</td>\n",
       "    </tr>\n",
       "    <tr>\n",
       "      <th>...</th>\n",
       "      <td>...</td>\n",
       "      <td>...</td>\n",
       "      <td>...</td>\n",
       "      <td>...</td>\n",
       "      <td>...</td>\n",
       "      <td>...</td>\n",
       "      <td>...</td>\n",
       "      <td>...</td>\n",
       "      <td>...</td>\n",
       "    </tr>\n",
       "    <tr>\n",
       "      <th>199</th>\n",
       "      <td>1zme</td>\n",
       "      <td>1</td>\n",
       "      <td>C</td>\n",
       "      <td>56</td>\n",
       "      <td>67</td>\n",
       "      <td>12</td>\n",
       "      <td>26</td>\n",
       "      <td>37</td>\n",
       "      <td>12</td>\n",
       "    </tr>\n",
       "    <tr>\n",
       "      <th>202</th>\n",
       "      <td>2bb2</td>\n",
       "      <td>0</td>\n",
       "      <td>0</td>\n",
       "      <td>81</td>\n",
       "      <td>88</td>\n",
       "      <td>8</td>\n",
       "      <td>86</td>\n",
       "      <td>93</td>\n",
       "      <td>8</td>\n",
       "    </tr>\n",
       "    <tr>\n",
       "      <th>205</th>\n",
       "      <td>2eia</td>\n",
       "      <td>1</td>\n",
       "      <td>A</td>\n",
       "      <td>145</td>\n",
       "      <td>160</td>\n",
       "      <td>16</td>\n",
       "      <td>129</td>\n",
       "      <td>144</td>\n",
       "      <td>16</td>\n",
       "    </tr>\n",
       "    <tr>\n",
       "      <th>208</th>\n",
       "      <td>2sli</td>\n",
       "      <td>0</td>\n",
       "      <td>0</td>\n",
       "      <td>272</td>\n",
       "      <td>290</td>\n",
       "      <td>19</td>\n",
       "      <td>192</td>\n",
       "      <td>210</td>\n",
       "      <td>19</td>\n",
       "    </tr>\n",
       "    <tr>\n",
       "      <th>210</th>\n",
       "      <td>4crx</td>\n",
       "      <td>1</td>\n",
       "      <td>A</td>\n",
       "      <td>127</td>\n",
       "      <td>138</td>\n",
       "      <td>12</td>\n",
       "      <td>108</td>\n",
       "      <td>119</td>\n",
       "      <td>12</td>\n",
       "    </tr>\n",
       "  </tbody>\n",
       "</table>\n",
       "<p>87 rows × 9 columns</p>\n",
       "</div>"
      ],
      "text/plain": [
       "    PDBID  multi_chain chain  START  END  LENGTH  START_d  END_d  LENGTH_d\n",
       "0    1a2v            1     A    110  117       8       93    100         8\n",
       "1    1a2v            1     A    232  242      11      215    225        11\n",
       "11   1bml            1     D    146  157      12      135    146        12\n",
       "12   1bml            1     D    278  292      15      267    281        15\n",
       "13   1c1a            1     B    213  222      10      165    174        10\n",
       "..    ...          ...   ...    ...  ...     ...      ...    ...       ...\n",
       "199  1zme            1     C     56   67      12       26     37        12\n",
       "202  2bb2            0     0     81   88       8       86     93         8\n",
       "205  2eia            1     A    145  160      16      129    144        16\n",
       "208  2sli            0     0    272  290      19      192    210        19\n",
       "210  4crx            1     A    127  138      12      108    119        12\n",
       "\n",
       "[87 rows x 9 columns]"
      ]
     },
     "execution_count": 29,
     "metadata": {},
     "output_type": "execute_result"
    }
   ],
   "source": [
    "df_concat[df_concat['START']!=df_concat['START_d']]"
   ]
  },
  {
   "cell_type": "code",
   "execution_count": 30,
   "id": "18e2fca2-cd4d-448f-b057-c7828d17854c",
   "metadata": {
    "tags": []
   },
   "outputs": [
    {
     "data": {
      "text/html": [
       "<div>\n",
       "<style scoped>\n",
       "    .dataframe tbody tr th:only-of-type {\n",
       "        vertical-align: middle;\n",
       "    }\n",
       "\n",
       "    .dataframe tbody tr th {\n",
       "        vertical-align: top;\n",
       "    }\n",
       "\n",
       "    .dataframe thead th {\n",
       "        text-align: right;\n",
       "    }\n",
       "</style>\n",
       "<table border=\"1\" class=\"dataframe\">\n",
       "  <thead>\n",
       "    <tr style=\"text-align: right;\">\n",
       "      <th></th>\n",
       "      <th>PDBID</th>\n",
       "      <th>multi_chain</th>\n",
       "      <th>chain</th>\n",
       "      <th>START</th>\n",
       "      <th>END</th>\n",
       "      <th>LENGTH</th>\n",
       "      <th>START_d</th>\n",
       "      <th>END_d</th>\n",
       "      <th>LENGTH_d</th>\n",
       "    </tr>\n",
       "  </thead>\n",
       "  <tbody>\n",
       "    <tr>\n",
       "      <th>86</th>\n",
       "      <td>1igt</td>\n",
       "      <td>1</td>\n",
       "      <td>B</td>\n",
       "      <td>223</td>\n",
       "      <td>251</td>\n",
       "      <td>29</td>\n",
       "      <td>215</td>\n",
       "      <td>239</td>\n",
       "      <td>25</td>\n",
       "    </tr>\n",
       "    <tr>\n",
       "      <th>87</th>\n",
       "      <td>1igt</td>\n",
       "      <td>1</td>\n",
       "      <td>B</td>\n",
       "      <td>358</td>\n",
       "      <td>367</td>\n",
       "      <td>10</td>\n",
       "      <td>339</td>\n",
       "      <td>347</td>\n",
       "      <td>9</td>\n",
       "    </tr>\n",
       "    <tr>\n",
       "      <th>155</th>\n",
       "      <td>1r6z</td>\n",
       "      <td>1</td>\n",
       "      <td>A</td>\n",
       "      <td>369</td>\n",
       "      <td>601</td>\n",
       "      <td>233</td>\n",
       "      <td>371</td>\n",
       "      <td>384</td>\n",
       "      <td>14</td>\n",
       "    </tr>\n",
       "    <tr>\n",
       "      <th>187</th>\n",
       "      <td>1v1h</td>\n",
       "      <td>1</td>\n",
       "      <td>A</td>\n",
       "      <td>391</td>\n",
       "      <td>467</td>\n",
       "      <td>77</td>\n",
       "      <td>73</td>\n",
       "      <td>87</td>\n",
       "      <td>15</td>\n",
       "    </tr>\n",
       "    <tr>\n",
       "      <th>192</th>\n",
       "      <td>1vj5</td>\n",
       "      <td>1</td>\n",
       "      <td>A</td>\n",
       "      <td>218</td>\n",
       "      <td>231</td>\n",
       "      <td>14</td>\n",
       "      <td>218</td>\n",
       "      <td>233</td>\n",
       "      <td>16</td>\n",
       "    </tr>\n",
       "  </tbody>\n",
       "</table>\n",
       "</div>"
      ],
      "text/plain": [
       "    PDBID  multi_chain chain  START  END  LENGTH  START_d  END_d  LENGTH_d\n",
       "86   1igt            1     B    223  251      29      215    239        25\n",
       "87   1igt            1     B    358  367      10      339    347         9\n",
       "155  1r6z            1     A    369  601     233      371    384        14\n",
       "187  1v1h            1     A    391  467      77       73     87        15\n",
       "192  1vj5            1     A    218  231      14      218    233        16"
      ]
     },
     "execution_count": 30,
     "metadata": {},
     "output_type": "execute_result"
    }
   ],
   "source": [
    "df_concat[df_concat['LENGTH']!=df_concat['LENGTH_d']]"
   ]
  },
  {
   "cell_type": "markdown",
   "id": "46e23b5f-cb55-4189-a54c-a72e3f990a23",
   "metadata": {},
   "source": [
    "### different PDBID\n",
    "\n",
    "proteins are abandoned from DROP"
   ]
  },
  {
   "cell_type": "code",
   "execution_count": 31,
   "id": "8e02a6ea-fae1-4585-9dd7-20cc409748a1",
   "metadata": {},
   "outputs": [
    {
     "data": {
      "text/plain": [
       "(34, 28)"
      ]
     },
     "execution_count": 31,
     "metadata": {},
     "output_type": "execute_result"
    }
   ],
   "source": [
    "df_diff.shape[0], len(df_diff['PDBID'].unique())"
   ]
  },
  {
   "cell_type": "code",
   "execution_count": 32,
   "id": "324255a1-b356-4929-a758-8542111b5441",
   "metadata": {
    "tags": []
   },
   "outputs": [
    {
     "data": {
      "text/html": [
       "<div>\n",
       "<style scoped>\n",
       "    .dataframe tbody tr th:only-of-type {\n",
       "        vertical-align: middle;\n",
       "    }\n",
       "\n",
       "    .dataframe tbody tr th {\n",
       "        vertical-align: top;\n",
       "    }\n",
       "\n",
       "    .dataframe thead th {\n",
       "        text-align: right;\n",
       "    }\n",
       "</style>\n",
       "<table border=\"1\" class=\"dataframe\">\n",
       "  <thead>\n",
       "    <tr style=\"text-align: right;\">\n",
       "      <th></th>\n",
       "      <th>PDBID</th>\n",
       "      <th>START</th>\n",
       "      <th>END</th>\n",
       "      <th>chain</th>\n",
       "      <th>multi_chain</th>\n",
       "      <th>LENGTH</th>\n",
       "    </tr>\n",
       "  </thead>\n",
       "  <tbody>\n",
       "    <tr>\n",
       "      <th>0</th>\n",
       "      <td>1a0p</td>\n",
       "      <td>89</td>\n",
       "      <td>114</td>\n",
       "      <td>0</td>\n",
       "      <td>0</td>\n",
       "      <td>26</td>\n",
       "    </tr>\n",
       "    <tr>\n",
       "      <th>1</th>\n",
       "      <td>1au7</td>\n",
       "      <td>74</td>\n",
       "      <td>109</td>\n",
       "      <td>A</td>\n",
       "      <td>1</td>\n",
       "      <td>36</td>\n",
       "    </tr>\n",
       "    <tr>\n",
       "      <th>2</th>\n",
       "      <td>1b0n</td>\n",
       "      <td>63</td>\n",
       "      <td>75</td>\n",
       "      <td>A</td>\n",
       "      <td>1</td>\n",
       "      <td>13</td>\n",
       "    </tr>\n",
       "    <tr>\n",
       "      <th>3</th>\n",
       "      <td>1bi1</td>\n",
       "      <td>139</td>\n",
       "      <td>149</td>\n",
       "      <td>0</td>\n",
       "      <td>0</td>\n",
       "      <td>11</td>\n",
       "    </tr>\n",
       "    <tr>\n",
       "      <th>4</th>\n",
       "      <td>1dvp</td>\n",
       "      <td>136</td>\n",
       "      <td>177</td>\n",
       "      <td>A</td>\n",
       "      <td>1</td>\n",
       "      <td>42</td>\n",
       "    </tr>\n",
       "    <tr>\n",
       "      <th>5</th>\n",
       "      <td>1e3h</td>\n",
       "      <td>148</td>\n",
       "      <td>156</td>\n",
       "      <td>A</td>\n",
       "      <td>1</td>\n",
       "      <td>9</td>\n",
       "    </tr>\n",
       "    <tr>\n",
       "      <th>6</th>\n",
       "      <td>1e3h</td>\n",
       "      <td>569</td>\n",
       "      <td>605</td>\n",
       "      <td>A</td>\n",
       "      <td>1</td>\n",
       "      <td>37</td>\n",
       "    </tr>\n",
       "    <tr>\n",
       "      <th>7</th>\n",
       "      <td>1fo1</td>\n",
       "      <td>188</td>\n",
       "      <td>205</td>\n",
       "      <td>A</td>\n",
       "      <td>1</td>\n",
       "      <td>18</td>\n",
       "    </tr>\n",
       "    <tr>\n",
       "      <th>8</th>\n",
       "      <td>1g5i</td>\n",
       "      <td>328</td>\n",
       "      <td>356</td>\n",
       "      <td>C</td>\n",
       "      <td>1</td>\n",
       "      <td>29</td>\n",
       "    </tr>\n",
       "    <tr>\n",
       "      <th>9</th>\n",
       "      <td>1gw5</td>\n",
       "      <td>133</td>\n",
       "      <td>171</td>\n",
       "      <td>M</td>\n",
       "      <td>1</td>\n",
       "      <td>39</td>\n",
       "    </tr>\n",
       "    <tr>\n",
       "      <th>10</th>\n",
       "      <td>1hjp</td>\n",
       "      <td>134</td>\n",
       "      <td>158</td>\n",
       "      <td>0</td>\n",
       "      <td>0</td>\n",
       "      <td>25</td>\n",
       "    </tr>\n",
       "    <tr>\n",
       "      <th>11</th>\n",
       "      <td>1jih</td>\n",
       "      <td>378</td>\n",
       "      <td>394</td>\n",
       "      <td>B</td>\n",
       "      <td>1</td>\n",
       "      <td>17</td>\n",
       "    </tr>\n",
       "    <tr>\n",
       "      <th>12</th>\n",
       "      <td>1jqj</td>\n",
       "      <td>207</td>\n",
       "      <td>213</td>\n",
       "      <td>D</td>\n",
       "      <td>1</td>\n",
       "      <td>7</td>\n",
       "    </tr>\n",
       "    <tr>\n",
       "      <th>13</th>\n",
       "      <td>1k3w</td>\n",
       "      <td>125</td>\n",
       "      <td>135</td>\n",
       "      <td>A</td>\n",
       "      <td>1</td>\n",
       "      <td>11</td>\n",
       "    </tr>\n",
       "    <tr>\n",
       "      <th>14</th>\n",
       "      <td>1k3w</td>\n",
       "      <td>212</td>\n",
       "      <td>244</td>\n",
       "      <td>A</td>\n",
       "      <td>1</td>\n",
       "      <td>33</td>\n",
       "    </tr>\n",
       "    <tr>\n",
       "      <th>15</th>\n",
       "      <td>1k6y</td>\n",
       "      <td>40</td>\n",
       "      <td>59</td>\n",
       "      <td>D</td>\n",
       "      <td>1</td>\n",
       "      <td>20</td>\n",
       "    </tr>\n",
       "    <tr>\n",
       "      <th>16</th>\n",
       "      <td>1ky9</td>\n",
       "      <td>258</td>\n",
       "      <td>262</td>\n",
       "      <td>B</td>\n",
       "      <td>1</td>\n",
       "      <td>5</td>\n",
       "    </tr>\n",
       "    <tr>\n",
       "      <th>17</th>\n",
       "      <td>1ky9</td>\n",
       "      <td>355</td>\n",
       "      <td>396</td>\n",
       "      <td>B</td>\n",
       "      <td>1</td>\n",
       "      <td>42</td>\n",
       "    </tr>\n",
       "    <tr>\n",
       "      <th>18</th>\n",
       "      <td>1lnq</td>\n",
       "      <td>95</td>\n",
       "      <td>116</td>\n",
       "      <td>A</td>\n",
       "      <td>1</td>\n",
       "      <td>22</td>\n",
       "    </tr>\n",
       "    <tr>\n",
       "      <th>19</th>\n",
       "      <td>1mow</td>\n",
       "      <td>1097</td>\n",
       "      <td>1103</td>\n",
       "      <td>G</td>\n",
       "      <td>1</td>\n",
       "      <td>7</td>\n",
       "    </tr>\n",
       "    <tr>\n",
       "      <th>20</th>\n",
       "      <td>1mxm</td>\n",
       "      <td>174</td>\n",
       "      <td>182</td>\n",
       "      <td>A</td>\n",
       "      <td>1</td>\n",
       "      <td>9</td>\n",
       "    </tr>\n",
       "    <tr>\n",
       "      <th>21</th>\n",
       "      <td>1na6</td>\n",
       "      <td>170</td>\n",
       "      <td>186</td>\n",
       "      <td>B</td>\n",
       "      <td>1</td>\n",
       "      <td>17</td>\n",
       "    </tr>\n",
       "    <tr>\n",
       "      <th>22</th>\n",
       "      <td>1nud</td>\n",
       "      <td>134</td>\n",
       "      <td>147</td>\n",
       "      <td>A</td>\n",
       "      <td>1</td>\n",
       "      <td>14</td>\n",
       "    </tr>\n",
       "    <tr>\n",
       "      <th>23</th>\n",
       "      <td>1nud</td>\n",
       "      <td>459</td>\n",
       "      <td>481</td>\n",
       "      <td>A</td>\n",
       "      <td>1</td>\n",
       "      <td>23</td>\n",
       "    </tr>\n",
       "    <tr>\n",
       "      <th>24</th>\n",
       "      <td>1nud</td>\n",
       "      <td>591</td>\n",
       "      <td>595</td>\n",
       "      <td>A</td>\n",
       "      <td>1</td>\n",
       "      <td>5</td>\n",
       "    </tr>\n",
       "    <tr>\n",
       "      <th>25</th>\n",
       "      <td>1or7</td>\n",
       "      <td>105</td>\n",
       "      <td>120</td>\n",
       "      <td>A</td>\n",
       "      <td>1</td>\n",
       "      <td>16</td>\n",
       "    </tr>\n",
       "    <tr>\n",
       "      <th>26</th>\n",
       "      <td>1p4e</td>\n",
       "      <td>129</td>\n",
       "      <td>138</td>\n",
       "      <td>A</td>\n",
       "      <td>1</td>\n",
       "      <td>10</td>\n",
       "    </tr>\n",
       "    <tr>\n",
       "      <th>27</th>\n",
       "      <td>1prc</td>\n",
       "      <td>36</td>\n",
       "      <td>55</td>\n",
       "      <td>H</td>\n",
       "      <td>1</td>\n",
       "      <td>20</td>\n",
       "    </tr>\n",
       "    <tr>\n",
       "      <th>28</th>\n",
       "      <td>1r6b</td>\n",
       "      <td>140</td>\n",
       "      <td>175</td>\n",
       "      <td>X</td>\n",
       "      <td>1</td>\n",
       "      <td>36</td>\n",
       "    </tr>\n",
       "    <tr>\n",
       "      <th>29</th>\n",
       "      <td>1r6b</td>\n",
       "      <td>434</td>\n",
       "      <td>444</td>\n",
       "      <td>X</td>\n",
       "      <td>1</td>\n",
       "      <td>11</td>\n",
       "    </tr>\n",
       "    <tr>\n",
       "      <th>30</th>\n",
       "      <td>1r6t</td>\n",
       "      <td>54</td>\n",
       "      <td>83</td>\n",
       "      <td>A</td>\n",
       "      <td>1</td>\n",
       "      <td>30</td>\n",
       "    </tr>\n",
       "    <tr>\n",
       "      <th>31</th>\n",
       "      <td>1rp1</td>\n",
       "      <td>328</td>\n",
       "      <td>337</td>\n",
       "      <td>0</td>\n",
       "      <td>0</td>\n",
       "      <td>10</td>\n",
       "    </tr>\n",
       "    <tr>\n",
       "      <th>32</th>\n",
       "      <td>1vio</td>\n",
       "      <td>54</td>\n",
       "      <td>61</td>\n",
       "      <td>A</td>\n",
       "      <td>1</td>\n",
       "      <td>8</td>\n",
       "    </tr>\n",
       "    <tr>\n",
       "      <th>33</th>\n",
       "      <td>1x86</td>\n",
       "      <td>992</td>\n",
       "      <td>1086</td>\n",
       "      <td>G</td>\n",
       "      <td>1</td>\n",
       "      <td>95</td>\n",
       "    </tr>\n",
       "  </tbody>\n",
       "</table>\n",
       "</div>"
      ],
      "text/plain": [
       "   PDBID  START   END chain  multi_chain  LENGTH\n",
       "0   1a0p     89   114     0            0      26\n",
       "1   1au7     74   109     A            1      36\n",
       "2   1b0n     63    75     A            1      13\n",
       "3   1bi1    139   149     0            0      11\n",
       "4   1dvp    136   177     A            1      42\n",
       "5   1e3h    148   156     A            1       9\n",
       "6   1e3h    569   605     A            1      37\n",
       "7   1fo1    188   205     A            1      18\n",
       "8   1g5i    328   356     C            1      29\n",
       "9   1gw5    133   171     M            1      39\n",
       "10  1hjp    134   158     0            0      25\n",
       "11  1jih    378   394     B            1      17\n",
       "12  1jqj    207   213     D            1       7\n",
       "13  1k3w    125   135     A            1      11\n",
       "14  1k3w    212   244     A            1      33\n",
       "15  1k6y     40    59     D            1      20\n",
       "16  1ky9    258   262     B            1       5\n",
       "17  1ky9    355   396     B            1      42\n",
       "18  1lnq     95   116     A            1      22\n",
       "19  1mow   1097  1103     G            1       7\n",
       "20  1mxm    174   182     A            1       9\n",
       "21  1na6    170   186     B            1      17\n",
       "22  1nud    134   147     A            1      14\n",
       "23  1nud    459   481     A            1      23\n",
       "24  1nud    591   595     A            1       5\n",
       "25  1or7    105   120     A            1      16\n",
       "26  1p4e    129   138     A            1      10\n",
       "27  1prc     36    55     H            1      20\n",
       "28  1r6b    140   175     X            1      36\n",
       "29  1r6b    434   444     X            1      11\n",
       "30  1r6t     54    83     A            1      30\n",
       "31  1rp1    328   337     0            0      10\n",
       "32  1vio     54    61     A            1       8\n",
       "33  1x86    992  1086     G            1      95"
      ]
     },
     "execution_count": 32,
     "metadata": {},
     "output_type": "execute_result"
    }
   ],
   "source": [
    "df_diff"
   ]
  },
  {
   "cell_type": "code",
   "execution_count": 33,
   "id": "f88adbb9-4160-4697-894d-18c325d0b6f3",
   "metadata": {
    "tags": []
   },
   "outputs": [
    {
     "data": {
      "text/html": [
       "<div>\n",
       "<style scoped>\n",
       "    .dataframe tbody tr th:only-of-type {\n",
       "        vertical-align: middle;\n",
       "    }\n",
       "\n",
       "    .dataframe tbody tr th {\n",
       "        vertical-align: top;\n",
       "    }\n",
       "\n",
       "    .dataframe thead th {\n",
       "        text-align: right;\n",
       "    }\n",
       "</style>\n",
       "<table border=\"1\" class=\"dataframe\">\n",
       "  <thead>\n",
       "    <tr style=\"text-align: right;\">\n",
       "      <th></th>\n",
       "      <th>PDBID</th>\n",
       "      <th>multi_chain</th>\n",
       "      <th>chain</th>\n",
       "      <th>START</th>\n",
       "      <th>END</th>\n",
       "      <th>LENGTH</th>\n",
       "      <th>START_d</th>\n",
       "      <th>END_d</th>\n",
       "      <th>LENGTH_d</th>\n",
       "    </tr>\n",
       "  </thead>\n",
       "  <tbody>\n",
       "  </tbody>\n",
       "</table>\n",
       "</div>"
      ],
      "text/plain": [
       "Empty DataFrame\n",
       "Columns: [PDBID, multi_chain, chain, START, END, LENGTH, START_d, END_d, LENGTH_d]\n",
       "Index: []"
      ]
     },
     "execution_count": 33,
     "metadata": {},
     "output_type": "execute_result"
    }
   ],
   "source": [
    "df_concat[df_concat['PDBID']=='1au7']"
   ]
  },
  {
   "cell_type": "markdown",
   "id": "f53d65cb",
   "metadata": {},
   "source": [
    "# Add amino acids information"
   ]
  },
  {
   "cell_type": "code",
   "execution_count": 10,
   "id": "b6046c49",
   "metadata": {},
   "outputs": [],
   "source": [
    "from Bio import PDB\n",
    "import os\n",
    "\n",
    "# Dictionary to map three-letter amino acid codes to one-letter codes\n",
    "three_to_one = {\n",
    "    'ALA': 'A', 'CYS': 'C', 'ASP': 'D', 'GLU': 'E', 'PHE': 'F',\n",
    "    'GLY': 'G', 'HIS': 'H', 'ILE': 'I', 'LYS': 'K', 'LEU': 'L',\n",
    "    'MET': 'M', 'ASN': 'N', 'PRO': 'P', 'GLN': 'Q', 'ARG': 'R',\n",
    "    'SER': 'S', 'THR': 'T', 'VAL': 'V', 'TRP': 'W', 'TYR': 'Y',\n",
    "    'ASX': 'B', 'GLX': 'Z', 'TER': '*', 'UNK': 'X'  # for unknown residues\n",
    "}\n",
    "\n",
    "def get_amino_acids_for_region(pdb_id, start, end, chain_id):\n",
    "    \"\"\"\n",
    "    Given a PDB ID, start and end indices (author indices), and chain,\n",
    "    extract the corresponding amino acids for the region.\n",
    "    \n",
    "    Args:\n",
    "    pdb_id (str): The PDB identifier (e.g., '1a0p').\n",
    "    start (int): The start index of the region (author index).\n",
    "    end (int): The end index of the region (author index).\n",
    "    chain_id (str): The chain identifier (e.g., 'A' or '0').\n",
    "    \n",
    "    Returns:\n",
    "    str: A string of one-letter amino acid codes for the given region.\n",
    "    \"\"\"\n",
    "    \n",
    "    # URL for downloading the PDB file\n",
    "    pdb_url = f\"https://files.rcsb.org/download/{pdb_id}.pdb\"\n",
    "    \n",
    "    # Initialize PDB parser\n",
    "    parser = PDB.PDBParser(QUIET=True)\n",
    "    \n",
    "    # Try downloading the PDB file (if it's not already present)\n",
    "    pdb_filename = f\"{pdb_id}.pdb\"\n",
    "    if not os.path.exists(pdb_filename):\n",
    "        print(f\"Downloading PDB file {pdb_id}...\")\n",
    "        # Download the file\n",
    "        os.system(f\"curl -O {pdb_url}\")\n",
    "    \n",
    "    # Load the structure from the downloaded PDB file\n",
    "    structure = parser.get_structure(pdb_id, pdb_filename)\n",
    "    \n",
    "    # Retrieve the chain object\n",
    "    try:\n",
    "        chain = structure[0][chain_id]\n",
    "    except KeyError:\n",
    "        raise ValueError(f\"Chain {chain_id} not found in PDB file {pdb_id}.\")\n",
    "    \n",
    "    # Extract amino acids for the specified region\n",
    "    amino_acids = []\n",
    "    \n",
    "    for res in chain:\n",
    "        res_id = res.get_id()[1]\n",
    "        \n",
    "        # Check if the residue index is within the specified range\n",
    "        if start <= res_id <= end:\n",
    "            # Get the three-letter code and convert it to one-letter code\n",
    "            three_letter_code = res.get_resname()\n",
    "            one_letter_code = three_to_one.get(three_letter_code, 'X')  # 'X' for unknown\n",
    "            amino_acids.append(one_letter_code)\n",
    "    \n",
    "    # Join the list of amino acids into a string and return\n",
    "    return ''.join(amino_acids)\n"
   ]
  },
  {
   "cell_type": "code",
   "execution_count": 15,
   "id": "974de859",
   "metadata": {},
   "outputs": [
    {
     "name": "stdout",
     "output_type": "stream",
     "text": [
      "ETVQPILT\n",
      "VGAMRPEAPPI\n",
      "VDMGPVIDRFELNPT\n",
      "AEQKRRTTIS\n",
      "DEKHETLD\n",
      "RAETPLPLDPTGKVKAE\n",
      "HKSCFLCMVCKKNLDSTT\n",
      "GPKGKGKGMGAGTLSTDKGESLGIKYEEGQSHRPTNPNASRMAQKVGGS\n",
      "HKSCFRCAKCGKSLESTT\n",
      "Downloading PDB file 1bcc...\n"
     ]
    },
    {
     "name": "stderr",
     "output_type": "stream",
     "text": [
      "  % Total    % Received % Xferd  Average Speed   Time    Time     Time  Current\n",
      "                                 Dload  Upload   Total   Spent    Left  Speed\n",
      "100 1354k    0 1354k    0     0   699k      0 --:--:--  0:00:01 --:--:--  699k\n",
      "  % Total    % Received % Xferd  Average Speed   Time    Time     Time  Current\n",
      "                                 Dload  Upload   Total   Spent    Left  Speed\n",
      "  0     0    0     0    0     0      0      0 --:--:-- --:--:-- --:--:--     0"
     ]
    },
    {
     "name": "stdout",
     "output_type": "stream",
     "text": [
      "EPEH\n",
      "Downloading PDB file 1bgx...\n"
     ]
    },
    {
     "name": "stderr",
     "output_type": "stream",
     "text": [
      "100  851k    0  851k    0     0   537k      0 --:--:--  0:00:01 --:--:--  537k\n"
     ]
    },
    {
     "name": "stdout",
     "output_type": "stream",
     "text": [
      "YGLR\n",
      "ERLEFGSLLHEFGLLESPKAL\n",
      "Downloading PDB file 1bi1...\n"
     ]
    },
    {
     "name": "stderr",
     "output_type": "stream",
     "text": [
      "  % Total    % Received % Xferd  Average Speed   Time    Time     Time  Current\n",
      "                                 Dload  Upload   Total   Spent    Left  Speed\n",
      "100  173k    0  173k    0     0   152k      0 --:--:--  0:00:01 --:--:--  152k\n",
      "  % Total    % Received % Xferd  Average Speed   Time    Time     Time  Current\n",
      "                                 Dload  Upload   Total   Spent    Left  Speed\n",
      "  0     0    0     0    0     0      0      0 --:--:-- --:--:-- --:--:--     0"
     ]
    },
    {
     "name": "stdout",
     "output_type": "stream",
     "text": [
      "Downloading PDB file 1bml...\n"
     ]
    },
    {
     "name": "stderr",
     "output_type": "stream",
     "text": [
      "100  763k    0  763k    0     0   482k      0 --:--:--  0:00:01 --:--:--  482k\n",
      "  % Total    % Received % Xferd  Average Speed   Time    Time     Time  Current\n",
      "                                 Dload  Upload   Total   Spent    Left  Speed\n",
      "  0     0    0     0    0     0      0      0 --:--:-- --:--:-- --:--:--     0"
     ]
    },
    {
     "name": "stdout",
     "output_type": "stream",
     "text": [
      "YKEKPIQNQAKS\n",
      "KKGEKPYDPFDRSHL\n",
      "Downloading PDB file 1c1a...\n"
     ]
    },
    {
     "name": "stderr",
     "output_type": "stream",
     "text": [
      "100  305k    0  305k    0     0   223k      0 --:--:--  0:00:01 --:--:--  223k\n",
      "  % Total    % Received % Xferd  Average Speed   Time    Time     Time  Current\n",
      "                                 Dload  Upload   Total   Spent    Left  Speed\n",
      "  0     0    0     0    0     0      0      0 --:--:-- --:--:-- --:--:--     0"
     ]
    },
    {
     "name": "stdout",
     "output_type": "stream",
     "text": [
      "WRPTVLTEGP\n",
      "Downloading PDB file 1c89...\n"
     ]
    },
    {
     "name": "stderr",
     "output_type": "stream",
     "text": [
      "100 6585k    0 6585k    0     0  2528k      0 --:--:--  0:00:02 --:--:-- 2528k\n"
     ]
    },
    {
     "name": "stdout",
     "output_type": "stream",
     "text": [
      "LMPDMVKNYEDGTTSPGL\n",
      "Downloading PDB file 1c97...\n"
     ]
    },
    {
     "name": "stderr",
     "output_type": "stream",
     "text": [
      "  % Total    % Received % Xferd  Average Speed   Time    Time     Time  Current\n",
      "                                 Dload  Upload   Total   Spent    Left  Speed\n",
      "100  570k    0  570k    0     0   341k      0 --:--:--  0:00:01 --:--:--  342k\n",
      "  % Total    % Received % Xferd  Average Speed   Time    Time     Time  Current\n",
      "                                 Dload  Upload   Total   Spent    Left  Speed\n",
      "  0     0    0     0    0     0      0      0 --:--:-- --:--:-- --:--:--     0"
     ]
    },
    {
     "name": "stdout",
     "output_type": "stream",
     "text": [
      "HPPKDSSGQRVDVSPTSQRLQLLEPFDKWDGKD\n",
      "Downloading PDB file 1c9b...\n"
     ]
    },
    {
     "name": "stderr",
     "output_type": "stream",
     "text": [
      "100 1587k    0 1587k    0     0   942k      0 --:--:--  0:00:01 --:--:--  942k\n",
      "  % Total    % Received % Xferd  Average Speed   Time    Time     Time  Current\n",
      "                                 Dload  Upload   Total   Spent    Left  Speed\n",
      "  0     0    0     0    0     0      0      0 --:--:-- --:--:-- --:--:--     0"
     ]
    },
    {
     "name": "stdout",
     "output_type": "stream",
     "text": [
      "LETSVDLITT\n",
      "Downloading PDB file 1ca4...\n"
     ]
    },
    {
     "name": "stderr",
     "output_type": "stream",
     "text": [
      "100  712k    0  712k    0     0   459k      0 --:--:--  0:00:01 --:--:--  459k\n",
      "  % Total    % Received % Xferd  Average Speed   Time    Time     Time  Current\n",
      "                                 Dload  Upload   Total   Spent    Left  Speed\n",
      "  0     0    0     0    0     0      0      0 --:--:-- --:--:-- --:--:--     0"
     ]
    },
    {
     "name": "stdout",
     "output_type": "stream",
     "text": [
      "STYDG\n",
      "Downloading PDB file 1cfb...\n"
     ]
    },
    {
     "name": "stderr",
     "output_type": "stream",
     "text": [
      "100  217k    0  217k    0     0   140k      0 --:--:--  0:00:01 --:--:--  140k\n",
      "  % Total    % Received % Xferd  Average Speed   Time    Time     Time  Current\n",
      "                                 Dload  Upload   Total   Spent    Left  Speed\n",
      "  0     0    0     0    0     0      0      0 --:--:-- --:--:-- --:--:--     0"
     ]
    },
    {
     "name": "stdout",
     "output_type": "stream",
     "text": [
      "Downloading PDB file 1crz...\n"
     ]
    },
    {
     "name": "stderr",
     "output_type": "stream",
     "text": [
      "100  311k    0  311k    0     0   248k      0 --:--:--  0:00:01 --:--:--  248k\n",
      "  % Total    % Received % Xferd  Average Speed   Time    Time     Time  Current\n",
      "                                 Dload  Upload   Total   Spent    Left  Speed\n",
      "  0     0    0     0    0     0      0      0 --:--:-- --:--:-- --:--:--     0"
     ]
    },
    {
     "name": "stdout",
     "output_type": "stream",
     "text": [
      "GIKGAFRT\n",
      "Downloading PDB file 1cvr...\n"
     ]
    },
    {
     "name": "stderr",
     "output_type": "stream",
     "text": [
      "100  345k    0  345k    0     0   242k      0 --:--:--  0:00:01 --:--:--  242k\n",
      "  % Total    % Received % Xferd  Average Speed   Time    Time     Time  Current\n",
      "                                 Dload  Upload   Total   Spent    Left  Speed\n",
      "  0     0    0     0    0     0      0      0 --:--:-- --:--:-- --:--:--     0"
     ]
    },
    {
     "name": "stdout",
     "output_type": "stream",
     "text": [
      "GDPSLLVRTLVPTEMQ\n",
      "Downloading PDB file 1cwv...\n"
     ]
    },
    {
     "name": "stderr",
     "output_type": "stream",
     "text": [
      "100  334k    0  334k    0     0   231k      0 --:--:--  0:00:01 --:--:--  230k\n"
     ]
    },
    {
     "name": "stdout",
     "output_type": "stream",
     "text": [
      "KGTIA\n",
      "ADPIPDAGRS\n",
      "PVPT\n",
      "Downloading PDB file 1d2p...\n"
     ]
    },
    {
     "name": "stderr",
     "output_type": "stream",
     "text": [
      "  % Total    % Received % Xferd  Average Speed   Time    Time     Time  Current\n",
      "                                 Dload  Upload   Total   Spent    Left  Speed\n",
      "100  271k    0  271k    0     0   200k      0 --:--:--  0:00:01 --:--:--  200k\n",
      "  % Total    % Received % Xferd  Average Speed   Time    Time     Time  Current\n",
      "                                 Dload  Upload   Total   Spent    Left  Speed\n",
      "  0     0    0     0    0     0      0      0 --:--:-- --:--:-- --:--:--     0"
     ]
    },
    {
     "name": "stdout",
     "output_type": "stream",
     "text": [
      "YTPE\n",
      "Downloading PDB file 1d66...\n"
     ]
    },
    {
     "name": "stderr",
     "output_type": "stream",
     "text": [
      "100  185k    0  185k    0     0   164k      0 --:--:--  0:00:01 --:--:--  164k\n",
      "  % Total    % Received % Xferd  Average Speed   Time    Time     Time  Current\n",
      "                                 Dload  Upload   Total   Spent    Left  Speed\n",
      "  0     0    0     0    0     0      0      0 --:--:-- --:--:-- --:--:--     0"
     ]
    },
    {
     "name": "stdout",
     "output_type": "stream",
     "text": [
      "NWECRYSPKTKRSPLT\n",
      "Downloading PDB file 1dd3...\n"
     ]
    },
    {
     "name": "stderr",
     "output_type": "stream",
     "text": [
      "100  241k    0  241k    0     0   147k      0 --:--:--  0:00:01 --:--:--  147k\n",
      "  % Total    % Received % Xferd  Average Speed   Time    Time     Time  Current\n",
      "                                 Dload  Upload   Total   Spent    Left  Speed\n",
      "  0     0    0     0    0     0      0      0 --:--:-- --:--:-- --:--:--     0"
     ]
    },
    {
     "name": "stdout",
     "output_type": "stream",
     "text": [
      "EKTE\n",
      "Downloading PDB file 1ddt...\n"
     ]
    },
    {
     "name": "stderr",
     "output_type": "stream",
     "text": [
      "100  393k    0  393k    0     0   264k      0 --:--:--  0:00:01 --:--:--  264k\n",
      "  % Total    % Received % Xferd  Average Speed   Time    Time     Time  Current\n",
      "                                 Dload  Upload   Total   Spent    Left  Speed\n",
      "  0     0    0     0    0     0      0      0 --:--:-- --:--:-- --:--:--     0"
     ]
    },
    {
     "name": "stdout",
     "output_type": "stream",
     "text": [
      "Downloading PDB file 1dqv...\n"
     ]
    },
    {
     "name": "stderr",
     "output_type": "stream",
     "text": [
      "100  219k    0  219k    0     0   152k      0 --:--:--  0:00:01 --:--:--  152k\n",
      "  % Total    % Received % Xferd  Average Speed   Time    Time     Time  Current\n",
      "                                 Dload  Upload   Total   Spent    Left  Speed\n",
      "  0     0    0     0    0     0      0      0 --:--:-- --:--:-- --:--:--     0"
     ]
    },
    {
     "name": "stdout",
     "output_type": "stream",
     "text": [
      "ILEGGSEKADLG\n",
      "Downloading PDB file 1dvp...\n"
     ]
    },
    {
     "name": "stderr",
     "output_type": "stream",
     "text": [
      "100  190k    0  190k    0     0   131k      0 --:--:--  0:00:01 --:--:--  131k\n",
      "  % Total    % Received % Xferd  Average Speed   Time    Time     Time  Current\n",
      "                                 Dload  Upload   Total   Spent    Left  Speed\n",
      "  0     0    0     0    0     0      0      0 --:--:-- --:--:-- --:--:--     0"
     ]
    },
    {
     "name": "stdout",
     "output_type": "stream",
     "text": [
      "KGHTFPELREMFTADTAPNWADGRVCHRCRVEFTFTNRK\n",
      "Downloading PDB file 1dw9...\n"
     ]
    },
    {
     "name": "stderr",
     "output_type": "stream",
     "text": [
      "100 1248k    0 1248k    0     0   768k      0 --:--:--  0:00:01 --:--:--  768k\n",
      "  % Total    % Received % Xferd  Average Speed   Time    Time     Time  Current\n",
      "                                 Dload  Upload   Total   Spent    Left  Speed\n",
      "  0     0    0     0    0     0      0      0 --:--:-- --:--:-- --:--:--     0"
     ]
    },
    {
     "name": "stdout",
     "output_type": "stream",
     "text": [
      "LQXIPLRGCIDDRIPTD\n",
      "Downloading PDB file 1e1c...\n"
     ]
    },
    {
     "name": "stderr",
     "output_type": "stream",
     "text": [
      "100 1875k    0 1875k    0     0   953k      0 --:--:--  0:00:01 --:--:--  953k\n",
      "  % Total    % Received % Xferd  Average Speed   Time    Time     Time  Current\n",
      "                                 Dload  Upload   Total   Spent    Left  Speed\n",
      "  0     0    0     0    0     0      0      0 --:--:-- --:--:-- --:--:--     0"
     ]
    },
    {
     "name": "stdout",
     "output_type": "stream",
     "text": [
      "NRKQPITAVSEFPMIGARSIETKPFPAAPARKGLAWHRDS\n",
      "Downloading PDB file 1e3h...\n"
     ]
    },
    {
     "name": "stderr",
     "output_type": "stream",
     "text": [
      "100  466k    0  466k    0     0   360k      0 --:--:--  0:00:01 --:--:--  360k\n",
      "  % Total    % Received % Xferd  Average Speed   Time    Time     Time  Current\n",
      "                                 Dload  Upload   Total   Spent    Left  Speed\n",
      "  0     0    0     0    0     0      0      0 --:--:-- --:--:-- --:--:--     0"
     ]
    },
    {
     "name": "stdout",
     "output_type": "stream",
     "text": [
      "AGLPFSGPI\n",
      "IDTPDEXSPNAPRIIQ\n",
      "Downloading PDB file 1e5d...\n"
     ]
    },
    {
     "name": "stderr",
     "output_type": "stream",
     "text": [
      "100  574k    0  574k    0     0   361k      0 --:--:--  0:00:01 --:--:--  361k\n",
      "  % Total    % Received % Xferd  Average Speed   Time    Time     Time  Current\n",
      "                                 Dload  Upload   Total   Spent    Left  Speed\n",
      "  0     0    0     0    0     0      0      0 --:--:-- --:--:-- --:--:--     0"
     ]
    },
    {
     "name": "stdout",
     "output_type": "stream",
     "text": [
      "QKPTN\n",
      "Downloading PDB file 1e7l...\n"
     ]
    },
    {
     "name": "stderr",
     "output_type": "stream",
     "text": [
      "100  568k    0  568k    0     0   278k      0 --:--:--  0:00:02 --:--:--  278k\n",
      "  % Total    % Received % Xferd  Average Speed   Time    Time     Time  Current\n",
      "                                 Dload  Upload   Total   Spent    Left  Speed\n",
      "  0     0    0     0    0     0      0      0 --:--:-- --:--:-- --:--:--     0"
     ]
    },
    {
     "name": "stdout",
     "output_type": "stream",
     "text": [
      "SDYTQNNIHP\n",
      "Downloading PDB file 1e88...\n"
     ]
    },
    {
     "name": "stderr",
     "output_type": "stream",
     "text": [
      "100 3818k    0 3818k    0     0  1771k      0 --:--:--  0:00:02 --:--:-- 1771k\n"
     ]
    },
    {
     "name": "stdout",
     "output_type": "stream",
     "text": [
      "TAVTQTYG\n",
      "TDHTVLVQT\n",
      "Downloading PDB file 1e8c...\n"
     ]
    },
    {
     "name": "stderr",
     "output_type": "stream",
     "text": [
      "  % Total    % Received % Xferd  Average Speed   Time    Time     Time  Current\n",
      "                                 Dload  Upload   Total   Spent    Left  Speed\n",
      "100  729k    0  729k    0     0   433k      0 --:--:--  0:00:01 --:--:--  433k\n",
      "  % Total    % Received % Xferd  Average Speed   Time    Time     Time  Current\n",
      "                                 Dload  Upload   Total   Spent    Left  Speed\n",
      "  0     0    0     0    0     0      0      0 --:--:-- --:--:-- --:--:--     0"
     ]
    },
    {
     "name": "stdout",
     "output_type": "stream",
     "text": [
      "LQPVCGRX\n",
      "Downloading PDB file 1e9y...\n"
     ]
    },
    {
     "name": "stderr",
     "output_type": "stream",
     "text": [
      "100  551k    0  551k    0     0   369k      0 --:--:--  0:00:01 --:--:--  369k\n",
      "  % Total    % Received % Xferd  Average Speed   Time    Time     Time  Current\n",
      "                                 Dload  Upload   Total   Spent    Left  Speed\n",
      "  0     0    0     0    0     0      0      0 --:--:-- --:--:-- --:--:--     0"
     ]
    },
    {
     "name": "stdout",
     "output_type": "stream",
     "text": [
      "TPIEANGKLVPGE\n",
      "Downloading PDB file 1ecb...\n"
     ]
    },
    {
     "name": "stderr",
     "output_type": "stream",
     "text": [
      "100 1302k    0 1302k    0     0   730k      0 --:--:--  0:00:01 --:--:--  729k\n",
      "  % Total    % Received % Xferd  Average Speed   Time    Time     Time  Current\n",
      "                                 Dload  Upload   Total   Spent    Left  Speed\n",
      "  0     0    0     0    0     0      0      0 --:--:-- --:--:-- --:--:--     0"
     ]
    },
    {
     "name": "stdout",
     "output_type": "stream",
     "text": [
      "CADNPVSNPC\n",
      "Downloading PDB file 1edh...\n"
     ]
    },
    {
     "name": "stderr",
     "output_type": "stream",
     "text": [
      "100  326k    0  326k    0     0   238k      0 --:--:--  0:00:01 --:--:--  238k\n",
      "  % Total    % Received % Xferd  Average Speed   Time    Time     Time  Current\n",
      "                                 Dload  Upload   Total   Spent    Left  Speed\n",
      "  0     0    0     0    0     0      0      0 --:--:-- --:--:-- --:--:--     0"
     ]
    },
    {
     "name": "stdout",
     "output_type": "stream",
     "text": [
      "DQNDNRP\n",
      "Downloading PDB file 1efu...\n"
     ]
    },
    {
     "name": "stderr",
     "output_type": "stream",
     "text": [
      "100  919k    0  919k    0     0   554k      0 --:--:--  0:00:01 --:--:--  553k\n",
      "  % Total    % Received % Xferd  Average Speed   Time    Time     Time  Current\n",
      "                                 Dload  Upload   Total   Spent    Left  Speed\n",
      "  0     0    0     0    0     0      0      0 --:--:-- --:--:-- --:--:--     0"
     ]
    },
    {
     "name": "stdout",
     "output_type": "stream",
     "text": [
      "AGNVAA\n",
      "Downloading PDB file 1efv...\n"
     ]
    },
    {
     "name": "stderr",
     "output_type": "stream",
     "text": [
      "100  403k    0  403k    0     0   224k      0 --:--:--  0:00:01 --:--:--  224k\n",
      "  % Total    % Received % Xferd  Average Speed   Time    Time     Time  Current\n",
      "                                 Dload  Upload   Total   Spent    Left  Speed\n",
      "  0     0    0     0    0     0      0      0 --:--:-- --:--:-- --:--:--     0"
     ]
    },
    {
     "name": "stdout",
     "output_type": "stream",
     "text": [
      "TKSDRPE\n",
      "Downloading PDB file 1eiy...\n"
     ]
    },
    {
     "name": "stderr",
     "output_type": "stream",
     "text": [
      "100  880k    0  880k    0     0   492k      0 --:--:--  0:00:01 --:--:--  492k\n",
      "  % Total    % Received % Xferd  Average Speed   Time    Time     Time  Current\n",
      "                                 Dload  Upload   Total   Spent    Left  Speed\n",
      "  0     0    0     0    0     0      0      0 --:--:-- --:--:-- --:--:--     0"
     ]
    },
    {
     "name": "stdout",
     "output_type": "stream",
     "text": [
      "ERVDVSLPGASLFSGGLH\n",
      "Downloading PDB file 1etp...\n"
     ]
    },
    {
     "name": "stderr",
     "output_type": "stream",
     "text": [
      "100  295k    0  295k    0     0   191k      0 --:--:--  0:00:01 --:--:--  191k\n",
      "  % Total    % Received % Xferd  Average Speed   Time    Time     Time  Current\n",
      "                                 Dload  Upload   Total   Spent    Left  Speed\n",
      "  0     0    0     0    0     0      0      0 --:--:-- --:--:-- --:--:--     0"
     ]
    },
    {
     "name": "stdout",
     "output_type": "stream",
     "text": [
      "SQKGSVGYAD\n",
      "Downloading PDB file 1euc...\n"
     ]
    },
    {
     "name": "stderr",
     "output_type": "stream",
     "text": [
      "100  477k    0  477k    0     0   310k      0 --:--:--  0:00:01 --:--:--  310k\n",
      "  % Total    % Received % Xferd  Average Speed   Time    Time     Time  Current\n",
      "                                 Dload  Upload   Total   Spent    Left  Speed\n",
      "  0     0    0     0    0     0      0      0 --:--:-- --:--:-- --:--:--     0"
     ]
    },
    {
     "name": "stdout",
     "output_type": "stream",
     "text": [
      "MDDKSENE\n",
      "Downloading PDB file 1eut...\n"
     ]
    },
    {
     "name": "stderr",
     "output_type": "stream",
     "text": [
      "100  397k    0  397k    0     0   275k      0 --:--:--  0:00:01 --:--:--  275k\n",
      "  % Total    % Received % Xferd  Average Speed   Time    Time     Time  Current\n",
      "                                 Dload  Upload   Total   Spent    Left  Speed\n",
      "  0     0    0     0    0     0      0      0 --:--:-- --:--:-- --:--:--     0"
     ]
    },
    {
     "name": "stdout",
     "output_type": "stream",
     "text": [
      "Downloading PDB file 1f6f...\n"
     ]
    },
    {
     "name": "stderr",
     "output_type": "stream",
     "text": [
      "100  410k    0  410k    0     0   276k      0 --:--:--  0:00:01 --:--:--  276k\n",
      "  % Total    % Received % Xferd  Average Speed   Time    Time     Time  Current\n",
      "                                 Dload  Upload   Total   Spent    Left  Speed\n",
      "  0     0    0     0    0     0      0      0 --:--:-- --:--:-- --:--:--     0"
     ]
    },
    {
     "name": "stdout",
     "output_type": "stream",
     "text": [
      "IVEPEPP\n",
      "Downloading PDB file 1fbr...\n"
     ]
    },
    {
     "name": "stderr",
     "output_type": "stream",
     "text": [
      "100  126k    0  126k    0     0   103k      0 --:--:--  0:00:01 --:--:--  103k\n"
     ]
    },
    {
     "name": "stdout",
     "output_type": "stream",
     "text": [
      "Downloading PDB file 1fcd...\n"
     ]
    },
    {
     "name": "stderr",
     "output_type": "stream",
     "text": [
      "  % Total    % Received % Xferd  Average Speed   Time    Time     Time  Current\n",
      "                                 Dload  Upload   Total   Spent    Left  Speed\n",
      "100  805k    0  805k    0     0   488k      0 --:--:--  0:00:01 --:--:--  488k\n",
      "  % Total    % Received % Xferd  Average Speed   Time    Time     Time  Current\n",
      "                                 Dload  Upload   Total   Spent    Left  Speed\n",
      "  0     0    0     0    0     0      0      0 --:--:-- --:--:-- --:--:--     0"
     ]
    },
    {
     "name": "stdout",
     "output_type": "stream",
     "text": [
      "QQTYQPAKQSFD\n",
      "Downloading PDB file 1fje...\n"
     ]
    },
    {
     "name": "stderr",
     "output_type": "stream",
     "text": [
      "100 5214k    0 5214k    0     0  2659k      0 --:--:--  0:00:01 --:--:-- 2657k\n"
     ]
    },
    {
     "name": "stdout",
     "output_type": "stream",
     "text": [
      "KPKGRDSKKV\n",
      "Downloading PDB file 1fnf...\n"
     ]
    },
    {
     "name": "stderr",
     "output_type": "stream",
     "text": [
      "  % Total    % Received % Xferd  Average Speed   Time    Time     Time  Current\n",
      "                                 Dload  Upload   Total   Spent    Left  Speed\n",
      "100  359k    0  359k    0     0   244k      0 --:--:--  0:00:01 --:--:--  244k\n",
      "  % Total    % Received % Xferd  Average Speed   Time    Time     Time  Current\n",
      "                                 Dload  Upload   Total   Spent    Left  Speed\n",
      "  0     0    0     0    0     0      0      0 --:--:-- --:--:-- --:--:--     0"
     ]
    },
    {
     "name": "stdout",
     "output_type": "stream",
     "text": [
      "Downloading PDB file 1fo1...\n"
     ]
    },
    {
     "name": "stderr",
     "output_type": "stream",
     "text": [
      "100  288k    0  288k    0     0   227k      0 --:--:--  0:00:01 --:--:--  227k\n",
      "  % Total    % Received % Xferd  Average Speed   Time    Time     Time  Current\n",
      "                                 Dload  Upload   Total   Spent    Left  Speed\n",
      "  0     0    0     0    0     0      0      0 --:--:-- --:--:-- --:--:--     0"
     ]
    },
    {
     "name": "stdout",
     "output_type": "stream",
     "text": [
      "SIIIELK\n",
      "Downloading PDB file 1fs0...\n"
     ]
    },
    {
     "name": "stderr",
     "output_type": "stream",
     "text": [
      "100  264k    0  264k    0     0   205k      0 --:--:--  0:00:01 --:--:--  205k\n",
      "  % Total    % Received % Xferd  Average Speed   Time    Time     Time  Current\n",
      "                                 Dload  Upload   Total   Spent    Left  Speed\n",
      "  0     0    0     0    0     0      0      0 --:--:-- --:--:-- --:--:--     0"
     ]
    },
    {
     "name": "stdout",
     "output_type": "stream",
     "text": [
      "DTAIRG\n",
      "Downloading PDB file 1fwx...\n"
     ]
    },
    {
     "name": "stderr",
     "output_type": "stream",
     "text": [
      "100 1805k    0 1805k    0     0   989k      0 --:--:--  0:00:01 --:--:--  989k\n"
     ]
    },
    {
     "name": "stdout",
     "output_type": "stream",
     "text": [
      "HPSILSDIKSVWDRND\n",
      "Downloading PDB file 1fyb...\n"
     ]
    },
    {
     "name": "stderr",
     "output_type": "stream",
     "text": [
      "  % Total    % Received % Xferd  Average Speed   Time    Time     Time  Current\n",
      "                                 Dload  Upload   Total   Spent    Left  Speed\n",
      "100 2562k    0 2562k    0     0  1229k      0 --:--:--  0:00:02 --:--:-- 1229k\n",
      "  % Total    % Received % Xferd  Average Speed   Time    Time     Time  Current\n",
      "                                 Dload  Upload   Total   Spent    Left  Speed\n",
      "  0     0    0     0    0     0      0      0 --:--:-- --:--:-- --:--:--     0"
     ]
    },
    {
     "name": "stdout",
     "output_type": "stream",
     "text": [
      "PRSEEKKNDRI\n",
      "Downloading PDB file 1fzb...\n"
     ]
    },
    {
     "name": "stderr",
     "output_type": "stream",
     "text": [
      "100  967k    0  967k    0     0   503k      0 --:--:--  0:00:01 --:--:--  503k\n",
      "  % Total    % Received % Xferd  Average Speed   Time    Time     Time  Current\n",
      "                                 Dload  Upload   Total   Spent    Left  Speed\n",
      "  0     0    0     0    0     0      0      0 --:--:-- --:--:-- --:--:--     0"
     ]
    },
    {
     "name": "stdout",
     "output_type": "stream",
     "text": [
      "TVQI\n",
      "Downloading PDB file 1g4u...\n"
     ]
    },
    {
     "name": "stderr",
     "output_type": "stream",
     "text": [
      "100  402k    0  402k    0     0   287k      0 --:--:--  0:00:01 --:--:--  287k\n",
      "  % Total    % Received % Xferd  Average Speed   Time    Time     Time  Current\n",
      "                                 Dload  Upload   Total   Spent    Left  Speed\n",
      "  0     0    0     0    0     0      0      0 --:--:-- --:--:-- --:--:--     0"
     ]
    },
    {
     "name": "stdout",
     "output_type": "stream",
     "text": [
      "AGAPMPQTMSGPTLGLARFAVSSIPINQQT\n",
      "Downloading PDB file 1g5i...\n"
     ]
    },
    {
     "name": "stderr",
     "output_type": "stream",
     "text": [
      "100 1171k    0 1171k    0     0   702k      0 --:--:--  0:00:01 --:--:--  702k\n",
      "  % Total    % Received % Xferd  Average Speed   Time    Time     Time  Current\n",
      "                                 Dload  Upload   Total   Spent    Left  Speed\n",
      "  0     0    0     0    0     0      0      0 --:--:-- --:--:-- --:--:--     0"
     ]
    },
    {
     "name": "stdout",
     "output_type": "stream",
     "text": [
      "FQLRKVLKLHPCLAPIK\n",
      "Downloading PDB file 1g7t...\n"
     ]
    },
    {
     "name": "stderr",
     "output_type": "stream",
     "text": [
      "100  418k    0  418k    0     0   261k      0 --:--:--  0:00:01 --:--:--  261k\n",
      "  % Total    % Received % Xferd  Average Speed   Time    Time     Time  Current\n",
      "                                 Dload  Upload   Total   Spent    Left  Speed\n",
      "  0     0    0     0    0     0      0      0 --:--:-- --:--:-- --:--:--     0"
     ]
    },
    {
     "name": "stdout",
     "output_type": "stream",
     "text": [
      "EEDSPA\n",
      "EAIIKP\n",
      "Downloading PDB file 1gdt...\n"
     ]
    },
    {
     "name": "stderr",
     "output_type": "stream",
     "text": [
      "100  372k    0  372k    0     0   277k      0 --:--:--  0:00:01 --:--:--  277k\n",
      "  % Total    % Received % Xferd  Average Speed   Time    Time     Time  Current\n",
      "                                 Dload  Upload   Total   Spent    Left  Speed\n",
      "  0     0    0     0    0     0      0      0 --:--:-- --:--:-- --:--:--     0"
     ]
    },
    {
     "name": "stdout",
     "output_type": "stream",
     "text": [
      "GVVFGRKRKID\n",
      "Downloading PDB file 1gh7...\n"
     ]
    },
    {
     "name": "stderr",
     "output_type": "stream",
     "text": [
      "100  583k    0  583k    0     0   333k      0 --:--:--  0:00:01 --:--:--  333k\n",
      "  % Total    % Received % Xferd  Average Speed   Time    Time     Time  Current\n",
      "                                 Dload  Upload   Total   Spent    Left  Speed\n",
      "100  601k    0  601k    0     0  15.8M      0 --:--:-- --:--:-- --:--:-- 16.3M\n",
      "  % Total    % Received % Xferd  Average Speed   Time    Time     Time  Current\n",
      "                                 Dload  Upload   Total   Spent    Left  Speed\n",
      "  0     0    0     0    0     0      0      0 --:--:-- --:--:-- --:--:--     0"
     ]
    },
    {
     "name": "stdout",
     "output_type": "stream",
     "text": [
      "SQPGDEAQPQNL\n",
      "Downloading PDB file 1gm5...\n",
      "LIDYLE\n",
      "SLKETLP\n",
      "DEMPPGRKEV\n",
      "Downloading PDB file 1grj...\n"
     ]
    },
    {
     "name": "stderr",
     "output_type": "stream",
     "text": [
      "100  167k    0  167k    0     0   159k      0 --:--:--  0:00:01 --:--:--  159k\n",
      "  % Total    % Received % Xferd  Average Speed   Time    Time     Time  Current\n",
      "                                 Dload  Upload   Total   Spent    Left  Speed\n",
      "  0     0    0     0    0     0      0      0 --:--:-- --:--:-- --:--:--     0"
     ]
    },
    {
     "name": "stdout",
     "output_type": "stream",
     "text": [
      "Downloading PDB file 1gsy...\n"
     ]
    },
    {
     "name": "stderr",
     "output_type": "stream",
     "text": [
      "100  322k    0  322k    0     0   229k      0 --:--:--  0:00:01 --:--:--  229k\n",
      "  % Total    % Received % Xferd  Average Speed   Time    Time     Time  Current\n",
      "                                 Dload  Upload   Total   Spent    Left  Speed\n",
      "  0     0    0     0    0     0      0      0 --:--:-- --:--:-- --:--:--     0"
     ]
    },
    {
     "name": "stdout",
     "output_type": "stream",
     "text": [
      "LGLYGKN\n",
      "Downloading PDB file 1gw5...\n"
     ]
    },
    {
     "name": "stderr",
     "output_type": "stream",
     "text": [
      "100 1115k    0 1115k    0     0   469k      0 --:--:--  0:00:02 --:--:--  469k\n",
      "  % Total    % Received % Xferd  Average Speed   Time    Time     Time  Current\n",
      "                                 Dload  Upload   Total   Spent    Left  Speed\n",
      "  0     0    0     0    0     0      0      0 --:--:-- --:--:-- --:--:--     0"
     ]
    },
    {
     "name": "stdout",
     "output_type": "stream",
     "text": [
      "ITQQGIKSQIGWRREGIKYRRN\n",
      "Downloading PDB file 1gz0...\n"
     ]
    },
    {
     "name": "stderr",
     "output_type": "stream",
     "text": [
      "100 1244k    0 1244k    0     0   759k      0 --:--:--  0:00:01 --:--:--  759k\n",
      "  % Total    % Received % Xferd  Average Speed   Time    Time     Time  Current\n",
      "                                 Dload  Upload   Total   Spent    Left  Speed\n",
      "  0     0    0     0    0     0      0      0 --:--:-- --:--:-- --:--:--     0"
     ]
    },
    {
     "name": "stdout",
     "output_type": "stream",
     "text": [
      "KPGRQYQ\n",
      "Downloading PDB file 1h3e...\n"
     ]
    },
    {
     "name": "stderr",
     "output_type": "stream",
     "text": [
      "100  466k    0  466k    0     0   273k      0 --:--:--  0:00:01 --:--:--  273k\n",
      "  % Total    % Received % Xferd  Average Speed   Time    Time     Time  Current\n",
      "                                 Dload  Upload   Total   Spent    Left  Speed\n",
      "  0     0    0     0    0     0      0      0 --:--:-- --:--:-- --:--:--     0"
     ]
    },
    {
     "name": "stdout",
     "output_type": "stream",
     "text": [
      "GGIPEEIP\n",
      "Downloading PDB file 1h99...\n"
     ]
    },
    {
     "name": "stderr",
     "output_type": "stream",
     "text": [
      "100  191k    0  191k    0     0   157k      0 --:--:--  0:00:01 --:--:--  157k\n"
     ]
    },
    {
     "name": "stdout",
     "output_type": "stream",
     "text": [
      "LNEEM\n",
      "Downloading PDB file 1h9t...\n"
     ]
    },
    {
     "name": "stderr",
     "output_type": "stream",
     "text": [
      "  % Total    % Received % Xferd  Average Speed   Time    Time     Time  Current\n",
      "                                 Dload  Upload   Total   Spent    Left  Speed\n",
      "100  403k    0  403k    0     0   290k      0 --:--:--  0:00:01 --:--:--  290k\n",
      "  % Total    % Received % Xferd  Average Speed   Time    Time     Time  Current\n",
      "                                 Dload  Upload   Total   Spent    Left  Speed\n",
      "  0     0    0     0    0     0      0      0 --:--:-- --:--:-- --:--:--     0"
     ]
    },
    {
     "name": "stdout",
     "output_type": "stream",
     "text": [
      "GWLTIQHGKPTKVNNFWETSG\n",
      "Downloading PDB file 1hf2...\n"
     ]
    },
    {
     "name": "stderr",
     "output_type": "stream",
     "text": [
      "100  573k    0  573k    0     0   397k      0 --:--:--  0:00:01 --:--:--  397k\n",
      "  % Total    % Received % Xferd  Average Speed   Time    Time     Time  Current\n",
      "                                 Dload  Upload   Total   Spent    Left  Speed\n",
      "  0     0    0     0    0     0      0      0 --:--:-- --:--:-- --:--:--     0"
     ]
    },
    {
     "name": "stdout",
     "output_type": "stream",
     "text": [
      "VEST\n",
      "Downloading PDB file 1hfh...\n"
     ]
    },
    {
     "name": "stderr",
     "output_type": "stream",
     "text": [
      "100  157k    0  157k    0     0   130k      0 --:--:--  0:00:01 --:--:--  130k\n",
      "  % Total    % Received % Xferd  Average Speed   Time    Time     Time  Current\n",
      "                                 Dload  Upload   Total   Spent    Left  Speed\n",
      "  0     0    0     0    0     0      0      0 --:--:-- --:--:-- --:--:--     0"
     ]
    },
    {
     "name": "stdout",
     "output_type": "stream",
     "text": [
      "Downloading PDB file 1hjp...\n"
     ]
    },
    {
     "name": "stderr",
     "output_type": "stream",
     "text": [
      "100  142k    0  142k    0     0   105k      0 --:--:--  0:00:01 --:--:--  105k\n",
      "  % Total    % Received % Xferd  Average Speed   Time    Time     Time  Current\n",
      "                                 Dload  Upload   Total   Spent    Left  Speed\n",
      "100  187k    0  187k    0     0  4548k      0 --:--:-- --:--:-- --:--:-- 4584k\n",
      "  % Total    % Received % Xferd  Average Speed   Time    Time     Time  Current\n",
      "                                 Dload  Upload   Total   Spent    Left  Speed\n",
      "  0     0    0     0    0     0      0      0 --:--:-- --:--:-- --:--:--     0"
     ]
    },
    {
     "name": "stdout",
     "output_type": "stream",
     "text": [
      "Downloading PDB file 1hlv...\n",
      "CRKTNKLSPY\n",
      "Downloading PDB file 1hnf...\n"
     ]
    },
    {
     "name": "stderr",
     "output_type": "stream",
     "text": [
      "100  154k    0  154k    0     0   106k      0 --:--:--  0:00:01 --:--:--  106k\n"
     ]
    },
    {
     "name": "stdout",
     "output_type": "stream",
     "text": [
      "Downloading PDB file 1hv8...\n"
     ]
    },
    {
     "name": "stderr",
     "output_type": "stream",
     "text": [
      "  % Total    % Received % Xferd  Average Speed   Time    Time     Time  Current\n",
      "                                 Dload  Upload   Total   Spent    Left  Speed\n",
      "100  531k    0  531k    0     0   392k      0 --:--:--  0:00:01 --:--:--  392k\n",
      "  % Total    % Received % Xferd  Average Speed   Time    Time     Time  Current\n",
      "                                 Dload  Upload   Total   Spent    Left  Speed\n",
      "  0     0    0     0    0     0      0      0 --:--:-- --:--:-- --:--:--     0"
     ]
    },
    {
     "name": "stdout",
     "output_type": "stream",
     "text": [
      "AKINANI\n",
      "Downloading PDB file 1hwm...\n"
     ]
    },
    {
     "name": "stderr",
     "output_type": "stream",
     "text": [
      "100  371k    0  371k    0     0   243k      0 --:--:--  0:00:01 --:--:--  243k\n",
      "  % Total    % Received % Xferd  Average Speed   Time    Time     Time  Current\n",
      "                                 Dload  Upload   Total   Spent    Left  Speed\n",
      "  0     0    0     0    0     0      0      0 --:--:-- --:--:-- --:--:--     0"
     ]
    },
    {
     "name": "stdout",
     "output_type": "stream",
     "text": [
      "NDVQP\n",
      "Downloading PDB file 1hwt...\n"
     ]
    },
    {
     "name": "stderr",
     "output_type": "stream",
     "text": [
      "100  377k    0  377k    0     0   289k      0 --:--:--  0:00:01 --:--:--  289k\n",
      "  % Total    % Received % Xferd  Average Speed   Time    Time     Time  Current\n",
      "                                 Dload  Upload   Total   Spent    Left  Speed\n",
      "  0     0    0     0    0     0      0      0 --:--:-- --:--:-- --:--:--     0"
     ]
    },
    {
     "name": "stdout",
     "output_type": "stream",
     "text": [
      "CHYMEQTWA\n",
      "Downloading PDB file 1hzv...\n"
     ]
    },
    {
     "name": "stderr",
     "output_type": "stream",
     "text": [
      "100  410k    0  410k    0     0   281k      0 --:--:--  0:00:01 --:--:--  281k\n",
      "  % Total    % Received % Xferd  Average Speed   Time    Time     Time  Current\n",
      "                                 Dload  Upload   Total   Spent    Left  Speed\n",
      "  0     0    0     0    0     0      0      0 --:--:-- --:--:-- --:--:--     0"
     ]
    },
    {
     "name": "stdout",
     "output_type": "stream",
     "text": [
      "IQHTPPQPPEWG\n",
      "Downloading PDB file 1i2d...\n"
     ]
    },
    {
     "name": "stderr",
     "output_type": "stream",
     "text": [
      "100 1172k    0 1172k    0     0   704k      0 --:--:--  0:00:01 --:--:--  704k\n"
     ]
    },
    {
     "name": "stdout",
     "output_type": "stream",
     "text": [
      "VNKLNHYDY\n",
      "NPPRATQG\n",
      "Downloading PDB file 1i50...\n"
     ]
    },
    {
     "name": "stderr",
     "output_type": "stream",
     "text": [
      "  % Total    % Received % Xferd  Average Speed   Time    Time     Time  Current\n",
      "                                 Dload  Upload   Total   Spent    Left  Speed\n",
      "100 2382k    0 2382k    0     0  1106k      0 --:--:--  0:00:02 --:--:-- 1107k\n",
      "  % Total    % Received % Xferd  Average Speed   Time    Time     Time  Current\n",
      "                                 Dload  Upload   Total   Spent    Left  Speed\n",
      "  0     0    0     0    0     0      0      0 --:--:-- --:--:-- --:--:--     0"
     ]
    },
    {
     "name": "stdout",
     "output_type": "stream",
     "text": [
      "LITNIGETAGVV\n",
      "Downloading PDB file 1i8d...\n"
     ]
    },
    {
     "name": "stderr",
     "output_type": "stream",
     "text": [
      "100  420k    0  420k    0     0   289k      0 --:--:--  0:00:01 --:--:--  290k\n",
      "  % Total    % Received % Xferd  Average Speed   Time    Time     Time  Current\n",
      "                                 Dload  Upload   Total   Spent    Left  Speed\n",
      "  0     0    0     0    0     0      0      0 --:--:-- --:--:-- --:--:--     0"
     ]
    },
    {
     "name": "stdout",
     "output_type": "stream",
     "text": [
      "AAKFSDEIGGHLMSGHIM\n",
      "Downloading PDB file 1i94...\n"
     ]
    },
    {
     "name": "stderr",
     "output_type": "stream",
     "text": [
      "100 3882k    0 3882k    0     0  1714k      0 --:--:--  0:00:02 --:--:-- 1714k\n"
     ]
    },
    {
     "name": "stdout",
     "output_type": "stream",
     "text": [
      "NMVEVPLQNGTIPHE\n",
      "Downloading PDB file 1ib8...\n"
     ]
    },
    {
     "name": "stderr",
     "output_type": "stream",
     "text": [
      "  % Total    % Received % Xferd  Average Speed   Time    Time     Time  Current\n",
      "                                 Dload  Upload   Total   Spent    Left  Speed\n",
      "100  219k    0  219k    0     0   169k      0 --:--:--  0:00:01 --:--:--  169k\n",
      "  % Total    % Received % Xferd  Average Speed   Time    Time     Time  Current\n",
      "                                 Dload  Upload   Total   Spent    Left  Speed\n",
      "  0     0    0     0    0     0      0      0 --:--:-- --:--:-- --:--:--     0"
     ]
    },
    {
     "name": "stdout",
     "output_type": "stream",
     "text": [
      "SPGLERPLKT\n",
      "Downloading PDB file 1ign...\n"
     ]
    },
    {
     "name": "stderr",
     "output_type": "stream",
     "text": [
      "100  439k    0  439k    0     0   268k      0 --:--:--  0:00:01 --:--:--  268k\n",
      "  % Total    % Received % Xferd  Average Speed   Time    Time     Time  Current\n",
      "                                 Dload  Upload   Total   Spent    Left  Speed\n",
      "  0     0    0     0    0     0      0      0 --:--:-- --:--:-- --:--:--     0"
     ]
    },
    {
     "name": "stdout",
     "output_type": "stream",
     "text": [
      "KVLPPSIKRKFS\n",
      "Downloading PDB file 1igt...\n"
     ]
    },
    {
     "name": "stderr",
     "output_type": "stream",
     "text": [
      "100 1116k    0 1116k    0     0   611k      0 --:--:--  0:00:01 --:--:--  610k\n"
     ]
    },
    {
     "name": "stdout",
     "output_type": "stream",
     "text": [
      "SSAKTTAP\n",
      "IEPRGPTIKPCPPCKCPAPNLLGGP\n",
      "KPKGSVRAP\n",
      "Downloading PDB file 1imh...\n"
     ]
    },
    {
     "name": "stderr",
     "output_type": "stream",
     "text": [
      "  % Total    % Received % Xferd  Average Speed   Time    Time     Time  Current\n",
      "                                 Dload  Upload   Total   Spent    Left  Speed\n",
      "100  431k    0  431k    0     0   350k      0 --:--:--  0:00:01 --:--:--  350k\n"
     ]
    },
    {
     "name": "stdout",
     "output_type": "stream",
     "text": [
      "CTQPAGVP\n",
      "Downloading PDB file 1itb...\n"
     ]
    },
    {
     "name": "stderr",
     "output_type": "stream",
     "text": [
      "  % Total    % Received % Xferd  Average Speed   Time    Time     Time  Current\n",
      "                                 Dload  Upload   Total   Spent    Left  Speed\n",
      "100  404k    0  404k    0     0   273k      0 --:--:--  0:00:01 --:--:--  273k\n"
     ]
    },
    {
     "name": "stdout",
     "output_type": "stream",
     "text": [
      "ENEPNL\n",
      "EENKPTRP\n",
      "Downloading PDB file 1iuf...\n"
     ]
    },
    {
     "name": "stderr",
     "output_type": "stream",
     "text": [
      "  % Total    % Received % Xferd  Average Speed   Time    Time     Time  Current\n",
      "                                 Dload  Upload   Total   Spent    Left  Speed\n",
      "100  207k    0  207k    0     0   136k      0 --:--:--  0:00:01 --:--:--  136k\n",
      "  % Total    % Received % Xferd  Average Speed   Time    Time     Time  Current\n",
      "                                 Dload  Upload   Total   Spent    Left  Speed\n",
      "  0     0    0     0    0     0      0      0 --:--:-- --:--:-- --:--:--     0"
     ]
    },
    {
     "name": "stdout",
     "output_type": "stream",
     "text": [
      "LDNTVEKPWDVKRNRPPKY\n",
      "Downloading PDB file 1ixs...\n"
     ]
    },
    {
     "name": "stderr",
     "output_type": "stream",
     "text": [
      "100  265k    0  265k    0     0   209k      0 --:--:--  0:00:01 --:--:--  209k\n",
      "  % Total    % Received % Xferd  Average Speed   Time    Time     Time  Current\n",
      "                                 Dload  Upload   Total   Spent    Left  Speed\n",
      "  0     0    0     0    0     0      0      0 --:--:-- --:--:-- --:--:--     0"
     ]
    },
    {
     "name": "stdout",
     "output_type": "stream",
     "text": [
      "GLDELGLE\n",
      "Downloading PDB file 1iz1...\n"
     ]
    },
    {
     "name": "stderr",
     "output_type": "stream",
     "text": [
      "100  767k    0  767k    0     0   467k      0 --:--:--  0:00:01 --:--:--  467k\n",
      "  % Total    % Received % Xferd  Average Speed   Time    Time     Time  Current\n",
      "                                 Dload  Upload   Total   Spent    Left  Speed\n",
      "  0     0    0     0    0     0      0      0 --:--:-- --:--:-- --:--:--     0"
     ]
    },
    {
     "name": "stdout",
     "output_type": "stream",
     "text": [
      "RGDVG\n",
      "Downloading PDB file 1j0h...\n"
     ]
    },
    {
     "name": "stderr",
     "output_type": "stream",
     "text": [
      "100  950k    0  950k    0     0   612k      0 --:--:--  0:00:01 --:--:--  613k\n",
      "  % Total    % Received % Xferd  Average Speed   Time    Time     Time  Current\n",
      "                                 Dload  Upload   Total   Spent    Left  Speed\n",
      "  0     0    0     0    0     0      0      0 --:--:-- --:--:-- --:--:--     0"
     ]
    },
    {
     "name": "stdout",
     "output_type": "stream",
     "text": [
      "LFEAP\n",
      "Downloading PDB file 1j5y...\n"
     ]
    },
    {
     "name": "stderr",
     "output_type": "stream",
     "text": [
      "100  158k    0  158k    0     0   117k      0 --:--:--  0:00:01 --:--:--  117k\n",
      "  % Total    % Received % Xferd  Average Speed   Time    Time     Time  Current\n",
      "                                 Dload  Upload   Total   Spent    Left  Speed\n",
      "  0     0    0     0    0     0      0      0 --:--:-- --:--:-- --:--:--     0"
     ]
    },
    {
     "name": "stdout",
     "output_type": "stream",
     "text": [
      "LAGGKSG\n",
      "Downloading PDB file 1ja1...\n"
     ]
    },
    {
     "name": "stderr",
     "output_type": "stream",
     "text": [
      "100  968k    0  968k    0     0   585k      0 --:--:--  0:00:01 --:--:--  585k\n",
      "  % Total    % Received % Xferd  Average Speed   Time    Time     Time  Current\n",
      "                                 Dload  Upload   Total   Spent    Left  Speed\n",
      "  0     0    0     0    0     0      0      0 --:--:-- --:--:-- --:--:--     0"
     ]
    },
    {
     "name": "stdout",
     "output_type": "stream",
     "text": [
      "GVEATGEESSIRQ\n",
      "KSQFRLPFKSTTP\n",
      "Downloading PDB file 1jch...\n"
     ]
    },
    {
     "name": "stderr",
     "output_type": "stream",
     "text": [
      "100  787k    0  787k    0     0   480k      0 --:--:--  0:00:01 --:--:--  480k\n",
      "  % Total    % Received % Xferd  Average Speed   Time    Time     Time  Current\n",
      "                                 Dload  Upload   Total   Spent    Left  Speed\n",
      "  0     0    0     0    0     0      0      0 --:--:-- --:--:-- --:--:--     0"
     ]
    },
    {
     "name": "stdout",
     "output_type": "stream",
     "text": [
      "DEKNKPRKG\n",
      "Downloading PDB file 1jft...\n"
     ]
    },
    {
     "name": "stderr",
     "output_type": "stream",
     "text": [
      "100  283k    0  283k    0     0   279k      0 --:--:--  0:00:01 --:--:--  279k\n"
     ]
    },
    {
     "name": "stdout",
     "output_type": "stream",
     "text": [
      "NHTK\n",
      "Downloading PDB file 1jhf...\n"
     ]
    },
    {
     "name": "stderr",
     "output_type": "stream",
     "text": [
      "  % Total    % Received % Xferd  Average Speed   Time    Time     Time  Current\n",
      "                                 Dload  Upload   Total   Spent    Left  Speed\n",
      "100  241k    0  241k    0     0   219k      0 --:--:--  0:00:01 --:--:--  219k\n",
      "  % Total    % Received % Xferd  Average Speed   Time    Time     Time  Current\n",
      "                                 Dload  Upload   Total   Spent    Left  Speed\n",
      "  0     0    0     0    0     0      0      0 --:--:-- --:--:-- --:--:--     0"
     ]
    },
    {
     "name": "stdout",
     "output_type": "stream",
     "text": [
      "LQEEEEG\n",
      "Downloading PDB file 1jhw...\n"
     ]
    },
    {
     "name": "stderr",
     "output_type": "stream",
     "text": [
      "100  243k    0  243k    0     0   189k      0 --:--:--  0:00:01 --:--:--  189k\n",
      "  % Total    % Received % Xferd  Average Speed   Time    Time     Time  Current\n",
      "                                 Dload  Upload   Total   Spent    Left  Speed\n",
      "  0     0    0     0    0     0      0      0 --:--:-- --:--:-- --:--:--     0"
     ]
    },
    {
     "name": "stdout",
     "output_type": "stream",
     "text": [
      "EGGVESGFKHVVPNEV\n",
      "Downloading PDB file 1jih...\n"
     ]
    },
    {
     "name": "stderr",
     "output_type": "stream",
     "text": [
      "100  713k    0  713k    0     0   452k      0 --:--:--  0:00:01 --:--:--  452k\n",
      "  % Total    % Received % Xferd  Average Speed   Time    Time     Time  Current\n",
      "                                 Dload  Upload   Total   Spent    Left  Speed\n",
      "  0     0    0     0    0     0      0      0 --:--:-- --:--:-- --:--:--     0"
     ]
    },
    {
     "name": "stdout",
     "output_type": "stream",
     "text": [
      "SRGRYGLPLSSRPVVKS\n",
      "Downloading PDB file 1jky...\n"
     ]
    },
    {
     "name": "stderr",
     "output_type": "stream",
     "text": [
      "100  523k    0  523k    0     0   416k      0 --:--:--  0:00:01 --:--:--  416k\n",
      "  % Total    % Received % Xferd  Average Speed   Time    Time     Time  Current\n",
      "                                 Dload  Upload   Total   Spent    Left  Speed\n",
      "  0     0    0     0    0     0      0      0 --:--:-- --:--:-- --:--:--     0"
     ]
    },
    {
     "name": "stdout",
     "output_type": "stream",
     "text": [
      "ELKDQRMLS\n",
      "Downloading PDB file 1jmc...\n"
     ]
    },
    {
     "name": "stderr",
     "output_type": "stream",
     "text": [
      "100  253k    0  253k    0     0   188k      0 --:--:--  0:00:01 --:--:--  188k\n",
      "  % Total    % Received % Xferd  Average Speed   Time    Time     Time  Current\n",
      "                                 Dload  Upload   Total   Spent    Left  Speed\n",
      "  0     0    0     0    0     0      0      0 --:--:-- --:--:-- --:--:--     0"
     ]
    },
    {
     "name": "stdout",
     "output_type": "stream",
     "text": [
      "EDDHHLPTVQFDFTG\n",
      "Downloading PDB file 1jqj...\n"
     ]
    },
    {
     "name": "stderr",
     "output_type": "stream",
     "text": [
      "100  921k    0  921k    0     0   566k      0 --:--:--  0:00:01 --:--:--  566k\n",
      "  % Total    % Received % Xferd  Average Speed   Time    Time     Time  Current\n",
      "                                 Dload  Upload   Total   Spent    Left  Speed\n",
      "  0     0    0     0    0     0      0      0 --:--:-- --:--:-- --:--:--     0"
     ]
    },
    {
     "name": "stdout",
     "output_type": "stream",
     "text": [
      "NDAT\n",
      "Downloading PDB file 1k2y...\n"
     ]
    },
    {
     "name": "stderr",
     "output_type": "stream",
     "text": [
      "100  345k    0  345k    0     0   272k      0 --:--:--  0:00:01 --:--:--  272k\n",
      "  % Total    % Received % Xferd  Average Speed   Time    Time     Time  Current\n",
      "                                 Dload  Upload   Total   Spent    Left  Speed\n",
      "  0     0    0     0    0     0      0      0 --:--:-- --:--:-- --:--:--     0"
     ]
    },
    {
     "name": "stdout",
     "output_type": "stream",
     "text": [
      "AFPSD\n",
      "Downloading PDB file 1k3w...\n"
     ]
    },
    {
     "name": "stderr",
     "output_type": "stream",
     "text": [
      "100  488k    0  488k    0     0   282k      0 --:--:--  0:00:01 --:--:--  282k\n",
      "  % Total    % Received % Xferd  Average Speed   Time    Time     Time  Current\n",
      "                                 Dload  Upload   Total   Spent    Left  Speed\n",
      "  0     0    0     0    0     0      0      0 --:--:-- --:--:-- --:--:--     0"
     ]
    },
    {
     "name": "stdout",
     "output_type": "stream",
     "text": [
      "VGPDVLDPNLT\n",
      "RGQALFRFKVFHRDGEPCERCGSII\n",
      "Downloading PDB file 1k6y...\n"
     ]
    },
    {
     "name": "stderr",
     "output_type": "stream",
     "text": [
      "100  549k    0  549k    0     0   373k      0 --:--:--  0:00:01 --:--:--  373k\n",
      "  % Total    % Received % Xferd  Average Speed   Time    Time     Time  Current\n",
      "                                 Dload  Upload   Total   Spent    Left  Speed\n",
      "  0     0    0     0    0     0      0      0 --:--:-- --:--:-- --:--:--     0"
     ]
    },
    {
     "name": "stdout",
     "output_type": "stream",
     "text": [
      "CDKCQLKCSPG\n",
      "Downloading PDB file 1kgs...\n"
     ]
    },
    {
     "name": "stderr",
     "output_type": "stream",
     "text": [
      "100  212k    0  212k    0     0   162k      0 --:--:--  0:00:01 --:--:--  162k\n",
      "  % Total    % Received % Xferd  Average Speed   Time    Time     Time  Current\n",
      "                                 Dload  Upload   Total   Spent    Left  Speed\n",
      "  0     0    0     0    0     0      0      0 --:--:-- --:--:-- --:--:--     0"
     ]
    },
    {
     "name": "stdout",
     "output_type": "stream",
     "text": [
      "SESKST\n",
      "Downloading PDB file 1knx...\n"
     ]
    },
    {
     "name": "stderr",
     "output_type": "stream",
     "text": [
      "100 1226k    0 1226k    0     0   705k      0 --:--:--  0:00:01 --:--:--  705k\n",
      "  % Total    % Received % Xferd  Average Speed   Time    Time     Time  Current\n",
      "                                 Dload  Upload   Total   Spent    Left  Speed\n",
      "  0     0    0     0    0     0      0      0 --:--:-- --:--:-- --:--:--     0"
     ]
    },
    {
     "name": "stdout",
     "output_type": "stream",
     "text": [
      "FATV\n",
      "Downloading PDB file 1kqf...\n"
     ]
    },
    {
     "name": "stderr",
     "output_type": "stream",
     "text": [
      "100 1218k    0 1218k    0     0   682k      0 --:--:--  0:00:01 --:--:--  682k\n",
      "  % Total    % Received % Xferd  Average Speed   Time    Time     Time  Current\n",
      "                                 Dload  Upload   Total   Spent    Left  Speed\n",
      "  0     0    0     0    0     0      0      0 --:--:-- --:--:-- --:--:--     0"
     ]
    },
    {
     "name": "stdout",
     "output_type": "stream",
     "text": [
      "YHGLPKDPKID\n",
      "Downloading PDB file 1ksk...\n"
     ]
    },
    {
     "name": "stderr",
     "output_type": "stream",
     "text": [
      "100  195k    0  195k    0     0   164k      0 --:--:--  0:00:01 --:--:--  164k\n",
      "  % Total    % Received % Xferd  Average Speed   Time    Time     Time  Current\n",
      "                                 Dload  Upload   Total   Spent    Left  Speed\n",
      "  0     0    0     0    0     0      0      0 --:--:-- --:--:-- --:--:--     0"
     ]
    },
    {
     "name": "stdout",
     "output_type": "stream",
     "text": [
      "AQQHGPR\n",
      "Downloading PDB file 1ku2...\n"
     ]
    },
    {
     "name": "stderr",
     "output_type": "stream",
     "text": [
      "100  342k    0  342k    0     0   245k      0 --:--:--  0:00:01 --:--:--  245k\n",
      "  % Total    % Received % Xferd  Average Speed   Time    Time     Time  Current\n",
      "                                 Dload  Upload   Total   Spent    Left  Speed\n",
      "  0     0    0     0    0     0      0      0 --:--:-- --:--:-- --:--:--     0"
     ]
    },
    {
     "name": "stdout",
     "output_type": "stream",
     "text": [
      "ADQARTIRIP\n",
      "Downloading PDB file 1ky9...\n"
     ]
    },
    {
     "name": "stderr",
     "output_type": "stream",
     "text": [
      "100  514k    0  514k    0     0   332k      0 --:--:--  0:00:01 --:--:--  333k\n",
      "  % Total    % Received % Xferd  Average Speed   Time    Time     Time  Current\n",
      "                                 Dload  Upload   Total   Spent    Left  Speed\n",
      "  0     0    0     0    0     0      0      0 --:--:-- --:--:-- --:--:--     0"
     ]
    },
    {
     "name": "stdout",
     "output_type": "stream",
     "text": [
      "GQVKR\n",
      "QQSSQNQVDSSSIFNEXSNKGKDQGVVVNNVKTGTPA\n",
      "Downloading PDB file 1kyq...\n"
     ]
    },
    {
     "name": "stderr",
     "output_type": "stream",
     "text": [
      "100  655k    0  655k    0     0   437k      0 --:--:--  0:00:01 --:--:--  437k\n",
      "  % Total    % Received % Xferd  Average Speed   Time    Time     Time  Current\n",
      "                                 Dload  Upload   Total   Spent    Left  Speed\n",
      "  0     0    0     0    0     0      0      0 --:--:-- --:--:-- --:--:--     0"
     ]
    },
    {
     "name": "stdout",
     "output_type": "stream",
     "text": [
      "CDFYFG\n",
      "Downloading PDB file 1kzq...\n"
     ]
    },
    {
     "name": "stderr",
     "output_type": "stream",
     "text": [
      "100  388k    0  388k    0     0   272k      0 --:--:--  0:00:01 --:--:--  272k\n",
      "  % Total    % Received % Xferd  Average Speed   Time    Time     Time  Current\n",
      "                                 Dload  Upload   Total   Spent    Left  Speed\n",
      "  0     0    0     0    0     0      0      0 --:--:-- --:--:-- --:--:--     0"
     ]
    },
    {
     "name": "stdout",
     "output_type": "stream",
     "text": [
      "QARAS\n",
      "Downloading PDB file 1l0q...\n"
     ]
    },
    {
     "name": "stderr",
     "output_type": "stream",
     "text": [
      "100 1093k    0 1093k    0     0   695k      0 --:--:--  0:00:01 --:--:--  695k\n",
      "  % Total    % Received % Xferd  Average Speed   Time    Time     Time  Current\n",
      "                                 Dload  Upload   Total   Spent    Left  Speed\n",
      "  0     0    0     0    0     0      0      0 --:--:-- --:--:-- --:--:--     0"
     ]
    },
    {
     "name": "stdout",
     "output_type": "stream",
     "text": [
      "IPVQPVYPSAD\n",
      "Downloading PDB file 1l3l...\n"
     ]
    },
    {
     "name": "stderr",
     "output_type": "stream",
     "text": [
      "100  863k    0  863k    0     0   627k      0 --:--:--  0:00:01 --:--:--  627k\n",
      "  % Total    % Received % Xferd  Average Speed   Time    Time     Time  Current\n",
      "                                 Dload  Upload   Total   Spent    Left  Speed\n",
      "  0     0    0     0    0     0      0      0 --:--:-- --:--:-- --:--:--     0"
     ]
    },
    {
     "name": "stdout",
     "output_type": "stream",
     "text": [
      "DAAWLD\n",
      "Downloading PDB file 1l6z...\n"
     ]
    },
    {
     "name": "stderr",
     "output_type": "stream",
     "text": [
      "100  179k    0  179k    0     0   149k      0 --:--:--  0:00:01 --:--:--  149k\n",
      "  % Total    % Received % Xferd  Average Speed   Time    Time     Time  Current\n",
      "                                 Dload  Upload   Total   Spent    Left  Speed\n",
      "  0     0    0     0    0     0      0      0 --:--:-- --:--:-- --:--:--     0"
     ]
    },
    {
     "name": "stdout",
     "output_type": "stream",
     "text": [
      "HVHQPVTQPF\n",
      "Downloading PDB file 1ldk...\n"
     ]
    },
    {
     "name": "stderr",
     "output_type": "stream",
     "text": [
      "100  706k    0  706k    0     0   465k      0 --:--:--  0:00:01 --:--:--  465k\n",
      "  % Total    % Received % Xferd  Average Speed   Time    Time     Time  Current\n",
      "                                 Dload  Upload   Total   Spent    Left  Speed\n",
      "  0     0    0     0    0     0      0      0 --:--:-- --:--:-- --:--:--     0"
     ]
    },
    {
     "name": "stdout",
     "output_type": "stream",
     "text": [
      "KLYLGYKNKKLRVNINVPMKT\n",
      "Downloading PDB file 1lnq...\n"
     ]
    },
    {
     "name": "stderr",
     "output_type": "stream",
     "text": [
      "100 1485k    0 1485k    0     0   732k      0 --:--:--  0:00:02 --:--:--  732k\n",
      "  % Total    % Received % Xferd  Average Speed   Time    Time     Time  Current\n",
      "                                 Dload  Upload   Total   Spent    Left  Speed\n",
      "  0     0    0     0    0     0      0      0 --:--:-- --:--:-- --:--:--     0"
     ]
    },
    {
     "name": "stdout",
     "output_type": "stream",
     "text": [
      "LEFLR\n",
      "Downloading PDB file 1mc0...\n"
     ]
    },
    {
     "name": "stderr",
     "output_type": "stream",
     "text": [
      "100  257k    0  257k    0     0   248k      0 --:--:--  0:00:01 --:--:--  248k\n",
      "  % Total    % Received % Xferd  Average Speed   Time    Time     Time  Current\n",
      "                                 Dload  Upload   Total   Spent    Left  Speed\n",
      "  0     0    0     0    0     0      0      0 --:--:-- --:--:-- --:--:--     0"
     ]
    },
    {
     "name": "stdout",
     "output_type": "stream",
     "text": [
      "HLDD\n",
      "Downloading PDB file 1mk9...\n"
     ]
    },
    {
     "name": "stderr",
     "output_type": "stream",
     "text": [
      "100  578k    0  578k    0     0   370k      0 --:--:--  0:00:01 --:--:--  370k\n",
      "  % Total    % Received % Xferd  Average Speed   Time    Time     Time  Current\n",
      "                                 Dload  Upload   Total   Spent    Left  Speed\n",
      "  0     0    0     0    0     0      0      0 --:--:-- --:--:-- --:--:--     0"
     ]
    },
    {
     "name": "stdout",
     "output_type": "stream",
     "text": [
      "SLKTYGVSF\n",
      "Downloading PDB file 1mow...\n"
     ]
    },
    {
     "name": "stderr",
     "output_type": "stream",
     "text": [
      "100  982k    0  982k    0     0   664k      0 --:--:--  0:00:01 --:--:--  664k\n",
      "  % Total    % Received % Xferd  Average Speed   Time    Time     Time  Current\n",
      "                                 Dload  Upload   Total   Spent    Left  Speed\n",
      "  0     0    0     0    0     0      0      0 --:--:-- --:--:-- --:--:--     0"
     ]
    },
    {
     "name": "stdout",
     "output_type": "stream",
     "text": [
      "RILFNG\n",
      "Downloading PDB file 1mse...\n"
     ]
    },
    {
     "name": "stderr",
     "output_type": "stream",
     "text": [
      "100  222k    0  222k    0     0   172k      0 --:--:--  0:00:01 --:--:--  172k\n",
      "  % Total    % Received % Xferd  Average Speed   Time    Time     Time  Current\n",
      "                                 Dload  Upload   Total   Spent    Left  Speed\n",
      "  0     0    0     0    0     0      0      0 --:--:-- --:--:-- --:--:--     0"
     ]
    },
    {
     "name": "stdout",
     "output_type": "stream",
     "text": [
      "LNPEVKKTSWT\n",
      "Downloading PDB file 1mxm...\n"
     ]
    },
    {
     "name": "stderr",
     "output_type": "stream",
     "text": [
      "100 1123k    0 1123k    0     0   472k      0 --:--:--  0:00:02 --:--:--  472k\n",
      "  % Total    % Received % Xferd  Average Speed   Time    Time     Time  Current\n",
      "                                 Dload  Upload   Total   Spent    Left  Speed\n",
      "  0     0    0     0    0     0      0      0 --:--:-- --:--:-- --:--:--     0"
     ]
    },
    {
     "name": "stdout",
     "output_type": "stream",
     "text": [
      "NIINFSREP\n",
      "Downloading PDB file 1n62...\n"
     ]
    },
    {
     "name": "stderr",
     "output_type": "stream",
     "text": [
      "100 3720k    0 3720k    0     0  1967k      0 --:--:--  0:00:01 --:--:-- 1967k\n",
      "  % Total    % Received % Xferd  Average Speed   Time    Time     Time  Current\n",
      "                                 Dload  Upload   Total   Spent    Left  Speed\n",
      "  0     0    0     0    0     0      0      0 --:--:-- --:--:-- --:--:--     0"
     ]
    },
    {
     "name": "stdout",
     "output_type": "stream",
     "text": [
      "MAAPDGTLS\n",
      "Downloading PDB file 1n67...\n"
     ]
    },
    {
     "name": "stderr",
     "output_type": "stream",
     "text": [
      "100  271k    0  271k    0     0   213k      0 --:--:--  0:00:01 --:--:--  213k\n",
      "  % Total    % Received % Xferd  Average Speed   Time    Time     Time  Current\n",
      "                                 Dload  Upload   Total   Spent    Left  Speed\n",
      "  0     0    0     0    0     0      0      0 --:--:-- --:--:-- --:--:--     0"
     ]
    },
    {
     "name": "stdout",
     "output_type": "stream",
     "text": [
      "DYEKY\n",
      "Downloading PDB file 1n99...\n"
     ]
    },
    {
     "name": "stderr",
     "output_type": "stream",
     "text": [
      "100  268k    0  268k    0     0   212k      0 --:--:--  0:00:01 --:--:--  212k\n",
      "  % Total    % Received % Xferd  Average Speed   Time    Time     Time  Current\n",
      "                                 Dload  Upload   Total   Spent    Left  Speed\n",
      "  0     0    0     0    0     0      0      0 --:--:-- --:--:-- --:--:--     0"
     ]
    },
    {
     "name": "stdout",
     "output_type": "stream",
     "text": [
      "DRPFE\n",
      "Downloading PDB file 1na6...\n"
     ]
    },
    {
     "name": "stderr",
     "output_type": "stream",
     "text": [
      "100  536k    0  536k    0     0   361k      0 --:--:--  0:00:01 --:--:--  362k\n",
      "  % Total    % Received % Xferd  Average Speed   Time    Time     Time  Current\n",
      "                                 Dload  Upload   Total   Spent    Left  Speed\n",
      "  0     0    0     0    0     0      0      0 --:--:-- --:--:-- --:--:--     0"
     ]
    },
    {
     "name": "stdout",
     "output_type": "stream",
     "text": [
      "GGLSLQQAPYILP\n",
      "Downloading PDB file 1nfk...\n"
     ]
    },
    {
     "name": "stderr",
     "output_type": "stream",
     "text": [
      "100  638k    0  638k    0     0   468k      0 --:--:--  0:00:01 --:--:--  468k\n",
      "  % Total    % Received % Xferd  Average Speed   Time    Time     Time  Current\n",
      "                                 Dload  Upload   Total   Spent    Left  Speed\n",
      "  0     0    0     0    0     0      0      0 --:--:-- --:--:-- --:--:--     0"
     ]
    },
    {
     "name": "stdout",
     "output_type": "stream",
     "text": [
      "DSKAPNASNLK\n",
      "Downloading PDB file 1nm3...\n"
     ]
    },
    {
     "name": "stderr",
     "output_type": "stream",
     "text": [
      "100  351k    0  351k    0     0   258k      0 --:--:--  0:00:01 --:--:--  258k\n",
      "  % Total    % Received % Xferd  Average Speed   Time    Time     Time  Current\n",
      "                                 Dload  Upload   Total   Spent    Left  Speed\n",
      "  0     0    0     0    0     0      0      0 --:--:-- --:--:-- --:--:--     0"
     ]
    },
    {
     "name": "stdout",
     "output_type": "stream",
     "text": [
      "APQHQVQES\n",
      "Downloading PDB file 1nud...\n"
     ]
    },
    {
     "name": "stderr",
     "output_type": "stream",
     "text": [
      "100  939k    0  939k    0     0   592k      0 --:--:--  0:00:01 --:--:--  591k\n"
     ]
    },
    {
     "name": "stdout",
     "output_type": "stream",
     "text": [
      "FNPWLNVDSVFMGN\n",
      "LKPS\n",
      "LDNPT\n",
      "Downloading PDB file 1nui...\n"
     ]
    },
    {
     "name": "stderr",
     "output_type": "stream",
     "text": [
      "  % Total    % Received % Xferd  Average Speed   Time    Time     Time  Current\n",
      "                                 Dload  Upload   Total   Spent    Left  Speed\n",
      "100  357k    0  357k    0     0   250k      0 --:--:--  0:00:01 --:--:--  250k\n",
      "  % Total    % Received % Xferd  Average Speed   Time    Time     Time  Current\n",
      "                                 Dload  Upload   Total   Spent    Left  Speed\n",
      "  0     0    0     0    0     0      0      0 --:--:-- --:--:-- --:--:--     0"
     ]
    },
    {
     "name": "stdout",
     "output_type": "stream",
     "text": [
      "KRKPSGGKPGTYNVWN\n",
      "Downloading PDB file 1nyq...\n"
     ]
    },
    {
     "name": "stderr",
     "output_type": "stream",
     "text": [
      "100  903k    0  903k    0     0   531k      0 --:--:--  0:00:01 --:--:--  531k\n",
      "  % Total    % Received % Xferd  Average Speed   Time    Time     Time  Current\n",
      "                                 Dload  Upload   Total   Spent    Left  Speed\n",
      "  0     0    0     0    0     0      0      0 --:--:-- --:--:-- --:--:--     0"
     ]
    },
    {
     "name": "stdout",
     "output_type": "stream",
     "text": [
      "TPGS\n",
      "RKERD\n",
      "Downloading PDB file 1o6u...\n"
     ]
    },
    {
     "name": "stderr",
     "output_type": "stream",
     "text": [
      "100  890k    0  890k    0     0   520k      0 --:--:--  0:00:01 --:--:--  520k\n",
      "  % Total    % Received % Xferd  Average Speed   Time    Time     Time  Current\n",
      "                                 Dload  Upload   Total   Spent    Left  Speed\n",
      "  0     0    0     0    0     0      0      0 --:--:-- --:--:-- --:--:--     0"
     ]
    },
    {
     "name": "stdout",
     "output_type": "stream",
     "text": [
      "WQPP\n",
      "YVRDQVKQQYE\n",
      "Downloading PDB file 1o70...\n"
     ]
    },
    {
     "name": "stderr",
     "output_type": "stream",
     "text": [
      "100  240k    0  240k    0     0   180k      0 --:--:--  0:00:01 --:--:--  180k\n",
      "  % Total    % Received % Xferd  Average Speed   Time    Time     Time  Current\n",
      "                                 Dload  Upload   Total   Spent    Left  Speed\n",
      "  0     0    0     0    0     0      0      0 --:--:-- --:--:-- --:--:--     0"
     ]
    },
    {
     "name": "stdout",
     "output_type": "stream",
     "text": [
      "DHVLGVPYTT\n",
      "Downloading PDB file 1o75...\n"
     ]
    },
    {
     "name": "stderr",
     "output_type": "stream",
     "text": [
      "100  598k    0  598k    0     0   390k      0 --:--:--  0:00:01 --:--:--  390k\n",
      "  % Total    % Received % Xferd  Average Speed   Time    Time     Time  Current\n",
      "                                 Dload  Upload   Total   Spent    Left  Speed\n",
      "  0     0    0     0    0     0      0      0 --:--:-- --:--:-- --:--:--     0"
     ]
    },
    {
     "name": "stdout",
     "output_type": "stream",
     "text": [
      "SARKVSSMESPHD\n",
      "LPKYEGNI\n",
      "Downloading PDB file 1oh8...\n"
     ]
    },
    {
     "name": "stderr",
     "output_type": "stream",
     "text": [
      "100 1121k    0 1121k    0     0   741k      0 --:--:--  0:00:01 --:--:--  740k\n"
     ]
    },
    {
     "name": "stdout",
     "output_type": "stream",
     "text": [
      "TPGTISDEALLQERQDN\n",
      "EREQDSIIMD\n",
      "LNYTCP\n",
      "Downloading PDB file 1or7...\n"
     ]
    },
    {
     "name": "stderr",
     "output_type": "stream",
     "text": [
      "  % Total    % Received % Xferd  Average Speed   Time    Time     Time  Current\n",
      "                                 Dload  Upload   Total   Spent    Left  Speed\n",
      "100  379k    0  379k    0     0   306k      0 --:--:--  0:00:01 --:--:--  306k\n"
     ]
    },
    {
     "name": "stdout",
     "output_type": "stream",
     "text": [
      "NFESGGAN\n",
      "Downloading PDB file 1otc...\n"
     ]
    },
    {
     "name": "stderr",
     "output_type": "stream",
     "text": [
      "  % Total    % Received % Xferd  Average Speed   Time    Time     Time  Current\n",
      "                                 Dload  Upload   Total   Spent    Left  Speed\n",
      "100  494k    0  494k    0     0   373k      0 --:--:--  0:00:01 --:--:--  373k\n",
      "  % Total    % Received % Xferd  Average Speed   Time    Time     Time  Current\n",
      "                                 Dload  Upload   Total   Spent    Left  Speed\n",
      "  0     0    0     0    0     0      0      0 --:--:-- --:--:-- --:--:--     0"
     ]
    },
    {
     "name": "stdout",
     "output_type": "stream",
     "text": [
      "YSVIS\n",
      "LKKNVSLNA\n",
      "Downloading PDB file 1ovn...\n"
     ]
    },
    {
     "name": "stderr",
     "output_type": "stream",
     "text": [
      "100  326k    0  326k    0     0   244k      0 --:--:--  0:00:01 --:--:--  245k\n",
      "  % Total    % Received % Xferd  Average Speed   Time    Time     Time  Current\n",
      "                                 Dload  Upload   Total   Spent    Left  Speed\n",
      "  0     0    0     0    0     0      0      0 --:--:-- --:--:-- --:--:--     0"
     ]
    },
    {
     "name": "stdout",
     "output_type": "stream",
     "text": [
      "TPLYIGRDGCI\n",
      "Downloading PDB file 1p1d...\n"
     ]
    },
    {
     "name": "stderr",
     "output_type": "stream",
     "text": [
      "100 4752k    0 4752k    0     0  2188k      0 --:--:--  0:00:02 --:--:-- 2189k\n",
      "  % Total    % Received % Xferd  Average Speed   Time    Time     Time  Current\n",
      "                                 Dload  Upload   Total   Spent    Left  Speed\n",
      "  0     0    0     0    0     0      0      0 --:--:-- --:--:-- --:--:--     0"
     ]
    },
    {
     "name": "stdout",
     "output_type": "stream",
     "text": [
      "DVAESVIPSSGT\n",
      "Downloading PDB file 1p47...\n"
     ]
    },
    {
     "name": "stderr",
     "output_type": "stream",
     "text": [
      "100  250k    0  250k    0     0   250k      0 --:--:--  0:00:01 --:--:--  250k\n",
      "  % Total    % Received % Xferd  Average Speed   Time    Time     Time  Current\n",
      "                                 Dload  Upload   Total   Spent    Left  Speed\n",
      "  0     0    0     0    0     0      0      0 --:--:-- --:--:-- --:--:--     0"
     ]
    },
    {
     "name": "stdout",
     "output_type": "stream",
     "text": [
      "RIHTGQKP\n",
      "GEKP\n",
      "Downloading PDB file 1p4e...\n"
     ]
    },
    {
     "name": "stderr",
     "output_type": "stream",
     "text": [
      "100 1345k    0 1345k    0     0   665k      0 --:--:--  0:00:02 --:--:--  665k\n",
      "  % Total    % Received % Xferd  Average Speed   Time    Time     Time  Current\n",
      "                                 Dload  Upload   Total   Spent    Left  Speed\n",
      "  0     0    0     0    0     0      0      0 --:--:-- --:--:-- --:--:--     0"
     ]
    },
    {
     "name": "stdout",
     "output_type": "stream",
     "text": [
      "SGNS\n",
      "Downloading PDB file 1p7b...\n"
     ]
    },
    {
     "name": "stderr",
     "output_type": "stream",
     "text": [
      "100  388k    0  388k    0     0   274k      0 --:--:--  0:00:01 --:--:--  274k\n",
      "  % Total    % Received % Xferd  Average Speed   Time    Time     Time  Current\n",
      "                                 Dload  Upload   Total   Spent    Left  Speed\n",
      "  0     0    0     0    0     0      0      0 --:--:-- --:--:-- --:--:--     0"
     ]
    },
    {
     "name": "stdout",
     "output_type": "stream",
     "text": [
      "ARPRAKI\n",
      "Downloading PDB file 1prc...\n"
     ]
    },
    {
     "name": "stderr",
     "output_type": "stream",
     "text": [
      "100  962k    0  962k    0     0   568k      0 --:--:--  0:00:01 --:--:--  568k\n",
      "  % Total    % Received % Xferd  Average Speed   Time    Time     Time  Current\n",
      "                                 Dload  Upload   Total   Spent    Left  Speed\n",
      "  0     0    0     0    0     0      0      0 --:--:-- --:--:-- --:--:--     0"
     ]
    },
    {
     "name": "stdout",
     "output_type": "stream",
     "text": [
      "DRREGYPLVEPLGLVKLAPE\n",
      "Downloading PDB file 1pre...\n"
     ]
    },
    {
     "name": "stderr",
     "output_type": "stream",
     "text": [
      "100  610k    0  610k    0     0   396k      0 --:--:--  0:00:01 --:--:--  396k\n",
      "  % Total    % Received % Xferd  Average Speed   Time    Time     Time  Current\n",
      "                                 Dload  Upload   Total   Spent    Left  Speed\n",
      "  0     0    0     0    0     0      0      0 --:--:-- --:--:-- --:--:--     0"
     ]
    },
    {
     "name": "stdout",
     "output_type": "stream",
     "text": [
      "TNPVTGEIPTLSA\n",
      "Downloading PDB file 1prs...\n"
     ]
    },
    {
     "name": "stderr",
     "output_type": "stream",
     "text": [
      "100 6255k    0 6255k    0     0  3052k      0 --:--:--  0:00:02 --:--:-- 3054k\n"
     ]
    },
    {
     "name": "stdout",
     "output_type": "stream",
     "text": [
      "Downloading PDB file 1pvm...\n"
     ]
    },
    {
     "name": "stderr",
     "output_type": "stream",
     "text": [
      "  % Total    % Received % Xferd  Average Speed   Time    Time     Time  Current\n",
      "                                 Dload  Upload   Total   Spent    Left  Speed\n",
      "100  303k    0  303k    0     0   288k      0 --:--:--  0:00:01 --:--:--  288k\n",
      "  % Total    % Received % Xferd  Average Speed   Time    Time     Time  Current\n",
      "                                 Dload  Upload   Total   Spent    Left  Speed\n",
      "  0     0    0     0    0     0      0      0 --:--:-- --:--:-- --:--:--     0"
     ]
    },
    {
     "name": "stdout",
     "output_type": "stream",
     "text": [
      "KDYQHLCPKCGVGV\n",
      "Downloading PDB file 1q5v...\n"
     ]
    },
    {
     "name": "stderr",
     "output_type": "stream",
     "text": [
      "100  327k    0  327k    0     0   230k      0 --:--:--  0:00:01 --:--:--  230k\n",
      "  % Total    % Received % Xferd  Average Speed   Time    Time     Time  Current\n",
      "                                 Dload  Upload   Total   Spent    Left  Speed\n",
      "  0     0    0     0    0     0      0      0 --:--:-- --:--:-- --:--:--     0"
     ]
    },
    {
     "name": "stdout",
     "output_type": "stream",
     "text": [
      "AQEATQQHGT\n",
      "Downloading PDB file 1q82...\n"
     ]
    },
    {
     "name": "stderr",
     "output_type": "stream",
     "text": [
      "100 8417k    0 8417k    0     0  3485k      0 --:--:--  0:00:02 --:--:-- 3485k\n"
     ]
    },
    {
     "name": "stdout",
     "output_type": "stream",
     "text": [
      "VTEG\n",
      "Downloading PDB file 1q8k...\n"
     ]
    },
    {
     "name": "stderr",
     "output_type": "stream",
     "text": [
      "  % Total    % Received % Xferd  Average Speed   Time    Time     Time  Current\n",
      "                                 Dload  Upload   Total   Spent    Left  Speed\n",
      "100 5812k    0 5812k    0     0  2114k      0 --:--:--  0:00:02 --:--:-- 2114k\n"
     ]
    },
    {
     "name": "stdout",
     "output_type": "stream",
     "text": [
      "LTPQAV\n",
      "Downloading PDB file 1qfh...\n"
     ]
    },
    {
     "name": "stderr",
     "output_type": "stream",
     "text": [
      "  % Total    % Received % Xferd  Average Speed   Time    Time     Time  Current\n",
      "                                 Dload  Upload   Total   Spent    Left  Speed\n",
      "100  295k    0  295k    0     0   242k      0 --:--:--  0:00:01 --:--:--  242k\n"
     ]
    },
    {
     "name": "stdout",
     "output_type": "stream",
     "text": [
      "EGAN\n",
      "Downloading PDB file 1qm9...\n"
     ]
    },
    {
     "name": "stderr",
     "output_type": "stream",
     "text": [
      "  % Total    % Received % Xferd  Average Speed   Time    Time     Time  Current\n",
      "                                 Dload  Upload   Total   Spent    Left  Speed\n",
      "100  266k    0  266k    0     0   165k      0 --:--:--  0:00:01 --:--:--  165k\n",
      "  % Total    % Received % Xferd  Average Speed   Time    Time     Time  Current\n",
      "                                 Dload  Upload   Total   Spent    Left  Speed\n",
      "  0     0    0     0    0     0      0      0 --:--:-- --:--:-- --:--:--     0"
     ]
    },
    {
     "name": "stdout",
     "output_type": "stream",
     "text": [
      "YGNSPLHRFKKPGSKNFQNIFPPSA\n",
      "Downloading PDB file 1qu6...\n"
     ]
    },
    {
     "name": "stderr",
     "output_type": "stream",
     "text": [
      "100 4615k    0 4615k    0     0  2270k      0 --:--:--  0:00:02 --:--:-- 2270k\n"
     ]
    },
    {
     "name": "stdout",
     "output_type": "stream",
     "text": [
      "KEKKAVSPLLLTTTNSSEGLSMGNY\n",
      "Downloading PDB file 1qun...\n"
     ]
    },
    {
     "name": "stderr",
     "output_type": "stream",
     "text": [
      "  % Total    % Received % Xferd  Average Speed   Time    Time     Time  Current\n",
      "                                 Dload  Upload   Total   Spent    Left  Speed\n",
      "100 2428k    0 2428k    0     0  1294k      0 --:--:--  0:00:01 --:--:-- 1293k\n",
      "  % Total    % Received % Xferd  Average Speed   Time    Time     Time  Current\n",
      "                                 Dload  Upload   Total   Spent    Left  Speed\n",
      "  0     0    0     0    0     0      0      0 --:--:-- --:--:-- --:--:--     0"
     ]
    },
    {
     "name": "stdout",
     "output_type": "stream",
     "text": [
      "PTGG\n",
      "Downloading PDB file 1qzx...\n"
     ]
    },
    {
     "name": "stderr",
     "output_type": "stream",
     "text": [
      "100  582k    0  582k    0     0   384k      0 --:--:--  0:00:01 --:--:--  384k\n",
      "  % Total    % Received % Xferd  Average Speed   Time    Time     Time  Current\n",
      "                                 Dload  Upload   Total   Spent    Left  Speed\n",
      "  0     0    0     0    0     0      0      0 --:--:-- --:--:-- --:--:--     0"
     ]
    },
    {
     "name": "stdout",
     "output_type": "stream",
     "text": [
      "FGGDKEPNVNPTKLP\n",
      "RILG\n",
      "Downloading PDB file 1r2j...\n"
     ]
    },
    {
     "name": "stderr",
     "output_type": "stream",
     "text": [
      "100  258k    0  258k    0     0   177k      0 --:--:--  0:00:01 --:--:--  177k\n",
      "  % Total    % Received % Xferd  Average Speed   Time    Time     Time  Current\n",
      "                                 Dload  Upload   Total   Spent    Left  Speed\n",
      "  0     0    0     0    0     0      0      0 --:--:-- --:--:-- --:--:--     0"
     ]
    },
    {
     "name": "stdout",
     "output_type": "stream",
     "text": [
      "VLAGSGASLPMLV\n",
      "Downloading PDB file 1r6b...\n"
     ]
    },
    {
     "name": "stderr",
     "output_type": "stream",
     "text": [
      "100  508k    0  508k    0     0   345k      0 --:--:--  0:00:01 --:--:--  345k\n",
      "  % Total    % Received % Xferd  Average Speed   Time    Time     Time  Current\n",
      "                                 Dload  Upload   Total   Spent    Left  Speed\n",
      "  0     0    0     0    0     0      0      0 --:--:-- --:--:-- --:--:--     0"
     ]
    },
    {
     "name": "stdout",
     "output_type": "stream",
     "text": [
      "HGLENFTTN\n",
      "ARIPEKSVSQS\n",
      "Downloading PDB file 1r6t...\n"
     ]
    },
    {
     "name": "stderr",
     "output_type": "stream",
     "text": [
      "100  617k    0  617k    0     0   409k      0 --:--:--  0:00:01 --:--:--  409k\n",
      "  % Total    % Received % Xferd  Average Speed   Time    Time     Time  Current\n",
      "                                 Dload  Upload   Total   Spent    Left  Speed\n",
      "  0     0    0     0    0     0      0      0 --:--:-- --:--:-- --:--:--     0"
     ]
    },
    {
     "name": "stdout",
     "output_type": "stream",
     "text": [
      "AGEDYKAED\n",
      "Downloading PDB file 1r6z...\n"
     ]
    },
    {
     "name": "stderr",
     "output_type": "stream",
     "text": [
      "100 1006k    0 1006k    0     0   577k      0 --:--:--  0:00:01 --:--:--  577k\n",
      "  % Total    % Received % Xferd  Average Speed   Time    Time     Time  Current\n",
      "                                 Dload  Upload   Total   Spent    Left  Speed\n",
      "  0     0    0     0    0     0      0      0 --:--:-- --:--:-- --:--:--     0"
     ]
    },
    {
     "name": "stdout",
     "output_type": "stream",
     "text": [
      "AEFVDISHKSFPIS\n",
      "Downloading PDB file 1r7r...\n"
     ]
    },
    {
     "name": "stderr",
     "output_type": "stream",
     "text": [
      "100  450k    0  450k    0     0   289k      0 --:--:--  0:00:01 --:--:--  289k\n",
      "  % Total    % Received % Xferd  Average Speed   Time    Time     Time  Current\n",
      "                                 Dload  Upload   Total   Spent    Left  Speed\n",
      "  0     0    0     0    0     0      0      0 --:--:-- --:--:-- --:--:--     0"
     ]
    },
    {
     "name": "stdout",
     "output_type": "stream",
     "text": [
      "CPDVKYGKR\n",
      "APDTVIHCEGEPIKREDEEESLNEVG\n",
      "LSQSNPSALRETVVEVPQVTWEDIGGLEDVKR\n",
      "Downloading PDB file 1rc7...\n"
     ]
    },
    {
     "name": "stderr",
     "output_type": "stream",
     "text": [
      "100  263k    0  263k    0     0   205k      0 --:--:--  0:00:01 --:--:--  205k\n",
      "  % Total    % Received % Xferd  Average Speed   Time    Time     Time  Current\n",
      "                                 Dload  Upload   Total   Spent    Left  Speed\n",
      "  0     0    0     0    0     0      0      0 --:--:-- --:--:-- --:--:--     0"
     ]
    },
    {
     "name": "stdout",
     "output_type": "stream",
     "text": [
      "EGRVKKD\n",
      "Downloading PDB file 1rc8...\n"
     ]
    },
    {
     "name": "stderr",
     "output_type": "stream",
     "text": [
      "100  247k    0  247k    0     0   207k      0 --:--:--  0:00:01 --:--:--  207k\n",
      "  % Total    % Received % Xferd  Average Speed   Time    Time     Time  Current\n",
      "                                 Dload  Upload   Total   Spent    Left  Speed\n",
      "  0     0    0     0    0     0      0      0 --:--:-- --:--:-- --:--:--     0"
     ]
    },
    {
     "name": "stdout",
     "output_type": "stream",
     "text": [
      "GLPVYNGTPGKP\n",
      "Downloading PDB file 1rer...\n"
     ]
    },
    {
     "name": "stderr",
     "output_type": "stream",
     "text": [
      "100  816k    0  816k    0     0   407k      0 --:--:--  0:00:02 --:--:--  408k\n",
      "  % Total    % Received % Xferd  Average Speed   Time    Time     Time  Current\n",
      "                                 Dload  Upload   Total   Spent    Left  Speed\n",
      "  0     0    0     0    0     0      0      0 --:--:-- --:--:-- --:--:--     0"
     ]
    },
    {
     "name": "stdout",
     "output_type": "stream",
     "text": [
      "VEAPT\n",
      "Downloading PDB file 1rgo...\n"
     ]
    },
    {
     "name": "stderr",
     "output_type": "stream",
     "text": [
      "100 2255k    0 2255k    0     0  1254k      0 --:--:--  0:00:01 --:--:-- 1254k\n",
      "  % Total    % Received % Xferd  Average Speed   Time    Time     Time  Current\n",
      "                                 Dload  Upload   Total   Spent    Left  Speed\n",
      "  0     0    0     0    0     0      0      0 --:--:-- --:--:-- --:--:--     0"
     ]
    },
    {
     "name": "stdout",
     "output_type": "stream",
     "text": [
      "LRSLTRHPKYKTELC\n",
      "Downloading PDB file 1rl2...\n"
     ]
    },
    {
     "name": "stderr",
     "output_type": "stream",
     "text": [
      "100  205k    0  205k    0     0   168k      0 --:--:--  0:00:01 --:--:--  168k\n",
      "  % Total    % Received % Xferd  Average Speed   Time    Time     Time  Current\n",
      "                                 Dload  Upload   Total   Spent    Left  Speed\n",
      "  0     0    0     0    0     0      0      0 --:--:-- --:--:-- --:--:--     0"
     ]
    },
    {
     "name": "stdout",
     "output_type": "stream",
     "text": [
      "XSGPDADIKIGN\n",
      "Downloading PDB file 1rp1...\n"
     ]
    },
    {
     "name": "stderr",
     "output_type": "stream",
     "text": [
      "100  336k    0  336k    0     0   249k      0 --:--:--  0:00:01 --:--:--  249k\n",
      "  % Total    % Received % Xferd  Average Speed   Time    Time     Time  Current\n",
      "                                 Dload  Upload   Total   Spent    Left  Speed\n",
      "  0     0    0     0    0     0      0      0 --:--:-- --:--:-- --:--:--     0"
     ]
    },
    {
     "name": "stdout",
     "output_type": "stream",
     "text": [
      "Downloading PDB file 1rp5...\n"
     ]
    },
    {
     "name": "stderr",
     "output_type": "stream",
     "text": [
      "100  880k    0  880k    0     0   528k      0 --:--:--  0:00:01 --:--:--  528k\n",
      "  % Total    % Received % Xferd  Average Speed   Time    Time     Time  Current\n",
      "                                 Dload  Upload   Total   Spent    Left  Speed\n",
      "  0     0    0     0    0     0      0      0 --:--:-- --:--:-- --:--:--     0"
     ]
    },
    {
     "name": "stdout",
     "output_type": "stream",
     "text": [
      "EQVSQQSPYPMPSVKDIS\n",
      "DKAEEVPDMYGWT\n",
      "Downloading PDB file 1rqp...\n"
     ]
    },
    {
     "name": "stderr",
     "output_type": "stream",
     "text": [
      "100 1243k    0 1243k    0     0   707k      0 --:--:--  0:00:01 --:--:--  707k\n",
      "  % Total    % Received % Xferd  Average Speed   Time    Time     Time  Current\n",
      "                                 Dload  Upload   Total   Spent    Left  Speed\n",
      "  0     0    0     0    0     0      0      0 --:--:-- --:--:-- --:--:--     0"
     ]
    },
    {
     "name": "stdout",
     "output_type": "stream",
     "text": [
      "IVRFNRPAV\n",
      "Downloading PDB file 1rth...\n"
     ]
    },
    {
     "name": "stderr",
     "output_type": "stream",
     "text": [
      "100  694k    0  694k    0     0   367k      0 --:--:--  0:00:01 --:--:--  367k\n"
     ]
    },
    {
     "name": "stdout",
     "output_type": "stream",
     "text": [
      "VNTPPLVKLWYQLEKEPIVGA\n",
      "Downloading PDB file 1rtm...\n"
     ]
    },
    {
     "name": "stderr",
     "output_type": "stream",
     "text": [
      "  % Total    % Received % Xferd  Average Speed   Time    Time     Time  Current\n",
      "                                 Dload  Upload   Total   Spent    Left  Speed\n",
      "100  400k    0  400k    0     0   287k      0 --:--:--  0:00:01 --:--:--  287k\n",
      "  % Total    % Received % Xferd  Average Speed   Time    Time     Time  Current\n",
      "                                 Dload  Upload   Total   Spent    Left  Speed\n",
      "  0     0    0     0    0     0      0      0 --:--:-- --:--:-- --:--:--     0"
     ]
    },
    {
     "name": "stdout",
     "output_type": "stream",
     "text": [
      "MGKKSGKK\n",
      "Downloading PDB file 1ryt...\n"
     ]
    },
    {
     "name": "stderr",
     "output_type": "stream",
     "text": [
      "100  157k    0  157k    0     0   130k      0 --:--:--  0:00:01 --:--:--  130k\n",
      "  % Total    % Received % Xferd  Average Speed   Time    Time     Time  Current\n",
      "                                 Dload  Upload   Total   Spent    Left  Speed\n",
      "  0     0    0     0    0     0      0      0 --:--:-- --:--:-- --:--:--     0"
     ]
    },
    {
     "name": "stdout",
     "output_type": "stream",
     "text": [
      "Downloading PDB file 1rzt...\n"
     ]
    },
    {
     "name": "stderr",
     "output_type": "stream",
     "text": [
      "100 1097k    0 1097k    0     0   603k      0 --:--:--  0:00:01 --:--:--  602k\n",
      "  % Total    % Received % Xferd  Average Speed   Time    Time     Time  Current\n",
      "                                 Dload  Upload   Total   Spent    Left  Speed\n",
      "  0     0    0     0    0     0      0      0 --:--:-- --:--:-- --:--:--     0"
     ]
    },
    {
     "name": "stdout",
     "output_type": "stream",
     "text": [
      "HISES\n",
      "Downloading PDB file 1sdd...\n"
     ]
    },
    {
     "name": "stderr",
     "output_type": "stream",
     "text": [
      "100  638k    0  638k    0     0   470k      0 --:--:--  0:00:01 --:--:--  470k\n",
      "  % Total    % Received % Xferd  Average Speed   Time    Time     Time  Current\n",
      "                                 Dload  Upload   Total   Spent    Left  Speed\n",
      "  0     0    0     0    0     0      0      0 --:--:-- --:--:-- --:--:--     0"
     ]
    },
    {
     "name": "stdout",
     "output_type": "stream",
     "text": [
      "RKGTLDKETNMPVDMR\n",
      "EVNG\n",
      "Downloading PDB file 1sj8...\n"
     ]
    },
    {
     "name": "stderr",
     "output_type": "stream",
     "text": [
      "100  216k    0  216k    0     0   166k      0 --:--:--  0:00:01 --:--:--  166k\n",
      "  % Total    % Received % Xferd  Average Speed   Time    Time     Time  Current\n",
      "                                 Dload  Upload   Total   Spent    Left  Speed\n",
      "  0     0    0     0    0     0      0      0 --:--:-- --:--:-- --:--:--     0"
     ]
    },
    {
     "name": "stdout",
     "output_type": "stream",
     "text": [
      "IGESDTDPH\n",
      "Downloading PDB file 1sky...\n"
     ]
    },
    {
     "name": "stderr",
     "output_type": "stream",
     "text": [
      "100  627k    0  627k    0     0   425k      0 --:--:--  0:00:01 --:--:--  425k\n",
      "  % Total    % Received % Xferd  Average Speed   Time    Time     Time  Current\n",
      "                                 Dload  Upload   Total   Spent    Left  Speed\n",
      "  0     0    0     0    0     0      0      0 --:--:-- --:--:-- --:--:--     0"
     ]
    },
    {
     "name": "stdout",
     "output_type": "stream",
     "text": [
      "RVGGAAQI\n",
      "Downloading PDB file 1svb...\n"
     ]
    },
    {
     "name": "stderr",
     "output_type": "stream",
     "text": [
      "100  305k    0  305k    0     0   215k      0 --:--:--  0:00:01 --:--:--  215k\n",
      "  % Total    % Received % Xferd  Average Speed   Time    Time     Time  Current\n",
      "                                 Dload  Upload   Total   Spent    Left  Speed\n",
      "  0     0    0     0    0     0      0      0 --:--:-- --:--:-- --:--:--     0"
     ]
    },
    {
     "name": "stdout",
     "output_type": "stream",
     "text": [
      "Downloading PDB file 1szp...\n"
     ]
    },
    {
     "name": "stderr",
     "output_type": "stream",
     "text": [
      "100 1153k    0 1153k    0     0   691k      0 --:--:--  0:00:01 --:--:--  691k\n",
      "  % Total    % Received % Xferd  Average Speed   Time    Time     Time  Current\n",
      "                                 Dload  Upload   Total   Spent    Left  Speed\n",
      "  0     0    0     0    0     0      0      0 --:--:-- --:--:-- --:--:--     0"
     ]
    },
    {
     "name": "stdout",
     "output_type": "stream",
     "text": [
      "RLVPMGFVT\n",
      "Downloading PDB file 1tbr...\n"
     ]
    },
    {
     "name": "stderr",
     "output_type": "stream",
     "text": [
      "100  612k    0  612k    0     0   386k      0 --:--:--  0:00:01 --:--:--  386k\n",
      "  % Total    % Received % Xferd  Average Speed   Time    Time     Time  Current\n",
      "                                 Dload  Upload   Total   Spent    Left  Speed\n",
      "  0     0    0     0    0     0      0      0 --:--:-- --:--:-- --:--:--     0"
     ]
    },
    {
     "name": "stdout",
     "output_type": "stream",
     "text": [
      "EPDEDEDV\n",
      "Downloading PDB file 1tf7...\n"
     ]
    },
    {
     "name": "stderr",
     "output_type": "stream",
     "text": [
      "100 1978k    0 1978k    0     0   916k      0 --:--:--  0:00:02 --:--:--  916k\n",
      "  % Total    % Received % Xferd  Average Speed   Time    Time     Time  Current\n",
      "                                 Dload  Upload   Total   Spent    Left  Speed\n",
      "  0     0    0     0    0     0      0      0 --:--:-- --:--:-- --:--:--     0"
     ]
    },
    {
     "name": "stdout",
     "output_type": "stream",
     "text": [
      "FPLGAMRLTQRSSNV\n",
      "Downloading PDB file 1toc...\n"
     ]
    },
    {
     "name": "stderr",
     "output_type": "stream",
     "text": [
      "100 1140k    0 1140k    0     0   687k      0 --:--:--  0:00:01 --:--:--  687k\n",
      "  % Total    % Received % Xferd  Average Speed   Time    Time     Time  Current\n",
      "                                 Dload  Upload   Total   Spent    Left  Speed\n",
      "  0     0    0     0    0     0      0      0 --:--:-- --:--:-- --:--:--     0"
     ]
    },
    {
     "name": "stdout",
     "output_type": "stream",
     "text": [
      "FVGGEDHSSEMH\n",
      "Downloading PDB file 1tw2...\n"
     ]
    },
    {
     "name": "stderr",
     "output_type": "stream",
     "text": [
      "100  504k    0  504k    0     0   330k      0 --:--:--  0:00:01 --:--:--  330k\n",
      "  % Total    % Received % Xferd  Average Speed   Time    Time     Time  Current\n",
      "                                 Dload  Upload   Total   Spent    Left  Speed\n",
      "  0     0    0     0    0     0      0      0 --:--:-- --:--:-- --:--:--     0"
     ]
    },
    {
     "name": "stdout",
     "output_type": "stream",
     "text": [
      "ADDHPAA\n",
      "Downloading PDB file 1u3e...\n"
     ]
    },
    {
     "name": "stderr",
     "output_type": "stream",
     "text": [
      "100  281k    0  281k    0     0   213k      0 --:--:--  0:00:01 --:--:--  213k\n",
      "  % Total    % Received % Xferd  Average Speed   Time    Time     Time  Current\n",
      "                                 Dload  Upload   Total   Spent    Left  Speed\n",
      "  0     0    0     0    0     0      0      0 --:--:-- --:--:-- --:--:--     0"
     ]
    },
    {
     "name": "stdout",
     "output_type": "stream",
     "text": [
      "GTLNV\n",
      "Downloading PDB file 1u78...\n"
     ]
    },
    {
     "name": "stderr",
     "output_type": "stream",
     "text": [
      "100  189k    0  189k    0     0   148k      0 --:--:--  0:00:01 --:--:--  148k\n",
      "  % Total    % Received % Xferd  Average Speed   Time    Time     Time  Current\n",
      "                                 Dload  Upload   Total   Spent    Left  Speed\n",
      "  0     0    0     0    0     0      0      0 --:--:-- --:--:-- --:--:--     0"
     ]
    },
    {
     "name": "stdout",
     "output_type": "stream",
     "text": [
      "YGTSKRAPRRKALS\n",
      "Downloading PDB file 1u8s...\n"
     ]
    },
    {
     "name": "stderr",
     "output_type": "stream",
     "text": [
      "100  247k    0  247k    0     0   183k      0 --:--:--  0:00:01 --:--:--  183k\n",
      "  % Total    % Received % Xferd  Average Speed   Time    Time     Time  Current\n",
      "                                 Dload  Upload   Total   Spent    Left  Speed\n",
      "  0     0    0     0    0     0      0      0 --:--:-- --:--:-- --:--:--     0"
     ]
    },
    {
     "name": "stdout",
     "output_type": "stream",
     "text": [
      "SPHDHQTHA\n",
      "Downloading PDB file 1ug9...\n"
     ]
    },
    {
     "name": "stderr",
     "output_type": "stream",
     "text": [
      "100  692k    0  692k    0     0   457k      0 --:--:--  0:00:01 --:--:--  457k\n",
      "  % Total    % Received % Xferd  Average Speed   Time    Time     Time  Current\n",
      "                                 Dload  Upload   Total   Spent    Left  Speed\n",
      "  0     0    0     0    0     0      0      0 --:--:-- --:--:-- --:--:--     0"
     ]
    },
    {
     "name": "stdout",
     "output_type": "stream",
     "text": [
      "LDAPATSLT\n",
      "AAGTPLSSPE\n",
      "Downloading PDB file 1un8...\n"
     ]
    },
    {
     "name": "stderr",
     "output_type": "stream",
     "text": [
      "100  715k    0  715k    0     0   440k      0 --:--:--  0:00:01 --:--:--  440k\n",
      "  % Total    % Received % Xferd  Average Speed   Time    Time     Time  Current\n",
      "                                 Dload  Upload   Total   Spent    Left  Speed\n",
      "  0     0    0     0    0     0      0      0 --:--:-- --:--:-- --:--:--     0"
     ]
    },
    {
     "name": "stdout",
     "output_type": "stream",
     "text": [
      "TEVETSNWPTPVPPREIT\n",
      "Downloading PDB file 1v1h...\n"
     ]
    },
    {
     "name": "stderr",
     "output_type": "stream",
     "text": [
      "100  453k    0  453k    0     0   343k      0 --:--:--  0:00:01 --:--:--  343k\n",
      "  % Total    % Received % Xferd  Average Speed   Time    Time     Time  Current\n",
      "                                 Dload  Upload   Total   Spent    Left  Speed\n",
      "  0     0    0     0    0     0      0      0 --:--:-- --:--:-- --:--:--     0"
     ]
    },
    {
     "name": "stdout",
     "output_type": "stream",
     "text": [
      "IGGSGYIPEAPRDGQ\n",
      "Downloading PDB file 1v9p...\n"
     ]
    },
    {
     "name": "stderr",
     "output_type": "stream",
     "text": [
      "100  827k    0  827k    0     0   444k      0 --:--:--  0:00:01 --:--:--  445k\n",
      "  % Total    % Received % Xferd  Average Speed   Time    Time     Time  Current\n",
      "                                 Dload  Upload   Total   Spent    Left  Speed\n",
      "  0     0    0     0    0     0      0      0 --:--:-- --:--:-- --:--:--     0"
     ]
    },
    {
     "name": "stdout",
     "output_type": "stream",
     "text": [
      "FPAEE\n",
      "RTGEERPIRWPETCPECGHRL\n",
      "Downloading PDB file 1vf5...\n"
     ]
    },
    {
     "name": "stderr",
     "output_type": "stream",
     "text": [
      "100 1371k    0 1371k    0     0   792k      0 --:--:--  0:00:01 --:--:--  792k\n",
      "  % Total    % Received % Xferd  Average Speed   Time    Time     Time  Current\n",
      "                                 Dload  Upload   Total   Spent    Left  Speed\n",
      "  0     0    0     0    0     0      0      0 --:--:-- --:--:-- --:--:--     0"
     ]
    },
    {
     "name": "stdout",
     "output_type": "stream",
     "text": [
      "IPPSGGAVGGGTTAKDKLGNNVK\n",
      "Downloading PDB file 1vhk...\n"
     ]
    },
    {
     "name": "stderr",
     "output_type": "stream",
     "text": [
      "100  613k    0  613k    0     0   452k      0 --:--:--  0:00:01 --:--:--  452k\n",
      "  % Total    % Received % Xferd  Average Speed   Time    Time     Time  Current\n",
      "                                 Dload  Upload   Total   Spent    Left  Speed\n",
      "  0     0    0     0    0     0      0      0 --:--:-- --:--:-- --:--:--     0"
     ]
    },
    {
     "name": "stdout",
     "output_type": "stream",
     "text": [
      "TNENRELPI\n",
      "Downloading PDB file 1vio...\n"
     ]
    },
    {
     "name": "stderr",
     "output_type": "stream",
     "text": [
      "100  374k    0  374k    0     0   266k      0 --:--:--  0:00:01 --:--:--  266k\n",
      "  % Total    % Received % Xferd  Average Speed   Time    Time     Time  Current\n",
      "                                 Dload  Upload   Total   Spent    Left  Speed\n",
      "  0     0    0     0    0     0      0      0 --:--:-- --:--:-- --:--:--     0"
     ]
    },
    {
     "name": "stdout",
     "output_type": "stream",
     "text": [
      "LTWIEEGQ\n",
      "Downloading PDB file 1vj5...\n"
     ]
    },
    {
     "name": "stderr",
     "output_type": "stream",
     "text": [
      "100  416k    0  416k    0     0   294k      0 --:--:--  0:00:01 --:--:--  293k\n",
      "  % Total    % Received % Xferd  Average Speed   Time    Time     Time  Current\n",
      "                                 Dload  Upload   Total   Spent    Left  Speed\n",
      "  0     0    0     0    0     0      0      0 --:--:-- --:--:-- --:--:--     0"
     ]
    },
    {
     "name": "stdout",
     "output_type": "stream",
     "text": [
      "GIQLLNTPAPLPTSCN\n",
      "Downloading PDB file 1vyv...\n"
     ]
    },
    {
     "name": "stderr",
     "output_type": "stream",
     "text": [
      "100  402k    0  402k    0     0   276k      0 --:--:--  0:00:01 --:--:--  276k\n",
      "  % Total    % Received % Xferd  Average Speed   Time    Time     Time  Current\n",
      "                                 Dload  Upload   Total   Spent    Left  Speed\n",
      "  0     0    0     0    0     0      0      0 --:--:-- --:--:-- --:--:--     0"
     ]
    },
    {
     "name": "stdout",
     "output_type": "stream",
     "text": [
      "PSXRP\n",
      "Downloading PDB file 1vz0...\n"
     ]
    },
    {
     "name": "stderr",
     "output_type": "stream",
     "text": [
      "100 1108k    0 1108k    0     0   671k      0 --:--:--  0:00:01 --:--:--  671k\n",
      "  % Total    % Received % Xferd  Average Speed   Time    Time     Time  Current\n",
      "                                 Dload  Upload   Total   Spent    Left  Speed\n",
      "  0     0    0     0    0     0      0      0 --:--:-- --:--:-- --:--:--     0"
     ]
    },
    {
     "name": "stdout",
     "output_type": "stream",
     "text": [
      "LQREDLS\n",
      "Downloading PDB file 1wd3...\n"
     ]
    },
    {
     "name": "stderr",
     "output_type": "stream",
     "text": [
      "100  348k    0  348k    0     0   200k      0 --:--:--  0:00:01 --:--:--  200k\n",
      "  % Total    % Received % Xferd  Average Speed   Time    Time     Time  Current\n",
      "                                 Dload  Upload   Total   Spent    Left  Speed\n",
      "  0     0    0     0    0     0      0      0 --:--:-- --:--:-- --:--:--     0"
     ]
    },
    {
     "name": "stdout",
     "output_type": "stream",
     "text": [
      "GSLVSGPSFTSGE\n",
      "Downloading PDB file 1x86...\n"
     ]
    },
    {
     "name": "stderr",
     "output_type": "stream",
     "text": [
      "100 1451k    0 1451k    0     0   857k      0 --:--:--  0:00:01 --:--:--  857k\n",
      "  % Total    % Received % Xferd  Average Speed   Time    Time     Time  Current\n",
      "                                 Dload  Upload   Total   Spent    Left  Speed\n",
      "  0     0    0     0    0     0      0      0 --:--:-- --:--:-- --:--:--     0"
     ]
    },
    {
     "name": "stdout",
     "output_type": "stream",
     "text": [
      "RRLLTKRKMIHEGPLVWDLYTLLLEDILVLLQKQDDRLVVIKLSTVL\n",
      "Downloading PDB file 1xcb...\n"
     ]
    },
    {
     "name": "stderr",
     "output_type": "stream",
     "text": [
      "100  989k    0  989k    0     0   535k      0 --:--:--  0:00:01 --:--:--  535k\n",
      "  % Total    % Received % Xferd  Average Speed   Time    Time     Time  Current\n",
      "                                 Dload  Upload   Total   Spent    Left  Speed\n",
      "  0     0    0     0    0     0      0      0 --:--:-- --:--:-- --:--:--     0"
     ]
    },
    {
     "name": "stdout",
     "output_type": "stream",
     "text": [
      "LGLNRK\n",
      "Downloading PDB file 1xpa...\n"
     ]
    },
    {
     "name": "stderr",
     "output_type": "stream",
     "text": [
      "100  166k    0  166k    0     0   131k      0 --:--:--  0:00:01 --:--:--  131k\n",
      "  % Total    % Received % Xferd  Average Speed   Time    Time     Time  Current\n",
      "                                 Dload  Upload   Total   Spent    Left  Speed\n",
      "  0     0    0     0    0     0      0      0 --:--:-- --:--:-- --:--:--     0"
     ]
    },
    {
     "name": "stdout",
     "output_type": "stream",
     "text": [
      "Downloading PDB file 1ytf...\n"
     ]
    },
    {
     "name": "stderr",
     "output_type": "stream",
     "text": [
      "100  325k    0  325k    0     0   241k      0 --:--:--  0:00:01 --:--:--  241k\n",
      "  % Total    % Received % Xferd  Average Speed   Time    Time     Time  Current\n",
      "                                 Dload  Upload   Total   Spent    Left  Speed\n",
      "100  195k    0  195k    0     0  2426k      0 --:--:-- --:--:-- --:--:-- 2449k\n",
      "  % Total    % Received % Xferd  Average Speed   Time    Time     Time  Current\n",
      "                                 Dload  Upload   Total   Spent    Left  Speed\n",
      "  0     0    0     0    0     0      0      0 --:--:-- --:--:-- --:--:--     0"
     ]
    },
    {
     "name": "stdout",
     "output_type": "stream",
     "text": [
      "NTQS\n",
      "Downloading PDB file 1zme...\n",
      "SNAICEYLEPSK\n",
      "Downloading PDB file 1zxq...\n"
     ]
    },
    {
     "name": "stderr",
     "output_type": "stream",
     "text": [
      "100  188k    0  188k    0     0   153k      0 --:--:--  0:00:01 --:--:--  153k\n",
      "  % Total    % Received % Xferd  Average Speed   Time    Time     Time  Current\n",
      "                                 Dload  Upload   Total   Spent    Left  Speed\n",
      "  0     0    0     0    0     0      0      0 --:--:-- --:--:-- --:--:--     0"
     ]
    },
    {
     "name": "stdout",
     "output_type": "stream",
     "text": [
      "Downloading PDB file 2atc...\n"
     ]
    },
    {
     "name": "stderr",
     "output_type": "stream",
     "text": [
      "100  322k    0  322k    0     0   242k      0 --:--:--  0:00:01 --:--:--  242k\n",
      "  % Total    % Received % Xferd  Average Speed   Time    Time     Time  Current\n",
      "                                 Dload  Upload   Total   Spent    Left  Speed\n",
      "  0     0    0     0    0     0      0      0 --:--:-- --:--:-- --:--:--     0"
     ]
    },
    {
     "name": "stdout",
     "output_type": "stream",
     "text": [
      "YAPQATVNRINDYEVVGKSRPSLPERNIDVLVCPDSNCISHAEPVSSSFA\n",
      "Downloading PDB file 2bb2...\n"
     ]
    },
    {
     "name": "stderr",
     "output_type": "stream",
     "text": [
      "100  162k    0  162k    0     0   134k      0 --:--:--  0:00:01 --:--:--  134k\n",
      "  % Total    % Received % Xferd  Average Speed   Time    Time     Time  Current\n",
      "                                 Dload  Upload   Total   Spent    Left  Speed\n",
      "  0     0    0     0    0     0      0      0 --:--:-- --:--:-- --:--:--     0"
     ]
    },
    {
     "name": "stdout",
     "output_type": "stream",
     "text": [
      "Downloading PDB file 2cwg...\n"
     ]
    },
    {
     "name": "stderr",
     "output_type": "stream",
     "text": [
      "100  294k    0  294k    0     0   217k      0 --:--:--  0:00:01 --:--:--  217k\n",
      "  % Total    % Received % Xferd  Average Speed   Time    Time     Time  Current\n",
      "                                 Dload  Upload   Total   Spent    Left  Speed\n",
      "  0     0    0     0    0     0      0      0 --:--:-- --:--:-- --:--:--     0"
     ]
    },
    {
     "name": "stdout",
     "output_type": "stream",
     "text": [
      "RADIK\n",
      "STDKP\n",
      "Downloading PDB file 2eia...\n"
     ]
    },
    {
     "name": "stderr",
     "output_type": "stream",
     "text": [
      "100  309k    0  309k    0     0   245k      0 --:--:--  0:00:01 --:--:--  245k\n",
      "  % Total    % Received % Xferd  Average Speed   Time    Time     Time  Current\n",
      "                                 Dload  Upload   Total   Spent    Left  Speed\n",
      "  0     0    0     0    0     0      0      0 --:--:-- --:--:-- --:--:--     0"
     ]
    },
    {
     "name": "stdout",
     "output_type": "stream",
     "text": [
      "IGKPKAQNIRQGAKEP\n",
      "Downloading PDB file 2pia...\n"
     ]
    },
    {
     "name": "stderr",
     "output_type": "stream",
     "text": [
      "100  251k    0  251k    0     0   195k      0 --:--:--  0:00:01 --:--:--  195k\n",
      "  % Total    % Received % Xferd  Average Speed   Time    Time     Time  Current\n",
      "                                 Dload  Upload   Total   Spent    Left  Speed\n",
      "  0     0    0     0    0     0      0      0 --:--:-- --:--:-- --:--:--     0"
     ]
    },
    {
     "name": "stdout",
     "output_type": "stream",
     "text": [
      "Downloading PDB file 2sli...\n"
     ]
    },
    {
     "name": "stderr",
     "output_type": "stream",
     "text": [
      "100  499k    0  499k    0     0   328k      0 --:--:--  0:00:01 --:--:--  328k\n",
      "  % Total    % Received % Xferd  Average Speed   Time    Time     Time  Current\n",
      "                                 Dload  Upload   Total   Spent    Left  Speed\n",
      "  0     0    0     0    0     0      0      0 --:--:-- --:--:-- --:--:--     0"
     ]
    },
    {
     "name": "stdout",
     "output_type": "stream",
     "text": [
      "Downloading PDB file 3pro...\n"
     ]
    },
    {
     "name": "stderr",
     "output_type": "stream",
     "text": [
      "100  477k    0  477k    0     0   318k      0 --:--:--  0:00:01 --:--:--  318k\n",
      "  % Total    % Received % Xferd  Average Speed   Time    Time     Time  Current\n",
      "                                 Dload  Upload   Total   Spent    Left  Speed\n",
      "  0     0    0     0    0     0      0      0 --:--:-- --:--:-- --:--:--     0"
     ]
    },
    {
     "name": "stdout",
     "output_type": "stream",
     "text": [
      "VRYS\n",
      "Downloading PDB file 4crx...\n"
     ]
    },
    {
     "name": "stderr",
     "output_type": "stream",
     "text": [
      "100  601k    0  601k    0     0   396k      0 --:--:--  0:00:01 --:--:--  396k\n",
      "  % Total    % Received % Xferd  Average Speed   Time    Time     Time  Current\n",
      "                                 Dload  Upload   Total   Spent    Left  Speed\n",
      "  0     0    0     0    0     0      0      0 --:--:-- --:--:-- --:--:--     0"
     ]
    },
    {
     "name": "stdout",
     "output_type": "stream",
     "text": [
      "AGERAKQALAFE\n",
      "Downloading PDB file 6pax...\n"
     ]
    },
    {
     "name": "stderr",
     "output_type": "stream",
     "text": [
      "  0     0    0     0    0     0      0      0 --:--:--  0:00:01 --:--:--     0"
     ]
    },
    {
     "name": "stdout",
     "output_type": "stream",
     "text": [
      "GSIRPRAIGGSKPRVAT\n"
     ]
    },
    {
     "name": "stderr",
     "output_type": "stream",
     "text": [
      "100  230k    0  230k    0     0   173k      0 --:--:--  0:00:01 --:--:--  173k\n"
     ]
    }
   ],
   "source": [
    "df_dsAll = load_tab(path_dsAll_tab)\n",
    "list_aa = []\n",
    "\n",
    "for idx, row in df_dsAll.iterrows():\n",
    "    \n",
    "    # Example of using the function:\n",
    "    pdb_id = row['PDBID']\n",
    "    start = row['START']\n",
    "    end = row['END']\n",
    "    chain_id = row['chain']\n",
    "    try:\n",
    "        amino_acids = get_amino_acids_for_region(pdb_id, start, end, chain_id)\n",
    "        list_aa.append(amino_acids)\n",
    "    except:\n",
    "        list_aa.append('')\n",
    "        continue\n",
    "    print(amino_acids)"
   ]
  },
  {
   "cell_type": "code",
   "execution_count": 20,
   "id": "ced0a2c5",
   "metadata": {},
   "outputs": [],
   "source": [
    "df_dsAll['region'] = list_aa\n",
    "save_tab(df_dsAll, path_dsAll_tab)"
   ]
  },
  {
   "cell_type": "code",
   "execution_count": 19,
   "id": "dee47314",
   "metadata": {},
   "outputs": [
    {
     "data": {
      "text/plain": [
       "(24, 7)"
      ]
     },
     "execution_count": 19,
     "metadata": {},
     "output_type": "execute_result"
    }
   ],
   "source": [
    "df_dsAll[df_dsAll['region']==''].shape"
   ]
  },
  {
   "cell_type": "code",
   "execution_count": null,
   "id": "2b3a3f8c",
   "metadata": {},
   "outputs": [],
   "source": []
  }
 ],
 "metadata": {
  "kernelspec": {
   "display_name": "py12",
   "language": "python",
   "name": "python3"
  },
  "language_info": {
   "codemirror_mode": {
    "name": "ipython",
    "version": 3
   },
   "file_extension": ".py",
   "mimetype": "text/x-python",
   "name": "python",
   "nbconvert_exporter": "python",
   "pygments_lexer": "ipython3",
   "version": "3.12.2"
  }
 },
 "nbformat": 4,
 "nbformat_minor": 5
}
