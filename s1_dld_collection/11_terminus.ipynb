{
 "cells": [
  {
   "cell_type": "code",
   "execution_count": 1,
   "id": "db9428cd-1b32-40b3-a93f-c9e6dc41a7a3",
   "metadata": {},
   "outputs": [],
   "source": [
    "import os\n",
    "import pandas as pd\n",
    "import numpy as np\n",
    "\n",
    "import matplotlib.pyplot as plt\n",
    "import seaborn as sns\n",
    "\n",
    "from Bio.PDB import MMCIFParser, FastMMCIFParser\n",
    "from Bio.PDB.MMCIF2Dict import MMCIF2Dict\n",
    "from Bio.PDB.DSSP import DSSP\n",
    "from Bio.PDB import PDBList\n",
    "from Bio.SeqUtils import IUPACData\n",
    "\n",
    "from loop.pdb_files import get_PDBfiles, parse_mmcif\n",
    "from loop.dssp import generate_pdp_chain_pairs\n",
    "from utils.common import load_tab, save_tab, dump_dicts2jsons, lower_pdbid, read_json2dict, dump_dict2json\n",
    "from utils.protein import protein_letters_3to1\n",
    "\n",
    "from utils.loops import print_loop_count\n",
    "\n",
    "from domain_linker.cc_contact import contact, getCoords\n",
    "from domain_linker.extract_linkers import get_2domain_start_end\n",
    "from domain_linker.hbond import check_2Hbond\n",
    "from params import *\n"
   ]
  },
  {
   "cell_type": "markdown",
   "id": "a7b56822",
   "metadata": {},
   "source": [
    "for adding N- or C- terminus information. we don't need this."
   ]
  },
  {
   "cell_type": "markdown",
   "id": "84ab2da0-d9d3-4340-a8f6-f0661a4a8f63",
   "metadata": {},
   "source": [
    "# Functions"
   ]
  },
  {
   "cell_type": "code",
   "execution_count": 2,
   "id": "6abb72f1-1d75-4715-bfae-c2098c2858f7",
   "metadata": {},
   "outputs": [],
   "source": [
    "def bin_count(df_independent, bins: list):\n",
    "    loop_length = list(df_independent['length'])\n",
    "    \n",
    "    cls = [np.round(np.random.rand(),1), np.round(np.random.rand(),1),np.round(np.random.rand(),1), 0.8]\n",
    "    print(cls)\n",
    "    plt.figure(figsize=(12, 6))\n",
    "    counts, edges, bars = plt.hist(loop_length, bins=bins, color=cls)\n",
    "    \n",
    "    return counts, loop_length, edges"
   ]
  },
  {
   "cell_type": "markdown",
   "id": "88fb1ed5-9499-48e8-b30f-9e8572a48435",
   "metadata": {},
   "source": [
    "# generate intraDomainLoops table -- skippable"
   ]
  },
  {
   "cell_type": "code",
   "execution_count": 4,
   "id": "687c2c92-14ef-4111-9302-dd348c861a4b",
   "metadata": {},
   "outputs": [],
   "source": [
    "dict_terminus = read_json2dict(path_terminus)"
   ]
  },
  {
   "cell_type": "code",
   "execution_count": 5,
   "id": "c80ba411-ebfc-44d1-a9e5-c0ebfa149cf2",
   "metadata": {},
   "outputs": [
    {
     "data": {
      "text/plain": [
       "'\\ndf_domain_loops_dist_smoothSS_second = load_tab(path_loops_domain_dist_hbond_contact_smoothSS_second)\\n\\nt_contact = 4\\nt_hbond = 3\\n\\ndf_independent_2step, df_dependent_2step, df_contact_t_2step = clasify_interDomainLinker(df_domain_loops_dist_smoothSS_second, t_contact, t_hbond)\\n'"
      ]
     },
     "execution_count": 5,
     "metadata": {},
     "output_type": "execute_result"
    }
   ],
   "source": [
    "'''\n",
    "df_domain_loops_dist_smoothSS_second = load_tab(path_loops_domain_dist_hbond_contact_smoothSS_second)\n",
    "\n",
    "t_contact = 4\n",
    "t_hbond = 3\n",
    "\n",
    "df_independent_2step, df_dependent_2step, df_contact_t_2step = clasify_interDomainLinker(df_domain_loops_dist_smoothSS_second, t_contact, t_hbond)\n",
    "'''"
   ]
  },
  {
   "cell_type": "code",
   "execution_count": 6,
   "id": "b7bf4274-b7f1-428a-aeed-95f2be65e238",
   "metadata": {},
   "outputs": [],
   "source": [
    "# loops_intra_domain_2step"
   ]
  },
  {
   "cell_type": "code",
   "execution_count": 5,
   "id": "1cb0bf8a-c196-461b-b561-e1a4b4442305",
   "metadata": {},
   "outputs": [],
   "source": [
    "df_terminus = pd.DataFrame()\n",
    "\n",
    "for pdb_chainid_unp, loops in dict_terminus.items():\n",
    "    df_loops = pd.json_normalize(loops)\n",
    "    df_loops['pdbid'] = pdb_chainid_unp.split('_')[0].upper()\n",
    "    df_loops['chain'] = pdb_chainid_unp.split('_')[1].upper()\n",
    "    df_terminus = pd.concat([df_terminus, df_loops], axis=0, ignore_index=True)"
   ]
  },
  {
   "cell_type": "code",
   "execution_count": 6,
   "id": "0609a7eb-e5a2-45a2-afb4-8c1524d73902",
   "metadata": {},
   "outputs": [
    {
     "name": "stdout",
     "output_type": "stream",
     "text": [
      "2994\n"
     ]
    },
    {
     "data": {
      "text/plain": [
       "Index(['start', 'end', 'seq_id', 'start_unp', 'end_unp', 'seq_id_unp', 'seq',\n",
       "       'seq_unp', 'dssp_key_str', 'missing', 'miss_length', 'miss_percentage',\n",
       "       'unp_acc', 'length', 'terminu', 'pdbid', 'chain'],\n",
       "      dtype='object')"
      ]
     },
     "execution_count": 6,
     "metadata": {},
     "output_type": "execute_result"
    }
   ],
   "source": [
    "print(df_terminus.shape[0])\n",
    "df_terminus.columns\n"
   ]
  },
  {
   "cell_type": "code",
   "execution_count": 7,
   "id": "dee07eb8-4dac-4b57-865a-89e0fd54ff7d",
   "metadata": {},
   "outputs": [
    {
     "data": {
      "text/html": [
       "<div>\n",
       "<style scoped>\n",
       "    .dataframe tbody tr th:only-of-type {\n",
       "        vertical-align: middle;\n",
       "    }\n",
       "\n",
       "    .dataframe tbody tr th {\n",
       "        vertical-align: top;\n",
       "    }\n",
       "\n",
       "    .dataframe thead th {\n",
       "        text-align: right;\n",
       "    }\n",
       "</style>\n",
       "<table border=\"1\" class=\"dataframe\">\n",
       "  <thead>\n",
       "    <tr style=\"text-align: right;\">\n",
       "      <th></th>\n",
       "      <th>start</th>\n",
       "      <th>end</th>\n",
       "      <th>seq_id</th>\n",
       "      <th>start_unp</th>\n",
       "      <th>end_unp</th>\n",
       "      <th>seq_id_unp</th>\n",
       "      <th>seq</th>\n",
       "      <th>seq_unp</th>\n",
       "      <th>dssp_key_str</th>\n",
       "      <th>missing</th>\n",
       "      <th>miss_length</th>\n",
       "      <th>miss_percentage</th>\n",
       "      <th>unp_acc</th>\n",
       "      <th>length</th>\n",
       "      <th>terminu</th>\n",
       "      <th>pdbid</th>\n",
       "      <th>chain</th>\n",
       "    </tr>\n",
       "  </thead>\n",
       "  <tbody>\n",
       "    <tr>\n",
       "      <th>1403</th>\n",
       "      <td>1</td>\n",
       "      <td>5</td>\n",
       "      <td>[1, 2, 3, 4, 5]</td>\n",
       "      <td>1</td>\n",
       "      <td>5</td>\n",
       "      <td>[1, 2, 3, 4, 5]</td>\n",
       "      <td>[M, S, N, T, K]</td>\n",
       "      <td>[M, S, N, T, K]</td>\n",
       "      <td>[A_1_ , A_2_ , A_3_ , A_4_ , A_5_ ]</td>\n",
       "      <td>[1, 1, 1, 1, 0]</td>\n",
       "      <td>4</td>\n",
       "      <td>0.8</td>\n",
       "      <td>Q56185</td>\n",
       "      <td>5</td>\n",
       "      <td>N</td>\n",
       "      <td>2BNM</td>\n",
       "      <td>A</td>\n",
       "    </tr>\n",
       "  </tbody>\n",
       "</table>\n",
       "</div>"
      ],
      "text/plain": [
       "      start  end           seq_id  start_unp  end_unp       seq_id_unp  \\\n",
       "1403      1    5  [1, 2, 3, 4, 5]          1        5  [1, 2, 3, 4, 5]   \n",
       "\n",
       "                  seq          seq_unp                         dssp_key_str  \\\n",
       "1403  [M, S, N, T, K]  [M, S, N, T, K]  [A_1_ , A_2_ , A_3_ , A_4_ , A_5_ ]   \n",
       "\n",
       "              missing  miss_length  miss_percentage unp_acc  length terminu  \\\n",
       "1403  [1, 1, 1, 1, 0]            4              0.8  Q56185       5       N   \n",
       "\n",
       "     pdbid chain  \n",
       "1403  2BNM     A  "
      ]
     },
     "execution_count": 7,
     "metadata": {},
     "output_type": "execute_result"
    }
   ],
   "source": [
    "df_terminus[df_terminus['pdbid']=='2BNM']"
   ]
  },
  {
   "cell_type": "code",
   "execution_count": 8,
   "id": "40db9536-a269-4aa0-aa5d-0ab17706d513",
   "metadata": {},
   "outputs": [],
   "source": [
    "df_terminus['seq'] = [' '.join(seq) for seq in df_terminus['seq']]\n",
    "df_terminus['seq_unp'] = [' '.join(seq) for seq in df_terminus['seq_unp']]"
   ]
  },
  {
   "cell_type": "markdown",
   "id": "47037524-f64a-4bed-8942-72e7fb8444a1",
   "metadata": {},
   "source": [
    "## Update terminu info\n",
    "- Add uniprot length info\n",
    "- to check if the terminu is:\n",
    "  C/N/intra-domain loops"
   ]
  },
  {
   "cell_type": "markdown",
   "id": "bfd43f0b-3690-4cf0-93ff-27e54b20db1a",
   "metadata": {},
   "source": [
    "**Get Uniprot sequence info**"
   ]
  },
  {
   "cell_type": "code",
   "execution_count": 9,
   "id": "1f0b1f3c-f84e-456d-94b8-aacfe5c953a9",
   "metadata": {},
   "outputs": [
    {
     "data": {
      "text/html": [
       "<div>\n",
       "<style scoped>\n",
       "    .dataframe tbody tr th:only-of-type {\n",
       "        vertical-align: middle;\n",
       "    }\n",
       "\n",
       "    .dataframe tbody tr th {\n",
       "        vertical-align: top;\n",
       "    }\n",
       "\n",
       "    .dataframe thead th {\n",
       "        text-align: right;\n",
       "    }\n",
       "</style>\n",
       "<table border=\"1\" class=\"dataframe\">\n",
       "  <thead>\n",
       "    <tr style=\"text-align: right;\">\n",
       "      <th></th>\n",
       "      <th>acc</th>\n",
       "      <th>len_seq_unp</th>\n",
       "    </tr>\n",
       "  </thead>\n",
       "  <tbody>\n",
       "    <tr>\n",
       "      <th>0</th>\n",
       "      <td>P0AF28</td>\n",
       "      <td>216</td>\n",
       "    </tr>\n",
       "    <tr>\n",
       "      <th>1</th>\n",
       "      <td>P00969</td>\n",
       "      <td>359</td>\n",
       "    </tr>\n",
       "  </tbody>\n",
       "</table>\n",
       "</div>"
      ],
      "text/plain": [
       "      acc  len_seq_unp\n",
       "0  P0AF28          216\n",
       "1  P00969          359"
      ]
     },
     "execution_count": 9,
     "metadata": {},
     "output_type": "execute_result"
    }
   ],
   "source": [
    "df_pdbUniMap = load_tab(path_idxMap_pdb_chain_unp)\n",
    "df_len_uniprot = df_pdbUniMap.loc[:, ['acc', 'len_seq_unp']]\n",
    "df_len_uniprot = df_len_uniprot.drop_duplicates()\n",
    "df_len_uniprot[:2]"
   ]
  },
  {
   "cell_type": "code",
   "execution_count": 10,
   "id": "41ea465a-c0fb-42e3-b8e9-45448c52ecdf",
   "metadata": {},
   "outputs": [
    {
     "data": {
      "text/plain": [
       "(2631, 2)"
      ]
     },
     "execution_count": 10,
     "metadata": {},
     "output_type": "execute_result"
    }
   ],
   "source": [
    "df_len_uniprot.shape"
   ]
  },
  {
   "cell_type": "markdown",
   "id": "13164670-2a0c-4eec-bca7-70378534150c",
   "metadata": {},
   "source": [
    "**Get Uniprot & PDB chain sequence mapping, residue level: 1vs1**"
   ]
  },
  {
   "cell_type": "code",
   "execution_count": 11,
   "id": "ebc9d320-013f-40f6-b88c-072aeff54a79",
   "metadata": {
    "scrolled": true
   },
   "outputs": [],
   "source": [
    "# get the list of all pdb_chain_unp\n",
    "df_terminus['pidChainUnp'] = [f\"{r['pdbid'].lower()}_{r['chain'].lower()}_{r['unp_acc']}\" for i, r in df_terminus.iterrows()]\n",
    "\n",
    "for i, row in df_terminus.iterrows():\n",
    "    pidChainUnp = row['pidChainUnp']\n",
    "    # get chain information\n",
    "    df_chain = pd.read_json(os.path.join(path_dssp_full_uniprot_chainid, f'{pidChainUnp}.json'))\n",
    "    \n",
    "    # get sequence start and end index (normal index in python, sequence index start from 0)\n",
    "    unp_num = list(df_chain['unp_num'])\n",
    "    start_idx = unp_num.index(row['start_unp'])\n",
    "    end_idx = unp_num.index(row['end_unp'])\n",
    "    df_terminus.loc[i, 'id'] = f'{pidChainUnp}_{start_idx}_{end_idx}'"
   ]
  },
  {
   "cell_type": "code",
   "execution_count": 12,
   "id": "160a992d-98f4-4def-905a-c8c559e2f229",
   "metadata": {},
   "outputs": [
    {
     "data": {
      "text/html": [
       "<div>\n",
       "<style scoped>\n",
       "    .dataframe tbody tr th:only-of-type {\n",
       "        vertical-align: middle;\n",
       "    }\n",
       "\n",
       "    .dataframe tbody tr th {\n",
       "        vertical-align: top;\n",
       "    }\n",
       "\n",
       "    .dataframe thead th {\n",
       "        text-align: right;\n",
       "    }\n",
       "</style>\n",
       "<table border=\"1\" class=\"dataframe\">\n",
       "  <thead>\n",
       "    <tr style=\"text-align: right;\">\n",
       "      <th></th>\n",
       "      <th>start</th>\n",
       "      <th>end</th>\n",
       "      <th>seq_id</th>\n",
       "      <th>start_unp</th>\n",
       "      <th>end_unp</th>\n",
       "      <th>seq_id_unp</th>\n",
       "      <th>seq</th>\n",
       "      <th>seq_unp</th>\n",
       "      <th>dssp_key_str</th>\n",
       "      <th>missing</th>\n",
       "      <th>miss_length</th>\n",
       "      <th>miss_percentage</th>\n",
       "      <th>unp_acc</th>\n",
       "      <th>length</th>\n",
       "      <th>terminu</th>\n",
       "      <th>pdbid</th>\n",
       "      <th>chain</th>\n",
       "      <th>pidChainUnp</th>\n",
       "      <th>id</th>\n",
       "    </tr>\n",
       "  </thead>\n",
       "  <tbody>\n",
       "    <tr>\n",
       "      <th>0</th>\n",
       "      <td>2</td>\n",
       "      <td>6</td>\n",
       "      <td>[2, 3, 4, 5, 6]</td>\n",
       "      <td>2</td>\n",
       "      <td>6</td>\n",
       "      <td>[2, 3, 4, 5, 6]</td>\n",
       "      <td>S N Q E P</td>\n",
       "      <td>S N Q E P</td>\n",
       "      <td>[A_2_ , A_3_ , A_4_ , A_5_ , A_6_ ]</td>\n",
       "      <td>[1, 1, 1, 0, 0]</td>\n",
       "      <td>3</td>\n",
       "      <td>0.600000</td>\n",
       "      <td>P0AF28</td>\n",
       "      <td>5</td>\n",
       "      <td>N</td>\n",
       "      <td>1A04</td>\n",
       "      <td>A</td>\n",
       "      <td>1a04_a_P0AF28</td>\n",
       "      <td>1a04_a_P0AF28_0_4</td>\n",
       "    </tr>\n",
       "    <tr>\n",
       "      <th>1</th>\n",
       "      <td>1</td>\n",
       "      <td>7</td>\n",
       "      <td>[1, 2, 3, 4, 5, 6, 7]</td>\n",
       "      <td>33</td>\n",
       "      <td>39</td>\n",
       "      <td>[33, 34, 35, 36, 37, 38, 39]</td>\n",
       "      <td>A D T T G R A</td>\n",
       "      <td>A D T T G R A</td>\n",
       "      <td>[A_1_ , A_2_ , A_3_ , A_4_ , A_5_ , A_6_ , A_7_ ]</td>\n",
       "      <td>[1, 1, 1, 0, 0, 0, 0]</td>\n",
       "      <td>3</td>\n",
       "      <td>0.428571</td>\n",
       "      <td>P24055</td>\n",
       "      <td>7</td>\n",
       "      <td>N</td>\n",
       "      <td>1A21</td>\n",
       "      <td>A</td>\n",
       "      <td>1a21_a_P24055</td>\n",
       "      <td>1a21_a_P24055_0_6</td>\n",
       "    </tr>\n",
       "  </tbody>\n",
       "</table>\n",
       "</div>"
      ],
      "text/plain": [
       "   start  end                 seq_id  start_unp  end_unp  \\\n",
       "0      2    6        [2, 3, 4, 5, 6]          2        6   \n",
       "1      1    7  [1, 2, 3, 4, 5, 6, 7]         33       39   \n",
       "\n",
       "                     seq_id_unp            seq        seq_unp  \\\n",
       "0               [2, 3, 4, 5, 6]      S N Q E P      S N Q E P   \n",
       "1  [33, 34, 35, 36, 37, 38, 39]  A D T T G R A  A D T T G R A   \n",
       "\n",
       "                                        dssp_key_str                missing  \\\n",
       "0                [A_2_ , A_3_ , A_4_ , A_5_ , A_6_ ]        [1, 1, 1, 0, 0]   \n",
       "1  [A_1_ , A_2_ , A_3_ , A_4_ , A_5_ , A_6_ , A_7_ ]  [1, 1, 1, 0, 0, 0, 0]   \n",
       "\n",
       "   miss_length  miss_percentage unp_acc  length terminu pdbid chain  \\\n",
       "0            3         0.600000  P0AF28       5       N  1A04     A   \n",
       "1            3         0.428571  P24055       7       N  1A21     A   \n",
       "\n",
       "     pidChainUnp                 id  \n",
       "0  1a04_a_P0AF28  1a04_a_P0AF28_0_4  \n",
       "1  1a21_a_P24055  1a21_a_P24055_0_6  "
      ]
     },
     "execution_count": 12,
     "metadata": {},
     "output_type": "execute_result"
    }
   ],
   "source": [
    "df_terminus[:2]"
   ]
  },
  {
   "cell_type": "markdown",
   "id": "cb656c6c-28a7-47ea-a2cf-cc834cb2f01b",
   "metadata": {},
   "source": [
    "**Merge**"
   ]
  },
  {
   "cell_type": "code",
   "execution_count": 14,
   "id": "c6c83a99-bb88-4034-8e87-e23478149a3f",
   "metadata": {},
   "outputs": [],
   "source": [
    "df_terminus = df_terminus.merge(df_len_uniprot, left_on='unp_acc', right_on='acc', how='left')"
   ]
  },
  {
   "cell_type": "code",
   "execution_count": 15,
   "id": "3c206320-1e39-4b7a-852a-b0c4186a3f80",
   "metadata": {},
   "outputs": [],
   "source": [
    "df_terminus = df_terminus.drop(columns=['acc'])"
   ]
  },
  {
   "cell_type": "code",
   "execution_count": 16,
   "id": "39b83047-85da-4494-9517-75f817792344",
   "metadata": {},
   "outputs": [
    {
     "data": {
      "text/html": [
       "<div>\n",
       "<style scoped>\n",
       "    .dataframe tbody tr th:only-of-type {\n",
       "        vertical-align: middle;\n",
       "    }\n",
       "\n",
       "    .dataframe tbody tr th {\n",
       "        vertical-align: top;\n",
       "    }\n",
       "\n",
       "    .dataframe thead th {\n",
       "        text-align: right;\n",
       "    }\n",
       "</style>\n",
       "<table border=\"1\" class=\"dataframe\">\n",
       "  <thead>\n",
       "    <tr style=\"text-align: right;\">\n",
       "      <th></th>\n",
       "      <th>start</th>\n",
       "      <th>end</th>\n",
       "      <th>seq_id</th>\n",
       "      <th>start_unp</th>\n",
       "      <th>end_unp</th>\n",
       "      <th>seq_id_unp</th>\n",
       "      <th>seq</th>\n",
       "      <th>seq_unp</th>\n",
       "      <th>dssp_key_str</th>\n",
       "      <th>missing</th>\n",
       "      <th>miss_length</th>\n",
       "      <th>miss_percentage</th>\n",
       "      <th>unp_acc</th>\n",
       "      <th>length</th>\n",
       "      <th>terminu</th>\n",
       "      <th>pdbid</th>\n",
       "      <th>chain</th>\n",
       "      <th>pidChainUnp</th>\n",
       "      <th>id</th>\n",
       "      <th>len_seq_unp</th>\n",
       "    </tr>\n",
       "  </thead>\n",
       "  <tbody>\n",
       "    <tr>\n",
       "      <th>0</th>\n",
       "      <td>2</td>\n",
       "      <td>6</td>\n",
       "      <td>[2, 3, 4, 5, 6]</td>\n",
       "      <td>2</td>\n",
       "      <td>6</td>\n",
       "      <td>[2, 3, 4, 5, 6]</td>\n",
       "      <td>S N Q E P</td>\n",
       "      <td>S N Q E P</td>\n",
       "      <td>[A_2_ , A_3_ , A_4_ , A_5_ , A_6_ ]</td>\n",
       "      <td>[1, 1, 1, 0, 0]</td>\n",
       "      <td>3</td>\n",
       "      <td>0.600000</td>\n",
       "      <td>P0AF28</td>\n",
       "      <td>5</td>\n",
       "      <td>Intra</td>\n",
       "      <td>1A04</td>\n",
       "      <td>A</td>\n",
       "      <td>1a04_a_P0AF28</td>\n",
       "      <td>1a04_a_P0AF28_0_4</td>\n",
       "      <td>216</td>\n",
       "    </tr>\n",
       "    <tr>\n",
       "      <th>1</th>\n",
       "      <td>1</td>\n",
       "      <td>7</td>\n",
       "      <td>[1, 2, 3, 4, 5, 6, 7]</td>\n",
       "      <td>33</td>\n",
       "      <td>39</td>\n",
       "      <td>[33, 34, 35, 36, 37, 38, 39]</td>\n",
       "      <td>A D T T G R A</td>\n",
       "      <td>A D T T G R A</td>\n",
       "      <td>[A_1_ , A_2_ , A_3_ , A_4_ , A_5_ , A_6_ , A_7_ ]</td>\n",
       "      <td>[1, 1, 1, 0, 0, 0, 0]</td>\n",
       "      <td>3</td>\n",
       "      <td>0.428571</td>\n",
       "      <td>P24055</td>\n",
       "      <td>7</td>\n",
       "      <td>Intra</td>\n",
       "      <td>1A21</td>\n",
       "      <td>A</td>\n",
       "      <td>1a21_a_P24055</td>\n",
       "      <td>1a21_a_P24055_0_6</td>\n",
       "      <td>292</td>\n",
       "    </tr>\n",
       "  </tbody>\n",
       "</table>\n",
       "</div>"
      ],
      "text/plain": [
       "   start  end                 seq_id  start_unp  end_unp  \\\n",
       "0      2    6        [2, 3, 4, 5, 6]          2        6   \n",
       "1      1    7  [1, 2, 3, 4, 5, 6, 7]         33       39   \n",
       "\n",
       "                     seq_id_unp            seq        seq_unp  \\\n",
       "0               [2, 3, 4, 5, 6]      S N Q E P      S N Q E P   \n",
       "1  [33, 34, 35, 36, 37, 38, 39]  A D T T G R A  A D T T G R A   \n",
       "\n",
       "                                        dssp_key_str                missing  \\\n",
       "0                [A_2_ , A_3_ , A_4_ , A_5_ , A_6_ ]        [1, 1, 1, 0, 0]   \n",
       "1  [A_1_ , A_2_ , A_3_ , A_4_ , A_5_ , A_6_ , A_7_ ]  [1, 1, 1, 0, 0, 0, 0]   \n",
       "\n",
       "   miss_length  miss_percentage unp_acc  length terminu pdbid chain  \\\n",
       "0            3         0.600000  P0AF28       5   Intra  1A04     A   \n",
       "1            3         0.428571  P24055       7   Intra  1A21     A   \n",
       "\n",
       "     pidChainUnp                 id  len_seq_unp  \n",
       "0  1a04_a_P0AF28  1a04_a_P0AF28_0_4          216  \n",
       "1  1a21_a_P24055  1a21_a_P24055_0_6          292  "
      ]
     },
     "execution_count": 16,
     "metadata": {},
     "output_type": "execute_result"
    }
   ],
   "source": [
    "df_terminus.loc[:, 'terminu'] = 'Intra'\n",
    "df_terminus[:2]"
   ]
  },
  {
   "cell_type": "code",
   "execution_count": 17,
   "id": "9b89d77e-45c0-494f-b3c8-fb346f10a64b",
   "metadata": {},
   "outputs": [
    {
     "data": {
      "text/plain": [
       "(3189, 20)"
      ]
     },
     "execution_count": 17,
     "metadata": {},
     "output_type": "execute_result"
    }
   ],
   "source": [
    "df_terminus.shape"
   ]
  },
  {
   "cell_type": "markdown",
   "id": "70cf4348-2476-4d3a-ab3d-602a511302e5",
   "metadata": {},
   "source": [
    "**update terminus**"
   ]
  },
  {
   "cell_type": "code",
   "execution_count": 18,
   "id": "075fd5fa-ba51-49c5-8017-56b980ec4d34",
   "metadata": {},
   "outputs": [],
   "source": [
    "df_terminus.loc[df_terminus['start_unp']<=3, 'terminu'] = 'N'\n",
    "df_terminus.loc[[r['end_unp']>=(r['len_seq_unp']-3) for i, r in df_terminus.iterrows()], 'terminu'] = 'C'"
   ]
  },
  {
   "cell_type": "code",
   "execution_count": 19,
   "id": "f2f2983c-8272-4ce1-a015-46d57e6b63d4",
   "metadata": {},
   "outputs": [],
   "source": [
    "# df_terminus.loc[[r['end_unp']>(r['len_seq_unp']-5) for i, r in df_terminus.iterrows()]]"
   ]
  },
  {
   "cell_type": "code",
   "execution_count": 20,
   "id": "51766ac4-3682-43bf-bd7c-ff7247701e9e",
   "metadata": {},
   "outputs": [
    {
     "name": "stdout",
     "output_type": "stream",
     "text": [
      "C-terminu: 875\n",
      "N-terminu: 734\n",
      "Intra-sequence loops: 1580\n"
     ]
    }
   ],
   "source": [
    "print(f\"C-terminu: {df_terminus.loc[df_terminus['terminu'] == 'C'].shape[0]}\")\n",
    "print(f\"N-terminu: {df_terminus.loc[df_terminus['terminu'] == 'N'].shape[0]}\")\n",
    "print(f\"Intra-sequence loops: {df_terminus.loc[df_terminus['terminu'] == 'Intra'].shape[0]}\")"
   ]
  },
  {
   "cell_type": "code",
   "execution_count": 21,
   "id": "0e4e9daf",
   "metadata": {},
   "outputs": [
    {
     "data": {
      "text/plain": [
       "(3189, 20)"
      ]
     },
     "execution_count": 21,
     "metadata": {},
     "output_type": "execute_result"
    }
   ],
   "source": [
    "df_terminus.shape"
   ]
  },
  {
   "cell_type": "markdown",
   "id": "8564c757-d227-42f8-8e5c-8147a27be05b",
   "metadata": {},
   "source": [
    "## save result"
   ]
  },
  {
   "cell_type": "code",
   "execution_count": 22,
   "id": "f290cf55-c5f6-41c5-afcd-2824ffc1e658",
   "metadata": {},
   "outputs": [],
   "source": [
    "path_terminus_tab = os.path.join(path_loops, 'final/terminus.tsv')\n",
    "save_tab(df_terminus, path_terminus_tab)"
   ]
  },
  {
   "cell_type": "markdown",
   "id": "c7afd20e-50bb-4eeb-b2bd-dbad4944a69d",
   "metadata": {
    "jp-MarkdownHeadingCollapsed": true
   },
   "source": [
    "# Plots"
   ]
  },
  {
   "cell_type": "code",
   "execution_count": 23,
   "id": "592bba12-5d5f-4c66-888b-0e9e74219006",
   "metadata": {},
   "outputs": [],
   "source": [
    "df_terminus = load_tab(path_terminus_tab)"
   ]
  },
  {
   "cell_type": "code",
   "execution_count": 24,
   "id": "803f241d-ac54-4f79-aa71-7718ed572202",
   "metadata": {},
   "outputs": [
    {
     "data": {
      "text/html": [
       "<div>\n",
       "<style scoped>\n",
       "    .dataframe tbody tr th:only-of-type {\n",
       "        vertical-align: middle;\n",
       "    }\n",
       "\n",
       "    .dataframe tbody tr th {\n",
       "        vertical-align: top;\n",
       "    }\n",
       "\n",
       "    .dataframe thead th {\n",
       "        text-align: right;\n",
       "    }\n",
       "</style>\n",
       "<table border=\"1\" class=\"dataframe\">\n",
       "  <thead>\n",
       "    <tr style=\"text-align: right;\">\n",
       "      <th></th>\n",
       "      <th>start</th>\n",
       "      <th>end</th>\n",
       "      <th>seq_id</th>\n",
       "      <th>start_unp</th>\n",
       "      <th>end_unp</th>\n",
       "      <th>seq_id_unp</th>\n",
       "      <th>seq</th>\n",
       "      <th>seq_unp</th>\n",
       "      <th>dssp_key_str</th>\n",
       "      <th>missing</th>\n",
       "      <th>miss_length</th>\n",
       "      <th>miss_percentage</th>\n",
       "      <th>unp_acc</th>\n",
       "      <th>length</th>\n",
       "      <th>terminu</th>\n",
       "      <th>pdbid</th>\n",
       "      <th>chain</th>\n",
       "      <th>pidChainUnp</th>\n",
       "      <th>id</th>\n",
       "      <th>len_seq_unp</th>\n",
       "    </tr>\n",
       "  </thead>\n",
       "  <tbody>\n",
       "    <tr>\n",
       "      <th>2962</th>\n",
       "      <td>1741</td>\n",
       "      <td>2263</td>\n",
       "      <td>[1741, 1742, 1743, 1744, 1745, 1746, 1747, 174...</td>\n",
       "      <td>1741</td>\n",
       "      <td>2263</td>\n",
       "      <td>[1741, 1742, 1743, 1744, 1745, 1746, 1747, 174...</td>\n",
       "      <td>L K Q I L S G G H K A I M Q H N A T S E Q N I ...</td>\n",
       "      <td>L K Q I L S G G H K A I M Q H N A T S E Q N I ...</td>\n",
       "      <td>['A_1741_ ', 'A_1742_ ', 'A_1743_ ', 'A_1744_ ...</td>\n",
       "      <td>[0, 0, 0, 0, 0, 1, 1, 1, 1, 1, 1, 1, 1, 1, 1, ...</td>\n",
       "      <td>518</td>\n",
       "      <td>0.990440</td>\n",
       "      <td>A5HC98</td>\n",
       "      <td>523</td>\n",
       "      <td>C</td>\n",
       "      <td>5AMR</td>\n",
       "      <td>A</td>\n",
       "      <td>5amr_a_A5HC98</td>\n",
       "      <td>5amr_a_A5HC98_1740_2262</td>\n",
       "      <td>2263</td>\n",
       "    </tr>\n",
       "    <tr>\n",
       "      <th>2467</th>\n",
       "      <td>532</td>\n",
       "      <td>956</td>\n",
       "      <td>[532, 533, 534, 535, 536, 537, 538, 539, 540, ...</td>\n",
       "      <td>532</td>\n",
       "      <td>956</td>\n",
       "      <td>[532, 533, 534, 535, 536, 537, 538, 539, 540, ...</td>\n",
       "      <td>S L L I E R P S Q L T F A S S H N P D T H P T ...</td>\n",
       "      <td>S L L I E R P S Q L T F A S S H N P D T H P T ...</td>\n",
       "      <td>['A_532_ ', 'A_533_ ', 'A_534_ ', 'A_535_ ', '...</td>\n",
       "      <td>[0, 0, 0, 0, 0, 0, 1, 1, 1, 1, 1, 1, 1, 1, 1, ...</td>\n",
       "      <td>419</td>\n",
       "      <td>0.985882</td>\n",
       "      <td>P32504</td>\n",
       "      <td>425</td>\n",
       "      <td>C</td>\n",
       "      <td>4ACO</td>\n",
       "      <td>A</td>\n",
       "      <td>4aco_a_P32504</td>\n",
       "      <td>4aco_a_P32504_531_955</td>\n",
       "      <td>956</td>\n",
       "    </tr>\n",
       "    <tr>\n",
       "      <th>2578</th>\n",
       "      <td>1</td>\n",
       "      <td>221</td>\n",
       "      <td>[1, 2, 3, 4, 5, 6, 7, 8, 9, 10, 11, 12, 13, 14...</td>\n",
       "      <td>1</td>\n",
       "      <td>221</td>\n",
       "      <td>[1, 2, 3, 4, 5, 6, 7, 8, 9, 10, 11, 12, 13, 14...</td>\n",
       "      <td>M S S V E E L T Q L F S Q V G F E D K K V K E ...</td>\n",
       "      <td>M S S V E E L T Q L F S Q V G F E D K K V K E ...</td>\n",
       "      <td>['A_1_ ', 'A_2_ ', 'A_3_ ', 'A_4_ ', 'A_5_ ', ...</td>\n",
       "      <td>[1, 1, 1, 1, 1, 1, 1, 1, 1, 1, 1, 1, 1, 1, 1, ...</td>\n",
       "      <td>214</td>\n",
       "      <td>0.968326</td>\n",
       "      <td>P13188</td>\n",
       "      <td>221</td>\n",
       "      <td>N</td>\n",
       "      <td>4H3S</td>\n",
       "      <td>A</td>\n",
       "      <td>4h3s_a_P13188</td>\n",
       "      <td>4h3s_a_P13188_0_220</td>\n",
       "      <td>809</td>\n",
       "    </tr>\n",
       "    <tr>\n",
       "      <th>2781</th>\n",
       "      <td>62</td>\n",
       "      <td>261</td>\n",
       "      <td>[62, 63, 64, 65, 66, 67, 68, 69, 70, 71, 72, 7...</td>\n",
       "      <td>62</td>\n",
       "      <td>261</td>\n",
       "      <td>[62, 63, 64, 65, 66, 67, 68, 69, 70, 71, 72, 7...</td>\n",
       "      <td>G E M R R T P I R F A D I P Q D F I H A L L S ...</td>\n",
       "      <td>G E M R R T P I R F A D I P Q D F I H A L L S ...</td>\n",
       "      <td>['A_62_ ', 'A_63_ ', 'A_64_ ', 'A_65_ ', 'A_66...</td>\n",
       "      <td>[0, 0, 0, 1, 1, 1, 1, 1, 1, 1, 1, 1, 1, 1, 1, ...</td>\n",
       "      <td>191</td>\n",
       "      <td>0.955000</td>\n",
       "      <td>Q07806</td>\n",
       "      <td>200</td>\n",
       "      <td>Intra</td>\n",
       "      <td>4OON</td>\n",
       "      <td>A</td>\n",
       "      <td>4oon_a_Q07806</td>\n",
       "      <td>4oon_a_Q07806_26_225</td>\n",
       "      <td>822</td>\n",
       "    </tr>\n",
       "    <tr>\n",
       "      <th>2971</th>\n",
       "      <td>1</td>\n",
       "      <td>179</td>\n",
       "      <td>[1, 2, 3, 4, 5, 6, 7, 8, 9, 10, 11, 12, 13, 14...</td>\n",
       "      <td>1</td>\n",
       "      <td>179</td>\n",
       "      <td>[1, 2, 3, 4, 5, 6, 7, 8, 9, 10, 11, 12, 13, 14...</td>\n",
       "      <td>M L N A W H L P V P P F V K Q S K D Q L L I T ...</td>\n",
       "      <td>M L N A W H L P V P P F V K Q S K D Q L L I T ...</td>\n",
       "      <td>['A_1_ ', 'A_2_ ', 'A_3_ ', 'A_4_ ', 'A_5_ ', ...</td>\n",
       "      <td>[1, 1, 1, 1, 1, 1, 1, 1, 1, 1, 1, 1, 1, 1, 1, ...</td>\n",
       "      <td>130</td>\n",
       "      <td>0.726257</td>\n",
       "      <td>P21517</td>\n",
       "      <td>179</td>\n",
       "      <td>N</td>\n",
       "      <td>5BN7</td>\n",
       "      <td>A</td>\n",
       "      <td>5bn7_a_P21517</td>\n",
       "      <td>5bn7_a_P21517_0_178</td>\n",
       "      <td>604</td>\n",
       "    </tr>\n",
       "    <tr>\n",
       "      <th>...</th>\n",
       "      <td>...</td>\n",
       "      <td>...</td>\n",
       "      <td>...</td>\n",
       "      <td>...</td>\n",
       "      <td>...</td>\n",
       "      <td>...</td>\n",
       "      <td>...</td>\n",
       "      <td>...</td>\n",
       "      <td>...</td>\n",
       "      <td>...</td>\n",
       "      <td>...</td>\n",
       "      <td>...</td>\n",
       "      <td>...</td>\n",
       "      <td>...</td>\n",
       "      <td>...</td>\n",
       "      <td>...</td>\n",
       "      <td>...</td>\n",
       "      <td>...</td>\n",
       "      <td>...</td>\n",
       "      <td>...</td>\n",
       "    </tr>\n",
       "    <tr>\n",
       "      <th>1729</th>\n",
       "      <td>419</td>\n",
       "      <td>420</td>\n",
       "      <td>[419, 420]</td>\n",
       "      <td>419</td>\n",
       "      <td>420</td>\n",
       "      <td>[419, 420]</td>\n",
       "      <td>R G</td>\n",
       "      <td>R G</td>\n",
       "      <td>['A_419_ ', 'A_420_ ']</td>\n",
       "      <td>[0, 0]</td>\n",
       "      <td>0</td>\n",
       "      <td>0.000000</td>\n",
       "      <td>P61497</td>\n",
       "      <td>2</td>\n",
       "      <td>C</td>\n",
       "      <td>2J07</td>\n",
       "      <td>A</td>\n",
       "      <td>2j07_a_P61497</td>\n",
       "      <td>2j07_a_P61497_418_419</td>\n",
       "      <td>420</td>\n",
       "    </tr>\n",
       "    <tr>\n",
       "      <th>1793</th>\n",
       "      <td>287</td>\n",
       "      <td>288</td>\n",
       "      <td>[287, 288]</td>\n",
       "      <td>288</td>\n",
       "      <td>289</td>\n",
       "      <td>[288, 289]</td>\n",
       "      <td>L K</td>\n",
       "      <td>L K</td>\n",
       "      <td>['A_287_ ', 'A_288_ ']</td>\n",
       "      <td>[0, 1]</td>\n",
       "      <td>1</td>\n",
       "      <td>0.500000</td>\n",
       "      <td>P0AGE9</td>\n",
       "      <td>2</td>\n",
       "      <td>C</td>\n",
       "      <td>2NU7</td>\n",
       "      <td>A</td>\n",
       "      <td>2nu7_a_P0AGE9</td>\n",
       "      <td>2nu7_a_P0AGE9_286_287</td>\n",
       "      <td>289</td>\n",
       "    </tr>\n",
       "    <tr>\n",
       "      <th>1841</th>\n",
       "      <td>496</td>\n",
       "      <td>497</td>\n",
       "      <td>[496, 497]</td>\n",
       "      <td>495</td>\n",
       "      <td>496</td>\n",
       "      <td>[495, 496]</td>\n",
       "      <td>K A</td>\n",
       "      <td>K A</td>\n",
       "      <td>['A_496_ ', 'A_497_ ']</td>\n",
       "      <td>[0, 0]</td>\n",
       "      <td>0</td>\n",
       "      <td>0.000000</td>\n",
       "      <td>A4GWM6</td>\n",
       "      <td>2</td>\n",
       "      <td>Intra</td>\n",
       "      <td>2OMT</td>\n",
       "      <td>A</td>\n",
       "      <td>2omt_a_A4GWM6</td>\n",
       "      <td>2omt_a_A4GWM6_459_460</td>\n",
       "      <td>800</td>\n",
       "    </tr>\n",
       "    <tr>\n",
       "      <th>92</th>\n",
       "      <td>214</td>\n",
       "      <td>215</td>\n",
       "      <td>[214, 215]</td>\n",
       "      <td>332</td>\n",
       "      <td>333</td>\n",
       "      <td>[332, 333]</td>\n",
       "      <td>F W</td>\n",
       "      <td>F W</td>\n",
       "      <td>['A_214_ ', 'A_215_ ']</td>\n",
       "      <td>[0, 1]</td>\n",
       "      <td>1</td>\n",
       "      <td>0.500000</td>\n",
       "      <td>P40189</td>\n",
       "      <td>2</td>\n",
       "      <td>Intra</td>\n",
       "      <td>1BQU</td>\n",
       "      <td>A</td>\n",
       "      <td>1bqu_a_P40189</td>\n",
       "      <td>1bqu_a_P40189_213_214</td>\n",
       "      <td>918</td>\n",
       "    </tr>\n",
       "    <tr>\n",
       "      <th>1797</th>\n",
       "      <td>791</td>\n",
       "      <td>792</td>\n",
       "      <td>[791, 792]</td>\n",
       "      <td>827</td>\n",
       "      <td>828</td>\n",
       "      <td>[827, 828]</td>\n",
       "      <td>K V</td>\n",
       "      <td>K V</td>\n",
       "      <td>['F_791_ ', 'F_792_ ']</td>\n",
       "      <td>[0, 1]</td>\n",
       "      <td>1</td>\n",
       "      <td>0.500000</td>\n",
       "      <td>P33937</td>\n",
       "      <td>2</td>\n",
       "      <td>C</td>\n",
       "      <td>2NYA</td>\n",
       "      <td>F</td>\n",
       "      <td>2nya_f_P33937</td>\n",
       "      <td>2nya_f_P33937_790_791</td>\n",
       "      <td>828</td>\n",
       "    </tr>\n",
       "  </tbody>\n",
       "</table>\n",
       "<p>3189 rows × 20 columns</p>\n",
       "</div>"
      ],
      "text/plain": [
       "      start   end                                             seq_id  \\\n",
       "2962   1741  2263  [1741, 1742, 1743, 1744, 1745, 1746, 1747, 174...   \n",
       "2467    532   956  [532, 533, 534, 535, 536, 537, 538, 539, 540, ...   \n",
       "2578      1   221  [1, 2, 3, 4, 5, 6, 7, 8, 9, 10, 11, 12, 13, 14...   \n",
       "2781     62   261  [62, 63, 64, 65, 66, 67, 68, 69, 70, 71, 72, 7...   \n",
       "2971      1   179  [1, 2, 3, 4, 5, 6, 7, 8, 9, 10, 11, 12, 13, 14...   \n",
       "...     ...   ...                                                ...   \n",
       "1729    419   420                                         [419, 420]   \n",
       "1793    287   288                                         [287, 288]   \n",
       "1841    496   497                                         [496, 497]   \n",
       "92      214   215                                         [214, 215]   \n",
       "1797    791   792                                         [791, 792]   \n",
       "\n",
       "      start_unp  end_unp                                         seq_id_unp  \\\n",
       "2962       1741     2263  [1741, 1742, 1743, 1744, 1745, 1746, 1747, 174...   \n",
       "2467        532      956  [532, 533, 534, 535, 536, 537, 538, 539, 540, ...   \n",
       "2578          1      221  [1, 2, 3, 4, 5, 6, 7, 8, 9, 10, 11, 12, 13, 14...   \n",
       "2781         62      261  [62, 63, 64, 65, 66, 67, 68, 69, 70, 71, 72, 7...   \n",
       "2971          1      179  [1, 2, 3, 4, 5, 6, 7, 8, 9, 10, 11, 12, 13, 14...   \n",
       "...         ...      ...                                                ...   \n",
       "1729        419      420                                         [419, 420]   \n",
       "1793        288      289                                         [288, 289]   \n",
       "1841        495      496                                         [495, 496]   \n",
       "92          332      333                                         [332, 333]   \n",
       "1797        827      828                                         [827, 828]   \n",
       "\n",
       "                                                    seq  \\\n",
       "2962  L K Q I L S G G H K A I M Q H N A T S E Q N I ...   \n",
       "2467  S L L I E R P S Q L T F A S S H N P D T H P T ...   \n",
       "2578  M S S V E E L T Q L F S Q V G F E D K K V K E ...   \n",
       "2781  G E M R R T P I R F A D I P Q D F I H A L L S ...   \n",
       "2971  M L N A W H L P V P P F V K Q S K D Q L L I T ...   \n",
       "...                                                 ...   \n",
       "1729                                                R G   \n",
       "1793                                                L K   \n",
       "1841                                                K A   \n",
       "92                                                  F W   \n",
       "1797                                                K V   \n",
       "\n",
       "                                                seq_unp  \\\n",
       "2962  L K Q I L S G G H K A I M Q H N A T S E Q N I ...   \n",
       "2467  S L L I E R P S Q L T F A S S H N P D T H P T ...   \n",
       "2578  M S S V E E L T Q L F S Q V G F E D K K V K E ...   \n",
       "2781  G E M R R T P I R F A D I P Q D F I H A L L S ...   \n",
       "2971  M L N A W H L P V P P F V K Q S K D Q L L I T ...   \n",
       "...                                                 ...   \n",
       "1729                                                R G   \n",
       "1793                                                L K   \n",
       "1841                                                K A   \n",
       "92                                                  F W   \n",
       "1797                                                K V   \n",
       "\n",
       "                                           dssp_key_str  \\\n",
       "2962  ['A_1741_ ', 'A_1742_ ', 'A_1743_ ', 'A_1744_ ...   \n",
       "2467  ['A_532_ ', 'A_533_ ', 'A_534_ ', 'A_535_ ', '...   \n",
       "2578  ['A_1_ ', 'A_2_ ', 'A_3_ ', 'A_4_ ', 'A_5_ ', ...   \n",
       "2781  ['A_62_ ', 'A_63_ ', 'A_64_ ', 'A_65_ ', 'A_66...   \n",
       "2971  ['A_1_ ', 'A_2_ ', 'A_3_ ', 'A_4_ ', 'A_5_ ', ...   \n",
       "...                                                 ...   \n",
       "1729                             ['A_419_ ', 'A_420_ ']   \n",
       "1793                             ['A_287_ ', 'A_288_ ']   \n",
       "1841                             ['A_496_ ', 'A_497_ ']   \n",
       "92                               ['A_214_ ', 'A_215_ ']   \n",
       "1797                             ['F_791_ ', 'F_792_ ']   \n",
       "\n",
       "                                                missing  miss_length  \\\n",
       "2962  [0, 0, 0, 0, 0, 1, 1, 1, 1, 1, 1, 1, 1, 1, 1, ...          518   \n",
       "2467  [0, 0, 0, 0, 0, 0, 1, 1, 1, 1, 1, 1, 1, 1, 1, ...          419   \n",
       "2578  [1, 1, 1, 1, 1, 1, 1, 1, 1, 1, 1, 1, 1, 1, 1, ...          214   \n",
       "2781  [0, 0, 0, 1, 1, 1, 1, 1, 1, 1, 1, 1, 1, 1, 1, ...          191   \n",
       "2971  [1, 1, 1, 1, 1, 1, 1, 1, 1, 1, 1, 1, 1, 1, 1, ...          130   \n",
       "...                                                 ...          ...   \n",
       "1729                                             [0, 0]            0   \n",
       "1793                                             [0, 1]            1   \n",
       "1841                                             [0, 0]            0   \n",
       "92                                               [0, 1]            1   \n",
       "1797                                             [0, 1]            1   \n",
       "\n",
       "      miss_percentage unp_acc  length terminu pdbid chain    pidChainUnp  \\\n",
       "2962         0.990440  A5HC98     523       C  5AMR     A  5amr_a_A5HC98   \n",
       "2467         0.985882  P32504     425       C  4ACO     A  4aco_a_P32504   \n",
       "2578         0.968326  P13188     221       N  4H3S     A  4h3s_a_P13188   \n",
       "2781         0.955000  Q07806     200   Intra  4OON     A  4oon_a_Q07806   \n",
       "2971         0.726257  P21517     179       N  5BN7     A  5bn7_a_P21517   \n",
       "...               ...     ...     ...     ...   ...   ...            ...   \n",
       "1729         0.000000  P61497       2       C  2J07     A  2j07_a_P61497   \n",
       "1793         0.500000  P0AGE9       2       C  2NU7     A  2nu7_a_P0AGE9   \n",
       "1841         0.000000  A4GWM6       2   Intra  2OMT     A  2omt_a_A4GWM6   \n",
       "92           0.500000  P40189       2   Intra  1BQU     A  1bqu_a_P40189   \n",
       "1797         0.500000  P33937       2       C  2NYA     F  2nya_f_P33937   \n",
       "\n",
       "                           id  len_seq_unp  \n",
       "2962  5amr_a_A5HC98_1740_2262         2263  \n",
       "2467    4aco_a_P32504_531_955          956  \n",
       "2578      4h3s_a_P13188_0_220          809  \n",
       "2781     4oon_a_Q07806_26_225          822  \n",
       "2971      5bn7_a_P21517_0_178          604  \n",
       "...                       ...          ...  \n",
       "1729    2j07_a_P61497_418_419          420  \n",
       "1793    2nu7_a_P0AGE9_286_287          289  \n",
       "1841    2omt_a_A4GWM6_459_460          800  \n",
       "92      1bqu_a_P40189_213_214          918  \n",
       "1797    2nya_f_P33937_790_791          828  \n",
       "\n",
       "[3189 rows x 20 columns]"
      ]
     },
     "execution_count": 24,
     "metadata": {},
     "output_type": "execute_result"
    }
   ],
   "source": [
    "df_terminus.sort_values(by='length', ascending=False)"
   ]
  },
  {
   "cell_type": "code",
   "execution_count": 25,
   "id": "9e7e4b8b-594e-4d5d-aa54-b5ad2c892f7e",
   "metadata": {},
   "outputs": [
    {
     "data": {
      "text/html": [
       "<div>\n",
       "<style scoped>\n",
       "    .dataframe tbody tr th:only-of-type {\n",
       "        vertical-align: middle;\n",
       "    }\n",
       "\n",
       "    .dataframe tbody tr th {\n",
       "        vertical-align: top;\n",
       "    }\n",
       "\n",
       "    .dataframe thead th {\n",
       "        text-align: right;\n",
       "    }\n",
       "</style>\n",
       "<table border=\"1\" class=\"dataframe\">\n",
       "  <thead>\n",
       "    <tr style=\"text-align: right;\">\n",
       "      <th></th>\n",
       "      <th>FA-DOMID</th>\n",
       "      <th>FA-PDBID</th>\n",
       "      <th>FA-PDBREG</th>\n",
       "      <th>FA-UNIID</th>\n",
       "      <th>FA-UNIREG</th>\n",
       "      <th>FA</th>\n",
       "      <th>FA-UNIREG-START</th>\n",
       "      <th>FA-UNIREG-END</th>\n",
       "      <th>FA-PDBREG-START</th>\n",
       "      <th>FA-PDBREG-END</th>\n",
       "      <th>FA-CHAINID</th>\n",
       "      <th>seq_id</th>\n",
       "      <th>length</th>\n",
       "      <th>experiment_type</th>\n",
       "      <th>resolution</th>\n",
       "    </tr>\n",
       "  </thead>\n",
       "  <tbody>\n",
       "  </tbody>\n",
       "</table>\n",
       "</div>"
      ],
      "text/plain": [
       "Empty DataFrame\n",
       "Columns: [FA-DOMID, FA-PDBID, FA-PDBREG, FA-UNIID, FA-UNIREG, FA, FA-UNIREG-START, FA-UNIREG-END, FA-PDBREG-START, FA-PDBREG-END, FA-CHAINID, seq_id, length, experiment_type, resolution]\n",
       "Index: []"
      ]
     },
     "execution_count": 25,
     "metadata": {},
     "output_type": "execute_result"
    }
   ],
   "source": [
    "multi_domain = load_tab(path_tab_scop_FA_continuous_uni_multi_parse_domian)\n",
    "multi_domain[multi_domain['FA-PDBID']=='5I08']"
   ]
  },
  {
   "cell_type": "markdown",
   "id": "d248fc9c-17e9-490d-b0ad-3d75a40096b8",
   "metadata": {},
   "source": [
    "## All"
   ]
  },
  {
   "cell_type": "code",
   "execution_count": 26,
   "id": "41b69545-4999-4202-abab-5de8cf730ab7",
   "metadata": {},
   "outputs": [
    {
     "data": {
      "text/plain": [
       "(523, 2)"
      ]
     },
     "execution_count": 26,
     "metadata": {},
     "output_type": "execute_result"
    }
   ],
   "source": [
    "length =  df_terminus['length']\n",
    "max(length), min(length)"
   ]
  },
  {
   "cell_type": "code",
   "execution_count": 26,
   "id": "c0f7e516-e77d-43fd-aa7e-971d870b0720",
   "metadata": {},
   "outputs": [
    {
     "name": "stdout",
     "output_type": "stream",
     "text": [
      "[0.4, 0.2, 0.6, 0.8]\n"
     ]
    },
    {
     "data": {
      "image/png": "[encoded data removed]",
      "text/plain": [
       "<Figure size 864x432 with 1 Axes>"
      ]
     },
     "metadata": {
      "needs_background": "light"
     },
     "output_type": "display_data"
    }
   ],
   "source": [
    "bins = [4, 10, 20, 30, 40, 50, 70, 100, 200, 350]\n",
    "counts_intra, length_intra, _ = bin_count(df_terminus, bins)"
   ]
  },
  {
   "cell_type": "code",
   "execution_count": 28,
   "id": "87f750d4-077c-49c7-9e48-7dba0eb7f826",
   "metadata": {},
   "outputs": [
    {
     "data": {
      "text/plain": [
       "Text(0, 0.5, 'Length of terminus')"
      ]
     },
     "execution_count": 28,
     "metadata": {},
     "output_type": "execute_result"
    },
    {
     "data": {
      "image/png": "[encoded data removed]",
      "text/plain": [
       "<Figure size 1296x432 with 1 Axes>"
      ]
     },
     "metadata": {
      "needs_background": "light"
     },
     "output_type": "display_data"
    }
   ],
   "source": [
    "x = [u'[4, 10)', u'[10, 20)', u'[20, 30)', u'[30, 40)', u'[40, 50)', u'[50, 70)', u'[70, 100)', u'[100, 200)', u'[200, 350)']\n",
    "y = counts_intra\n",
    "\n",
    "# index = ['snail', 'pig', 'elephant','rabbit', 'giraffe', 'coyote', 'horse']\n",
    "df = pd.DataFrame({'intra_domain_loops': y})\n",
    "df = df.set_axis(x)\n",
    "ax = df.plot.barh(figsize=(18,6))\n",
    "# ax.axhline(0, color='grey', linewidth=0.8)\n",
    "ax.bar_label(ax.containers[0], fontsize=20)\n",
    "\n",
    "ax.set_title('Length Distribution of N-/C-terminus.')\n",
    "ax.set_xlabel('Number of terminus')\n",
    "ax.set_ylabel('Length of terminus')"
   ]
  },
  {
   "cell_type": "code",
   "execution_count": null,
   "id": "9d7d904f-ea4e-4894-a282-71220800d020",
   "metadata": {},
   "outputs": [],
   "source": []
  },
  {
   "cell_type": "code",
   "execution_count": null,
   "id": "17ce43b0-d2a7-4f77-be70-d5a8159006ba",
   "metadata": {},
   "outputs": [],
   "source": []
  },
  {
   "cell_type": "code",
   "execution_count": null,
   "id": "86961e82-17eb-4ee3-a1d4-672e181384e2",
   "metadata": {},
   "outputs": [],
   "source": []
  },
  {
   "cell_type": "code",
   "execution_count": null,
   "id": "d2aec0f7-d9f7-4368-b3d6-27089e9a7d47",
   "metadata": {},
   "outputs": [],
   "source": []
  },
  {
   "cell_type": "code",
   "execution_count": null,
   "id": "92b1bb5e-eeca-4195-a522-b94266f3e839",
   "metadata": {},
   "outputs": [],
   "source": []
  }
 ],
 "metadata": {
  "kernelspec": {
   "display_name": "py12",
   "language": "python",
   "name": "python3"
  },
  "language_info": {
   "codemirror_mode": {
    "name": "ipython",
    "version": 3
   },
   "file_extension": ".py",
   "mimetype": "text/x-python",
   "name": "python",
   "nbconvert_exporter": "python",
   "pygments_lexer": "ipython3",
   "version": "3.12.2"
  }
 },
 "nbformat": 4,
 "nbformat_minor": 5
}
