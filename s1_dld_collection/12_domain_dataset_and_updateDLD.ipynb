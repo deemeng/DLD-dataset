{
 "cells": [
  {
   "cell_type": "code",
   "execution_count": 1,
   "id": "8a84627c-06b5-4de4-b85c-f3da5771c974",
   "metadata": {},
   "outputs": [],
   "source": [
    "import os\n",
    "import pandas as pd\n",
    "import numpy as np\n",
    "\n",
    "import matplotlib.pyplot as plt\n",
    "import seaborn as sns\n",
    "\n",
    "from loop.dssp import generate_pdp_chain_pairs\n",
    "from utils.common import load_tab, save_tab, dump_dicts2jsons, lower_pdbid, read_json2dict, dump_dict2json\n",
    "from utils.protein import protein_letters_3to1\n",
    "\n",
    "from utils.loops import print_loop_count\n",
    "\n",
    "from domain_linker.cc_contact import contact, getCoords\n",
    "from domain_linker.extract_linkers import get_2domain_start_end\n",
    "from domain_linker.hbond import check_2Hbond\n",
    "from params import *\n"
   ]
  },
  {
   "cell_type": "markdown",
   "id": "48c65337-6da7-4b0e-89ba-a4fe5c0dcc72",
   "metadata": {},
   "source": [
    "# Functions"
   ]
  },
  {
   "cell_type": "code",
   "execution_count": 22,
   "id": "c13fd9c4-d9fc-493c-98a6-3a8000d0e750",
   "metadata": {},
   "outputs": [],
   "source": [
    "def clasify_interDomainLinker(df_domain_loops_dist, t_contact: int, t_hbond: int):\n",
    "    '''\n",
    "    classify domain-linkers from inter-domain loops. Between two domains:\n",
    "    1. Num(C-C contact) < t_contact\n",
    "    2. Num(Hbond) < t_hbond\n",
    "    '''\n",
    "    df_contact_t = df_domain_loops_dist[df_domain_loops_dist['num_contacts']<t_contact]\n",
    "    df_independent = df_contact_t[df_contact_t['num_hbonds']<t_hbond]\n",
    "    idx_independent = list(df_independent['linkerID'])\n",
    "    idx_dependent = list(set(df_domain_loops_dist['linkerID']) - set(df_independent['linkerID']))\n",
    "    df_dependent = df_domain_loops_dist[df_domain_loops_dist['linkerID'].isin(idx_dependent)]\n",
    "    \n",
    "    return df_independent, df_dependent, df_contact_t"
   ]
  },
  {
   "cell_type": "code",
   "execution_count": 23,
   "id": "40560fc7-75dd-4420-8a7f-37e1147e4a79",
   "metadata": {},
   "outputs": [],
   "source": [
    "def bin_count(df_independent, bins: list):\n",
    "    loop_length = list(df_independent['length'])\n",
    "    \n",
    "    cls = [np.round(np.random.rand(),1), np.round(np.random.rand(),1),np.round(np.random.rand(),1), 0.8]\n",
    "    print(cls)\n",
    "    plt.figure(figsize=(12, 6))\n",
    "    counts, edges, bars = plt.hist(loop_length, bins=bins, color=cls)\n",
    "    \n",
    "    return counts, loop_length, edges"
   ]
  },
  {
   "cell_type": "markdown",
   "id": "9b6ee544-bac8-425a-a08f-a6de1242e051",
   "metadata": {
    "tags": []
   },
   "source": [
    "# Generate domain_dataset table -- skippable"
   ]
  },
  {
   "cell_type": "code",
   "execution_count": 24,
   "id": "cce5d2ac-3abd-4475-bc4b-c7e88773238b",
   "metadata": {},
   "outputs": [],
   "source": [
    "dict_domain_dataset = read_json2dict(path_domain_dataset)"
   ]
  },
  {
   "cell_type": "code",
   "execution_count": 25,
   "id": "94eaaf69-0059-4b81-b46e-668f50dfd7a5",
   "metadata": {},
   "outputs": [],
   "source": [
    "df_domain_dataset = pd.DataFrame()\n",
    "\n",
    "for domainID, d_info in dict_domain_dataset.items():\n",
    "    df_domain = pd.json_normalize(d_info)\n",
    "    pdb_chainid = d_info['pdb_chainid']\n",
    "    df_domain['pdbid'] = pdb_chainid.split('_')[0].upper()\n",
    "    df_domain['chain'] = pdb_chainid.split('_')[1].upper()\n",
    "    df_domain['domain'] = domainID\n",
    "    df_domain_dataset = pd.concat([df_domain_dataset, df_domain], axis=0, ignore_index=True)"
   ]
  },
  {
   "cell_type": "code",
   "execution_count": 26,
   "id": "2f2487e7-54c6-4d6e-8aa6-337bd1c6a8e9",
   "metadata": {},
   "outputs": [
    {
     "data": {
      "text/plain": [
       "(6059, 2649)"
      ]
     },
     "execution_count": 26,
     "metadata": {},
     "output_type": "execute_result"
    }
   ],
   "source": [
    "df_domain_dataset.shape[0], len(df_domain_dataset['pdb_chainid'].unique())"
   ]
  },
  {
   "cell_type": "code",
   "execution_count": 27,
   "id": "9de9c0e3-6742-4df4-9e6d-6d243962f3c6",
   "metadata": {},
   "outputs": [],
   "source": [
    "df_domain_dataset['seq'] = [' '.join(seq) for seq in df_domain_dataset['seq']]\n",
    "df_domain_dataset['seq_unp'] = [' '.join(seq) for seq in df_domain_dataset['seq_unp']]"
   ]
  },
  {
   "cell_type": "code",
   "execution_count": 28,
   "id": "e743a208-8b1e-4478-acc0-a4e294169031",
   "metadata": {},
   "outputs": [],
   "source": [
    "save_tab(df_domain_dataset, path_domain_dataset_tab)"
   ]
  },
  {
   "cell_type": "markdown",
   "id": "3611d07d-87f6-474b-985d-6abb6d906e34",
   "metadata": {},
   "source": [
    "# plots"
   ]
  },
  {
   "cell_type": "markdown",
   "id": "fd38fe89-1874-4bcd-aeb9-b14b4420e96e",
   "metadata": {},
   "source": [
    "## All-length Domains"
   ]
  },
  {
   "cell_type": "code",
   "execution_count": 35,
   "id": "e9c923eb-bf73-4ab5-8dd8-a5757e10a653",
   "metadata": {},
   "outputs": [
    {
     "data": {
      "text/plain": [
       "(1542, 4, (6059, 18))"
      ]
     },
     "execution_count": 35,
     "metadata": {},
     "output_type": "execute_result"
    }
   ],
   "source": [
    "df_domain_dataset = load_tab(path_domain_dataset_tab)\n",
    "length =  df_domain_dataset['length']\n",
    "max(length), min(length), df_domain_dataset.shape"
   ]
  },
  {
   "cell_type": "code",
   "execution_count": 11,
   "id": "0128dda6-6fba-44ea-ba67-764a13647bc2",
   "metadata": {},
   "outputs": [
    {
     "name": "stdout",
     "output_type": "stream",
     "text": [
      "[np.float64(0.7), np.float64(0.9), np.float64(0.6), 0.8]\n"
     ]
    },
    {
     "data": {
      "image/png": "[encoded data removed]",
      "text/plain": [
       "<Figure size 1200x600 with 1 Axes>"
      ]
     },
     "metadata": {},
     "output_type": "display_data"
    }
   ],
   "source": [
    "bins = [3, 10, 50, 100, 300, 500, 700, 1000, 1600]\n",
    "counts_domain, length_domain, _ = bin_count(df_domain_dataset, bins)"
   ]
  },
  {
   "cell_type": "code",
   "execution_count": 37,
   "id": "80da5fc5-9ab6-41be-b337-dc129e44d92d",
   "metadata": {},
   "outputs": [
    {
     "data": {
      "text/plain": [
       "Text(0, 0.5, 'Length of Domain')"
      ]
     },
     "execution_count": 37,
     "metadata": {},
     "output_type": "execute_result"
    },
    {
     "data": {
      "image/png": "[encoded data removed]",
      "text/plain": [
       "<Figure size 1296x432 with 1 Axes>"
      ]
     },
     "metadata": {
      "needs_background": "light"
     },
     "output_type": "display_data"
    }
   ],
   "source": [
    "x = [u'[3, 10)', u'[10, 50)', u'[50, 100)', u'[100, 300)', u'[300, 500)', u'[500, 700)', u'[700, 1000)', u'[1000, 1600)']\n",
    "y = counts_domain\n",
    "\n",
    "# index = ['snail', 'pig', 'elephant','rabbit', 'giraffe', 'coyote', 'horse']\n",
    "df = pd.DataFrame({'domains': y})\n",
    "df = df.set_axis(x)\n",
    "ax = df.plot.barh(figsize=(18,6))\n",
    "# ax.axhline(0, color='grey', linewidth=0.8)\n",
    "ax.bar_label(ax.containers[0], fontsize=20)\n",
    "\n",
    "ax.set_title('Length Distribution of domain dataset. (6285 Domains)')\n",
    "ax.set_xlabel('Number of Domain')\n",
    "ax.set_ylabel('Length of Domain')"
   ]
  },
  {
   "cell_type": "markdown",
   "id": "67b67723-9aa7-496d-a3cb-a34572f05175",
   "metadata": {},
   "source": [
    "## length: <10"
   ]
  },
  {
   "cell_type": "code",
   "execution_count": 35,
   "id": "57eda1cb-7eef-45c0-9a6d-af850846d0a7",
   "metadata": {},
   "outputs": [
    {
     "data": {
      "text/html": [
       "<div>\n",
       "<style scoped>\n",
       "    .dataframe tbody tr th:only-of-type {\n",
       "        vertical-align: middle;\n",
       "    }\n",
       "\n",
       "    .dataframe tbody tr th {\n",
       "        vertical-align: top;\n",
       "    }\n",
       "\n",
       "    .dataframe thead th {\n",
       "        text-align: right;\n",
       "    }\n",
       "</style>\n",
       "<table border=\"1\" class=\"dataframe\">\n",
       "  <thead>\n",
       "    <tr style=\"text-align: right;\">\n",
       "      <th></th>\n",
       "      <th>pdb_chainid</th>\n",
       "      <th>start</th>\n",
       "      <th>end</th>\n",
       "      <th>start_unp</th>\n",
       "      <th>end_unp</th>\n",
       "      <th>unp_acc</th>\n",
       "      <th>dssp_key_str</th>\n",
       "      <th>length</th>\n",
       "      <th>miss_length</th>\n",
       "      <th>miss_percentage</th>\n",
       "      <th>missing</th>\n",
       "      <th>seq</th>\n",
       "      <th>seq_unp</th>\n",
       "      <th>seq_id</th>\n",
       "      <th>seq_id_unp</th>\n",
       "      <th>pdbid</th>\n",
       "      <th>chain</th>\n",
       "      <th>domain</th>\n",
       "    </tr>\n",
       "  </thead>\n",
       "  <tbody>\n",
       "    <tr>\n",
       "      <th>5015</th>\n",
       "      <td>3zx8_a</td>\n",
       "      <td>169</td>\n",
       "      <td>171</td>\n",
       "      <td>169</td>\n",
       "      <td>171</td>\n",
       "      <td>P06663</td>\n",
       "      <td>['A_169_ ', 'A_170_ ', 'A_171_ ']</td>\n",
       "      <td>3</td>\n",
       "      <td>0</td>\n",
       "      <td>0.0</td>\n",
       "      <td>[0, 0, 0]</td>\n",
       "      <td>L Y N</td>\n",
       "      <td>L Y N</td>\n",
       "      <td>[169, 170, 171]</td>\n",
       "      <td>[169, 170, 171]</td>\n",
       "      <td>3ZX8</td>\n",
       "      <td>A</td>\n",
       "      <td>8071987</td>\n",
       "    </tr>\n",
       "    <tr>\n",
       "      <th>6066</th>\n",
       "      <td>5x5f_a</td>\n",
       "      <td>660</td>\n",
       "      <td>662</td>\n",
       "      <td>660</td>\n",
       "      <td>662</td>\n",
       "      <td>K9N5Q8</td>\n",
       "      <td>['A_660_ ', 'A_661_ ', 'A_662_ ']</td>\n",
       "      <td>3</td>\n",
       "      <td>0</td>\n",
       "      <td>0.0</td>\n",
       "      <td>[0, 0, 0]</td>\n",
       "      <td>S V I</td>\n",
       "      <td>S V I</td>\n",
       "      <td>[660, 661, 662]</td>\n",
       "      <td>[660, 661, 662]</td>\n",
       "      <td>5X5F</td>\n",
       "      <td>A</td>\n",
       "      <td>8092666</td>\n",
       "    </tr>\n",
       "    <tr>\n",
       "      <th>3571</th>\n",
       "      <td>2fo1_e</td>\n",
       "      <td>938</td>\n",
       "      <td>941</td>\n",
       "      <td>938</td>\n",
       "      <td>941</td>\n",
       "      <td>P14585</td>\n",
       "      <td>['E_938_ ', 'E_939_ ', 'E_940_ ', 'E_941_ ']</td>\n",
       "      <td>4</td>\n",
       "      <td>0</td>\n",
       "      <td>0.0</td>\n",
       "      <td>[0, 0, 0, 0]</td>\n",
       "      <td>R X I N</td>\n",
       "      <td>R M I N</td>\n",
       "      <td>[938, 939, 940, 941]</td>\n",
       "      <td>[938, 939, 940, 941]</td>\n",
       "      <td>2FO1</td>\n",
       "      <td>E</td>\n",
       "      <td>8004162</td>\n",
       "    </tr>\n",
       "    <tr>\n",
       "      <th>1066</th>\n",
       "      <td>1j2o_a</td>\n",
       "      <td>57</td>\n",
       "      <td>63</td>\n",
       "      <td>81</td>\n",
       "      <td>87</td>\n",
       "      <td>P25801</td>\n",
       "      <td>['A_57_ ', 'A_58_ ', 'A_59_ ', 'A_60_ ', 'A_61...</td>\n",
       "      <td>7</td>\n",
       "      <td>0</td>\n",
       "      <td>0.0</td>\n",
       "      <td>[0, 0, 0, 0, 0, 0, 0]</td>\n",
       "      <td>R R D Y L R L</td>\n",
       "      <td>R R D Y L R L</td>\n",
       "      <td>[57, 58, 59, 60, 61, 62, 63]</td>\n",
       "      <td>[81, 82, 83, 84, 85, 86, 87]</td>\n",
       "      <td>1J2O</td>\n",
       "      <td>A</td>\n",
       "      <td>8019848</td>\n",
       "    </tr>\n",
       "    <tr>\n",
       "      <th>4363</th>\n",
       "      <td>3b2u_a</td>\n",
       "      <td>496</td>\n",
       "      <td>502</td>\n",
       "      <td>520</td>\n",
       "      <td>526</td>\n",
       "      <td>P00533</td>\n",
       "      <td>['A_496_ ', 'A_497_ ', 'A_498_ ', 'A_499_ ', '...</td>\n",
       "      <td>7</td>\n",
       "      <td>0</td>\n",
       "      <td>0.0</td>\n",
       "      <td>[0, 0, 0, 0, 0, 0, 0]</td>\n",
       "      <td>P R D C V S C</td>\n",
       "      <td>P R D C V S C</td>\n",
       "      <td>[496, 497, 498, 499, 500, 501, 502]</td>\n",
       "      <td>[520, 521, 522, 523, 524, 525, 526]</td>\n",
       "      <td>3B2U</td>\n",
       "      <td>A</td>\n",
       "      <td>8026384</td>\n",
       "    </tr>\n",
       "    <tr>\n",
       "      <th>4916</th>\n",
       "      <td>3ttc_a</td>\n",
       "      <td>110</td>\n",
       "      <td>116</td>\n",
       "      <td>110</td>\n",
       "      <td>116</td>\n",
       "      <td>A0A0H3JHT3</td>\n",
       "      <td>['A_110_ ', 'A_111_ ', 'A_112_ ', 'A_113_ ', '...</td>\n",
       "      <td>7</td>\n",
       "      <td>0</td>\n",
       "      <td>0.0</td>\n",
       "      <td>[0, 0, 0, 0, 0, 0, 0]</td>\n",
       "      <td>P A C L A E M</td>\n",
       "      <td>P A C L A E M</td>\n",
       "      <td>[110, 111, 112, 113, 114, 115, 116]</td>\n",
       "      <td>[110, 111, 112, 113, 114, 115, 116]</td>\n",
       "      <td>3TTC</td>\n",
       "      <td>A</td>\n",
       "      <td>8092439</td>\n",
       "    </tr>\n",
       "    <tr>\n",
       "      <th>5217</th>\n",
       "      <td>4g9i_a</td>\n",
       "      <td>110</td>\n",
       "      <td>116</td>\n",
       "      <td>110</td>\n",
       "      <td>116</td>\n",
       "      <td>Q5JII4</td>\n",
       "      <td>['A_110_ ', 'A_111_ ', 'A_112_ ', 'A_113_ ', '...</td>\n",
       "      <td>7</td>\n",
       "      <td>0</td>\n",
       "      <td>0.0</td>\n",
       "      <td>[0, 0, 0, 0, 0, 0, 0]</td>\n",
       "      <td>D D C L R E L</td>\n",
       "      <td>D D C L R E L</td>\n",
       "      <td>[110, 111, 112, 113, 114, 115, 116]</td>\n",
       "      <td>[110, 111, 112, 113, 114, 115, 116]</td>\n",
       "      <td>4G9I</td>\n",
       "      <td>A</td>\n",
       "      <td>8092447</td>\n",
       "    </tr>\n",
       "    <tr>\n",
       "      <th>2466</th>\n",
       "      <td>1ubd_c</td>\n",
       "      <td>401</td>\n",
       "      <td>408</td>\n",
       "      <td>401</td>\n",
       "      <td>408</td>\n",
       "      <td>P25490</td>\n",
       "      <td>['C_401_ ', 'C_402_ ', 'C_403_ ', 'C_404_ ', '...</td>\n",
       "      <td>8</td>\n",
       "      <td>0</td>\n",
       "      <td>0.0</td>\n",
       "      <td>[0, 0, 0, 0, 0, 0, 0, 0]</td>\n",
       "      <td>K S H I L T H A</td>\n",
       "      <td>K S H I L T H A</td>\n",
       "      <td>[401, 402, 403, 404, 405, 406, 407, 408]</td>\n",
       "      <td>[401, 402, 403, 404, 405, 406, 407, 408]</td>\n",
       "      <td>1UBD</td>\n",
       "      <td>C</td>\n",
       "      <td>8026602</td>\n",
       "    </tr>\n",
       "    <tr>\n",
       "      <th>5218</th>\n",
       "      <td>4g9i_a</td>\n",
       "      <td>160</td>\n",
       "      <td>167</td>\n",
       "      <td>160</td>\n",
       "      <td>167</td>\n",
       "      <td>Q5JII4</td>\n",
       "      <td>['A_160_ ', 'A_161_ ', 'A_162_ ', 'A_163_ ', '...</td>\n",
       "      <td>8</td>\n",
       "      <td>0</td>\n",
       "      <td>0.0</td>\n",
       "      <td>[0, 0, 0, 0, 0, 0, 0, 0]</td>\n",
       "      <td>D F C R S E Y E</td>\n",
       "      <td>D F C R S E Y E</td>\n",
       "      <td>[160, 161, 162, 163, 164, 165, 166, 167]</td>\n",
       "      <td>[160, 161, 162, 163, 164, 165, 166, 167]</td>\n",
       "      <td>4G9I</td>\n",
       "      <td>A</td>\n",
       "      <td>8092448</td>\n",
       "    </tr>\n",
       "    <tr>\n",
       "      <th>5505</th>\n",
       "      <td>4qft_a</td>\n",
       "      <td>200</td>\n",
       "      <td>208</td>\n",
       "      <td>200</td>\n",
       "      <td>208</td>\n",
       "      <td>Q7L5N1</td>\n",
       "      <td>['A_200_ ', 'A_201_ ', 'A_202_ ', 'A_203_ ', '...</td>\n",
       "      <td>9</td>\n",
       "      <td>0</td>\n",
       "      <td>0.0</td>\n",
       "      <td>[0, 0, 0, 0, 0, 0, 0, 0, 0]</td>\n",
       "      <td>V D H V A R M T A</td>\n",
       "      <td>V D H V A R M T A</td>\n",
       "      <td>[200, 201, 202, 203, 204, 205, 206, 207, 208]</td>\n",
       "      <td>[200, 201, 202, 203, 204, 205, 206, 207, 208]</td>\n",
       "      <td>4QFT</td>\n",
       "      <td>A</td>\n",
       "      <td>8048103</td>\n",
       "    </tr>\n",
       "  </tbody>\n",
       "</table>\n",
       "</div>"
      ],
      "text/plain": [
       "     pdb_chainid  start  end  start_unp  end_unp     unp_acc  \\\n",
       "5015      3zx8_a    169  171        169      171      P06663   \n",
       "6066      5x5f_a    660  662        660      662      K9N5Q8   \n",
       "3571      2fo1_e    938  941        938      941      P14585   \n",
       "1066      1j2o_a     57   63         81       87      P25801   \n",
       "4363      3b2u_a    496  502        520      526      P00533   \n",
       "4916      3ttc_a    110  116        110      116  A0A0H3JHT3   \n",
       "5217      4g9i_a    110  116        110      116      Q5JII4   \n",
       "2466      1ubd_c    401  408        401      408      P25490   \n",
       "5218      4g9i_a    160  167        160      167      Q5JII4   \n",
       "5505      4qft_a    200  208        200      208      Q7L5N1   \n",
       "\n",
       "                                           dssp_key_str  length  miss_length  \\\n",
       "5015                  ['A_169_ ', 'A_170_ ', 'A_171_ ']       3            0   \n",
       "6066                  ['A_660_ ', 'A_661_ ', 'A_662_ ']       3            0   \n",
       "3571       ['E_938_ ', 'E_939_ ', 'E_940_ ', 'E_941_ ']       4            0   \n",
       "1066  ['A_57_ ', 'A_58_ ', 'A_59_ ', 'A_60_ ', 'A_61...       7            0   \n",
       "4363  ['A_496_ ', 'A_497_ ', 'A_498_ ', 'A_499_ ', '...       7            0   \n",
       "4916  ['A_110_ ', 'A_111_ ', 'A_112_ ', 'A_113_ ', '...       7            0   \n",
       "5217  ['A_110_ ', 'A_111_ ', 'A_112_ ', 'A_113_ ', '...       7            0   \n",
       "2466  ['C_401_ ', 'C_402_ ', 'C_403_ ', 'C_404_ ', '...       8            0   \n",
       "5218  ['A_160_ ', 'A_161_ ', 'A_162_ ', 'A_163_ ', '...       8            0   \n",
       "5505  ['A_200_ ', 'A_201_ ', 'A_202_ ', 'A_203_ ', '...       9            0   \n",
       "\n",
       "      miss_percentage                      missing                seq  \\\n",
       "5015              0.0                    [0, 0, 0]              L Y N   \n",
       "6066              0.0                    [0, 0, 0]              S V I   \n",
       "3571              0.0                 [0, 0, 0, 0]            R X I N   \n",
       "1066              0.0        [0, 0, 0, 0, 0, 0, 0]      R R D Y L R L   \n",
       "4363              0.0        [0, 0, 0, 0, 0, 0, 0]      P R D C V S C   \n",
       "4916              0.0        [0, 0, 0, 0, 0, 0, 0]      P A C L A E M   \n",
       "5217              0.0        [0, 0, 0, 0, 0, 0, 0]      D D C L R E L   \n",
       "2466              0.0     [0, 0, 0, 0, 0, 0, 0, 0]    K S H I L T H A   \n",
       "5218              0.0     [0, 0, 0, 0, 0, 0, 0, 0]    D F C R S E Y E   \n",
       "5505              0.0  [0, 0, 0, 0, 0, 0, 0, 0, 0]  V D H V A R M T A   \n",
       "\n",
       "                seq_unp                                         seq_id  \\\n",
       "5015              L Y N                                [169, 170, 171]   \n",
       "6066              S V I                                [660, 661, 662]   \n",
       "3571            R M I N                           [938, 939, 940, 941]   \n",
       "1066      R R D Y L R L                   [57, 58, 59, 60, 61, 62, 63]   \n",
       "4363      P R D C V S C            [496, 497, 498, 499, 500, 501, 502]   \n",
       "4916      P A C L A E M            [110, 111, 112, 113, 114, 115, 116]   \n",
       "5217      D D C L R E L            [110, 111, 112, 113, 114, 115, 116]   \n",
       "2466    K S H I L T H A       [401, 402, 403, 404, 405, 406, 407, 408]   \n",
       "5218    D F C R S E Y E       [160, 161, 162, 163, 164, 165, 166, 167]   \n",
       "5505  V D H V A R M T A  [200, 201, 202, 203, 204, 205, 206, 207, 208]   \n",
       "\n",
       "                                         seq_id_unp pdbid chain   domain  \n",
       "5015                                [169, 170, 171]  3ZX8     A  8071987  \n",
       "6066                                [660, 661, 662]  5X5F     A  8092666  \n",
       "3571                           [938, 939, 940, 941]  2FO1     E  8004162  \n",
       "1066                   [81, 82, 83, 84, 85, 86, 87]  1J2O     A  8019848  \n",
       "4363            [520, 521, 522, 523, 524, 525, 526]  3B2U     A  8026384  \n",
       "4916            [110, 111, 112, 113, 114, 115, 116]  3TTC     A  8092439  \n",
       "5217            [110, 111, 112, 113, 114, 115, 116]  4G9I     A  8092447  \n",
       "2466       [401, 402, 403, 404, 405, 406, 407, 408]  1UBD     C  8026602  \n",
       "5218       [160, 161, 162, 163, 164, 165, 166, 167]  4G9I     A  8092448  \n",
       "5505  [200, 201, 202, 203, 204, 205, 206, 207, 208]  4QFT     A  8048103  "
      ]
     },
     "execution_count": 35,
     "metadata": {},
     "output_type": "execute_result"
    }
   ],
   "source": [
    "df_domain_dataset[df_domain_dataset['length']<10].sort_values('length')"
   ]
  },
  {
   "cell_type": "code",
   "execution_count": 23,
   "id": "876647be",
   "metadata": {},
   "outputs": [
    {
     "data": {
      "text/plain": [
       "(6280, 18)"
      ]
     },
     "execution_count": 23,
     "metadata": {},
     "output_type": "execute_result"
    }
   ],
   "source": [
    "df_domain_dataset[df_domain_dataset['pdb_chainid']=='3ksy_a']\n",
    "df_domain_dataset.shape"
   ]
  },
  {
   "cell_type": "markdown",
   "id": "5aa34c74-402b-4e2a-aee3-715510df35ce",
   "metadata": {},
   "source": [
    "# Load DLD regions"
   ]
  },
  {
   "cell_type": "markdown",
   "id": "7df2450a",
   "metadata": {},
   "source": [
    "### 0. Domain"
   ]
  },
  {
   "cell_type": "code",
   "execution_count": 2,
   "id": "0fe0321a",
   "metadata": {},
   "outputs": [],
   "source": [
    "df_domain_dataset = load_tab(path_domain_dataset_tab)\n",
    "df_domain_short = df_domain_dataset[df_domain_dataset['length']<30]\n",
    "short_domain_list = [s.upper() for s in df_domain_short['pdb_chainid']]"
   ]
  },
  {
   "cell_type": "code",
   "execution_count": 3,
   "id": "c30019d9",
   "metadata": {},
   "outputs": [],
   "source": [
    "save_tab(df_domain_short, 'domain_short.tsv')"
   ]
  },
  {
   "cell_type": "code",
   "execution_count": 10,
   "id": "114647ef",
   "metadata": {},
   "outputs": [
    {
     "data": {
      "text/plain": [
       "24"
      ]
     },
     "execution_count": 10,
     "metadata": {},
     "output_type": "execute_result"
    }
   ],
   "source": [
    "len(df_domain_short[df_domain_short['length']<20]['pdb_chainid'].unique())"
   ]
  },
  {
   "cell_type": "markdown",
   "id": "e84739b2-f1ce-4afa-bdad-70c731276267",
   "metadata": {},
   "source": [
    "### 1. intra-domain Loops"
   ]
  },
  {
   "cell_type": "code",
   "execution_count": 3,
   "id": "3bfcedd1-0151-4f28-8a6c-8d3540ced494",
   "metadata": {},
   "outputs": [],
   "source": [
    "df_intra_domain_loop = load_tab(path_loops_intra_domain_smoothSS_first_2step_tab)"
   ]
  },
  {
   "cell_type": "markdown",
   "id": "2d787a14-1a60-41fe-bc03-c06ed4ac2f55",
   "metadata": {},
   "source": [
    "### 2. independent-domain-linker"
   ]
  },
  {
   "cell_type": "code",
   "execution_count": 4,
   "id": "edb8fd59-e575-4a45-8d85-7deb775055f6",
   "metadata": {},
   "outputs": [
    {
     "data": {
      "text/plain": [
       "((1647, 31),\n",
       " Index(['linkerID', 'start_loop', 'end_loop', 'seq_id', 'start_unp', 'end_unp',\n",
       "        'seq_id_unp', 'seq', 'seq_unp', 'dssp_key_str', 'missing_loop',\n",
       "        'miss_length', 'miss_percentage', 'unp_acc', 'length', 'domain1',\n",
       "        'domain2', 'pdbid_loop', 'chainid_loop', 'hbonds', 'c_c_contacts',\n",
       "        'num_hbonds', 'num_contacts', 'pdbid_domain', 'chainid_domain',\n",
       "        'start_domain', 'end_domain', 'dist', 'missing_domain', 'pdb_chainid',\n",
       "        'seqID'],\n",
       "       dtype='object'))"
      ]
     },
     "execution_count": 4,
     "metadata": {},
     "output_type": "execute_result"
    }
   ],
   "source": [
    "df_independent_domain_linker = load_tab(path_independent_domain_linker)\n",
    "df_independent_domain_linker.shape, df_independent_domain_linker.columns"
   ]
  },
  {
   "cell_type": "code",
   "execution_count": 5,
   "id": "6e7bdc05",
   "metadata": {},
   "outputs": [
    {
     "data": {
      "text/plain": [
       "(154, 31)"
      ]
     },
     "execution_count": 5,
     "metadata": {},
     "output_type": "execute_result"
    }
   ],
   "source": [
    "df_independent_domain_linker[df_independent_domain_linker['miss_length']>0].shape"
   ]
  },
  {
   "cell_type": "markdown",
   "id": "26a74be0-a360-4cd2-96bd-201d80eb5f49",
   "metadata": {},
   "source": [
    "### 3. dependent-domain-linker"
   ]
  },
  {
   "cell_type": "code",
   "execution_count": 6,
   "id": "f5fd4e4e-001b-4ca0-8359-ea155cc8b96c",
   "metadata": {},
   "outputs": [
    {
     "data": {
      "text/plain": [
       "((649, 31),\n",
       " Index(['linkerID', 'start_loop', 'end_loop', 'seq_id', 'start_unp', 'end_unp',\n",
       "        'seq_id_unp', 'seq', 'seq_unp', 'dssp_key_str', 'missing_loop',\n",
       "        'miss_length', 'miss_percentage', 'unp_acc', 'length', 'domain1',\n",
       "        'domain2', 'pdbid_loop', 'chainid_loop', 'hbonds', 'c_c_contacts',\n",
       "        'num_hbonds', 'num_contacts', 'pdbid_domain', 'chainid_domain',\n",
       "        'start_domain', 'end_domain', 'dist', 'missing_domain', 'pdb_chainid',\n",
       "        'seqID'],\n",
       "       dtype='object'))"
      ]
     },
     "execution_count": 6,
     "metadata": {},
     "output_type": "execute_result"
    }
   ],
   "source": [
    "df_dependent_domain_linker = load_tab(path_dependent_domain_linker)\n",
    "df_dependent_domain_linker.shape, df_dependent_domain_linker.columns"
   ]
  },
  {
   "cell_type": "markdown",
   "id": "56e6d360",
   "metadata": {},
   "source": [
    "### 4. T"
   ]
  },
  {
   "cell_type": "code",
   "execution_count": 7,
   "id": "c0707147",
   "metadata": {},
   "outputs": [],
   "source": [
    "df_terminus = load_tab(path_terminus_tab)"
   ]
  },
  {
   "cell_type": "code",
   "execution_count": 39,
   "id": "0a5b6fb9-353b-4e93-b5d3-631a1e58a677",
   "metadata": {},
   "outputs": [
    {
     "data": {
      "text/plain": [
       "2649"
      ]
     },
     "execution_count": 39,
     "metadata": {},
     "output_type": "execute_result"
    }
   ],
   "source": [
    "len(df_domain_dataset['pdb_chainid'].unique())"
   ]
  },
  {
   "cell_type": "code",
   "execution_count": 40,
   "id": "f32527da",
   "metadata": {},
   "outputs": [
    {
     "data": {
      "text/plain": [
       "(44977, 17)"
      ]
     },
     "execution_count": 40,
     "metadata": {},
     "output_type": "execute_result"
    }
   ],
   "source": [
    "df_intra_domain_loop.shape"
   ]
  },
  {
   "cell_type": "code",
   "execution_count": 41,
   "id": "ef2690e6",
   "metadata": {},
   "outputs": [],
   "source": [
    "df_intra_domain_loop['pdb_chainid'] = [f\"{r['pdbid']}_{r['chain']}\" for _, r in df_intra_domain_loop.iterrows()]"
   ]
  },
  {
   "cell_type": "code",
   "execution_count": 42,
   "id": "277e26db-5eb2-4071-8e0c-1cd1fc78c111",
   "metadata": {},
   "outputs": [
    {
     "data": {
      "text/plain": [
       "2649"
      ]
     },
     "execution_count": 42,
     "metadata": {},
     "output_type": "execute_result"
    }
   ],
   "source": [
    "len(df_intra_domain_loop['pdb_chainid'].unique())"
   ]
  },
  {
   "cell_type": "code",
   "execution_count": 43,
   "id": "9e169425-0f63-4c1a-ab29-2215529a555e",
   "metadata": {},
   "outputs": [
    {
     "data": {
      "text/plain": [
       "620"
      ]
     },
     "execution_count": 43,
     "metadata": {},
     "output_type": "execute_result"
    }
   ],
   "source": [
    "\n",
    "df_dependent_domain_linker['pdb_chainid'] = [f\"{r['pdbid_domain']}_{r['chainid_domain']}\" for _, r in df_dependent_domain_linker.iterrows()]\n",
    "len(df_dependent_domain_linker['pdb_chainid'].unique())"
   ]
  },
  {
   "cell_type": "code",
   "execution_count": 44,
   "id": "24c1f6a1-076f-4e2e-9044-3318c8b87bed",
   "metadata": {},
   "outputs": [
    {
     "data": {
      "text/plain": [
       "1753"
      ]
     },
     "execution_count": 44,
     "metadata": {},
     "output_type": "execute_result"
    }
   ],
   "source": [
    "df_terminus\n",
    "df_terminus['pdb_chainid'] = [f\"{r['pdbid']}_{r['chain']}\" for _, r in df_terminus.iterrows()]\n",
    "len(df_terminus['pdb_chainid'].unique())"
   ]
  },
  {
   "cell_type": "code",
   "execution_count": 45,
   "id": "47c9f933-ded6-4c1d-b9f1-011aea319529",
   "metadata": {},
   "outputs": [
    {
     "data": {
      "text/plain": [
       "(2994, 21)"
      ]
     },
     "execution_count": 45,
     "metadata": {},
     "output_type": "execute_result"
    }
   ],
   "source": [
    "df_terminus.shape"
   ]
  },
  {
   "cell_type": "code",
   "execution_count": 46,
   "id": "539128a8",
   "metadata": {},
   "outputs": [
    {
     "data": {
      "text/plain": [
       "1408"
      ]
     },
     "execution_count": 46,
     "metadata": {},
     "output_type": "execute_result"
    }
   ],
   "source": [
    "\n",
    "df_independent_domain_linker['pdb_chainid'] = [f\"{r['pdbid_domain']}_{r['chainid_domain']}\" for _, r in df_independent_domain_linker.iterrows()]\n",
    "len(df_independent_domain_linker['pdb_chainid'].unique())"
   ]
  },
  {
   "cell_type": "code",
   "execution_count": 48,
   "id": "9f810fda",
   "metadata": {},
   "outputs": [
    {
     "data": {
      "text/plain": [
       "(1647, 30)"
      ]
     },
     "execution_count": 48,
     "metadata": {},
     "output_type": "execute_result"
    }
   ],
   "source": [
    "df_independent_domain_linker.shape"
   ]
  },
  {
   "cell_type": "code",
   "execution_count": 49,
   "id": "5830c9cd",
   "metadata": {},
   "outputs": [
    {
     "data": {
      "text/plain": [
       "(920, 30)"
      ]
     },
     "execution_count": 49,
     "metadata": {},
     "output_type": "execute_result"
    }
   ],
   "source": [
    "df_independent_domain_linker[df_independent_domain_linker['length']>=10].shape"
   ]
  },
  {
   "cell_type": "code",
   "execution_count": 50,
   "id": "58c0cbd2",
   "metadata": {},
   "outputs": [
    {
     "data": {
      "text/html": [
       "<div>\n",
       "<style scoped>\n",
       "    .dataframe tbody tr th:only-of-type {\n",
       "        vertical-align: middle;\n",
       "    }\n",
       "\n",
       "    .dataframe tbody tr th {\n",
       "        vertical-align: top;\n",
       "    }\n",
       "\n",
       "    .dataframe thead th {\n",
       "        text-align: right;\n",
       "    }\n",
       "</style>\n",
       "<table border=\"1\" class=\"dataframe\">\n",
       "  <thead>\n",
       "    <tr style=\"text-align: right;\">\n",
       "      <th></th>\n",
       "      <th>start</th>\n",
       "      <th>end</th>\n",
       "      <th>seq_id</th>\n",
       "      <th>start_unp</th>\n",
       "      <th>end_unp</th>\n",
       "      <th>seq_id_unp</th>\n",
       "      <th>seq</th>\n",
       "      <th>seq_unp</th>\n",
       "      <th>dssp_key_str</th>\n",
       "      <th>missing</th>\n",
       "      <th>...</th>\n",
       "      <th>miss_percentage</th>\n",
       "      <th>unp_acc</th>\n",
       "      <th>length</th>\n",
       "      <th>terminu</th>\n",
       "      <th>pdbid</th>\n",
       "      <th>chain</th>\n",
       "      <th>pidChainUnp</th>\n",
       "      <th>id</th>\n",
       "      <th>len_seq_unp</th>\n",
       "      <th>pdb_chainid</th>\n",
       "    </tr>\n",
       "  </thead>\n",
       "  <tbody>\n",
       "  </tbody>\n",
       "</table>\n",
       "<p>0 rows × 21 columns</p>\n",
       "</div>"
      ],
      "text/plain": [
       "Empty DataFrame\n",
       "Columns: [start, end, seq_id, start_unp, end_unp, seq_id_unp, seq, seq_unp, dssp_key_str, missing, miss_length, miss_percentage, unp_acc, length, terminu, pdbid, chain, pidChainUnp, id, len_seq_unp, pdb_chainid]\n",
       "Index: []\n",
       "\n",
       "[0 rows x 21 columns]"
      ]
     },
     "execution_count": 50,
     "metadata": {},
     "output_type": "execute_result"
    }
   ],
   "source": [
    "df_test = df_terminus[df_terminus['pidChainUnp']=='1aqt_a_P0A6E6']\n",
    "df_test[df_test['length']<4]\n",
    "\n",
    "# df_terminus[df_terminus['length']<4]"
   ]
  },
  {
   "cell_type": "code",
   "execution_count": 52,
   "id": "449b8988",
   "metadata": {},
   "outputs": [
    {
     "data": {
      "text/html": [
       "<div>\n",
       "<style scoped>\n",
       "    .dataframe tbody tr th:only-of-type {\n",
       "        vertical-align: middle;\n",
       "    }\n",
       "\n",
       "    .dataframe tbody tr th {\n",
       "        vertical-align: top;\n",
       "    }\n",
       "\n",
       "    .dataframe thead th {\n",
       "        text-align: right;\n",
       "    }\n",
       "</style>\n",
       "<table border=\"1\" class=\"dataframe\">\n",
       "  <thead>\n",
       "    <tr style=\"text-align: right;\">\n",
       "      <th></th>\n",
       "      <th>start</th>\n",
       "      <th>end</th>\n",
       "      <th>seq_id</th>\n",
       "      <th>start_unp</th>\n",
       "      <th>end_unp</th>\n",
       "      <th>seq_id_unp</th>\n",
       "      <th>seq</th>\n",
       "      <th>seq_unp</th>\n",
       "      <th>dssp_key_str</th>\n",
       "      <th>missing</th>\n",
       "      <th>miss_length</th>\n",
       "      <th>miss_percentage</th>\n",
       "      <th>unp_acc</th>\n",
       "      <th>length</th>\n",
       "      <th>domain</th>\n",
       "      <th>pdbid</th>\n",
       "      <th>chain</th>\n",
       "      <th>pdb_chainid</th>\n",
       "    </tr>\n",
       "  </thead>\n",
       "  <tbody>\n",
       "  </tbody>\n",
       "</table>\n",
       "</div>"
      ],
      "text/plain": [
       "Empty DataFrame\n",
       "Columns: [start, end, seq_id, start_unp, end_unp, seq_id_unp, seq, seq_unp, dssp_key_str, missing, miss_length, miss_percentage, unp_acc, length, domain, pdbid, chain, pdb_chainid]\n",
       "Index: []"
      ]
     },
     "execution_count": 52,
     "metadata": {},
     "output_type": "execute_result"
    }
   ],
   "source": [
    "df_intra_domain_loop[df_intra_domain_loop['length']<4]"
   ]
  },
  {
   "cell_type": "markdown",
   "id": "e74952fa",
   "metadata": {},
   "source": [
    "# Add seqID columns to the two domain linker files (for the website)"
   ]
  },
  {
   "cell_type": "code",
   "execution_count": 53,
   "id": "5077beb8",
   "metadata": {},
   "outputs": [
    {
     "data": {
      "text/plain": [
       "Index(['linkerID', 'start_loop', 'end_loop', 'seq_id', 'start_unp', 'end_unp',\n",
       "       'seq_id_unp', 'seq', 'seq_unp', 'dssp_key_str', 'missing_loop',\n",
       "       'miss_length', 'miss_percentage', 'unp_acc', 'length', 'domain1',\n",
       "       'domain2', 'pdbid_loop', 'chainid_loop', 'hbonds', 'c_c_contacts',\n",
       "       'num_hbonds', 'num_contacts', 'pdbid_domain', 'chainid_domain',\n",
       "       'start_domain', 'end_domain', 'dist', 'missing_domain', 'pdb_chainid'],\n",
       "      dtype='object')"
      ]
     },
     "execution_count": 53,
     "metadata": {},
     "output_type": "execute_result"
    }
   ],
   "source": [
    "df_independent_domain_linker.columns"
   ]
  },
  {
   "cell_type": "code",
   "execution_count": 54,
   "id": "af2c90c4",
   "metadata": {},
   "outputs": [],
   "source": [
    "df_independent_domain_linker[['pdbid_domain', 'chainid_domain', 'unp_acc']]\n",
    "\n",
    "df_independent_domain_linker['seqID'] = [f\"{r['pdbid_domain'].lower()}_{r['chainid_domain'].lower()}_{r['unp_acc']}\" for _, r in df_independent_domain_linker.iterrows()]\n",
    "df_dependent_domain_linker['seqID'] = [f\"{r['pdbid_domain'].lower()}_{r['chainid_domain'].lower()}_{r['unp_acc']}\" for _, r in df_dependent_domain_linker.iterrows()]"
   ]
  },
  {
   "cell_type": "code",
   "execution_count": 55,
   "id": "fbe89baa",
   "metadata": {},
   "outputs": [
    {
     "data": {
      "text/plain": [
       "((1647, 31), (649, 31))"
      ]
     },
     "execution_count": 55,
     "metadata": {},
     "output_type": "execute_result"
    }
   ],
   "source": [
    "df_independent_domain_linker.shape, df_dependent_domain_linker.shape"
   ]
  },
  {
   "cell_type": "code",
   "execution_count": 56,
   "id": "30e27d5b",
   "metadata": {},
   "outputs": [],
   "source": [
    "save_tab(df_dependent_domain_linker, path_dependent_domain_linker)\n",
    "save_tab(df_independent_domain_linker, path_independent_domain_linker)"
   ]
  },
  {
   "cell_type": "markdown",
   "id": "7b6a3ada",
   "metadata": {},
   "source": [
    "# Update DLD regions by excluding short domains"
   ]
  },
  {
   "cell_type": "code",
   "execution_count": 19,
   "id": "55b6667a",
   "metadata": {},
   "outputs": [
    {
     "data": {
      "text/plain": [
       "(['1e3h_a', '3ttc_a', '4g9i_a'], ['1E3H_A', '3TTC_A', '4G9I_A'])"
      ]
     },
     "execution_count": 19,
     "metadata": {},
     "output_type": "execute_result"
    }
   ],
   "source": [
    "# 1. Load the 5 datasets.\n",
    "# 1.1. domain\n",
    "df_domain_dataset = load_tab(path_domain_dataset_tab)\n",
    "\n",
    "# 1.2. intra-domain-loop\n",
    "df_intra_domain_loop = load_tab(path_loops_intra_domain_smoothSS_first_2step_tab)\n",
    "\n",
    "# 1.3. dependent-domain-linker\n",
    "df_dependent_domain_linker = load_tab(path_dependent_domain_linker)\n",
    "\n",
    "# 1.4. independent-domain-linker\n",
    "df_independent_domain_linker = load_tab(path_independent_domain_linker)\n",
    "\n",
    "# 1.4. terminus\n",
    "df_terminus = load_tab(path_terminus_tab)\n",
    "\n",
    "df_intra_domain_loop['pdb_chainid'] = [f\"{r['pdbid']}_{r['chain']}\" for _, r in df_intra_domain_loop.iterrows()]\n",
    "df_terminus['pdb_chainid'] = [f\"{r['pdbid']}_{r['chain']}\" for _, r in df_terminus.iterrows()]\n",
    "\n",
    "df_domain_short = df_domain_dataset[df_domain_dataset['length']<10]\n",
    "short_domain_list_lower = list(df_domain_short['pdb_chainid'].unique())\n",
    "short_domain_list = [s.upper() for s in short_domain_list_lower]\n",
    "short_domain_list_lower, short_domain_list"
   ]
  },
  {
   "cell_type": "code",
   "execution_count": null,
   "id": "ead1a018",
   "metadata": {},
   "outputs": [
    {
     "data": {
      "text/plain": [
       "((6059, 18), (44977, 18), (649, 31), (1647, 31), (2994, 21))"
      ]
     },
     "execution_count": 21,
     "metadata": {},
     "output_type": "execute_result"
    }
   ],
   "source": [
    "df_domain_dataset.shape, df_intra_domain_loop.shape, df_dependent_domain_linker.shape, df_independent_domain_linker.shape, df_terminus.shape"
   ]
  },
  {
   "cell_type": "code",
   "execution_count": 25,
   "id": "6247a7c3",
   "metadata": {},
   "outputs": [],
   "source": [
    "df_domain_dataset = df_domain_dataset[~df_domain_dataset['pdb_chainid'].isin(short_domain_list_lower)]\n",
    "df_intra_domain_loop = df_intra_domain_loop[~df_intra_domain_loop['pdb_chainid'].isin(short_domain_list)]\n",
    "df_dependent_domain_linker = df_dependent_domain_linker[~df_dependent_domain_linker['pdb_chainid'].isin(short_domain_list)]\n",
    "df_independent_domain_linker = df_independent_domain_linker[~df_independent_domain_linker['pdb_chainid'].isin(short_domain_list)]\n",
    "df_terminus = df_terminus[~df_terminus['pdb_chainid'].isin(short_domain_list)]"
   ]
  },
  {
   "cell_type": "code",
   "execution_count": 26,
   "id": "a8ed4132",
   "metadata": {},
   "outputs": [
    {
     "data": {
      "text/plain": [
       "((6044, 18), (44896, 18), (647, 31), (1640, 31), (2991, 21))"
      ]
     },
     "execution_count": 26,
     "metadata": {},
     "output_type": "execute_result"
    }
   ],
   "source": [
    "df_domain_dataset.shape, df_intra_domain_loop.shape, df_dependent_domain_linker.shape, df_independent_domain_linker.shape, df_terminus.shape"
   ]
  },
  {
   "cell_type": "code",
   "execution_count": 31,
   "id": "8f2e9422",
   "metadata": {},
   "outputs": [
    {
     "data": {
      "text/plain": [
       "2646"
      ]
     },
     "execution_count": 31,
     "metadata": {},
     "output_type": "execute_result"
    }
   ],
   "source": [
    "len(df_domain_dataset['pdb_chainid'].unique())"
   ]
  },
  {
   "cell_type": "code",
   "execution_count": 29,
   "id": "1288bd4f",
   "metadata": {},
   "outputs": [
    {
     "data": {
      "text/plain": [
       "(4, 10, 4, 4, 4)"
      ]
     },
     "execution_count": 29,
     "metadata": {},
     "output_type": "execute_result"
    }
   ],
   "source": [
    "min(df_intra_domain_loop['length']), min(df_domain_dataset['length']), min(df_terminus['length']), min(df_dependent_domain_linker['length']), min(df_independent_domain_linker['length'])"
   ]
  },
  {
   "cell_type": "code",
   "execution_count": 27,
   "id": "abdb0855",
   "metadata": {},
   "outputs": [],
   "source": [
    "# 1. Load the 5 datasets.\n",
    "# 1.1. domain\n",
    "save_tab(df_domain_dataset, path_domain_dataset_tab)\n",
    "\n",
    "# 1.2. intra-domain-loop\n",
    "save_tab(df_intra_domain_loop, path_loops_intra_domain_smoothSS_first_2step_tab)\n",
    "\n",
    "# 1.3. dependent-domain-linker\n",
    "save_tab(df_dependent_domain_linker, path_dependent_domain_linker)\n",
    "\n",
    "# 1.4. independent-domain-linker\n",
    "save_tab(df_independent_domain_linker, path_independent_domain_linker)\n",
    "\n",
    "# 1.4. terminus\n",
    "save_tab(df_terminus, path_terminus_tab)"
   ]
  },
  {
   "cell_type": "markdown",
   "id": "c0fa89b3",
   "metadata": {},
   "source": [
    "# save to distionary"
   ]
  },
  {
   "cell_type": "code",
   "execution_count": null,
   "id": "59619cf9",
   "metadata": {},
   "outputs": [],
   "source": [
    "path_loops_intra_domain_smoothSS_first_2step, path_domain_dataset, path_terminus, "
   ]
  },
  {
   "cell_type": "code",
   "execution_count": 30,
   "id": "777ea03a",
   "metadata": {},
   "outputs": [],
   "source": [
    "dump_dict2json(df_independent_domain_linker.to_dict(orient='records'), path_independent_domain_linker_json)\n",
    "dump_dict2json(df_dependent_domain_linker.to_dict(orient='records'), path_dependent_domain_linker_json)\n",
    "\n",
    "dump_dict2json(df_intra_domain_loop.to_dict(orient='records'), path_loops_intra_domain_smoothSS_first_2step)\n",
    "dump_dict2json(df_domain_dataset.to_dict(orient='records'), path_domain_dataset)\n",
    "\n",
    "dump_dict2json(df_terminus.to_dict(orient='records'), path_terminus)"
   ]
  },
  {
   "cell_type": "markdown",
   "id": "cd117386",
   "metadata": {},
   "source": [
    "# update two meta files"
   ]
  },
  {
   "cell_type": "code",
   "execution_count": 38,
   "id": "dd5ed8bb",
   "metadata": {},
   "outputs": [],
   "source": [
    "multi_domain = load_tab(path_tab_scop_FA_continuous_uni_multi_parse_domian)\n",
    "dict_pdb_chain_unp = read_json2dict(path_pdb_chain_unp)\n",
    "multi_domain['pdb_chainid'] = [r.lower() for r in multi_domain['seq_id']]\n",
    "# dump_dict2json(dict_pdb_chain_unp, path_pdb_chain_unp)"
   ]
  },
  {
   "cell_type": "code",
   "execution_count": 40,
   "id": "1320d7d9",
   "metadata": {},
   "outputs": [
    {
     "data": {
      "text/html": [
       "<div>\n",
       "<style scoped>\n",
       "    .dataframe tbody tr th:only-of-type {\n",
       "        vertical-align: middle;\n",
       "    }\n",
       "\n",
       "    .dataframe tbody tr th {\n",
       "        vertical-align: top;\n",
       "    }\n",
       "\n",
       "    .dataframe thead th {\n",
       "        text-align: right;\n",
       "    }\n",
       "</style>\n",
       "<table border=\"1\" class=\"dataframe\">\n",
       "  <thead>\n",
       "    <tr style=\"text-align: right;\">\n",
       "      <th></th>\n",
       "      <th>FA-DOMID</th>\n",
       "      <th>FA-PDBID</th>\n",
       "      <th>FA-PDBREG</th>\n",
       "      <th>FA-UNIID</th>\n",
       "      <th>FA-UNIREG</th>\n",
       "      <th>FA</th>\n",
       "      <th>FA-UNIREG-START</th>\n",
       "      <th>FA-UNIREG-END</th>\n",
       "      <th>FA-PDBREG-START</th>\n",
       "      <th>FA-PDBREG-END</th>\n",
       "      <th>FA-CHAINID</th>\n",
       "      <th>seq_id</th>\n",
       "      <th>length</th>\n",
       "      <th>experiment_type</th>\n",
       "      <th>resolution</th>\n",
       "      <th>pdb_chainid</th>\n",
       "    </tr>\n",
       "  </thead>\n",
       "  <tbody>\n",
       "    <tr>\n",
       "      <th>0</th>\n",
       "      <td>8024262</td>\n",
       "      <td>1A04</td>\n",
       "      <td>A:150-216</td>\n",
       "      <td>P0AF28</td>\n",
       "      <td>150-216</td>\n",
       "      <td>4000720</td>\n",
       "      <td>150</td>\n",
       "      <td>216</td>\n",
       "      <td>150</td>\n",
       "      <td>216</td>\n",
       "      <td>A</td>\n",
       "      <td>1a04_A</td>\n",
       "      <td>67</td>\n",
       "      <td>XRay</td>\n",
       "      <td>2.2</td>\n",
       "      <td>1a04_a</td>\n",
       "    </tr>\n",
       "    <tr>\n",
       "      <th>1</th>\n",
       "      <td>8031657</td>\n",
       "      <td>1A04</td>\n",
       "      <td>A:5-142</td>\n",
       "      <td>P0AF28</td>\n",
       "      <td>5-142</td>\n",
       "      <td>4003632</td>\n",
       "      <td>5</td>\n",
       "      <td>142</td>\n",
       "      <td>5</td>\n",
       "      <td>142</td>\n",
       "      <td>A</td>\n",
       "      <td>1a04_A</td>\n",
       "      <td>138</td>\n",
       "      <td>XRay</td>\n",
       "      <td>2.2</td>\n",
       "      <td>1a04_a</td>\n",
       "    </tr>\n",
       "  </tbody>\n",
       "</table>\n",
       "</div>"
      ],
      "text/plain": [
       "   FA-DOMID FA-PDBID  FA-PDBREG FA-UNIID FA-UNIREG       FA  FA-UNIREG-START  \\\n",
       "0   8024262     1A04  A:150-216   P0AF28   150-216  4000720              150   \n",
       "1   8031657     1A04    A:5-142   P0AF28     5-142  4003632                5   \n",
       "\n",
       "   FA-UNIREG-END  FA-PDBREG-START  FA-PDBREG-END FA-CHAINID  seq_id  length  \\\n",
       "0            216              150            216          A  1a04_A      67   \n",
       "1            142                5            142          A  1a04_A     138   \n",
       "\n",
       "  experiment_type  resolution pdb_chainid  \n",
       "0            XRay         2.2      1a04_a  \n",
       "1            XRay         2.2      1a04_a  "
      ]
     },
     "execution_count": 40,
     "metadata": {},
     "output_type": "execute_result"
    }
   ],
   "source": [
    "multi_domain[:2]"
   ]
  },
  {
   "cell_type": "code",
   "execution_count": 43,
   "id": "25547b71",
   "metadata": {},
   "outputs": [
    {
     "data": {
      "text/plain": [
       "2646"
      ]
     },
     "execution_count": 43,
     "metadata": {},
     "output_type": "execute_result"
    }
   ],
   "source": [
    "multi_domain = multi_domain[multi_domain['pdb_chainid'].isin(list(df_domain_dataset['pdb_chainid'].unique()))]\n",
    "len(multi_domain['pdb_chainid'].unique())"
   ]
  },
  {
   "cell_type": "code",
   "execution_count": 44,
   "id": "a756f3c2",
   "metadata": {},
   "outputs": [
    {
     "name": "stdout",
     "output_type": "stream",
     "text": [
      "Update path_pdb_chain_unp\n"
     ]
    }
   ],
   "source": [
    "print('Update path_pdb_chain_unp')\n",
    "dict_pdb_chain_unp = {}\n",
    "df_dict = multi_domain[['FA-PDBID', 'FA-CHAINID', 'FA-UNIID']]\n",
    "for pdbid, sub_df in df_dict.groupby(\"FA-PDBID\"):\n",
    "    pdbid_lower = pdbid.lower()\n",
    "    chain_dict = {}\n",
    "    for chain_id, chain_df in sub_df.groupby(\"FA-CHAINID\"):\n",
    "        unique_uniprot = sorted(set(chain_df[\"FA-UNIID\"]))  # remove duplicates\n",
    "        chain_dict[chain_id] = unique_uniprot\n",
    "    dict_pdb_chain_unp[pdbid_lower] = chain_dict"
   ]
  },
  {
   "cell_type": "code",
   "execution_count": 46,
   "id": "c0625a2c",
   "metadata": {},
   "outputs": [],
   "source": [
    "dump_dict2json(dict_pdb_chain_unp, path_pdb_chain_unp)"
   ]
  },
  {
   "cell_type": "code",
   "execution_count": null,
   "id": "bab93443",
   "metadata": {},
   "outputs": [],
   "source": []
  }
 ],
 "metadata": {
  "kernelspec": {
   "display_name": "py12",
   "language": "python",
   "name": "python3"
  },
  "language_info": {
   "codemirror_mode": {
    "name": "ipython",
    "version": 3
   },
   "file_extension": ".py",
   "mimetype": "text/x-python",
   "name": "python",
   "nbconvert_exporter": "python",
   "pygments_lexer": "ipython3",
   "version": "3.12.2"
  }
 },
 "nbformat": 4,
 "nbformat_minor": 5
}
