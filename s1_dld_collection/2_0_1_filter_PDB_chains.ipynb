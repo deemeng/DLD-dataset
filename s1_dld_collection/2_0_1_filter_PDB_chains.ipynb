{
 "cells": [
  {
   "cell_type": "code",
   "execution_count": 2,
   "id": "cae12a58",
   "metadata": {},
   "outputs": [],
   "source": [
    "import os\n",
    "import pandas as pd\n",
    "\n",
    "from Bio.PDB import PDBParser, MMCIFParser\n",
    "from Bio.PDB.MMCIF2Dict import MMCIF2Dict\n",
    "from Bio.PDB.DSSP import DSSP\n",
    "from Bio.PDB import PDBList\n",
    "\n",
    "from loop.pdb_files import get_PDBfiles\n",
    "from loop.dssp import save_SS\n",
    "from utils.common import load_tab, save_tab, dump_dicts2jsons, dump_dict2json, read_json2list\n",
    "from params import *"
   ]
  },
  {
   "cell_type": "markdown",
   "id": "6738a1ec",
   "metadata": {},
   "source": [
    "# Data Analysis (DI work here):\n",
    "1. Re-define the data set by choosing a way of filtering these PDBs out. Lucía and July suggest filtering out all regions smaller than 30 residues as a safe choice. You can additionally filter out structures with low resolution (only keep data from resolution value <= 5Å) if this is easy to do. If it is not straightforward, I would recommend just apply the length filtering. \n",
    "\n",
    "2. Re-run the M2O\n",
    "3. Re-train the ANN\n",
    "4. Re-do T-SNE plots"
   ]
  },
  {
   "cell_type": "code",
   "execution_count": 3,
   "id": "8fa252cd",
   "metadata": {},
   "outputs": [],
   "source": [
    "df_domain_scop = load_tab(path_tab_scop_FA_continuous_uni_multi_domian)"
   ]
  },
  {
   "cell_type": "code",
   "execution_count": 4,
   "id": "8d1b082d",
   "metadata": {},
   "outputs": [
    {
     "data": {
      "text/html": [
       "<div>\n",
       "<style scoped>\n",
       "    .dataframe tbody tr th:only-of-type {\n",
       "        vertical-align: middle;\n",
       "    }\n",
       "\n",
       "    .dataframe tbody tr th {\n",
       "        vertical-align: top;\n",
       "    }\n",
       "\n",
       "    .dataframe thead th {\n",
       "        text-align: right;\n",
       "    }\n",
       "</style>\n",
       "<table border=\"1\" class=\"dataframe\">\n",
       "  <thead>\n",
       "    <tr style=\"text-align: right;\">\n",
       "      <th></th>\n",
       "      <th>FA-DOMID</th>\n",
       "      <th>FA-PDBID</th>\n",
       "      <th>FA-PDBREG</th>\n",
       "      <th>FA-UNIID</th>\n",
       "      <th>FA-UNIREG</th>\n",
       "      <th>FA</th>\n",
       "      <th>FA-UNIREG-START</th>\n",
       "      <th>FA-UNIREG-END</th>\n",
       "      <th>FA-PDBREG-START</th>\n",
       "      <th>FA-PDBREG-END</th>\n",
       "      <th>FA-CHAINID</th>\n",
       "    </tr>\n",
       "  </thead>\n",
       "  <tbody>\n",
       "    <tr>\n",
       "      <th>595</th>\n",
       "      <td>8032048</td>\n",
       "      <td>1F1U</td>\n",
       "      <td>A:148-323</td>\n",
       "      <td>H0QJ69</td>\n",
       "      <td>148-323</td>\n",
       "      <td>4001093</td>\n",
       "      <td>148</td>\n",
       "      <td>323</td>\n",
       "      <td>148</td>\n",
       "      <td>323</td>\n",
       "      <td>A</td>\n",
       "    </tr>\n",
       "    <tr>\n",
       "      <th>596</th>\n",
       "      <td>8032047</td>\n",
       "      <td>1F1U</td>\n",
       "      <td>A:2-147</td>\n",
       "      <td>H0QJ69</td>\n",
       "      <td>2-147</td>\n",
       "      <td>4001093</td>\n",
       "      <td>2</td>\n",
       "      <td>147</td>\n",
       "      <td>2</td>\n",
       "      <td>147</td>\n",
       "      <td>A</td>\n",
       "    </tr>\n",
       "  </tbody>\n",
       "</table>\n",
       "</div>"
      ],
      "text/plain": [
       "     FA-DOMID FA-PDBID  FA-PDBREG FA-UNIID FA-UNIREG       FA  \\\n",
       "595   8032048     1F1U  A:148-323   H0QJ69   148-323  4001093   \n",
       "596   8032047     1F1U    A:2-147   H0QJ69     2-147  4001093   \n",
       "\n",
       "     FA-UNIREG-START  FA-UNIREG-END FA-PDBREG-START FA-PDBREG-END FA-CHAINID  \n",
       "595              148            323             148           323          A  \n",
       "596                2            147               2           147          A  "
      ]
     },
     "execution_count": 4,
     "metadata": {},
     "output_type": "execute_result"
    }
   ],
   "source": [
    "df_domain_scop[:2]\n",
    "\n",
    "df_domain_scop[df_domain_scop['FA-PDBID']=='1F1U']"
   ]
  },
  {
   "cell_type": "code",
   "execution_count": 20,
   "id": "a4e1996c",
   "metadata": {},
   "outputs": [
    {
     "data": {
      "text/plain": [
       "(2867, 2734)"
      ]
     },
     "execution_count": 20,
     "metadata": {},
     "output_type": "execute_result"
    }
   ],
   "source": [
    "# generate seq_id -> 'pdbID_chainID'\n",
    "\n",
    "df_domain_scop['seq_id'] = [f\"{r['FA-PDBID'].lower()}_{r['FA-CHAINID']}\" for _, r in df_domain_scop.iterrows()]\n",
    "df_domain_scop['length'] = [r['FA-UNIREG-END']-r['FA-UNIREG-START']+1 for _, r in df_domain_scop.iterrows()]\n",
    "len(df_domain_scop['seq_id'].unique()), len(df_domain_scop['FA-PDBID'].unique())"
   ]
  },
  {
   "cell_type": "markdown",
   "id": "37d6c97b",
   "metadata": {},
   "source": [
    "## 1. resolution value <= 5A\n",
    "\n",
    "Note: no PDB file: 3jaq.cif (Not available anymore)."
   ]
  },
  {
   "cell_type": "markdown",
   "id": "84e0ba8b",
   "metadata": {},
   "source": [
    "### 1.1. get resolution values from PDB files"
   ]
  },
  {
   "cell_type": "code",
   "execution_count": 21,
   "id": "5fa3ec8f",
   "metadata": {},
   "outputs": [],
   "source": [
    "def classify_structure(pdbid, path_pdb_cif):\n",
    "    \"\"\"\n",
    "    Classify a PDB .cif file into X-ray, EM, or NMR, with resolution handling.\n",
    "\n",
    "    Parameters:\n",
    "        cif_path (str): Path to the .cif file.\n",
    "\n",
    "    Returns:\n",
    "        dict: {'experiment_type': str, 'resolution': float}\n",
    "              Resolution is 0 for NMR, otherwise taken from CIF.\n",
    "              If resolution missing for X-ray/EM, set to None.\n",
    "    \"\"\"\n",
    "    cif_path = f\"{path_pdb_cif}/{pdbid.lower()}.cif\"\n",
    "    parser = MMCIFParser(QUIET=True)\n",
    "    result = {'pdbid': pdbid, 'experiment_type': None, 'resolution': None}\n",
    "\n",
    "    try:\n",
    "        # Parse the file (this loads mmCIF metadata)\n",
    "        parser.get_structure(\"temp\", cif_path)\n",
    "        mmcif_dict = parser._mmcif_dict\n",
    "\n",
    "        # Get experimental method (usually in _exptl.method)\n",
    "        if '_exptl.method' in mmcif_dict:\n",
    "            method = mmcif_dict['_exptl.method'][0].upper()\n",
    "        else:\n",
    "            method = \"UNKNOWN\"\n",
    "\n",
    "        # Classify experiment type\n",
    "        if \"X-RAY\" in method:\n",
    "            result['experiment_type'] = \"XRay\"\n",
    "        elif \"ELECTRON MICROSCOPY\" in method or \"EM\" in method:\n",
    "            result['experiment_type'] = \"EM\"\n",
    "        elif \"NMR\" in method:\n",
    "            result['experiment_type'] = \"NMR\"\n",
    "        else:\n",
    "            result['experiment_type'] = method  # store raw if unrecognized\n",
    "\n",
    "        # Resolution logic\n",
    "        if result['experiment_type'] == \"NMR\":\n",
    "            result['resolution'] = 0.0\n",
    "        else:\n",
    "            # Try to get resolution from mmCIF\n",
    "            if '_refine.ls_d_res_high' in mmcif_dict:\n",
    "                try:\n",
    "                    result['resolution'] = float(mmcif_dict['_refine.ls_d_res_high'][0])\n",
    "                except (ValueError, IndexError):\n",
    "                    result['resolution'] = None\n",
    "            else:\n",
    "                result['resolution'] = None\n",
    "\n",
    "    except Exception as e:\n",
    "        print(f\"Error processing {cif_path}: {e}\")\n",
    "\n",
    "    return result\n"
   ]
  },
  {
   "cell_type": "code",
   "execution_count": 22,
   "id": "cc27e417",
   "metadata": {},
   "outputs": [
    {
     "data": {
      "text/plain": [
       "{'pdbid': '1A5J', 'experiment_type': 'NMR', 'resolution': 0.0}"
      ]
     },
     "execution_count": 22,
     "metadata": {},
     "output_type": "execute_result"
    }
   ],
   "source": [
    "pid = '1A5J'\n",
    "classify_structure(pid, path_pdb_cif)"
   ]
  },
  {
   "cell_type": "code",
   "execution_count": null,
   "id": "08ed48f8",
   "metadata": {},
   "outputs": [
    {
     "name": "stdout",
     "output_type": "stream",
     "text": [
      "Error processing /home/dimeng/project/linker/domain_linker_v2/data/recollect_dsAll/pdb/mmcif/3jaq.cif: [Errno 2] No such file or directory: '/home/dimeng/project/linker/domain_linker_v2/data/recollect_dsAll/pdb/mmcif/3jaq.cif'\n"
     ]
    }
   ],
   "source": [
    "# list_pdbid = df_domain_scop_long['FA-PDBID'].unique()\n",
    "list_pdbid = df_domain_scop['FA-PDBID'].unique()\n",
    "len(list_pdbid)\n",
    "\n",
    "list_experiment_resolution = []\n",
    "for pid in list_pdbid:\n",
    "    list_experiment_resolution.append(classify_structure(pid, path_pdb_cif))\n",
    "    \n",
    "dump_dict2json(list_experiment_resolution, 'list_experiment_resolution.json')\n"
   ]
  },
  {
   "cell_type": "markdown",
   "id": "389f5757",
   "metadata": {},
   "source": [
    "### 1.2. add resolution values to the SCOPE domain table"
   ]
  },
  {
   "cell_type": "code",
   "execution_count": null,
   "id": "8afa65ce",
   "metadata": {},
   "outputs": [],
   "source": [
    "list_experiment_resolution = read_json2list('list_experiment_resolution.json')\n",
    "df_pdb_resolution = pd.DataFrame(list_experiment_resolution)\n",
    "\n",
    "df_merged = (\n",
    "    df_domain_scop\n",
    "    .merge(df_pdb_resolution, left_on='FA-PDBID', right_on='pdbid', how='inner')\n",
    "    .drop(columns=['pdbid'])\n",
    ")\n",
    "save_tab(df_merged, path_tab_scop_FA_continuous_uni_multi_domian_withResolution)"
   ]
  },
  {
   "cell_type": "markdown",
   "id": "be37cb8a",
   "metadata": {},
   "source": [
    "### 1.3. check experimental types and numbers"
   ]
  },
  {
   "cell_type": "code",
   "execution_count": null,
   "id": "c6a96d47",
   "metadata": {},
   "outputs": [
    {
     "data": {
      "text/plain": [
       "Index(['FA-DOMID', 'FA-PDBID', 'FA-PDBREG', 'FA-UNIID', 'FA-UNIREG', 'FA',\n",
       "       'FA-UNIREG-START', 'FA-UNIREG-END', 'FA-PDBREG-START', 'FA-PDBREG-END',\n",
       "       'FA-CHAINID', 'seq_id', 'length'],\n",
       "      dtype='object')"
      ]
     },
     "execution_count": 8,
     "metadata": {},
     "output_type": "execute_result"
    }
   ],
   "source": [
    "df_merged = load_tab(path_tab_scop_FA_continuous_uni_multi_domian_withResolution)\n",
    "\n",
    "df_nmr = df_merged[df_merged['experiment_type']=='NMR']\n",
    "df_xray = df_merged[df_merged['experiment_type']=='XRay']\n",
    "df_em = df_merged[df_merged['experiment_type']=='EM']\n",
    "df_ec = df_merged[df_merged['experiment_type']=='ELECTRON CRYSTALLOGRAPHY']\n",
    "\n",
    "df_other = df_merged[~df_merged['experiment_type'].isin(['NMR', 'XRay', 'EM', 'ELECTRON CRYSTALLOGRAPHY'])]\n",
    "\n",
    "df_nmr.shape, df_xray.shape, df_em.shape, df_ec.shape, df_other.shape"
   ]
  },
  {
   "cell_type": "code",
   "execution_count": 6,
   "id": "39c3af4b",
   "metadata": {},
   "outputs": [
    {
     "data": {
      "text/plain": [
       "(93, 2665, 104, 4, 1)"
      ]
     },
     "execution_count": 6,
     "metadata": {},
     "output_type": "execute_result"
    }
   ],
   "source": [
    "len(df_nmr['seq_id'].unique()), len(df_xray['seq_id'].unique()), len(df_em['seq_id'].unique()), len(df_ec['seq_id'].unique()), len(df_other['seq_id'].unique())"
   ]
  },
  {
   "cell_type": "code",
   "execution_count": 12,
   "id": "50dbfb7d",
   "metadata": {},
   "outputs": [
    {
     "data": {
      "text/plain": [
       "(93, 2659, 14, 4, 1)"
      ]
     },
     "execution_count": 12,
     "metadata": {},
     "output_type": "execute_result"
    }
   ],
   "source": [
    "len(df_nmr['seq_id'].unique()), len(df_xray[df_xray['resolution']<=5]['seq_id'].unique()), len(df_em[df_em['resolution']<=5]['seq_id'].unique()), len(df_ec[df_ec['resolution']<=5]['seq_id'].unique()), len(df_other['seq_id'].unique())"
   ]
  },
  {
   "cell_type": "code",
   "execution_count": 8,
   "id": "4a21d7ba",
   "metadata": {},
   "outputs": [
    {
     "data": {
      "text/plain": [
       "2867"
      ]
     },
     "execution_count": 8,
     "metadata": {},
     "output_type": "execute_result"
    }
   ],
   "source": [
    "93+2665+104+4+1"
   ]
  },
  {
   "cell_type": "code",
   "execution_count": 9,
   "id": "30553699",
   "metadata": {},
   "outputs": [
    {
     "data": {
      "text/plain": [
       "(93, 2569, 69, 2, 1)"
      ]
     },
     "execution_count": 9,
     "metadata": {},
     "output_type": "execute_result"
    }
   ],
   "source": [
    "len(df_nmr['FA-PDBID'].unique()), len(df_xray['FA-PDBID'].unique()), len(df_em['FA-PDBID'].unique()), len(df_ec['FA-PDBID'].unique()), len(df_other['FA-PDBID'].unique())"
   ]
  },
  {
   "cell_type": "code",
   "execution_count": 11,
   "id": "753def5e",
   "metadata": {},
   "outputs": [
    {
     "data": {
      "text/plain": [
       "2734"
      ]
     },
     "execution_count": 11,
     "metadata": {},
     "output_type": "execute_result"
    }
   ],
   "source": [
    "sum((93, 2569, 69, 2, 1))"
   ]
  },
  {
   "cell_type": "code",
   "execution_count": 13,
   "id": "9f88697a",
   "metadata": {},
   "outputs": [
    {
     "data": {
      "text/plain": [
       "(93, 2565, 11, 2, 1)"
      ]
     },
     "execution_count": 13,
     "metadata": {},
     "output_type": "execute_result"
    }
   ],
   "source": [
    "len(df_nmr['FA-PDBID'].unique()), len(df_xray[df_xray['resolution']<=5]['FA-PDBID'].unique()), len(df_em[df_em['resolution']<=5]['FA-PDBID'].unique()), len(df_ec[df_ec['resolution']<=5]['FA-PDBID'].unique()), len(df_other['FA-PDBID'].unique())"
   ]
  },
  {
   "cell_type": "code",
   "execution_count": 16,
   "id": "7600c3d2",
   "metadata": {},
   "outputs": [
    {
     "data": {
      "text/plain": [
       "(2770, 2671)"
      ]
     },
     "execution_count": 16,
     "metadata": {},
     "output_type": "execute_result"
    }
   ],
   "source": [
    "df_merged_resolution5 = df_merged[df_merged['resolution']<=5]\n",
    "len(df_merged_resolution5['seq_id'].unique()), len(df_merged_resolution5['FA-PDBID'].unique())"
   ]
  },
  {
   "cell_type": "code",
   "execution_count": 22,
   "id": "c48c0644",
   "metadata": {},
   "outputs": [
    {
     "data": {
      "text/plain": [
       "(2765, 2666)"
      ]
     },
     "execution_count": 22,
     "metadata": {},
     "output_type": "execute_result"
    }
   ],
   "source": [
    "# domain length less than 30\n",
    "df_merged_length30 = df_merged_resolution5[df_merged_resolution5['length']>=30]\n",
    "len(df_merged_length30['seq_id'].unique()), len(df_merged_length30['FA-PDBID'].unique())"
   ]
  },
  {
   "cell_type": "markdown",
   "id": "6033f33f",
   "metadata": {},
   "source": [
    "## 2. add domain length threshold\n",
    "\n",
    "Exclude PDB chains contain short domains (len<30)"
   ]
  },
  {
   "cell_type": "code",
   "execution_count": 36,
   "id": "6284f793",
   "metadata": {},
   "outputs": [],
   "source": [
    "df_merged_resolution5 = df_merged[df_merged['resolution']<=5]\n",
    "df_merged_short = df_merged_resolution5[df_merged_resolution5['length']<30]\n",
    "\n",
    "list_short_seqid = list(df_merged_short['seq_id'].unique()) # PDB chains contain short domains\n",
    "df_merged_resolution5_length30 = df_merged_resolution5[~df_merged_resolution5['seq_id'].isin(list_short_seqid)]"
   ]
  },
  {
   "cell_type": "code",
   "execution_count": 42,
   "id": "71a29463",
   "metadata": {},
   "outputs": [
    {
     "data": {
      "text/plain": [
       "(2712, 2615)"
      ]
     },
     "execution_count": 42,
     "metadata": {},
     "output_type": "execute_result"
    }
   ],
   "source": [
    "len(df_merged_resolution5_length30['seq_id'].unique()), len(df_merged_resolution5_length30['FA-PDBID'].unique())"
   ]
  },
  {
   "cell_type": "code",
   "execution_count": null,
   "id": "a769c1ea",
   "metadata": {},
   "outputs": [],
   "source": [
    "path_tab_scop_FA_continuous_uni_multi_domian_lenResolution_filtered = os.path.join(path_scop_folder, 'scop-cla-latest-table-FAcontinuousUniMultiDomain_lenResolution_filtered.tsv')\n",
    "save_tab(df_merged_resolution5_length30, path_tab_scop_FA_continuous_uni_multi_domian_lenResolution_filtered)"
   ]
  },
  {
   "cell_type": "code",
   "execution_count": null,
   "id": "74028f46",
   "metadata": {},
   "outputs": [],
   "source": []
  }
 ],
 "metadata": {
  "kernelspec": {
   "display_name": "py12",
   "language": "python",
   "name": "python3"
  },
  "language_info": {
   "codemirror_mode": {
    "name": "ipython",
    "version": 3
   },
   "file_extension": ".py",
   "mimetype": "text/x-python",
   "name": "python",
   "nbconvert_exporter": "python",
   "pygments_lexer": "ipython3",
   "version": "3.12.2"
  }
 },
 "nbformat": 4,
 "nbformat_minor": 5
}
