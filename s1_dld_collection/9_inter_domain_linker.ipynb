{
 "cells": [
  {
   "cell_type": "code",
   "execution_count": 1,
   "id": "3a1682df-afc6-48fc-a167-1532e6fc25da",
   "metadata": {},
   "outputs": [],
   "source": [
    "import os\n",
    "import pandas as pd\n",
    "import numpy as np\n",
    "\n",
    "import matplotlib.pyplot as plt\n",
    "import seaborn as sns\n",
    "\n",
    "from Bio.PDB import MMCIFParser, FastMMCIFParser\n",
    "from Bio.PDB.MMCIF2Dict import MMCIF2Dict\n",
    "from Bio.PDB.DSSP import DSSP\n",
    "from Bio.PDB import PDBList\n",
    "from Bio.SeqUtils import IUPACData\n",
    "\n",
    "from loop.pdb_files import get_PDBfiles, parse_mmcif\n",
    "from loop.dssp import generate_pdp_chain_pairs\n",
    "from utils.common import load_tab, save_tab, dump_dicts2jsons, lower_pdbid, read_json2dict, dump_dict2json\n",
    "from utils.protein import protein_letters_3to1\n",
    "\n",
    "from utils.loops import print_loop_count\n",
    "from utils.common import df2json\n",
    "\n",
    "from domain_linker.cc_contact import contact, getCoords\n",
    "from domain_linker.extract_linkers import get_2domain_start_end\n",
    "from domain_linker.hbond import check_2Hbond\n",
    "from params import *\n",
    "\n",
    "from utils.log import logger"
   ]
  },
  {
   "cell_type": "markdown",
   "id": "9ff1a3ed-c32b-42da-89fb-00c1e2e98367",
   "metadata": {},
   "source": [
    "# 0. Functions"
   ]
  },
  {
   "cell_type": "code",
   "execution_count": 37,
   "id": "27182d4e-9c69-4e00-b20d-ec42431cb5e8",
   "metadata": {},
   "outputs": [],
   "source": [
    "def clasify_interDomainLinker(df_domain_loops_dist, t_contact: int, t_hbond: int):\n",
    "    '''\n",
    "    classify domain-linkers from inter-domain loops. Between two domains:\n",
    "    1. Num(C-C contact) < t_contact\n",
    "    2. Num(Hbond) < t_hbond\n",
    "    \n",
    "    '''\n",
    "    df_contact_t = df_domain_loops_dist[df_domain_loops_dist['num_contacts']<t_contact]\n",
    "    df_independent = df_contact_t[df_contact_t['num_hbonds']<t_hbond]\n",
    "    idx_independent = list(df_independent['linkerID'])\n",
    "    idx_dependent = list(set(df_domain_loops_dist['linkerID']) - set(df_independent['linkerID']))\n",
    "    df_dependent = df_domain_loops_dist[df_domain_loops_dist['linkerID'].isin(idx_dependent)]\n",
    "    \n",
    "    return df_independent, df_dependent, df_contact_t"
   ]
  },
  {
   "cell_type": "code",
   "execution_count": 2,
   "id": "4aa47c76-2031-4e4c-a495-f97fbca9c27c",
   "metadata": {},
   "outputs": [],
   "source": [
    "def bin_count(df_independent, bins: list):\n",
    "    loop_length = list(df_independent['length'])\n",
    "    \n",
    "    cls = [np.round(np.random.rand(),1), np.round(np.random.rand(),1),np.round(np.random.rand(),1), 0.8]\n",
    "    print(cls)\n",
    "    plt.figure(figsize=(12, 6))\n",
    "    counts, edges, bars = plt.hist(loop_length, bins=bins, color=cls)\n",
    "    \n",
    "    return counts, loop_length, edges"
   ]
  },
  {
   "cell_type": "markdown",
   "id": "18fab6e3-8874-4e19-930c-16f23886277b",
   "metadata": {},
   "source": [
    "# 1. Data"
   ]
  },
  {
   "cell_type": "code",
   "execution_count": 3,
   "id": "e548d690-f5b0-473c-8f7e-d7f545b41213",
   "metadata": {},
   "outputs": [],
   "source": [
    "multi_domain = load_tab(path_tab_scop_FA_continuous_uni_multi_parse_domian)\n",
    "# dict_domain_loops_smoothSS_second = read_json2dict(path_loops_domain_smoothSS_second)\n",
    "# after run 1_scop_domain.ipynb (adjacent domain), to generate domain distance file\n",
    "df_domain_dist = load_tab(path_tab_scop_FA_continuous_uni_multi_parse_domian_dist)"
   ]
  },
  {
   "cell_type": "code",
   "execution_count": 4,
   "id": "8e085344",
   "metadata": {},
   "outputs": [
    {
     "data": {
      "text/plain": [
       "((6063, 15), 2568, 2649)"
      ]
     },
     "execution_count": 4,
     "metadata": {},
     "output_type": "execute_result"
    }
   ],
   "source": [
    "multi_domain.shape, len(multi_domain['FA-PDBID'].unique()), len(multi_domain['seq_id'].unique())"
   ]
  },
  {
   "cell_type": "code",
   "execution_count": 5,
   "id": "791799eb",
   "metadata": {},
   "outputs": [
    {
     "data": {
      "text/html": [
       "<div>\n",
       "<style scoped>\n",
       "    .dataframe tbody tr th:only-of-type {\n",
       "        vertical-align: middle;\n",
       "    }\n",
       "\n",
       "    .dataframe tbody tr th {\n",
       "        vertical-align: top;\n",
       "    }\n",
       "\n",
       "    .dataframe thead th {\n",
       "        text-align: right;\n",
       "    }\n",
       "</style>\n",
       "<table border=\"1\" class=\"dataframe\">\n",
       "  <thead>\n",
       "    <tr style=\"text-align: right;\">\n",
       "      <th></th>\n",
       "      <th>FA-DOMID</th>\n",
       "      <th>FA-PDBID</th>\n",
       "      <th>FA-PDBREG</th>\n",
       "      <th>FA-UNIID</th>\n",
       "      <th>FA-UNIREG</th>\n",
       "      <th>FA</th>\n",
       "      <th>FA-UNIREG-START</th>\n",
       "      <th>FA-UNIREG-END</th>\n",
       "      <th>FA-PDBREG-START</th>\n",
       "      <th>FA-PDBREG-END</th>\n",
       "      <th>FA-CHAINID</th>\n",
       "      <th>seq_id</th>\n",
       "      <th>length</th>\n",
       "      <th>experiment_type</th>\n",
       "      <th>resolution</th>\n",
       "    </tr>\n",
       "  </thead>\n",
       "  <tbody>\n",
       "    <tr>\n",
       "      <th>2214</th>\n",
       "      <td>8027235</td>\n",
       "      <td>1SMY</td>\n",
       "      <td>F:258-318</td>\n",
       "      <td>Q5SKW1</td>\n",
       "      <td>258-318</td>\n",
       "      <td>4003497</td>\n",
       "      <td>258</td>\n",
       "      <td>318</td>\n",
       "      <td>258</td>\n",
       "      <td>318</td>\n",
       "      <td>F</td>\n",
       "      <td>1smy_F</td>\n",
       "      <td>61</td>\n",
       "      <td>XRay</td>\n",
       "      <td>2.7</td>\n",
       "    </tr>\n",
       "    <tr>\n",
       "      <th>2215</th>\n",
       "      <td>8027236</td>\n",
       "      <td>1SMY</td>\n",
       "      <td>F:319-423</td>\n",
       "      <td>Q5SKW1</td>\n",
       "      <td>319-423</td>\n",
       "      <td>4003503</td>\n",
       "      <td>319</td>\n",
       "      <td>423</td>\n",
       "      <td>319</td>\n",
       "      <td>423</td>\n",
       "      <td>F</td>\n",
       "      <td>1smy_F</td>\n",
       "      <td>105</td>\n",
       "      <td>XRay</td>\n",
       "      <td>2.7</td>\n",
       "    </tr>\n",
       "    <tr>\n",
       "      <th>2216</th>\n",
       "      <td>8027237</td>\n",
       "      <td>1SMY</td>\n",
       "      <td>F:74-257</td>\n",
       "      <td>Q5SKW1</td>\n",
       "      <td>74-257</td>\n",
       "      <td>4003741</td>\n",
       "      <td>74</td>\n",
       "      <td>257</td>\n",
       "      <td>74</td>\n",
       "      <td>257</td>\n",
       "      <td>F</td>\n",
       "      <td>1smy_F</td>\n",
       "      <td>184</td>\n",
       "      <td>XRay</td>\n",
       "      <td>2.7</td>\n",
       "    </tr>\n",
       "  </tbody>\n",
       "</table>\n",
       "</div>"
      ],
      "text/plain": [
       "      FA-DOMID FA-PDBID  FA-PDBREG FA-UNIID FA-UNIREG       FA  \\\n",
       "2214   8027235     1SMY  F:258-318   Q5SKW1   258-318  4003497   \n",
       "2215   8027236     1SMY  F:319-423   Q5SKW1   319-423  4003503   \n",
       "2216   8027237     1SMY   F:74-257   Q5SKW1    74-257  4003741   \n",
       "\n",
       "      FA-UNIREG-START  FA-UNIREG-END  FA-PDBREG-START  FA-PDBREG-END  \\\n",
       "2214              258            318              258            318   \n",
       "2215              319            423              319            423   \n",
       "2216               74            257               74            257   \n",
       "\n",
       "     FA-CHAINID  seq_id  length experiment_type  resolution  \n",
       "2214          F  1smy_F      61            XRay         2.7  \n",
       "2215          F  1smy_F     105            XRay         2.7  \n",
       "2216          F  1smy_F     184            XRay         2.7  "
      ]
     },
     "execution_count": 5,
     "metadata": {},
     "output_type": "execute_result"
    }
   ],
   "source": [
    "multi_domain[multi_domain['FA-PDBID']=='1SMY']"
   ]
  },
  {
   "cell_type": "code",
   "execution_count": 6,
   "id": "cae4c812",
   "metadata": {},
   "outputs": [
    {
     "data": {
      "text/plain": [
       "(2568, 2574, 2574)"
      ]
     },
     "execution_count": 6,
     "metadata": {},
     "output_type": "execute_result"
    }
   ],
   "source": [
    "len(multi_domain['FA-PDBID'].unique()), len(df_domain_dist['pdbid'].unique()), 1885+689"
   ]
  },
  {
   "cell_type": "markdown",
   "id": "21e99e49-92e3-4218-aa0c-3c1780b4afe3",
   "metadata": {},
   "source": [
    "## 1.1. Load more data"
   ]
  },
  {
   "cell_type": "code",
   "execution_count": 7,
   "id": "3df4565b-0caa-463b-a2f8-88eddd15deac",
   "metadata": {},
   "outputs": [],
   "source": [
    "dict_all_loops_smoothSS_first = read_json2dict(path_loops_all_smoothSS_first)\n",
    "dict_all_loops_smoothSS_second = read_json2dict(path_loops_all_smoothSS_second)\n",
    "\n",
    "# dict_domain_loops_smoothSS_first = read_json2dict(path_loops_domain_smoothSS_first)\n",
    "dict_domain_loops_smoothSS_second = read_json2dict(path_loops_domain_smoothSS_second)\n",
    "# !!!!!!!\n",
    "dict_domain_loops_hbond_contact_smoothSS_second = read_json2dict(path_loops_domain_hbond_contact_smoothSS_second)"
   ]
  },
  {
   "cell_type": "code",
   "execution_count": 8,
   "id": "836b9662-a203-4736-a8d2-a9f22e6ee9b7",
   "metadata": {},
   "outputs": [
    {
     "data": {
      "text/plain": [
       "(51128, 50762)"
      ]
     },
     "execution_count": 8,
     "metadata": {},
     "output_type": "execute_result"
    }
   ],
   "source": [
    "sum([len(value) for key, value in dict_all_loops_smoothSS_first.items()]), sum([len(value) for key, value in dict_all_loops_smoothSS_second.items()])"
   ]
  },
  {
   "cell_type": "code",
   "execution_count": 9,
   "id": "90a0e458-7be4-4ef4-bf62-8de96ad19cf9",
   "metadata": {},
   "outputs": [
    {
     "data": {
      "text/plain": [
       "50762"
      ]
     },
     "execution_count": 9,
     "metadata": {},
     "output_type": "execute_result"
    }
   ],
   "source": [
    "sum([len(v) for k, v in dict_all_loops_smoothSS_second.items()])"
   ]
  },
  {
   "cell_type": "markdown",
   "id": "2d03d19b-b613-46d5-94cc-d19257ff183c",
   "metadata": {
    "jp-MarkdownHeadingCollapsed": true,
    "tags": []
   },
   "source": [
    "## 1.2. Add number of H-bonds & C-C contacts to df_domain_loops_dist --  skippable"
   ]
  },
  {
   "cell_type": "code",
   "execution_count": 46,
   "id": "6348dd4d-9b37-48f1-b90b-c0d143de2453",
   "metadata": {},
   "outputs": [],
   "source": [
    "df_domain_loops_smoothSS_second = pd.DataFrame.from_dict(dict_domain_loops_hbond_contact_smoothSS_second, orient='index')\n",
    "df_domain_loops_smoothSS_second['seq'] = [' '.join(seq) for seq in df_domain_loops_smoothSS_second['seq']]\n",
    "df_domain_loops_smoothSS_second['seq_unp'] = [' '.join(seq) for seq in df_domain_loops_smoothSS_second['seq_unp']]\n",
    "df_domain_loops_smoothSS_second['num_hbonds'] = [len(hbonds)//2 for hbonds in df_domain_loops_smoothSS_second['hbonds']]\n",
    "df_domain_loops_smoothSS_second['num_contacts'] = [len(c_c_contacts) for c_c_contacts in df_domain_loops_smoothSS_second['c_c_contacts']]\n",
    "df_domain_loops_smoothSS_second.insert(0, 'linkerID', df_domain_loops_smoothSS_second.index)\n",
    "df_domain_loops_dist_smoothSS_second = df_domain_loops_smoothSS_second.merge(df_domain_dist, on=['domain1', 'domain2'], how='inner', suffixes=('_loop', '_domain'))"
   ]
  },
  {
   "cell_type": "code",
   "execution_count": 47,
   "id": "95b5ae1f",
   "metadata": {},
   "outputs": [
    {
     "data": {
      "text/plain": [
       "689"
      ]
     },
     "execution_count": 47,
     "metadata": {},
     "output_type": "execute_result"
    }
   ],
   "source": [
    "len(set(df_domain_dist['pdbid'].unique()) - set(df_domain_loops_dist_smoothSS_second['pdbid_domain'].unique()))"
   ]
  },
  {
   "cell_type": "code",
   "execution_count": 48,
   "id": "3bde2982-be84-4afd-b2e8-28f5e1f3b181",
   "metadata": {},
   "outputs": [
    {
     "name": "stdout",
     "output_type": "stream",
     "text": [
      "2296\n"
     ]
    },
    {
     "data": {
      "text/plain": [
       "(None,\n",
       " Index(['linkerID', 'start_loop', 'end_loop', 'seq_id', 'start_unp', 'end_unp',\n",
       "        'seq_id_unp', 'seq', 'seq_unp', 'dssp_key_str', 'missing_loop',\n",
       "        'miss_length', 'miss_percentage', 'unp_acc', 'length', 'domain1',\n",
       "        'domain2', 'pdbid_loop', 'chainid_loop', 'hbonds', 'c_c_contacts',\n",
       "        'num_hbonds', 'num_contacts', 'pdbid_domain', 'chainid_domain',\n",
       "        'start_domain', 'end_domain', 'dist', 'missing_domain'],\n",
       "       dtype='object'))"
      ]
     },
     "execution_count": 48,
     "metadata": {},
     "output_type": "execute_result"
    }
   ],
   "source": [
    "print(df_domain_loops_dist_smoothSS_second.shape[0]), df_domain_loops_dist_smoothSS_second.columns\n",
    "# df_domain_loops_dist_smoothSS_second[:3]"
   ]
  },
  {
   "cell_type": "code",
   "execution_count": 49,
   "id": "35c06212",
   "metadata": {},
   "outputs": [
    {
     "data": {
      "text/plain": [
       "1885"
      ]
     },
     "execution_count": 49,
     "metadata": {},
     "output_type": "execute_result"
    }
   ],
   "source": [
    "len(df_domain_loops_dist_smoothSS_second['pdbid_domain'].unique())"
   ]
  },
  {
   "cell_type": "code",
   "execution_count": 50,
   "id": "e0d2a829",
   "metadata": {},
   "outputs": [
    {
     "data": {
      "text/html": [
       "<div>\n",
       "<style scoped>\n",
       "    .dataframe tbody tr th:only-of-type {\n",
       "        vertical-align: middle;\n",
       "    }\n",
       "\n",
       "    .dataframe tbody tr th {\n",
       "        vertical-align: top;\n",
       "    }\n",
       "\n",
       "    .dataframe thead th {\n",
       "        text-align: right;\n",
       "    }\n",
       "</style>\n",
       "<table border=\"1\" class=\"dataframe\">\n",
       "  <thead>\n",
       "    <tr style=\"text-align: right;\">\n",
       "      <th></th>\n",
       "      <th>pdbid_domain</th>\n",
       "      <th>chainid_domain</th>\n",
       "    </tr>\n",
       "  </thead>\n",
       "  <tbody>\n",
       "    <tr>\n",
       "      <th>0</th>\n",
       "      <td>1A04</td>\n",
       "      <td>A</td>\n",
       "    </tr>\n",
       "    <tr>\n",
       "      <th>1</th>\n",
       "      <td>1A0P</td>\n",
       "      <td>A</td>\n",
       "    </tr>\n",
       "    <tr>\n",
       "      <th>2</th>\n",
       "      <td>1A21</td>\n",
       "      <td>A</td>\n",
       "    </tr>\n",
       "    <tr>\n",
       "      <th>3</th>\n",
       "      <td>1A3Q</td>\n",
       "      <td>A</td>\n",
       "    </tr>\n",
       "    <tr>\n",
       "      <th>4</th>\n",
       "      <td>1A45</td>\n",
       "      <td>A</td>\n",
       "    </tr>\n",
       "    <tr>\n",
       "      <th>...</th>\n",
       "      <td>...</td>\n",
       "      <td>...</td>\n",
       "    </tr>\n",
       "    <tr>\n",
       "      <th>2289</th>\n",
       "      <td>7OA5</td>\n",
       "      <td>A</td>\n",
       "    </tr>\n",
       "    <tr>\n",
       "      <th>2290</th>\n",
       "      <td>7PVC</td>\n",
       "      <td>A</td>\n",
       "    </tr>\n",
       "    <tr>\n",
       "      <th>2291</th>\n",
       "      <td>7REQ</td>\n",
       "      <td>A</td>\n",
       "    </tr>\n",
       "    <tr>\n",
       "      <th>2292</th>\n",
       "      <td>8RUC</td>\n",
       "      <td>A</td>\n",
       "    </tr>\n",
       "    <tr>\n",
       "      <th>2293</th>\n",
       "      <td>9WGA</td>\n",
       "      <td>A</td>\n",
       "    </tr>\n",
       "  </tbody>\n",
       "</table>\n",
       "<p>1945 rows × 2 columns</p>\n",
       "</div>"
      ],
      "text/plain": [
       "     pdbid_domain chainid_domain\n",
       "0            1A04              A\n",
       "1            1A0P              A\n",
       "2            1A21              A\n",
       "3            1A3Q              A\n",
       "4            1A45              A\n",
       "...           ...            ...\n",
       "2289         7OA5              A\n",
       "2290         7PVC              A\n",
       "2291         7REQ              A\n",
       "2292         8RUC              A\n",
       "2293         9WGA              A\n",
       "\n",
       "[1945 rows x 2 columns]"
      ]
     },
     "execution_count": 50,
     "metadata": {},
     "output_type": "execute_result"
    }
   ],
   "source": [
    "df_domain_loops_dist_smoothSS_second[['pdbid_domain', 'chainid_domain']].drop_duplicates()"
   ]
  },
  {
   "cell_type": "code",
   "execution_count": 51,
   "id": "5a9b875f-228e-425e-9835-068ed44d2a01",
   "metadata": {},
   "outputs": [
    {
     "data": {
      "text/plain": [
       "1945"
      ]
     },
     "execution_count": 51,
     "metadata": {},
     "output_type": "execute_result"
    }
   ],
   "source": [
    "len(dict_domain_loops_smoothSS_second.keys())"
   ]
  },
  {
   "cell_type": "code",
   "execution_count": 52,
   "id": "6ec59311-02f8-4427-9fa1-cf9505399e05",
   "metadata": {},
   "outputs": [],
   "source": [
    "# save\n",
    "save_tab(df_domain_loops_dist_smoothSS_second, path_loops_domain_dist_hbond_contact_smoothSS_second)"
   ]
  },
  {
   "cell_type": "markdown",
   "id": "50183cd0-a8d2-4d13-b429-4a7b42befc10",
   "metadata": {
    "tags": []
   },
   "source": [
    "# 2. Threshold & Length Distribution"
   ]
  },
  {
   "cell_type": "code",
   "execution_count": 53,
   "id": "d8afe987-e241-4cc4-b0e1-12c58d528bc7",
   "metadata": {},
   "outputs": [
    {
     "data": {
      "text/plain": [
       "(2296, 29)"
      ]
     },
     "execution_count": 53,
     "metadata": {},
     "output_type": "execute_result"
    }
   ],
   "source": [
    "df_domain_loops_dist_smoothSS_2step = load_tab(path_loops_domain_dist_hbond_contact_smoothSS_second)\n",
    "df_domain_loops_dist_smoothSS_2step.shape"
   ]
  },
  {
   "cell_type": "markdown",
   "id": "0fa6b338-3103-4dc2-8a7c-39d3a4edbefb",
   "metadata": {
    "jp-MarkdownHeadingCollapsed": true,
    "tags": []
   },
   "source": [
    "## 2.1. C-C contacts & Hbonds threshold -- skippable"
   ]
  },
  {
   "cell_type": "code",
   "execution_count": 54,
   "id": "56ecd5cb-3b62-4565-9e89-d4a07f92f680",
   "metadata": {},
   "outputs": [],
   "source": [
    "t_contact = 4\n",
    "t_hbond = 3\n",
    "df_independent_smoothSS_2step, df_dependent_smoothSS_2step, df_contact_t_smoothSS_2step = clasify_interDomainLinker(df_domain_loops_dist_smoothSS_second, t_contact, t_hbond)"
   ]
  },
  {
   "cell_type": "code",
   "execution_count": 55,
   "id": "761681c2-840a-4907-ae15-e661f3a13159",
   "metadata": {},
   "outputs": [
    {
     "data": {
      "text/plain": [
       "(1682, 614)"
      ]
     },
     "execution_count": 55,
     "metadata": {},
     "output_type": "execute_result"
    }
   ],
   "source": [
    "df_contact_t_smoothSS_2step.shape[0], df_domain_loops_dist_smoothSS_2step.shape[0]-df_contact_t_smoothSS_2step.shape[0]"
   ]
  },
  {
   "cell_type": "code",
   "execution_count": 56,
   "id": "ba0f8135-c212-4aee-928f-03d9290eba5d",
   "metadata": {},
   "outputs": [
    {
     "data": {
      "text/plain": [
       "(1647, 35)"
      ]
     },
     "execution_count": 56,
     "metadata": {},
     "output_type": "execute_result"
    }
   ],
   "source": [
    "df_independent_smoothSS_2step.shape[0], df_contact_t_smoothSS_2step.shape[0]-df_independent_smoothSS_2step.shape[0]"
   ]
  },
  {
   "cell_type": "code",
   "execution_count": 57,
   "id": "4c37d364",
   "metadata": {},
   "outputs": [
    {
     "data": {
      "text/plain": [
       "649"
      ]
     },
     "execution_count": 57,
     "metadata": {},
     "output_type": "execute_result"
    }
   ],
   "source": [
    "2296-1647"
   ]
  },
  {
   "cell_type": "code",
   "execution_count": 58,
   "id": "4624c233-cf88-4be0-ac2b-f9a4f5d3d192",
   "metadata": {},
   "outputs": [
    {
     "data": {
      "text/plain": [
       "649"
      ]
     },
     "execution_count": 58,
     "metadata": {},
     "output_type": "execute_result"
    }
   ],
   "source": [
    "df_dependent_smoothSS_2step.shape[0]"
   ]
  },
  {
   "cell_type": "markdown",
   "id": "01e8f78d-f4ac-4d6b-a96c-1052ce4a0f38",
   "metadata": {},
   "source": [
    "### save"
   ]
  },
  {
   "cell_type": "code",
   "execution_count": 59,
   "id": "31c7eb49-6eda-4786-8b70-34d0230cb72a",
   "metadata": {},
   "outputs": [],
   "source": [
    "save_tab(df_independent_smoothSS_2step, path_independent_domain_linker)\n",
    "save_tab(df_dependent_smoothSS_2step, path_dependent_domain_linker)"
   ]
  },
  {
   "cell_type": "code",
   "execution_count": 60,
   "id": "9efb9a83",
   "metadata": {},
   "outputs": [],
   "source": [
    "dump_dict2json(df_independent_smoothSS_2step.to_dict(orient='records'), path_independent_domain_linker_json)\n",
    "dump_dict2json(df_dependent_smoothSS_2step.to_dict(orient='records'), path_dependent_domain_linker_json)\n",
    "\n",
    "# df2json(df=df_dependent_smoothSS_2step, path_json=path_dependent_domain_linker_json)"
   ]
  },
  {
   "cell_type": "markdown",
   "id": "87796f2f-bdd6-462c-81bf-6826e923d3b2",
   "metadata": {
    "tags": []
   },
   "source": [
    "# Plots - after run 1_scop_domain.ipynb (adjacent domain)"
   ]
  },
  {
   "cell_type": "code",
   "execution_count": 2,
   "id": "ea3c1c7e-f7e7-40d0-9762-c54b37f7b419",
   "metadata": {},
   "outputs": [],
   "source": [
    "df_independent_smoothSS_2step = load_tab(path_independent_domain_linker)\n",
    "df_dependent_smoothSS_2step = load_tab(path_dependent_domain_linker)"
   ]
  },
  {
   "cell_type": "code",
   "execution_count": null,
   "id": "c06c6104",
   "metadata": {},
   "outputs": [],
   "source": []
  },
  {
   "cell_type": "markdown",
   "id": "5689693a-93b7-407c-a0cb-5d4690a5195c",
   "metadata": {
    "jp-MarkdownHeadingCollapsed": true,
    "tags": []
   },
   "source": [
    "## 1. length distribution (Loops, independent/dependent)"
   ]
  },
  {
   "cell_type": "markdown",
   "id": "93103f3a-34b6-4a25-a205-413be5dfd9b9",
   "metadata": {},
   "source": [
    "### a. Smoothing SS"
   ]
  },
  {
   "cell_type": "code",
   "execution_count": 19,
   "id": "1bb0a867-8898-4628-8204-4f62fe379549",
   "metadata": {},
   "outputs": [
    {
     "name": "stdout",
     "output_type": "stream",
     "text": [
      "[0.7, 0.1, 0.0, 0.8]\n",
      "[0.2, 0.3, 0.3, 0.8]\n"
     ]
    },
    {
     "data": {
      "image/png": "[encoded data removed]",
      "text/plain": [
       "<Figure size 864x432 with 1 Axes>"
      ]
     },
     "metadata": {
      "needs_background": "light"
     },
     "output_type": "display_data"
    },
    {
     "data": {
      "image/png": "[encoded data removed]",
      "text/plain": [
       "<Figure size 864x432 with 1 Axes>"
      ]
     },
     "metadata": {
      "needs_background": "light"
     },
     "output_type": "display_data"
    }
   ],
   "source": [
    "bins = [4, 10, 20, 30, 40, 50, 70, 100, 180]\n",
    "counts_smoothSS, inter_length_smoothSS, _ = bin_count(df_independent_smoothSS_2step, bins)\n",
    "counts_smoothSS_intra, intra_length_smoothSS, _ = bin_count(df_dependent_smoothSS_2step, bins)"
   ]
  },
  {
   "cell_type": "code",
   "execution_count": 20,
   "id": "863890d7-97be-4e41-9e27-94e4fd280740",
   "metadata": {},
   "outputs": [
    {
     "data": {
      "text/plain": [
       "(4, 178, 4, 92)"
      ]
     },
     "execution_count": 20,
     "metadata": {},
     "output_type": "execute_result"
    }
   ],
   "source": [
    "min(inter_length_smoothSS), max(inter_length_smoothSS), min(intra_length_smoothSS), max(intra_length_smoothSS)"
   ]
  },
  {
   "cell_type": "markdown",
   "id": "1174752c-8813-4886-9c03-e4a77138cbe0",
   "metadata": {
    "tags": []
   },
   "source": [
    "## 2. Examples"
   ]
  },
  {
   "cell_type": "code",
   "execution_count": 45,
   "id": "f69548f6-fa32-4f66-91d8-52c4b2b59750",
   "metadata": {},
   "outputs": [
    {
     "data": {
      "text/plain": [
       "929    P26221\n",
       "Name: unp_acc, dtype: object"
      ]
     },
     "execution_count": 45,
     "metadata": {},
     "output_type": "execute_result"
    }
   ],
   "source": [
    "df_dependent_smoothSS_2step[df_dependent_smoothSS_2step['pdbid_domain']=='1TF4']['unp_acc']"
   ]
  },
  {
   "cell_type": "code",
   "execution_count": 21,
   "id": "9cf4b566-95fa-44db-b55d-c335578d9a0c",
   "metadata": {},
   "outputs": [
    {
     "data": {
      "text/plain": [
       "Index(['linkerID', 'start_loop', 'end_loop', 'seq_id', 'start_unp', 'end_unp',\n",
       "       'seq_id_unp', 'seq', 'seq_unp', 'dssp_key_str', 'missing_loop',\n",
       "       'miss_length', 'miss_percentage', 'unp_acc', 'length', 'domain1',\n",
       "       'domain2', 'pdbid_loop', 'chainid_loop', 'hbonds', 'c_c_contacts',\n",
       "       'num_hbonds', 'num_contacts', 'pdbid_domain', 'chainid_domain',\n",
       "       'start_domain', 'end_domain', 'dist', 'missing_domain'],\n",
       "      dtype='object')"
      ]
     },
     "execution_count": 21,
     "metadata": {},
     "output_type": "execute_result"
    }
   ],
   "source": [
    "df_independent_smoothSS_2step.columns"
   ]
  },
  {
   "cell_type": "markdown",
   "id": "f5d47491-63e7-417d-8aae-b1db0f287292",
   "metadata": {},
   "source": [
    "# 3. Compare different steps of smoothing"
   ]
  },
  {
   "cell_type": "code",
   "execution_count": 8,
   "id": "342f0a2e-fe95-4ef3-9eab-7c2a2899df6c",
   "metadata": {},
   "outputs": [],
   "source": [
    "# df_independent_smoothSS_2step.shape"
   ]
  },
  {
   "cell_type": "code",
   "execution_count": 46,
   "id": "4ae2a275-d47a-4f46-a533-2ce4679fce14",
   "metadata": {},
   "outputs": [],
   "source": [
    "dict_all_loops = read_json2dict(path_loops_all)\n",
    "dict_all_loops_smoothSS_first = read_json2dict(path_loops_all_smoothSS_first)\n",
    "dict_all_loops_smoothSS_second = read_json2dict(path_loops_all_smoothSS_second)\n",
    "\n",
    "multi_domain = load_tab(path_tab_scop_FA_continuous_uni_multi_parse_domian)"
   ]
  },
  {
   "cell_type": "code",
   "execution_count": 47,
   "id": "c82e8790-6f6f-4009-b350-7dcf0d04e195",
   "metadata": {},
   "outputs": [
    {
     "data": {
      "text/plain": [
       "<function dict.keys>"
      ]
     },
     "execution_count": 47,
     "metadata": {},
     "output_type": "execute_result"
    }
   ],
   "source": [
    "dict_all_loops_smoothSS_second.keys"
   ]
  },
  {
   "cell_type": "markdown",
   "id": "b93262c8-b899-45e6-9213-a5a531371229",
   "metadata": {},
   "source": [
    "## three examples"
   ]
  },
  {
   "cell_type": "code",
   "execution_count": 52,
   "id": "2b6e5934-2432-43f7-a0e5-e5f2577e511e",
   "metadata": {},
   "outputs": [
    {
     "data": {
      "text/html": [
       "<div>\n",
       "<style scoped>\n",
       "    .dataframe tbody tr th:only-of-type {\n",
       "        vertical-align: middle;\n",
       "    }\n",
       "\n",
       "    .dataframe tbody tr th {\n",
       "        vertical-align: top;\n",
       "    }\n",
       "\n",
       "    .dataframe thead th {\n",
       "        text-align: right;\n",
       "    }\n",
       "</style>\n",
       "<table border=\"1\" class=\"dataframe\">\n",
       "  <thead>\n",
       "    <tr style=\"text-align: right;\">\n",
       "      <th></th>\n",
       "      <th>linkerID</th>\n",
       "      <th>start_loop</th>\n",
       "      <th>end_loop</th>\n",
       "      <th>pdbid_loop</th>\n",
       "      <th>domain1</th>\n",
       "      <th>domain2</th>\n",
       "    </tr>\n",
       "  </thead>\n",
       "  <tbody>\n",
       "    <tr>\n",
       "      <th>1284</th>\n",
       "      <td>1284</td>\n",
       "      <td>63</td>\n",
       "      <td>91</td>\n",
       "      <td>2bnm</td>\n",
       "      <td>8025994</td>\n",
       "      <td>8025995</td>\n",
       "    </tr>\n",
       "    <tr>\n",
       "      <th>1778</th>\n",
       "      <td>1778</td>\n",
       "      <td>176</td>\n",
       "      <td>200</td>\n",
       "      <td>3ksy</td>\n",
       "      <td>8018971</td>\n",
       "      <td>8018981</td>\n",
       "    </tr>\n",
       "    <tr>\n",
       "      <th>1779</th>\n",
       "      <td>1779</td>\n",
       "      <td>745</td>\n",
       "      <td>780</td>\n",
       "      <td>3ksy</td>\n",
       "      <td>8018982</td>\n",
       "      <td>8018950</td>\n",
       "    </tr>\n",
       "    <tr>\n",
       "      <th>1913</th>\n",
       "      <td>1913</td>\n",
       "      <td>517</td>\n",
       "      <td>550</td>\n",
       "      <td>4b2y</td>\n",
       "      <td>8105234</td>\n",
       "      <td>8105284</td>\n",
       "    </tr>\n",
       "  </tbody>\n",
       "</table>\n",
       "</div>"
      ],
      "text/plain": [
       "     linkerID  start_loop  end_loop pdbid_loop  domain1  domain2\n",
       "1284     1284          63        91       2bnm  8025994  8025995\n",
       "1778     1778         176       200       3ksy  8018971  8018981\n",
       "1779     1779         745       780       3ksy  8018982  8018950\n",
       "1913     1913         517       550       4b2y  8105234  8105284"
      ]
     },
     "execution_count": 52,
     "metadata": {},
     "output_type": "execute_result"
    }
   ],
   "source": [
    "df_examples = df_independent_smoothSS_2step[df_independent_smoothSS_2step['pdbid_loop'].isin(['2bnm', '4b2y', '3ksy'])]\n",
    "\n",
    "df_examples[['linkerID', 'start_loop', 'end_loop', 'pdbid_loop', 'domain1', 'domain2']]"
   ]
  },
  {
   "cell_type": "code",
   "execution_count": 49,
   "id": "8abb5b40-51ad-4940-8ae0-0dce0887f352",
   "metadata": {},
   "outputs": [
    {
     "data": {
      "text/plain": [
       "Index(['linkerID', 'start_loop', 'end_loop', 'seq_id', 'start_unp', 'end_unp',\n",
       "       'seq_id_unp', 'seq', 'seq_unp', 'dssp_key_str', 'missing_loop',\n",
       "       'miss_length', 'miss_percentage', 'unp_acc', 'length', 'domain1',\n",
       "       'domain2', 'pdbid_loop', 'chainid_loop', 'hbonds', 'c_c_contacts',\n",
       "       'num_hbonds', 'num_contacts', 'pdbid_domain', 'chainid_domain',\n",
       "       'start_domain', 'end_domain', 'dist', 'missing_domain'],\n",
       "      dtype='object')"
      ]
     },
     "execution_count": 49,
     "metadata": {},
     "output_type": "execute_result"
    }
   ],
   "source": [
    "df_independent_smoothSS_2step.columns"
   ]
  },
  {
   "cell_type": "code",
   "execution_count": 50,
   "id": "31076439-ae42-425a-b93d-7ff94459eb26",
   "metadata": {},
   "outputs": [
    {
     "data": {
      "text/html": [
       "<div>\n",
       "<style scoped>\n",
       "    .dataframe tbody tr th:only-of-type {\n",
       "        vertical-align: middle;\n",
       "    }\n",
       "\n",
       "    .dataframe tbody tr th {\n",
       "        vertical-align: top;\n",
       "    }\n",
       "\n",
       "    .dataframe thead th {\n",
       "        text-align: right;\n",
       "    }\n",
       "</style>\n",
       "<table border=\"1\" class=\"dataframe\">\n",
       "  <thead>\n",
       "    <tr style=\"text-align: right;\">\n",
       "      <th></th>\n",
       "      <th>FA-DOMID</th>\n",
       "      <th>FA-PDBID</th>\n",
       "      <th>FA-PDBREG</th>\n",
       "      <th>FA-UNIID</th>\n",
       "      <th>FA-UNIREG</th>\n",
       "      <th>FA</th>\n",
       "      <th>FA-UNIREG-START</th>\n",
       "      <th>FA-UNIREG-END</th>\n",
       "      <th>FA-PDBREG-START</th>\n",
       "      <th>FA-PDBREG-END</th>\n",
       "      <th>FA-CHAINID</th>\n",
       "      <th>seq_id</th>\n",
       "      <th>length</th>\n",
       "      <th>experiment_type</th>\n",
       "      <th>resolution</th>\n",
       "    </tr>\n",
       "  </thead>\n",
       "  <tbody>\n",
       "    <tr>\n",
       "      <th>3210</th>\n",
       "      <td>8025994</td>\n",
       "      <td>2BNM</td>\n",
       "      <td>A:6-76</td>\n",
       "      <td>Q56185</td>\n",
       "      <td>6-76</td>\n",
       "      <td>4000896</td>\n",
       "      <td>6</td>\n",
       "      <td>76</td>\n",
       "      <td>6</td>\n",
       "      <td>76</td>\n",
       "      <td>A</td>\n",
       "      <td>2bnm_A</td>\n",
       "      <td>71</td>\n",
       "      <td>XRay</td>\n",
       "      <td>1.7</td>\n",
       "    </tr>\n",
       "    <tr>\n",
       "      <th>3211</th>\n",
       "      <td>8025995</td>\n",
       "      <td>2BNM</td>\n",
       "      <td>A:77-198</td>\n",
       "      <td>Q56185</td>\n",
       "      <td>77-198</td>\n",
       "      <td>4000964</td>\n",
       "      <td>77</td>\n",
       "      <td>198</td>\n",
       "      <td>77</td>\n",
       "      <td>198</td>\n",
       "      <td>A</td>\n",
       "      <td>2bnm_A</td>\n",
       "      <td>122</td>\n",
       "      <td>XRay</td>\n",
       "      <td>1.7</td>\n",
       "    </tr>\n",
       "    <tr>\n",
       "      <th>4953</th>\n",
       "      <td>8105234</td>\n",
       "      <td>4B2Y</td>\n",
       "      <td>A:21-546</td>\n",
       "      <td>R4GRT6</td>\n",
       "      <td>22-547</td>\n",
       "      <td>4002736</td>\n",
       "      <td>22</td>\n",
       "      <td>547</td>\n",
       "      <td>21</td>\n",
       "      <td>546</td>\n",
       "      <td>A</td>\n",
       "      <td>4b2y_A</td>\n",
       "      <td>526</td>\n",
       "      <td>XRay</td>\n",
       "      <td>1.9</td>\n",
       "    </tr>\n",
       "    <tr>\n",
       "      <th>4954</th>\n",
       "      <td>8105284</td>\n",
       "      <td>4B2Y</td>\n",
       "      <td>A:547-698</td>\n",
       "      <td>R4GRT6</td>\n",
       "      <td>548-699</td>\n",
       "      <td>4003754</td>\n",
       "      <td>548</td>\n",
       "      <td>699</td>\n",
       "      <td>547</td>\n",
       "      <td>698</td>\n",
       "      <td>A</td>\n",
       "      <td>4b2y_A</td>\n",
       "      <td>152</td>\n",
       "      <td>XRay</td>\n",
       "      <td>1.9</td>\n",
       "    </tr>\n",
       "    <tr>\n",
       "      <th>5935</th>\n",
       "      <td>8091384</td>\n",
       "      <td>5XMC</td>\n",
       "      <td>A:287-319</td>\n",
       "      <td>Q8C863</td>\n",
       "      <td>287-319</td>\n",
       "      <td>4002695</td>\n",
       "      <td>287</td>\n",
       "      <td>319</td>\n",
       "      <td>287</td>\n",
       "      <td>319</td>\n",
       "      <td>A</td>\n",
       "      <td>5xmc_A</td>\n",
       "      <td>33</td>\n",
       "      <td>XRay</td>\n",
       "      <td>2.6</td>\n",
       "    </tr>\n",
       "    <tr>\n",
       "      <th>5936</th>\n",
       "      <td>8091386</td>\n",
       "      <td>5XMC</td>\n",
       "      <td>A:320-381</td>\n",
       "      <td>Q8C863</td>\n",
       "      <td>320-381</td>\n",
       "      <td>4002695</td>\n",
       "      <td>320</td>\n",
       "      <td>381</td>\n",
       "      <td>320</td>\n",
       "      <td>381</td>\n",
       "      <td>A</td>\n",
       "      <td>5xmc_A</td>\n",
       "      <td>62</td>\n",
       "      <td>XRay</td>\n",
       "      <td>2.6</td>\n",
       "    </tr>\n",
       "    <tr>\n",
       "      <th>5937</th>\n",
       "      <td>8091388</td>\n",
       "      <td>5XMC</td>\n",
       "      <td>A:484-859</td>\n",
       "      <td>Q8C863</td>\n",
       "      <td>484-859</td>\n",
       "      <td>4002196</td>\n",
       "      <td>484</td>\n",
       "      <td>859</td>\n",
       "      <td>484</td>\n",
       "      <td>859</td>\n",
       "      <td>A</td>\n",
       "      <td>5xmc_A</td>\n",
       "      <td>376</td>\n",
       "      <td>XRay</td>\n",
       "      <td>2.6</td>\n",
       "    </tr>\n",
       "  </tbody>\n",
       "</table>\n",
       "</div>"
      ],
      "text/plain": [
       "      FA-DOMID FA-PDBID  FA-PDBREG FA-UNIID FA-UNIREG       FA  \\\n",
       "3210   8025994     2BNM     A:6-76   Q56185      6-76  4000896   \n",
       "3211   8025995     2BNM   A:77-198   Q56185    77-198  4000964   \n",
       "4953   8105234     4B2Y   A:21-546   R4GRT6    22-547  4002736   \n",
       "4954   8105284     4B2Y  A:547-698   R4GRT6   548-699  4003754   \n",
       "5935   8091384     5XMC  A:287-319   Q8C863   287-319  4002695   \n",
       "5936   8091386     5XMC  A:320-381   Q8C863   320-381  4002695   \n",
       "5937   8091388     5XMC  A:484-859   Q8C863   484-859  4002196   \n",
       "\n",
       "      FA-UNIREG-START  FA-UNIREG-END  FA-PDBREG-START  FA-PDBREG-END  \\\n",
       "3210                6             76                6             76   \n",
       "3211               77            198               77            198   \n",
       "4953               22            547               21            546   \n",
       "4954              548            699              547            698   \n",
       "5935              287            319              287            319   \n",
       "5936              320            381              320            381   \n",
       "5937              484            859              484            859   \n",
       "\n",
       "     FA-CHAINID  seq_id  length experiment_type  resolution  \n",
       "3210          A  2bnm_A      71            XRay         1.7  \n",
       "3211          A  2bnm_A     122            XRay         1.7  \n",
       "4953          A  4b2y_A     526            XRay         1.9  \n",
       "4954          A  4b2y_A     152            XRay         1.9  \n",
       "5935          A  5xmc_A      33            XRay         2.6  \n",
       "5936          A  5xmc_A      62            XRay         2.6  \n",
       "5937          A  5xmc_A     376            XRay         2.6  "
      ]
     },
     "execution_count": 50,
     "metadata": {},
     "output_type": "execute_result"
    }
   ],
   "source": [
    "multi_domain[multi_domain['FA-PDBID'].isin(['2BNM', '4B2Y', '5XMC'])]"
   ]
  },
  {
   "cell_type": "code",
   "execution_count": 51,
   "id": "6eac6097-569f-4a8e-b560-0c7cb391e44e",
   "metadata": {},
   "outputs": [
    {
     "data": {
      "text/plain": [
       "[{'start': 1, 'end': 5, 'seq': ['M', 'S', 'N', 'T', 'K'], 'length': 5},\n",
       " {'start': 22, 'end': 25, 'seq': ['V', 'K', 'M', 'D'], 'length': 4},\n",
       " {'start': 48, 'end': 51, 'seq': ['G', 'G', 'E', 'L'], 'length': 4},\n",
       " {'start': 63, 'end': 67, 'seq': ['L', 'G', 'T', 'S', 'I'], 'length': 5},\n",
       " {'start': 71,\n",
       "  'end': 78,\n",
       "  'seq': ['T', 'P', 'P', 'A', 'G', 'N', 'D', 'L'],\n",
       "  'length': 8},\n",
       " {'start': 83, 'end': 86, 'seq': ['I', 'I', 'Q', 'M'], 'length': 4},\n",
       " {'start': 94,\n",
       "  'end': 102,\n",
       "  'seq': ['K', 'G', 'V', 'R', 'D', 'N', 'V', 'D', 'Y'],\n",
       "  'length': 9},\n",
       " {'start': 108,\n",
       "  'end': 117,\n",
       "  'seq': ['L', 'V', 'R', 'T', 'K', 'R', 'A', 'P', 'S', 'L'],\n",
       "  'length': 10},\n",
       " {'start': 125, 'end': 128, 'seq': ['L', 'T', 'D', 'N'], 'length': 4},\n",
       " {'start': 132,\n",
       "  'end': 141,\n",
       "  'seq': ['A', 'K', 'F', 'N', 'S', 'G', 'H', 'A', 'G', 'N'],\n",
       "  'length': 10},\n",
       " {'start': 156,\n",
       "  'end': 161,\n",
       "  'seq': ['G', 'D', 'K', 'E', 'N', 'P'],\n",
       "  'length': 6},\n",
       " {'start': 167, 'end': 170, 'seq': ['P', 'T', 'G', 'A'], 'length': 4},\n",
       " {'start': 175, 'end': 179, 'seq': ['E', 'E', 'H', 'V', 'P'], 'length': 5},\n",
       " {'start': 185,\n",
       "  'end': 190,\n",
       "  'seq': ['A', 'K', 'G', 'T', 'G', 'S'],\n",
       "  'length': 6}]"
      ]
     },
     "execution_count": 51,
     "metadata": {},
     "output_type": "execute_result"
    }
   ],
   "source": [
    "# dict_all_loops_smoothSS_first['2bnm_a_Q56185'][3:]\n",
    "dict_all_loops['2bnm_a']"
   ]
  },
  {
   "cell_type": "code",
   "execution_count": 32,
   "id": "5240280d-91ca-4c31-beb0-da4a848a50b8",
   "metadata": {},
   "outputs": [
    {
     "data": {
      "text/plain": [
       "dict_keys(['1a04_a_P0AF28', '1a0i_a_P00969', '1a0p_a_P0A8P8', '1a21_a_P24055', '1a3q_a_Q00653', '1a45_a_P23005', '1a5j_a_Q03237', '1a65_a_Q9Y780', '1a6a_b_P01911', '1a6c_a_Q88894', '1a6q_a_P35813', '1a77_a_Q58839', '1a79_a_Q58819', '1a7i_a_Q05158', '1a81_a_P43405', '1a8d_a_P04958', '1a8p_a_Q44532', '1a8y_a_P07221', '1aa0_a_P10104', '1aay_a_P08046', '1ab4_a_P0AES4', '1abr_b_P11140', '1acc_a_P13423', '1aco_a_P20004', '1af7_a_P07801', '1afw_b_P27796', '1aip_a_P60338', '1ais_a_P62001', '1ais_b_P61999', '1aln_a_P0ABF6', '1amm_a_P02526', '1amu_a_P0C061', '1an8_a_Q8NKX2', '1aoa_a_P13797', '1aor_a_Q51739', '1aoz_a_P37064', '1aqt_a_P0A6E6', '1ati_a_P56206', '1au7_a_P10037', '1aua_a_P24280', '1aut_l_P04070', '1auv_a_P17599', '1ava_a_P04063', '1avc_a_P79134', '1aw9_a_Q9ZP62', '1axd_a_P12653', '1axi_b_P10912', '1b06_a_Q08713', '1b0n_a_P06533', '1b1x_a_O77811', '1b23_p_Q01698', '1b24_a_P21505', '1b25_a_Q8U1K3', '1b3q_a_Q56310', '1b43_a_O93634', '1b48_a_P24472', '1b4a_a_O31408', '1b63_a_P23367', '1b6u_a_P43628', '1b74_a_P56868', '1b77_a_O80164', '1b7f_a_P19339', '1b8a_a_Q52428', '1b8t_a_P67966', '1b9m_a_P0A9G8', '1b9w_a_Q25659', '1ba3_a_P08659', '1bbo_a_P15822', '1bbu_a_P0A8N3', '1bcc_c_P18946', '1bco_a_P07636', '1bf2_a_P10342', '1bf5_a_P42224', '1bg1_a_P42227', '1bg3_a_P05708', '1bgx_t_P19821', '1bhg_a_P08236', '1bi5_a_P30074', '1bia_a_P06709', '1bif_a_P25114', '1bih_a_P25033', '1bik_a_P02760', '1bjt_a_P06786', '1bkb_a_P56635', '1bkh_b_Q51958', '1bli_a_P06278', '1bqg_a_P42206', '1bqu_a_P40189', '1br2_a_P10587', '1brw_a_P77836', '1bsm_a_P80293', '1bu2_a_Q01043', '1bu8_a_P54318', '1buc_a_Q06319', '1bwv_a_O98949', '1bx2_b_P01911', '1bxn_a_P0C2C2', '1c16_a_Q31615', '1c30_b_P0A6F1', '1c3g_a_P25294', '1c4k_a_P43099', '1c8a_a_P35753', '1c8u_a_P0AGG2', '1cb8_a_Q59288', '1cc1_s_P13063', '1cd9_b_P40223', '1cdw_a_P20226', '1ce2_a_O77698', '1cej_a_P04933', '1cfb_a_P20241', '1cgt_a_P30920', '1chm_a_P38488', '1cid_a_P05540', '1cii_a_P06716', '1ciu_a_P26827', '1ciy_a_P0A366', '1cjx_a_P80064', '1cjy_a_P47712', '1ckm_a_Q84424', '1clc_a_P0C2S4', '1cli_a_P08178', '1coj_a_Q9X6W9', '1cqx_a_P39662', '1cr5_a_P18759', '1cr6_a_P34914', '1crk_a_P11009', '1cs6_a_P28685', '1cuk_a_P0A809', '1cvj_a_P11940', '1cvr_a_P95493', '1cvs_c_P11362', '1cvu_a_Q05769', '1cwv_a_P11922', '1cx4_a_P12369', '1cxl_a_P43379', '1cyg_a_P31797', '1cz5_a_O05209', '1cza_n_P19367', '1czd_a_P04525', '1d00_a_Q12933', '1d0g_r_O14763', '1d0n_a_Q28372', '1d2e_a_P49410', '1d2o_a_Q53654', '1d3y_a_Q57815', '1d4d_a_P83223', '1d5a_a_Q7SIG7', '1d5r_a_P60484', '1d5y_a_P0ACI0', '1d6z_a_P46883', '1dcq_a_Q7SIG6', '1ddg_a_P38038', '1ddt_a_P00588', '1ddz_a_Q43060', '1de4_a_Q30201', '1df0_a_Q07009', '1dfc_a_Q16658', '1dfx_a_P22076', '1dg1_g_P0CE48', '1dgj_a_Q9REC4', '1dgs_a_Q9ZHI0', '1djn_a_P16099', '1djx_b_P10688', '1dkg_a_P09372', '1dkz_a_P0A6Y8', '1dl5_a_Q56308', '1dlc_a_P0A379', '1dlp_a_Q9ZP48', '1dml_a_P10226', '1dnp_a_P00914', '1dqv_a_P40748', '1dr9_a_P33681', '1dt0_a_P09223', '1dt9_a_P62495', '1dtz_a_Q9TUM0', '1dug_a_P02679', '1dug_a_P08515', '1duv_g_P04391', '1dvp_a_Q960X8', '1dwk_a_P00816', '1dxh_a_P08308', '1dxr_h_P06008', '1dxx_a_P11532', '1dyk_a_Q60675', '1dzf_a_P20434', '1e0c_a_P52197', '1e18_a_Q52675', '1e1t_a_P0A8N5', '1e32_a_Q01853', '1e3d_a_Q9L869', '1e3h_a_Q53597', '1e3o_c_P14859', '1e42_a_P63010', '1e4e_a_P25051', '1e5d_a_Q9F0J6', '1e5m_a_P73283', '1e6b_a_Q9ZVQ3', '1e6v_a_Q49605', '1e6v_b_Q49601', '1e6y_a_P07962', '1e6y_b_P07955', '1e7u_a_O02697', '1e88_a_P02751', '1e8g_a_P56216', '1e8y_a_P48736', '1e9y_a_P14916', '1ea0_a_Q05755', '1ear_a_P50049', '1ecf_a_P0AG16', '1ed3_a_P16391', '1ee0_a_P48391', '1eej_a_P0AEG6', '1eem_a_P78417', '1efa_a_P03023', '1efc_a_P0CE47', '1efp_a_P38974', '1efu_b_P0A6P1', '1efv_a_P13804', '1efy_a_P26446', '1eg3_a_P11532', '1ega_a_P06616', '1egd_a_P11310', '1eh9_a_Q55088', '1ehi_a_Q03ZI1', '1ei1_a_P0AES6', '1ei5_a_Q9ZBA9', '1ekx_a_P0A786', '1elp_a_P08209', '1elv_a_P09871', '1ems_a_O76463', '1en7_a_P13340', '1enf_a_P0A0M0', '1eov_a_P04802', '1ep3_b_P56968', '1epf_a_P13596', '1epw_a_P10844', '1eqf_a_P21675', '1ern_a_P19235', '1esf_a_P0A0L2', '1et9_a_P0C0I6', '1eth_a_P00591', '1eu1_a_Q57366', '1eu3_a_Q9RQQ5', '1euc_a_O19069', '1euc_b_P53590', '1ev4_a_P00502', '1ewf_a_P17213', '1ex0_a_P00488', '1ext_a_P19438', '1exu_a_P55899', '1eys_h_Q93RD8', '1f00_i_P19809', '1f0x_a_P06149', '1f1e_a_O93641', '1f1s_a_Q53591', '1f1u_a_Q44048', '1f1x_a_Q45135', '1f20_a_P29476', '1f2e_a_O33705', '1f2q_a_P12319', '1f3b_a_P13745', '1f3j_b_Q31135', '1f52_a_P0A1P6', '1f5n_a_P32455', '1f5q_b_P89883', '1f60_a_P02994', '1f6f_b_P05710', '1f7u_a_Q05506', '1f97_a_O88792', '1f9n_a_P17893', '1fb5_a_P84010', '1fcd_c_Q06529', '1fcg_a_P12318', '1fdr_a_P28861', '1ffv_b_P19913', '1ffv_c_P19914', '1fi4_a_P32377', '1fnd_a_P00455', '1fng_a_P04224', '1fnl_a_O75015', '1fnn_a_Q8ZYK1', '1fnu_a_P0DJY8', '1fnx_h_Q60900', '1foe_a_Q60610', '1fpo_a_P0A6L9', '1frf_s_P18187', '1fs1_d_P63208', '1ft9_a_P72322', '1ftr_a_Q49610', '1fui_a_P69922', '1fv1_b_Q30154', '1fw1_a_O43708', '1fwx_a_Q51705', '1fx0_a_P06450', '1fx0_b_P00825', '1fx7_a_P9WMH1', '1fxl_a_P26378', '1fxz_a_P04776', '1fy7_a_Q08649', '1fyb_a_Q40378', '1fyh_b_P15260', '1g0d_a_P52181', '1g0w_a_Q9XSC6', '1g1t_a_P16581', '1g29_1_Q9YGA6', '1g3n_c_Q98147', '1g3p_a_P69168', '1g4u_s_P74873', '1g5a_a_Q9ZEU2', '1g5h_d_Q9QZM2', '1g64_b_P31570', '1g7o_a_P0AC59', '1g7s_a_O26359', '1g83_a_P06241', '1g87_b_P37700', '1g8f_a_P08536', '1g8k_a_Q7SIF4', '1g8m_a_P31335', '1g94_a_P29957', '1g97_a_Q97R46', '1gaw_a_Q9SLP6', '1gdt_a_P03012', '1geh_a_O93627', '1ggp_b_Q7SIF1', '1ghq_b_P20023', '1giq_a_Q46220', '1gji_a_P16236', '1gjj_a_P42166', '1gjr_a_P21890', '1gjw_a_O33838', '1gk8_a_P00877', '1gku_b_O29238', '1gkz_a_Q00972', '1gl4_a_P10493', '1glq_a_P19157', '1gm5_a_Q9WY48', '1gmu_a_P18317', '1gnw_a_P46422', '1go3_e_Q57840', '1gof_a_P0CS93', '1gph_1_P00497', '1gpm_a_P04079', '1gpu_a_P23254', '1gq1_a_P72181', '1gqe_a_P07012', '1gqi_a_B3PC73', '1grj_a_P0A6W5', '1gs0_a_O88554', '1gsa_a_P04425', '1gsm_a_Q13477', '1gso_a_P15640', '1gsu_a_P20136', '1gtt_a_P37352', '1guq_a_P09148', '1gv3_a_Q8Z0M1', '1gvh_a_P24232', '1gvi_a_O69007', '1gwc_a_O04941', '1gyc_a_Q12718', '1gyt_a_P68767', '1gz0_a_P63177', '1h03_p_P08174', '1h0h_a_Q934F5', '1h1o_a_P74917', '1h2t_c_Q09161', '1h30_a_Q14393', '1h32_a_Q939U1', '1h3d_a_P60757', '1h3f_b_P83453', '1h3g_a_Q8KKG0', '1h3i_a_Q8WTS6', '1h4v_b_P62374', '1h54_b_Q7SIE1', '1h6g_a_P35221', '1h6u_a_Q9ZEY1', '1h71_p_O69771', '1h72_c_Q58504', '1h76_a_P09571', '1h7s_a_P54278', '1h7w_a_Q28943', '1h88_c_P06876', '1h8a_c_P01104', '1h8l_a_P83852', '1h8p_a_P02784', '1h99_a_P39805', '1hc1_a_P04254', '1hc7_a_Q5SM28', '1hdm_a_P28067', '1hdm_b_P28068', '1hei_a_P27958', '1hf2_b_Q9X0D7', '1hf8_a_O55012', '1hh2_p_Q9X298', '1hk0_x_P07320', '1hl9_b_Q9WYE2', '1hn0_a_P59807', '1hnf_a_P06729', '1hng_a_P08921', '1hnj_a_P0A6R0', '1hpl_a_P29183', '1hpu_a_P07024', '1hr6_a_P11914', '1hr6_b_P10507', '1hsk_a_P61431', '1ht6_a_P00693', '1htn_a_P05452', '1hup_a_P11226', '1huz_a_P06766', '1hvx_a_P06279', '1hw1_a_P0A8V6', '1hwm_b_Q9AVR2', '1hx0_a_P00690', '1hx6_a_P22535', '1hx8_a_Q9VI75', '1hxa_a_Q40577', '1hyo_a_P35505', '1hyr_c_Q29983', '1hyu_a_P19480', '1hzh_h_P01857', '1i0e_a_P06732', '1i19_a_Q7SID9', '1i4w_a_P14908', '1i5p_a_P0A377', '1i5z_a_P0ACJ8', '1i7d_a_P14294', '1i7l_a_Q63537', '1i7p_a_P20070', '1i8d_a_P0AFU8', '1iak_a_P01910', '1iak_b_P06343', '1iam_a_P05362', '1iar_b_P24394', '1ib8_a_Q97S61', '1ibi_a_Q05158', '1ic8_a_P20823', '1ids_a_P9WGE7', '1iea_a_P01904', '1ieb_b_Q31164', '1ig0_a_P35202', '1ig3_a_Q9R0M5', '1ign_a_P11938', '1igr_a_P08069', '1ih7_a_Q38087', '1ihg_a_P26882', '1ihm_a_Q83884', '1ii0_b_P08690', '1iic_a_P14743', '1ijq_a_P01130', '1ik9_a_Q13426', '1ikq_a_P11439', '1imh_c_O94916', '1iml_a_P63255', '1imt_a_P25687', '1in0_a_P44096', '1iow_a_P07862', '1ipa_a_Q7SID4', '1iq0_a_Q93RP5', '1iq8_a_O58843', '1iqb_a_P11218', '1iqc_a_P55929', '1ira_y_P14778', '1irx_a_O57963', '1is2_a_P07872', '1isc_a_P0AGD3', '1itk_b_O59651', '1itz_a_Q7SIC9', '1iv8_a_Q53688', '1ivh_a_P26440', '1ixb_a_P00448', '1ixc_a_Q9WXC7', '1ixr_a_Q9F1Q3', '1ixs_b_Q5SL87', '1iyk_a_P30418', '1iyx_a_Q8GR70', '1iz5_a_O73947', '1iz6_a_O50089', '1j09_a_P27000', '1j0h_a_P38940', '1j20_a_P59846', '1j2g_a_Q45697', '1j2o_a_P25801', '1j2o_a_P70662', '1j3n_a_Q5SL80', '1j4w_a_Q96AE4', '1j5y_a_Q9X1T8', '1j72_a_P40121', '1j7k_a_Q56313', '1j7n_b_P15917', '1ja1_a_P00388', '1jae_a_P56634', '1jak_a_O85361', '1jb7_a_P29549', '1jb9_a_Q41736', '1jdc_a_P13507', '1jdf_a_P0AES2', '1je6_a_Q29980', '1jey_a_P12956', '1jey_b_P13010', '1jff_a_P81947', '1jff_b_Q6B856', '1jfl_a_O58403', '1jgt_b_P0DJQ7', '1jhf_a_P0A7C2', '1ji1_a_Q60053', '1ji6_a_Q06117', '1jih_a_Q04049', '1jk8_b_P01920', '1jkw_a_P51946', '1jlv_a_Q7KIF2', '1jlw_a_Q7KIF1', '1jlx_a_Q71QF2', '1jm6_a_Q64536', '1jma_b_Q92956', '1jms_a_P09838', '1jmx_a_Q8VW85', '1jnf_a_P19134', '1jny_a_P35021', '1joc_a_Q15075', '1jpd_x_P51981', '1jpm_a_O34508', '1jqi_a_P15651', '1jqp_a_P80067', '1jr3_a_P06710', '1jr3_d_P28630', '1jr9_a_Q7SIC3', '1jro_a_O54050', '1jro_b_O54051', '1js1_x_Q8A1E9', '1js8_a_O61363', '1ju3_a_Q9L9D7', '1jvn_a_P33734', '1jw1_a_Q29477', '1jx4_a_Q97W02', '1jy1_a_Q9NUW8', '1jz8_a_P00722', '1k0d_c_P23202', '1k0m_a_O00299', '1k0r_a_P9WIV3', '1k1x_a_O32462', '1k28_a_P16009', '1k28_d_P17172', '1k2f_a_P61092', '1k3y_a_P08263', '1k47_a_Q8DR49', '1k6m_a_P16118', '1k7i_a_P16317', '1k8d_a_P14429', '1k8i_a_P28078', '1k8i_b_Q31099', '1k8k_d_Q3MHR7', '1k8t_a_P40136', '1k8w_a_P60340', '1k92_a_P0A6E4', '1k9a_a_P32577', '1kap_p_Q03023', '1kb0_a_Q46444', '1kbi_a_P00175', '1kbl_a_P22983', '1kbu_a_P06956', '1kbv_a_Q02219', '1kcf_a_Q10423', '1kcz_a_Q05514', '1kf6_b_P0AC47', '1kfq_a_P47244', '1kfu_l_P17655', '1kgs_a_Q9WYN0', '1kgz_b_Q8VP84', '1khi_a_P87252', '1ki1_b_Q15811', '1kij_a_Q5SHZ4', '1kji_a_P33221', '1kjv_a_Q95565', '1kjw_a_P31016', '1kk8_a_P24733', '1kkc_a_Q92450', '1kke_a_P03528', '1kkh_a_Q58487', '1kko_a_O66145', '1klo_a_P02468', '1klu_a_P01903', '1kmm_a_P60906', '1knx_a_P75548', '1kny_a_P05057', '1ko7_a_Q9S1H5', '1koa_a_Q23551', '1koh_a_Q9UBU9', '1kp0_a_Q7SIB5', '1kqf_a_P24183', '1kqf_b_P0AAJ3', '1krh_a_P07771', '1ksk_a_P0AA43', '1kt0_a_Q13451', '1kt1_a_Q9XSH5', '1kt2_b_P04230', '1ktb_a_Q90744', '1ku2_a_Q9EZJ8', '1kv9_a_Q8GR64', '1kw3_b_P17297', '1kwg_a_O69315', '1ky9_a_P0C0V0', '1kya_a_Q96UT7', '1kyf_a_P17427', '1kz7_a_Q64096', '1kzl_a_Q9Y7P0', '1kzq_a_P13664', '1kzy_c_Q12888', '1l0a_a_Q13114', '1l0b_a_O54952', '1l0q_a_Q50245', '1l3l_a_P33905', '1l3w_a_P33148', '1l4i_a_P62609', '1l5a_a_Q9KTV9', '1l5j_a_P36683', '1l6z_a_P31809', '1l8q_a_O66659', '1l9m_b_Q08188', '1lam_a_P00727', '1lar_a_P10586', '1lbu_a_P00733', '1lcy_a_O43464', '1ld9_a_P01897', '1ldj_a_Q13616', '1lf6_a_O85672', '1li1_a_P02462', '1ljr_a_P0CG30', '1lk2_a_P01901', '1lkd_a_P47228', '1lko_a_P24931', '1lnl_a_P83040', '1lnq_a_O27564', '1lns_a_P22346', '1lnz_a_P20964', '1lpb_a_P02703', '1lpb_b_P16233', '1lr7_a_P21674', '1lsl_a_P07996', '1ltq_a_P06855', '1lw7_a_P44308', '1lwh_a_P80099', '1lwu_b_P02678', '1lwu_c_P04115', '1m0u_a_P41043', '1m1j_b_Q02020', '1m1j_c_O93568', '1m1x_a_P06756', '1m3k_a_P07097', '1m3q_a_O15527', '1m3v_a_P70662', '1m4k_a_P43631', '1m53_a_Q8KR84', '1m5h_a_O28076', '1m5s_a_P55301', '1m6b_a_P21860', '1m70_a_Q52369', '1m7j_a_Q9AGH8', '1m7x_b_P07762', '1m8p_a_Q12650', '1m9s_a_P0DQD2', '1ma1_a_P18868', '1ma9_a_P02774', '1mab_a_P15999', '1mab_b_P10719', '1mc0_a_Q922S4', '1mc8_a_O50123', '1mdb_a_P40871', '1mg7_b_Q23229', '1mgt_a_O74023', '1mhc_a_Q31093', '1mi1_a_Q8NFP9', '1miw_a_Q7SIB1', '1mkm_a_Q9WXS0', '1mky_a_Q9X1F8', '1ml4_a_P77918', '1ml6_a_P10648', '1ml9_a_Q8X225', '1mms_a_P29395', '1mng_a_P61503', '1mp9_a_Q9UWN7', '1mpg_a_P04395', '1mpx_a_Q6YBS3', '1mpy_a_P06622', '1mqq_a_Q8VVD2', '1mu2_a_P04584', '1muj_a_P14434', '1muj_b_P14483', '1mvh_a_O60016', '1mw8_x_P06612', '1mxa_a_P0A817', '1mxg_a_Q7LYT7', '1my6_a_Q8DIR2', '1mzj_a_Q9F6D4', '1mzy_a_Q53239', '1n0u_a_P32324', '1n10_a_P43213', '1n1i_a_Q9GSQ9', '1n1t_a_O44049', '1n1z_a_O81192', '1n26_a_P08887', '1n2a_a_P0A9D2', '1n4k_a_P11881', '1n4m_a_P06400', '1n5u_a_P02768', '1n62_a_P19921', '1n62_b_P19919', '1n62_c_P19920', '1n67_a_Q53653', '1n7o_a_Q54873', '1n8y_c_P06494', '1n8z_c_P04626', '1n9e_a_Q96X16', '1n9w_b_Q5SIC2', '1na6_b_P14633', '1nbq_a_Q9Y624', '1ndb_a_P47934', '1ndh_a_P83686', '1ne6_a_P00514', '1ne9_a_Q9EY50', '1nee_a_O27797', '1nek_b_P07014', '1nex_a_P52286', '1nex_b_P07834', '1nez_a_P14432', '1nfi_a_Q04206', '1ng2_a_P14598', '1nh2_a_P13393', '1nh2_d_P32774', '1nh8_a_P9WMN1', '1nhy_a_P29547', '1ni5_a_P52097', '1nij_a_P24203', '1nir_a_P24474', '1nj8_a_Q58635', '1nkg_a_Q00019', '1nkr_a_P43626', '1nl1_a_P00735', '1nm3_a_P44758', '1nm8_a_P43155', '1nml_a_P83787', '1nmv_a_Q13526', '1nnq_a_Q9UWP7', '1nol_a_P04253', '1np7_a_P77967', '1nr0_a_Q11176', '1nt0_a_Q9JJS8', '1nty_a_O75962', '1nu5_a_P27099', '1nu9_c_Q846V4', '1nub_a_P09486', '1nui_a_P03692', '1nvm_a_P51016', '1nvp_d_P52657', '1nx9_a_Q8VRK8', '1nxz_a_P44627', '1ny5_a_O67198', '1ny7_2_P03599', '1nyr_a_Q8NW68', '1nzi_a_P09871', '1o0w_a_Q9X0I6', '1o17_d_P50384', '1o4u_a_Q9X1X8', '1o57_a_P37551', '1o59_a_P25335', '1o6w_a_P33203', '1o70_a_P10674', '1o75_a_P29723', '1o7a_a_P07686', '1o7n_a_P0A110', '1od5_a_P04347', '1oep_a_Q9NDH8', '1ofc_x_Q24368', '1ofd_a_P55038', '1ofu_a_P47204', '1ogm_x_P48845', '1ogp_a_Q9S850', '1ogy_a_Q53176', '1ohe_a_O60729', '1oi7_a_P09143', '1oj4_a_Q8FI04', '1ok7_a_P0A988', '1oke_a_P12823', '1okg_a_Q7K9G0', '1oki_a_P53674', '1okt_a_Q8ILQ7', '1oll_a_O76036', '1olm_e_O76054', '1olp_a_Q8GCY3', '1olz_a_Q92854', '1omw_a_P21146', '1on3_a_Q8GBW6', '1onq_a_P06126', '1ooa_a_P25799', '1opk_a_P00520', '1opo_a_P04383', '1oqy_a_P54725', '1or7_a_P0AGB6', '1oth_a_P00480', '1ou5_a_Q96Q11', '1ovm_a_P23234', '1owl_a_P05327', '1ox0_a_Q9FBC2', '1oxj_a_Q23972', '1oxx_k_Q97UY8', '1oyj_a_Q10CE7', '1oys_a_P28619', '1oyw_a_P15043', '1oz2_a_Q9Y468', '1ozg_a_P27696', '1p16_a_P78587', '1p22_a_Q9Y297', '1p2f_a_Q9WXY0', '1p2z_a_P03277', '1p30_a_P04133', '1p42_a_O67648', '1p4e_a_P03870', '1p4x_a_Q2G1N7', '1p5d_x_P26276', '1p5u_a_P26926', '1p6t_a_O32220', '1p7b_a_P83698', '1p7g_a_O93724', '1p7h_l_Q13469', '1p80_a_P21179', '1p8j_a_P23188', '1p8k_z_P03880', '1p92_a_P0DJL7', '1pam_a_P05618', '1pby_a_Q8VUT0', '1pd2_1_O35543', '1pda_a_P06983', '1pdz_a_P56252', '1peq_a_Q08698', '1pg4_b_Q8ZKF6', '1pg5_a_Q55338', '1pg5_b_P74766', '1pgl_2_P23009', '1pgs_a_P21163', '1pgu_a_P46680', '1phz_a_P04176', '1pie_a_Q9R7D7', '1pii_a_P00909', '1pix_a_Q06700', '1pj5_a_Q9AGP8', '1pjq_b_P25924', '1pk8_a_P09951', '1pkp_a_P02357', '1pkx_b_P31939', '1plq_a_P15873', '1pmt_a_P15214', '1pn0_c_P15245', '1pn2_a_P22414', '1pn9_a_Q93113', '1ppj_a_P31800', '1ppj_b_P23004', '1ppj_c_P00157', '1ppj_d_P00125', '1ppj_e_P13272', '1ppr_m_P80484', '1prt_b_P04978', '1ps9_a_P42593', '1puj_a_O31743', '1pv9_a_P81535', '1pvg_a_P06786', '1pvm_a_Q9HLD9', '1pvv_a_Q51742', '1pwb_a_P35247', '1px5_b_Q29599', '1pxy_b_Q7G188', '1pyi_a_P07272', '1pzd_a_P53620', '1pzn_a_O74036', '1q0q_a_P45568', '1q19_a_Q9XB61', '1q1c_a_Q02790', '1q25_a_P08169', '1q2l_a_P05458', '1q32_a_P38319', '1q46_a_P20459', '1q4g_a_P05979', '1q6z_a_P20906', '1q79_a_P25500', '1q7h_a_Q9HIB8', '1q8i_a_P21189', '1q8k_a_P05198', '1q9j_a_P9WIN5', '1qag_a_P46939', '1qam_a_P13956', '1qap_a_P30012', '1qba_a_Q54468', '1qcf_a_P08631', '1qcs_a_P18708', '1qd1_b_P53603', '1qe0_a_P60911', '1qf6_a_P0A8M3', '1qfh_a_P13466', '1qfj_a_P0AEN1', '1qfm_a_P23687', '1qfz_a_P10933', '1qg3_a_P16144', '1qh4_a_P05122', '1qho_a_P19531', '1qht_a_Q56366', '1qiu_a_P03275', '1qk1_a_P12532', '1qm4_a_P13444', '1qmd_a_Q0TV31', '1qme_a_P14677', '1qna_a_P28147', '1qni_a_Q7SIA3', '1qnt_a_P16455', '1qo3_a_P01900', '1qo8_d_Q9Z4P0', '1qp9_a_P0CS82', '1qpb_a_P06169', '1qpo_a_P9WJJ7', '1qqd_a_P10321', '1qqg_a_P35568', '1qr0_a_P39135', '1qr4_a_P10039', '1qs0_b_P09061', '1qs1_a_Q844J9', '1qsa_a_P0AGC3', '1qtm_a_P19821', '1qu6_a_P19525', '1qub_a_P02749', '1qup_a_P40202', '1quu_a_P35609', '1qvr_a_Q9RA63', '1qxm_a_P0DPR1', '1qxp_a_P97571', '1qxp_a_Q07009', '1qxp_a_Q64537', '1qy9_a_P37757', '1qyr_a_P06992', '1qzx_a_Q97ZE7', '1r0k_a_Q9X5F2', '1r0v_a_O29362', '1r13_a_P08427', '1r17_a_Q9KI13', '1r2j_a_Q9KIE5', '1r3e_a_Q9WZW0', '1r3h_a_Q31206', '1r46_a_P06280', '1r4x_a_Q9Y678', '1r5a_a_Q9GQG7', '1r5b_a_O74718', '1r5l_a_P49638', '1r5v_b_P18468', '1r6b_x_P0ABH9', '1r6l_a_P50597', '1r6t_a_P23381', '1r6w_a_P29208', '1r7a_a_A0ZZH6', '1r7m_a_P03882', '1r89_a_O28126', '1r8e_a_P39075', '1r8j_a_Q79PF6', '1r9j_a_Q8MPM3', '1rbl_a_P00880', '1rc9_a_P60623', '1re3_b_P02675', '1rgo_a_P47974', '1rh1_a_P05819', '1rhf_a_Q06418', '1rhs_a_P00586', '1rhy_a_P0CO22', '1rl2_a_P04257', '1rl6_a_P02391', '1rl9_a_P51541', '1rlr_a_P00452', '1rlu_a_P9WN95', '1rm6_a_O33819', '1rm6_b_O33820', '1rm6_c_O33818', '1rmd_a_P15919', '1rp1_a_P06857', '1rp3_a_O67268', '1rq0_a_Q9X183', '1rq5_a_Q59325', '1rqb_a_Q70AC7', '1rqp_a_Q70GK9', '1rrh_a_P09186', '1rrs_a_P83847', '1rt8_a_O59945', '1rtk_a_P00751', '1rvk_a_Q7CSI0', '1rwh_a_P84141', '1rwz_a_O29912', '1rx0_a_Q9UKU7', '1rxt_a_P30419', '1rxw_a_O29975', '1ry2_a_Q01574', '1ry7_b_P22607', '1rzh_h_P0C0Y7', '1s1m_b_P0A7E5', '1s35_a_P11277', '1s4e_a_Q9HHB6', '1s4m_a_Q9WZW1', '1s5j_a_P26811', '1s70_b_Q90623', '1s7e_a_O08755', '1s9c_g_P51659', '1s9v_a_P01909', '1sc6_a_P0A9T0', '1sdd_a_Q28107', '1sdd_b_Q28107', '1sdw_a_P14925', '1set_a_P34945', '1sfe_a_P06134', '1sg1_x_P07174', '1sgv_a_P9WHP7', '1sh5_a_Q9QXS1', '1shy_b_P08581', '1siq_a_Q92947', '1sjd_a_Q44244', '1sky_b_P09219', '1sky_e_P07677', '1skz_a_P15358', '1slq_a_P12473', '1sm4_a_Q9M4D2', '1smy_f_Q5SKW1', '1snr_a_P38501', '1sqd_a_P93836', '1sqg_a_P36929', '1sqi_a_P32755', '1sqw_a_Q9Y221', '1sr9_b_P9WQB3', '1srp_a_P07268', '1st0_a_Q96C86', '1st8_a_Q93X60', '1stz_a_Q9WZV5', '1su3_b_P03956', '1svb_a_P14336', '1svc_p_P19838', '1svd_a_O85040', '1sxj_a_P38630', '1sxj_b_P40339', '1sxj_c_P38629', '1sxj_d_P40348', '1sxj_e_P38251', '1syq_a_P18206', '1szn_a_Q92456', '1szp_a_P25454', '1t11_a_Q9KQS5', '1t15_a_P38398', '1t1u_a_P32738', '1t3b_a_P45111', '1t3l_a_P54288', '1t3q_a_P72223', '1t3q_b_P72224', '1t3q_c_P72222', '1t3t_a_P74881', '1t47_a_Q53586', '1t61_a_Q7SIB2', '1t6l_a_P16790', '1t77_a_P50851', '1t7v_a_P25311', '1t94_a_Q9UBT6', '1t95_a_O29759', '1t9c_a_P07342', '1t9h_a_O34530', '1tbr_r_Q06684', '1tdj_a_P04968', '1tdq_a_Q05546', '1te0_a_P0AEE3', '1ted_a_P9WPF1', '1tf4_a_P26221', '1tf7_a_Q79PF4', '1tfr_a_P13319', '1tg7_a_Q700S9', '1tg8_a_P27914', '1tgo_a_P56689', '1tjl_a_P0ABS1', '1tk0_a_P00581', '1tk7_a_Q9Y0H4', '1tmo_a_O87948', '1toc_r_P56409', '1toz_a_P46531', '1tqy_a_Q02059', '1tqy_b_Q02062', '1tu7_a_P46427', '1tua_a_Q9YE16', '1tub_a_P02550', '1tub_b_P02554', '1tvc_a_P22868', '1tvf_a_Q57540', '1tw9_f_Q9NJQ6', '1twf_i_P27999', '1txd_a_Q9NZN5', '1txk_a_P33136', '1ty0_a_Q7BAE3', '1u00_a_P0A6Z1', '1u04_a_Q8U3D2', '1u0b_b_P21888', '1u0k_a_Q9HV82', '1u0l_a_Q9X242', '1u0m_a_Q9FCA7', '1u0u_a_Q02323', '1u1j_a_O50008', '1u2c_a_Q62165', '1u2y_a_P04746', '1u3d_a_Q43125', '1u3e_m_P34081', '1u58_a_A2Q6L5', '1u5k_a_Q9RW50', '1u5p_a_P07751', '1u5s_b_P48059', '1u6r_a_P00563', '1u6z_a_P0AFL6', '1u78_a_P34257', '1u8v_a_P55792', '1u98_a_P0A7G6', '1ua7_a_P00691', '1uar_a_Q5SJI0', '1uas_a_Q9FXT4', '1ub2_a_Q31MN3', '1ub7_a_Q7SI99', '1ubd_c_P25490', '1ube_a_Q59560', '1uc9_a_Q5SH23', '1uct_a_P24071', '1ud2_a_Q93I48', '1ud9_a_Q975N2', '1uds_a_O67069', '1udx_a_Q5SHE9', '1ueb_a_Q76G20', '1uek_a_P83700', '1uer_a_P19665', '1ufa_a_Q5SH28', '1ug3_a_Q04637', '1ugn_a_Q8NHL6', '1uha_a_P83790', '1uij_a_P25974', '1uik_a_P11827', '1ukw_a_Q72JJ3', '1ul1_x_P39748', '1uli_a_Q53122', '1ulk_a_Q9AYP9', '1ulq_a_Q5SJM1', '1ulv_a_Q9LBQ9', '1ulz_a_O67483', '1umd_b_Q5SLR3', '1umk_a_P00387', '1umw_a_P53350', '1un8_a_P45510', '1unf_x_Q9M7R2', '1uns_a_P34071', '1uok_a_P21332', '1uou_a_P19971', '1ups_a_Q934G8', '1urh_a_P31142', '1urz_a_Q80E47', '1ut9_a_Q6RSN8', '1utc_a_P49951', '1uur_a_O00910', '1uvq_a_E9PMV2', '1uwv_a_P55135', '1uwy_a_P14384', '1ux6_a_P07996', '1uxy_a_P08373', '1uyp_a_O33833', '1uyr_a_Q00955', '1uz5_a_O58335', '1uzj_a_P35555', '1v0e_a_Q04830', '1v0w_a_P84147', '1v10_a_Q6H9H7', '1v1o_a_Q9ZFS5', '1v25_b_Q5SKN9', '1v2a_a_Q9BHB0', '1v43_a_O57758', '1v4a_a_P30870', '1v54_b_P68530', '1v58_a_P77202', '1v6g_a_Q6H8Q1', '1v6w_a_Q7SI98', '1v6z_a_Q5SKI6', '1v7w_a_Q76IQ9', '1v8c_a_P83826', '1vbg_a_P11155', '1vbk_a_O59053', '1vca_a_P19320', '1vcl_a_Q868M7', '1vco_a_Q5SIA8', '1vct_a_O57975', '1vdd_a_Q9ZNA2', '1vdv_a_P80457', '1vem_a_P36924', '1vfg_a_O66728', '1vgk_a_P01902', '1vhk_a_P54461', '1vhn_a_Q9WXV1', '1vi7_a_P27862', '1vio_a_P45124', '1vj7_a_Q54089', '1vk6_a_P32664', '1vkz_a_Q9X0X7', '1vl2_a_Q9X2A1', '1vlb_a_Q46509', '1vli_a_P39625', '1vlp_a_P39683', '1vlr_b_Q9DAR7', '1vlv_a_P96108', '1vme_a_Q9WZL4', '1vpk_a_Q9WYA0', '1vq0_a_Q9X1B4', '1vqq_a_Q93IC2', '1vqz_a_A0A0H2UQ30', '1vrg_a_Q9WZH5', '1vrp_a_P04414', '1vvc_a_P68638', '1vym_a_P12004', '1vyu_b_P54287', '1vyv_a_D4A055', '1vz0_a_Q72H91', '1vzi_a_Q46495', '1vzy_a_P37565', '1w07_b_O65202', '1w1o_a_Q9T0N8', '1w25_a_B8GZM2', '1w26_a_P0A850', '1w2z_a_Q43077', '1w36_b_P08394', '1w36_c_P07648', '1w3a_a_Q7Z8V1', '1w55_a_Q9PM68', '1w5f_a_O08398', '1w5s_b_Q9YFU8', '1w6g_a_P46881', '1w6t_b_Q97QS2', '1w7j_a_Q02440', '1w85_b_P21874', '1w8e_a_P07788', '1w8o_a_Q02834', '1w96_c_Q00955', '1w98_b_P24864', '1w9h_a_O28951', '1w9x_a_O82839', '1wb8_a_P80857', '1wbx_a_P01899', '1wd3_a_Q8NK89', '1wdd_a_P0C512', '1wdk_a_P28793', '1wdk_c_P28790', '1wf3_a_Q5SM23', '1wj9_a_Q53WG9', '1wjp_a_Q9ULJ3', '1wjv_a_Q08288', '1wky_a_Q4W8M3', '1wlf_a_Q5BL07', '1wmd_a_Q93UV9', '1wn7_a_D0VWU9', '1wql_a_Q51743', '1wru_a_P08558', '1wu2_a_O59354', '1wu7_a_Q9HLX5', '1wue_a_Q838J7', '1wuf_a_Q927X3', '1wui_s_P21853', '1wuu_a_P51570', '1wv3_a_Q8NYF3', '1wvf_a_P09788', '1wxx_a_Q5SIT4', '1wy5_a_O67728', '1wza_a_Q8GPL8', '1wzl_a_Q08751', '1x1i_a_Q9AQS0', '1x2g_c_P32099', '1x31_a_Q50LF0', '1x38_a_Q9XEI3', '1x3h_a_O60711', '1x4k_a_Q14192', '1x61_a_Q15654', '1x62_a_O00151', '1x64_a_O70209', '1x68_a_Q5TD97', '1x6a_a_P53671', '1x6e_a_P17028', '1x6o_a_A4HE05', '1x7f_a_Q81HJ5', '1x7q_a_P04439', '1x9n_a_P18858', '1xa6_a_P52757', '1xb2_b_P43896', '1xcg_a_O15085', '1xdc_a_P04179', '1xdp_a_P0A7B1', '1xez_a_P09545', '1xfd_a_P42658', '1xfe_a_P01130', '1xhb_a_O08912', '1xi8_a_Q8U034', '1xjq_b_O43252', '1xjv_a_Q9NUX5', '1xl4_a_Q2W6R1', '1xl6_a_D9N164', '1xl7_b_Q9DC50', '1xme_b_Q5SJ80', '1xny_a_Q9X4K7', '1xo1_a_P06229', '1xov_a_Q8W5Y8', '1xp4_a_Q8DQ99', '1xp8_a_P42443', '1xpa_a_P23025', '1xpm_a_A0A0H3K1U2', '1xpu_a_P0AG30', '1xpy_c_Q9RYA6', '1xqb_a_P44740', '1xr4_a_Q8ZRY1', '1xrs_b_E3PRJ4', '1xsz_a_Q8RT31', '1xtd_a_E9AXF0', '1xu4_a_O73948', '1xub_a_Q51792', '1xzw_a_Q9SE00', '1y02_a_Q8WZ73', '1y07_c_O83795', '1y0p_a_P0C278', '1y14_d_P34087', '1y4w_a_Q96TU3', '1y56_a_O59088', '1y57_a_P12931', '1y5i_a_P09152', '1y67_d_Q9RUV2', '1y6i_a_P72583', '1y6k_r_Q13651', '1y7b_a_Q97DM1', '1y7m_a_O34816', '1y7p_b_O28869', '1y88_a_O28724', '1y8g_b_O08679', '1y8o_a_Q15120', '1y8q_d_Q9UBT2', '1y9q_a_Q9KQN0', '1ybe_a_Q8UIS9', '1ybh_a_P17597', '1ycg_a_Q9FDN7', '1ycs_b_Q13625', '1ydp_a_P17693', '1ydx_a_Q49434', '1yey_c_Q8P3K2', '1yf2_a_Q57594', '1yfs_a_O67323', '1yg2_a_Q9X399', '1yge_a_P08170', '1ygy_a_P9WNX3', '1yif_a_P94489', '1yio_a_O30989', '1yiq_a_Q4W6G0', '1yir_a_Q9HW26', '1yj5_a_Q9JLV6', '1yj7_a_Q8VQD3', '1yks_a_P03314', '1ykw_a_Q8KBL4', '1yln_a_Q9KNC3', '1yp4_b_P23509', '1ypz_a_Q9BCZ1', '1yq2_a_Q8KRF6', '1yq9_a_P12943', '1yqt_a_Q8U306', '1yrz_a_Q9K6P5', '1ys6_b_P9WGM1', '1yt3_a_P09155', '1yt8_a_Q9I0N4', '1ytd_a_Q9HJ28', '1ytq_a_P43320', '1yu0_a_Q775D6', '1yua_a_P06612', '1yub_a_P21236', '1yuw_a_P19120', '1yuz_b_P30820', '1yvp_b_P42700', '1yvu_a_O67434', '1z01_a_O05935', '1z05_a_Q9KQJ1', '1z1b_a_P03700', '1z2m_a_P05161', '1z32_x_P0DUB6', '1z3x_a_Q8DIJ1', '1z45_a_P04397', '1z47_a_Q9RHZ7', '1z52_a_P09167', '1z5h_a_O93655', '1z6r_a_P50456', '1z7e_a_P77398', '1z8g_a_P05981', '1z9h_a_Q9N0A4', '1zao_a_O30245', '1zat_a_Q3Y185', '1zbp_a_Q87HD3', '1zcz_a_Q9X0X6', '1zd3_a_P34913', '1ze3_c_P31697', '1zet_a_Q9UNA4', '1zh5_a_P05455', '1zir_a_P02528', '1zj8_a_P9WJ03', '1zjk_a_O00187', '1zl0_a_Q9HTZ1', '1zme_c_P25502', '1zpd_a_P06672', '1zq1_a_Q9V0T9', '1zq9_a_Q9UNQ2', '1zro_a_Q25735', '1zrt_d_P0CY49', '1zrt_r_P0CY48', '1zru_c_Q71AW2', '1zs8_a_Q860W6', '1zsq_a_Q13614', '1zsw_a_Q81H03', '1zt1_a_P04223', '1zu1_a_Q8AVN9', '1zun_b_Q87WW1', '1zxq_a_P13598', '1zy9_a_G4FEF4', '1zyb_a_Q89ZS6', '2a2q_t_P13726', '2a2r_a_P09211', '2a5y_b_P30429', '2a62_a_P97291', '2a6t_a_O13828', '2a7s_a_P9WQH7', '2a90_a_Q23985', '2a9a_a_P07850', '2aaa_a_P56271', '2aai_b_P02879', '2ac1_a_Q43866', '2adc_a_P26599', '2adr_a_P07248', '2ae8_a_P64373', '2ah2_a_Q26966', '2aho_b_Q97Z79', '2ahu_a_Q8X5X6', '2ajt_a_P08202', '2akj_a_P05314', '2akl_a_Q9I704', '2akr_a_P11609', '2akz_a_P09104', '2al1_a_P00924', '2ala_a_P03315', '2apo_a_Q57612', '2as0_a_O59578', '2auw_a_Q82X29', '2awi_a_Q04114', '2awn_b_P68187', '2ax3_a_Q9X024', '2axn_a_Q16875', '2ayx_a_P0DMC5', '2b1x_a_Q9X3R9', '2b20_a_A0A0H2VTI6', '2b3t_b_P0A7I0', '2b3y_a_P21399', '2b3z_a_P17618', '2b4v_a_Q86MV5', '2b59_b_Q06851', '2b5e_a_P17967', '2b5i_b_P14784', '2b5i_c_P31785', '2b5i_d_P01589', '2b5u_a_P00646', '2b78_a_Q8DUW5', '2b9l_a_Q9GRW0', '2ba0_a_O29758', '2ba0_d_O29757', '2ba0_g_O29756', '2bas_a_O35014', '2bb5_b_P20062', '2bb6_c_Q9XSC9', '2bcq_a_Q9UGP5', '2bev_b_P21953', '2bgc_a_P22262', '2bgw_a_Q9YC15', '2bhz_a_Q9RX51', '2bi0_a_P96398', '2bib_a_Q8DQ62', '2biv_a_Q9UQR0', '2bj7_a_O58316', '2bjq_a_Q7YXK2', '2bjr_a_Q7YXJ9', '2bm0_a_P13551', '2bmf_a_Q91H74', '2bmo_a_Q8RTL4', '2bnm_a_Q56185', '2bo9_b_Q9BS40', '2bs2_b_P17596', '2bsy_a_P03195', '2bt8_a_O12287', '2bto_a_Q8GCC5', '2bvp_a_P01889', '2bvy_a_Q9XCV5', '2bw2_a_O05391', '2bw3_a_Q25438', '2bw4_a_P25006', '2byv_e_Q9EQZ6', '2c0g_a_O44342', '2c12_a_Q8X1D8', '2c1g_a_Q8DP63', '2c2a_a_Q9WZV7', '2c2l_a_Q9WUD1', '2c35_b_P62487', '2c42_a_P94692', '2c4f_l_P08709', '2c4j_a_P28161', '2c5s_a_Q81KU0', '2c5u_a_P00971', '2c61_a_Q60187', '2c77_a_P60339', '2c78_a_Q5SHN6', '2c9a_a_P28827', '2c9w_a_O14508', '2caq_a_P30113', '2cbi_a_Q0TR53', '2cca_a_P9WIE5', '2cch_b_P20248', '2cdq_a_Q9LYU8', '2ce7_a_Q9WZ49', '2cfz_a_Q9I5I9', '2cg7_a_P02751', '2chr_a_P05404', '2ciw_a_P04963', '2cjk_a_Q99383', '2cnd_a_P17571', '2co6_b_Q8ZRK3', '2co8_a_Q8TDZ2', '2cot_a_Q9H4T2', '2cqe_a_Q9UPT8', '2csb_a_Q977W1', '2csh_a_O43298', '2csu_a_O58493', '2ct1_a_P49711', '2ctd_a_Q96ME7', '2cu2_a_Q5SHI0', '2cu8_a_P52943', '2cuq_a_Q13643', '2cur_a_Q13642', '2cv6_a_Q198W5', '2cve_a_Q5SJF5', '2cwa_a_Q5SLP9', '2cx1_a_Q9YEQ6', '2d0b_a_Q6L6Q4', '2d28_c_P31742', '2d29_a_Q5SGZ2', '2d3n_a_P19571', '2d4q_a_P21359', '2d5b_a_P23395', '2d62_a_O57933', '2d69_a_O58677', '2d6f_a_O26802', '2d73_a_G8JZS4', '2d8y_a_Q9UHB6', '2d9q_b_Q99062', '2dar_a_Q96HC4', '2de6_a_Q84II6', '2det_a_P25745', '2dew_x_Q9UM07', '2dfk_a_Q9QX73', '2dfu_b_Q5SK43', '2dh2_a_P08195', '2dj7_a_O94929', '2dji_a_A9X9K8', '2dkt_a_Q9CR50', '2dli_a_P43627', '2dlk_a_Q9BU19', '2dlq_a_Q1H9T6', '2dmd_a_Q9NTW7', '2dpy_b_P26465', '2drp_a_P17789', '2dt5_a_Q5SHS3', '2dto_a_O57883', '2dw6_a_Q89FH0', '2dy1_a_Q5SI76', '2dyp_d_Q8N423', '2e1b_a_O57848', '2e4w_a_P31422', '2e74_d_P83794', '2e9x_b_Q9Y248', '2e9x_d_Q9BRT9', '2ea7_b_A4PI98', '2eaa_b_A4PIA0', '2ebf_x_P17452', '2ebs_a_Q8J0D2', '2eia_a_P69732', '2eif_a_Q58625', '2ejn_a_P30438', '2ejn_a_P30440', '2elb_a_Q9UKG1', '2elc_a_Q5SH88', '2esn_a_Q9I641', '2ess_a_Q8A611', '2etn_a_Q8VQD7', '2etx_a_Q14676', '2evr_a_B2J9B4', '2ewf_a_A3FEV7', '2exh_a_Q09LX0', '2ey4_a_Q7LWY0', '2eyq_a_P30958', '2ez9_a_P37063', '2f0c_a_Q9G096', '2f1d_a_P34047', '2f1l_a_Q9HXQ0', '2f23_a_Q72JT8', '2f2a_b_P64201', '2f2h_a_P31434', '2f5t_x_Q7LYW4', '2f7f_a_Q830Y8', '2fb5_a_Q812L9', '2fcb_a_P31994', '2fd6_u_Q03405', '2fdb_p_P21802', '2fef_b_Q9I1R6', '2ff4_a_P9WGJ9', '2ffh_a_O07347', '2fge_a_Q9LJL3', '2fhe_a_P56598', '2fjr_b_P08707', '2fmp_a_P06746', '2fna_a_Q97Y08', '2fno_a_Q7D2W7', '2fo0_a_P00519', '2fo1_e_P14585', '2fok_b_P14870', '2fqf_a_P36649', '2fts_a_Q03555', '2fxq_a_Q9KH06', '2fym_a_P0A6P9', '2fzc_b_P0A7F3', '2g25_a_P0AFG8', '2g39_a_Q9HTC2', '2g3p_a_P03661', '2g3r_a_Q12888', '2g4c_a_Q9UHN1', '2g77_a_Q08484', '2g9h_d_Q52T95', '2gaf_d_P23371', '2gag_a_Q3ZDQ8', '2gau_a_Q7MAW7', '2gdq_a_O06741', '2gep_a_P17846', '2gf5_a_Q13158', '2gfv_a_P0AAI5', '2ghf_a_Q9UKY1', '2giv_a_Q9H7Z6', '2gjx_a_P06865', '2gke_a_P44859', '2gks_a_O67174', '2gl5_a_Q8ZNH1', '2gli_a_P08151', '2gmh_a_P55931', '2gno_a_Q9WZM9', '2gnu_h_Q7B302', '2gnx_a_Q6P1I3', '2gp4_a_Q8EEA0', '2gsq_a_P46088', '2gsr_a_P80031', '2gti_a_Q9J3E8', '2gtl_m_Q9GV76', '2gtl_n_Q2I743', '2gtl_o_Q2I742', '2gu1_a_Q9KUL5', '2gu3_a_P54396', '2guy_a_P0C1B3', '2gvh_a_Q7CTE6', '2gvi_a_Q9HJ63', '2gys_a_P32927', '2h1r_a_Q8ILT8', '2h26_a_P29016', '2h2j_a_Q43088', '2h39_b_Q9FK51', '2h5e_a_P0A7I4', '2h6c_a_Q9LAS2', '2h84_a_Q55E72', '2h85_a_P0C6X7', '2h9f_a_Q9I5E5', '2hak_d_Q9P0L2', '2hb0_b_P25734', '2hbk_a_Q12149', '2hey_r_P43489', '2hhv_a_Q5KWC1', '2hjk_a_Q9MYI6', '2hjq_a_P45922', '2hkj_a_O05207', '2hma_a_Q97T38', '2hmf_a_Q57991', '2hoe_a_Q9X0V1', '2hqs_a_P0A855', '2hqy_a_Q8A1H2', '2hs3_a_Q9X0X3', '2hs5_a_Q0SB06', '2hu7_a_Q9YBQ2', '2hv2_a_Q836T6', '2hxv_a_Q9X2E8', '2hyd_a_Q99T13', '2hye_c_Q13619', '2hym_a_P48551', '2i00_a_Q831Y9', '2i14_a_Q8TZS9', '2i53_a_O75909', '2i9a_a_P00749', '2i9w_a_Q4FPZ7', '2iad_b_P01921', '2iba_a_Q00511', '2icy_b_Q9M9P3', '2id4_a_P13134', '2idb_a_P0AAB4', '2ifg_a_P04629', '2ih2_a_P14385', '2iho_a_Q8X123', '2ihu_a_Q9LCV9', '2ij0_b_P06886', '2ipk_d_P0A0L5', '2it1_a_O57942', '2iu8_c_P0CD76', '2iuj_a_Q43446', '2ius_a_P46889', '2iut_a_Q9I0M3', '2iv2_x_P07658', '2ivx_a_O60583', '2iw5_b_Q9UKL0', '2ix0_a_P30850', '2ix4_a_Q8L3X9', '2iy5_a_Q5SGX2', '2izv_a_Q8WXH5', '2j07_a_P61497', '2j0r_a_P31517', '2j0w_a_P08660', '2j2z_a_Q7ATU9', '2j43_b_Q8KLP1', '2j44_a_A0A0H2UNG0', '2j5w_a_P00450', '2j69_a_B2IZD3', '2j7j_a_P03001', '2j8g_a_P15057', '2j9g_a_P24182', '2ja9_a_Q08285', '2jdi_a_P19483', '2jdi_d_P00829', '2je6_a_Q9UXC0', '2je6_b_Q9UXC2', '2je6_i_Q9UXC4', '2je8_a_Q8AAK6', '2jgd_a_P0AFG3', '2jh1_a_O00834', '2ji7_a_P40149', '2jio_a_P81186', '2k18_a_P07237', '2k49_a_Q8EAL4', '2k8e_a_P76402', '2kcx_a_O95633', '2kfz_a_P00582', '2kma_a_P26039', '2lql_a_Q9BSY4', '2m3z_a_P12497', '2mfn_a_P11276', '2mkj_a_Q17RY0', '2mkk_a_Q9BZB8', '2mnr_a_P11444', '2mzv_a_Q9AUC9', '2nn6_a_Q06265', '2nn6_b_Q9NPD3', '2nn6_c_Q96B26', '2nn6_d_Q9NQT4', '2nn6_e_Q15024', '2nn6_f_Q5RKV6', '2nn6_g_Q9NQT5', '2nn6_h_Q13868', '2nn6_i_Q9Y3B2', '2nqr_a_P12281', '2nrc_b_Q29551', '2nsf_a_Q8NLC1', '2nte_a_Q99728', '2nu7_a_P0AGE9', '2nu7_b_P0A836', '2nug_a_O67082', '2nvo_a_Q9RUW8', '2nxy_b_P01730', '2nya_f_P33937', '2nyk_a_Q6XK79', '2o13_a_P50461', '2o14_a_P42304', '2o1u_a_P41148', '2o39_c_P15529', '2o62_a_B2J6L8', '2o8r_a_Q7MTR1', '2o9c_a_Q9RZA4', '2oi6_a_P0ACC7', '2ok5_a_P00751', '2okx_a_Q93RE7', '2olu_a_Q9R744', '2omt_a_A4GWM6', '2omz_a_P0DJM0', '2ool_a_Q6N5G2', '2oox_e_Q10343', '2oq0_b_Q16666', '2oq1_a_P43403', '2oqe_a_P12807', '2ou2_a_Q92993', '2out_a_P44228', '2oux_a_Q830V1', '2ovr_b_Q969H0', '2own_a_F9ULU3', '2oz6_a_P55222', '2ozg_a_Q3M362', '2ozl_b_P11177', '2ozn_b_P26831', '2ozu_a_Q92794', '2p02_a_P31153', '2p0m_a_P12530', '2p0u_b_Q5I6Y1', '2p24_a_P14438', '2p3y_a_Q87I71', '2p5z_x_A0A0H2VBP9', '2p7j_a_Q87SR8', '2pbe_a_P17585', '2pbz_a_Q5JD28', '2phc_b_O58715', '2phg_a_Q00403', '2phl_a_P02853', '2pia_a_P33164', '2po6_a_P15813', '2psp_a_P01359', '2ptk_a_P00523', '2ptz_a_Q38BV6', '2pwd_a_Q2PS28', '2pxy_d_P06344', '2pyl_a_P03680', '2pzi_a_P9WI73', '2q07_a_O29668', '2q0z_x_O75643', '2q2t_a_O41026', '2q3n_b_Q9M6E9', '2q3z_a_P21980', '2q66_a_P29468', '2q9o_a_Q70KY3', '2q9q_d_Q9BRX5', '2qcu_a_P13035', '2qe7_a_Q71CG5', '2qe7_d_Q71CG3', '2qfi_a_P69380', '2qfr_a_P80366', '2qi2_a_Q9HJ74', '2qj2_a_P14210', '2qjy_l_Q02762', '2qlv_b_P34164', '2qmw_a_A0A0H3K044', '2qn6_a_Q980A5', '2qnj_a_P27448', '2qp2_a_Q7N6X0', '2qqm_a_O14786', '2qqr_a_O75164', '2qsh_a_P14736', '2qsv_a_Q7MX90', '2r0d_a_O08967', '2r1f_a_P28306', '2r3a_a_Q9H5I1', '2r42_a_P17256', '2r6g_f_P02916', '2r7c_a_Q03243', '2r7d_a_Q9RYD0', '2r7k_a_Q57600', '2r87_a_Q8U0R7', '2r8o_a_P27302', '2r9v_a_Q9X1U7', '2raj_a_Q9Y5X1', '2ram_a_Q04207', '2rcn_a_Q8ZKB0', '2rd2_a_P00962', '2rd6_a_P09874', '2rde_a_A0A0H3ADR8', '2rg9_b_P81446', '2rgh_a_D0VWY7', '2rgo_a_D0VWP7', '2rki_a_P04585', '2rqy_a_Q9CXI5', '2rus_b_P04718', '2shp_a_Q06124', '2sli_a_Q27701', '2tbv_a_P11795', '2tpt_a_P07650', '2uub_c_P80372', '2uub_e_Q5SHQ5', '2uy6_a_Q1R2W9', '2v3c_c_Q57565', '2v3z_a_P15034', '2v7q_h_P05630', '2v8q_e_P80385', '2vap_a_Q57816', '2vba_a_P0A953', '2vcq_a_O60760', '2vea_a_Q55168', '2veq_a_P40969', '2vfr_a_Q9ZBU1', '2vgl_m_P84092', '2vgn_a_P33309', '2vh1_a_P06136', '2vh2_a_A1JJJ6', '2vhd_a_P14532', '2vnu_d_Q08162', '2vqx_a_Q5MJ80', '2vrs_b_Q992I2', '2vrw_b_P27870', '2vtf_a_Q9ZB22', '2vv5_a_P0C0S1', '2vvn_a_Q89ZI2', '2vzs_a_Q56F26', '2w16_a_P48632', '2w51_a_P55145', '2w91_a_Q93HW0', '2wb0_x_P03265', '2wcs_a_B2IUW9', '2wfw_a_O50202', '2wkx_a_P75820', '2woy_a_P16952', '2wpg_a_Q8P5I2', '2wzf_a_Q5ZVS2', '2x0s_a_O76283', '2x7j_c_P23970', '2x8s_a_P42293', '2x8x_x_Q8DI03', '2x9z_a_A0A0H2UNM7', '2xf2_e_D9N167', '2xr1_a_Q8PZ03', '2xxa_a_P0AGD7', '2xxl_a_Q9VB68', '2xxp_a_Q9ZII9', '2xzl_a_P30771', '2xzo_a_Q92900', '2y3a_b_O08908', '2yb5_a_M1XHT1', '2ycb_a_O27271', '2ycl_a_Q3ACS3', '2yd0_a_Q9NZ08', '2yeq_a_P42251', '2ygw_b_O95822', '2yhb_a_Q9P8T1', '2yic_a_A0R2B1', '2yiu_e_P13627', '2yiu_f_P05417', '2yko_a_Q9UN81', '2ynp_a_P41811', '2yv5_a_O66555', '2yvx_d_Q5SMG8', '2yye_b_O67139', '2yyz_a_Q9WYQ2', '2yzc_a_D0VWQ1', '2yzq_a_O59416', '2z0s_a_Q9YC02', '2z1a_a_Q5SIP1', '2z1e_a_Q5JII7', '2z1k_b_Q5SI17', '2z43_b_Q55075', '2z4i_a_P40710', '2z8l_a_Q9ZFS6', '2z9i_a_O53896', '2zcw_a_Q5SIL0', '2ze0_a_Q33E90', '2zkm_x_Q00722', '2ztn_a_Q9YLQ9', '2zuv_b_E8MF13', '2zx2_a_P86179', '2zxc_a_Q9I596', '2zzq_a_P29326', '2zzq_a_P69616', '3a0o_a_A9CEJ9', '3a98_a_Q92608', '3af6_a_O50112', '3ahc_a_D6PAH1', '3ai7_g_Q6R2Q7', '3aj7_a_P53051', '3au5_a_Q9HD67', '3awi_e_P77182', '3awj_a_A3E7Z7', '3ay5_a_O95273', '3b2u_a_P00533', '3b5h_a_P35613', '3b60_a_P63359', '3b7s_a_P09960', '3bdn_a_P03034', '3bec_a_P0AEB2', '3bf0_c_P08395', '3bk7_a_Q9UZA4', '3blh_b_O60563', '3bo5_a_Q53H47', '3bof_a_Q9WYA5', '3bq1_a_Q4JB80', '3brd_a_V6CLJ5', '3bta_a_P0DPI1', '3bul_a_P13009', '3bux_b_P22681', '3bvu_a_Q24451', '3bwg_b_Q45591', '3bzc_a_Q9HTY8', '3bzf_a_P13747', '3c1y_b_Q9WY43', '3c2q_b_Q6LXX7', '3c2w_a_Q9HWR3', '3c45_a_P27487', '3c8y_a_P29166', '3c9f_a_Q5A5Q7', '3c9u_a_O67883', '3cdd_a_Q8EDP4', '3chx_i_Q9KX50', '3cih_a_Q8A916', '3cls_d_P53571', '3cmg_a_Q5LIC7', '3cnl_a_Q9WZM6', '3coq_a_P04386', '3cpe_a_P17312', '3cr8_a_Q3SM86', '3cta_a_Q9HJA6', '3ctz_a_Q9NQW7', '3cvr_a_Q83RJ4', '3cw9_a_Q8GN86', '3cx5_a_P07256', '3cx5_b_P07257', '3cx5_c_P00163', '3cx5_d_P07143', '3cx5_e_P08067', '3czk_a_Q6UVM5', '3czp_b_Q9HYF1', '3d31_a_Q8TTZ3', '3d37_a_Q9JZC8', '3d48_r_P16471', '3d4u_b_Q5EPH2', '3d85_d_P29460', '3da1_a_Q9KDW6', '3dbh_b_Q8TBC4', '3dc0_a_B3GQD0', '3ddj_a_Q97U20', '3dee_a_Q5F5I0', '3dhw_c_P30750', '3dm5_a_Q8U070', '3do7_a_Q04863', '3dpu_a_Q8KC98', '3dtu_b_Q03736', '3dup_a_Q2RXX6', '3e0j_g_P49005', '3e38_a_A6L615', '3e46_a_P61086', '3e5u_c_B8FW11', '3e7j_a_C6XZB6', '3ec1_a_D0VWU7', '3eeq_a_Q97WD0', '3ehb_b_P08306', '3elq_a_Q8FDI4', '3en9_a_Q58530', '3eph_a_P07884', '3etj_a_P09029', '3euh_b_P60293', '3ewa_a_P0CW58', '3ez2_a_P07620', '3fbq_a_A0A6L8PDV7', '3fbv_d_P32361', '3fkq_a_D0VX10', '3flo_e_P38121', '3fn9_d_Q5LJ68', '3fp9_f_P9WQN5', '3fri_a_Q763K9', '3frn_a_Q9X1M7', '3fru_a_P13599', '3fse_a_Q3M4J2', '3ftd_a_O67680', '3fut_a_Q5SM60', '3fvq_a_Q5FA19', '3g06_a_P0CE12', '3g5b_a_O08722', '3g5u_a_P21447', '3gbd_a_D0VX20', '3gdb_a_Q8CZ52', '3gm8_a_A6KXE5', '3gqb_a_Q56403', '3gqb_b_Q56404', '3grv_a_Q58435', '3gyq_b_P18644', '3gzk_a_Q9AJS0', '3h15_a_Q5EAW4', '3h2y_a_A0A1J9WBB5', '3h4j_b_O74536', '3hag_a_Q9IVZ8', '3hcs_a_Q9Y4K3', '3hje_a_Q973H2', '3hlk_a_P49753', '3hna_a_Q9H9B1', '3ho5_b_Q96QV1', '3hol_a_Q44124', '3hr8_a_P36203', '3hyj_d_Q9X234', '3i57_a_Q9RGN5', '3iev_a_O67800', '3igf_a_Q8YNT0', '3io5_a_P04529', '3irp_x_Q4A0V8', '3j16_b_Q03195', '3j4r_a_Q6JP77', '3j8c_c_Q99613', '3j8c_e_P60228', '3j8c_f_O00303', '3jck_d_Q06103', '3jcl_a_P11224', '3jsz_a_Q5WWY0', '3k0y_a_A6LF92', '3k1l_a_Q8T913', '3k1r_a_Q9Y6N9', '3k2i_a_Q8N9L9', '3k6o_a_A6L1M8', '3kbg_a_Q56230', '3ke6_a_P9WLZ7', '3kfv_a_O95049', '3kk7_a_Q8A267', '3kq4_c_P27352', '3ksy_a_Q07889', '3kt7_a_P40032', '3kxi_a_Q980M3', '3ky9_b_P15498', '3kyf_a_Q88EQ6', '3kzs_c_Q8A905', '3l0o_a_P38527', '3l3f_x_P36037', '3l41_a_Q10337', '3l4u_a_O43451', '3lcv_b_Q7M0R2', '3lmm_a_Q6NEG3', '3lpp_b_P14410', '3lq1_a_Q71YZ2', '3lso_a_Q6NEZ3', '3lv4_a_Q65D31', '3m3n_w_P20065', '3m3n_w_Q91YD9', '3m46_a_A5ZY13', '3m4w_c_P0AFX9', '3m63_a_P54860', '3mc8_a_Q8YUR6', '3mca_a_O74774', '3mde_a_P41367', '3mi6_b_Q03PP7', '3mkq_c_A6ZU46', '3ml1_a_P39185', '3mlp_a_Q07802', '3muj_b_Q9H4W6', '3mwd_a_P53396', '3mwd_b_P53396', '3mwp_a_P13699', '3n91_a_A7M003', '3nk6_a_P52391', '3nqi_a_A0A380YR22', '3nsj_a_P10820', '3nva_a_Q980S6', '3od1_b_Q9K6Z0', '3ojy_a_P07357', '3ojy_b_P07358', '3oky_b_O35464', '3opu_a_P11657', '3oqq_a_A7LT28', '3oss_d_E3PJ86', '3ozx_a_Q980K5', '3p02_a_A7LR42', '3p1v_a_A7LS78', '3p26_a_P32769', '3p5j_b_Q80ZV0', '3pf2_a_Q8E0S9', '3pfq_a_P68403', '3pig_a_A2TLS9', '3pmg_a_P00949', '3pmo_a_Q9HXY6', '3poh_a_Q8A0N4', '3pqs_a_Q44167', '3pt6_b_P13864', '3puf_h_Q5TBB1', '3pvc_a_Q8ZD36', '3pvl_a_P97479', '3q5d_a_Q8WXF7', '3qdf_a_B2HIH3', '3qdh_a_O68212', '3qf4_a_Q9WYC3', '3qf4_b_Q9WYC4', '3qis_a_Q01968', '3qq5_a_B9KBK7', '3qwn_h_A5ZK25', '3r3l_a_Q9DQX7', '3r7w_b_P53290', '3r7w_c_Q00582', '3rfr_i_Q9KX36', '3rgb_i_G1UBD1', '3rjr_b_P07200', '3rle_a_Q9H8Y8', '3rqi_a_Q3JXA5', '3rr6_a_B1MDQ6', '3rub_l_P00876', '3rwx_a_Q5LBW6', '3s6g_b_Q0ASS9', '3s6k_a_A0A0H2X8L7', '3s7e_a_P43238', '3seb_a_P01552', '3sgg_a_Q8A5P5', '3shw_a_Q07157', '3sot_e_A7LZP6', '3sqd_b_Q6ZW49', '3sqi_a_Q6CPM4', '3szr_a_P20591', '3t5o_a_P13671', '3t7k_b_P38850', '3tee_a_P40131', '3tel_a_Q4K376', '3tiq_a_Q2G2B2', '3tl4_x_P13188', '3tp2_a_Q12046', '3tqs_a_Q83AC2', '3tr5_b_Q83DC7', '3ttc_a_A0A0H3JHT3', '3tvt_a_P31007', '3tw8_c_Q6P3S1', '3u1w_a_A6LDE6', '3u3z_a_Q8NEM0', '3ua3_b_P46580', '3uat_a_Q62696', '3ubf_a_O15943', '3ud1_a_P16157', '3udf_b_G1C794', '3ueo_a_Q92547', '3uer_a_Q1J0W0', '3ugf_b_E3PQS3', '3ui2_a_O22265', '3utm_a_Q6PFX9', '3uxf_a_P18477', '3uzu_a_Q63X76', '3v68_a_Q8TZE5', '3v8u_a_Q9K0V0', '3v92_a_P09917', '3ve2_a_Q09057', '3vea_a_Q8ZG78', '3ven_a_Q70IY1', '3vm5_a_H2N0D4', '3vmf_a_Q9YAV0', '3vmn_a_Q54443', '3vn5_a_O67644', '3vqt_b_B8DIL5', '3vr4_a_Q08636', '3vse_a_A0A0H3JYW8', '3vth_a_Q8RDB0', '3w1e_a_D9N551', '3w5n_a_Q82PP4', '3wa1_a_P18568', '3weo_a_L0N7E5', '3wn6_a_P17654', '3wsy_a_Q92673', '3wvf_b_Q1R4M9', '3wy1_a_H3K096', '3zm8_a_E2GHW2', '3zx8_a_P06663', '3zxs_a_Q3IXP1', '4a2q_d_D3TI84', '4aay_e_Q6VAL8', '4abn_a_Q99LG4', '4ac9_a_Q8J307', '4aco_a_P32504', '4adn_a_Q8GNY5', '4ags_b_A4I8P2', '4aie_a_Q5FMB7', '4akv_a_Q8WV41', '4alz_a_Q01245', '4arm_b_Q57159', '4aul_a_M4GGR6', '4aun_d_M4GGR8', '4aur_a_E3PN25', '4aut_a_A0R607', '4ays_a_Q9RVT9', '4ayt_a_Q9NRK6', '4b0n_a_D8LJ35', '4b2y_a_R4GRT6', '4b31_a_R4GRT7', '4b3g_b_P38935', '4b40_a_R4GRT8', '4b5k_a_R4GRT9', '4ba0_a_B3PEE6', '4bbq_a_Q9Y2K7', '4bej_d_O00429', '4bes_a_Q5ZXN6', '4bfm_a_Q61846', '4bin_a_P63883', '4bkx_a_Q13330', '4bmd_a_P32372', '4c00_a_P0ADE4', '4c1o_a_A0A067XG64', '4c3e_i_P04545', '4c47_b_Q8ZL65', '4c5w_a_O75936', '4c91_a_A7M022', '4cbv_b_Q79CK7', '4cdp_a_Q8X5N8', '4ckc_a_P04298', '4cs9_c_Q8QN58', '4cuc_a_A0A0H2UP19', '4d10_i_Q13098', '4d56_a_G0WVH3', '4d8j_a_P0A8N0', '4dbf_b_Q8NQY2', '4dcu_a_P50743', '4df9_d_Q5L9L3', '4dix_a_O48791', '4dja_a_A9CH39', '4djd_e_Q07340', '4dlo_a_O60242', '4dmz_a_A0A0H2ZD98', '4dqa_a_A7M0D0', '4e1b_a_Q970S6', '4e2x_a_B5L6K6', '4e79_a_B0VMV2', '4e9j_a_P35818', '4efp_a_E5EVW2', '4egc_a_P0AEX9', '4egc_a_Q15475', '4eo2_c_Q7Y3F0', '4eps_a_A7M4E1', '4eu0_a_Q9HZE7', '4exr_a_Q186H8', '4f0a_b_P28026', '4f1n_a_A7TMA9', '4f4o_c_Q8SPS7', '4fch_a_G8JZT0', '4fe9_a_G8JZS6', '4fff_a_Q9KJD0', '4fhn_d_O43044', '4fin_a_P0A9W3', '4fke_a_P15145', '4fnq_a_Q934H7', '4fnt_a_Q9ALJ4', '4fnv_a_Q89YR9', '4fun_a_Q5HKE8', '4fyt_a_P15144', '4g08_a_P35672', '4g10_a_Q9WXJ9', '4g26_a_Q66GI4', '4g2a_a_Q5ZTF2', '4g56_c_Q6NUA1', '4g59_c_Q83156', '4g9i_a_Q5JII4', '4gc9_a_Q8JZM0', '4gia_b_M1E1F3', '4gl2_a_Q9BYX4', '4gqb_a_O14744', '4gr4_c_D1GLU5', '4h0a_b_A0A0H3JR67', '4h3s_a_P13188', '4h8v_a_M1E1F6', '4hg0_a_P0AE78', '4hiz_b_I7HXG2', '4hoz_a_D9MPF2', '4hpp_a_Q9HT65', '4hri_b_P27709', '4hsa_c_Q96F46', '4i8o_b_P52129', '4iao_a_P06700', '4idh_a_Q716H3', '4ifa_a_A0A348A8R7', '4igl_a_B6A880', '4ihf_e_P21645', '4iiw_a_Q8Y725', '4ixp_a_Q14680', '4iy9_a_Q00802', '4izz_a_Q2ACK9', '4j0q_a_Q88QP8', '4j5t_a_P53008', '4j8q_a_Q5LHD5', '4jgw_a_Q61193', '4jhd_c_Q5NBX1', '4jn6_c_P9WMK5', '4jo8_a_Q6XK91', '4jp0_a_Q939S9', '4jvh_a_Q96PU8', '4jx0_a_Q5L9W9', '4jxj_a_Q1RK29', '4k3b_a_Q5F5W8', '4k3c_a_Q93PM2', '4kc7_a_A5IKD4', '4kfv_a_O35254', '4kfw_b_Q9R064', '4kh8_a_Q838Q9', '4khb_f_G0SHK5', '4kjm_a_Q8NWQ6', '4kki_a_P20061', '4knc_a_Q51372', '4krf_a_Q9UL18', '4ks9_a_Q1LJK6', '4ksa_c_Q6NCB2', '4ksf_a_B9K0V9', '4kxd_a_Q07075', '4kzs_a_K2KM35', '4l9m_a_O95267', '4lej_a_V9VGU0', '4lj0_a_G0SCL7', '4llf_a_P15183', '4lqx_a_Q97VD2', '4lrs_a_D1A3K8', '4m0n_a_A6LCL9', '4m5d_a_P53254', '4m5d_b_P25368', '4maz_a_O06994', '4mb4_a_B1VBB0', '4mhc_a_P40064', '4mmh_a_Q59289', '4mnd_a_O29976', '4mt5_a_F8KCE4', '4mzg_d_Q9Y657', '4n0r_a_A6KXB7', '4n0t_a_P49960', '4n7e_a_Q99523', '4n7l_h_Q3J170', '4na1_a_P40806', '4ncb_a_Q746M7', '4ncr_a_P9WJF1', '4ndh_a_Q7Z2E3', '4nhx_a_Q8N543', '4nre_a_O15296', '4nw4_a_Q838R0', '4nzj_a_Q5LFG6', '4o1p_a_A5H025', '4o3m_a_P54132', '4o3w_a_Q83UA7', '4o4u_d_A0A0H2UKY5', '4o4x_a_A0A0H2UKY6', '4o64_a_Q8NHM5', '4o6b_a_P29990', '4o6c_d_Q9Q6P4', '4o6m_a_O27985', '4o8a_a_P09546', '4o9x_a_Q8GF97', '4o9x_a_Q8GF99', '4oau_c_Q05823', '4ofq_a_Q48S75', '4ogz_a_Q5L7T7', '4ohy_a_P52874', '4oi4_c_Q08685', '4ok4_a_Q21FJ0', '4oon_a_Q07806', '4ope_a_B2WW42', '4owt_a_Q68E01', '4oxp_a_Q9A749', '4p02_a_Q3J125', '4p04_b_A0A0D6H805', '4p0d_a_P18481', '4p42_a_A0FGR8', '4p4h_e_O95786', '4p6v_a_Q9KPS1', '4pc4_c_A7LIK7', '4pfz_a_A0QUY6', '4pj3_a_O60306', '4pj6_a_Q9UIQ6', '4pl3_a_Q9EQY0', '4pqx_a_A5ZGW9', '4pro_c_P00778', '4psn_a_Q9YAS7', '4psr_b_J9UN47', '4puf_a_D0ZRB2', '4py5_a_E8T217', '4q1z_a_Q8A6E6', '4q2j_a_Q60611', '4q35_a_Q83SQ0', '4q6o_a_O25708', '4qay_a_W1WMC8', '4qft_a_Q7L5N1', '4qhw_a_A5ZGP5', '4ql0_a_P35077', '4qni_a_Q8A201', '4qq0_a_O84671', '4qq1_c_Q06988', '4qyr_a_D0U2E3', '4r0v_a_Q9FYU1', '4r4g_a_O34538', '4r5o_b_Q8A7N7', '4red_a_Q13131', '4rey_a_Q9BQQ3', '4rhh_a_Q09LZ0', '4rnz_a_O25247', '4rvd_a_Q194Q4', '4ry2_a_A3DCU1', '4s2r_q_O44750', '4tpl_a_Q5SBG8', '4tsh_b_C9E3B4', '4tvu_g_I3NX86', '4u1c_c_P32497', '4uxv_a_O34894', '4uy3_a_A7X3E7', '4uy4_a_Q56A73', '4v4e_m_P80563', '4v4e_n_P80564', '4wck_a_B5ZAD9', '4wgk_a_Q9NR71', '4wky_a_B2WW47', '4wnr_a_Q46A62', '4wve_a_Q2G2B2', '4wvm_a_Q98989', '4wvm_b_Q91453', '4wxx_a_P26358', '4wz9_a_Q7Q2T8', '4xb3_a_Q99040', '4xba_a_O74859', '4xgc_b_Q24168', '4xgl_a_O15091', '4xhc_a_A0A0J9X262', '4xhz_a_Q96QU1', '4xjw_a_Q54727', '4xjx_b_P10486', '4xmm_e_P35729', '4xpq_a_A0A0F7R6D6', '4y66_e_E2RTU1', '4y66_f_V6TR15', '4y97_a_Q14181', '4yap_a_G2IN94', '4ye6_a_P47897', '4yg8_a_Q12114', '4yod_a_A5ZHK4', '4yom_b_Q69Z98', '4ypj_b_E5RWQ2', '4ypt_a_P0C6X9', '4yw4_a_A0A182DW00', '4yz1_b_A0A0H2UQE4', '4yz9_a_O75460', '4z37_a_C0ZGQ5', '4z4d_a_Q9UKV8', '4zb3_a_Q9SU14', '4zdn_a_D0U2E4', '4zel_a_P09172', '4zi8_b_Q91XX1', '4zi9_b_Q91XZ0', '4zmh_a_Q21JW4', '4zoh_a_Q96Y29', '4zpl_a_Q91Y08', '4zpm_b_Q91Y09', '4zpo_a_Q91XW9', '4zps_a_Q91XY0', '4zxb_e_P06213', '5a1h_c_Q5JUX0', '5a5t_c_G1U971', '5a5t_e_G1SUC8', '5a5t_h_G1ST95', '5a60_a_P30871', '5ab0_c_Q6P179', '5afb_a_Q9HAR2', '5al7_a_Q9VAC8', '5amr_a_A5HC98', '5axg_b_B0KBZ7', '5ayw_a_P0A940', '5b5k_a_Q9D9J7', '5b5r_a_Q5Y4Y6', '5bmt_a_A7AJI6', '5bn4_a_Q74MJ7', '5bn7_a_P21517', '5boi_a_D5DRI0', '5bq9_a_Q5ZVE4', '5brq_c_Q65MI2', '5bx2_a_F6BL85', '5by3_a_Q8A3J6', '5byh_m_R4YEY9', '5cad_a_A0A158RFR1', '5cd6_c_A6LCM3', '5ce3_b_Q93KQ6', '5chh_a_Q9I0P9', '5cw4_a_E2AXC7', '5d06_a_Q6FSK0', '5d08_a_P97030', '5d6s_e_A0A0R4I997', '5da0_a_Q1J2S8', '5djw_a_Q8A2K6', '5dkx_a_G0SG42', '5dmy_a_D4QAP3', '5dnk_b_O05979', '5do8_b_Q8YAE6', '5doo_a_Q68XQ5', '5dz9_a_Q8E589', '5dzv_b_Q91Y13', '5dzw_a_O88689', '5dzx_a_Q91XZ4', '5dzy_c_Q91XZ2', '5e1q_a_Q8A6L0', '5e1r_d_B3STU4', '5e1t_c_Q13077', '5e27_a_P9WG29', '5e5n_c_Q05470', '5eak_a_Q7KZI7', '5ean_a_Q6ZQJ5', '5ej8_a_P17109', '5ejr_a_Q9U1M8', '5ejy_a_Q9U1M8', '5elp_d_Q1RS73', '5elt_b_O75525', '5erb_a_Q1RS72', '5es1_a_Q96L34', '5f0e_a_Q8BHN3', '5f1a_a_P35354', '5f3y_a_Q99MZ6', '5f7u_a_Q8Y4J2', '5f9t_a_A0A0B7LH44', '5fb4_a_P04331', '5fd3_a_Q6MZP7', '5fia_a_Q5ZXU7', '5fnp_a_P69506', '5foy_a_P06575', '5foy_b_P10565', '5fsh_a_Q53W17', '5ft9_a_Q680B9', '5ftt_g_Q80TS3', '5g5s_a_Q58717', '5gk9_a_O95251', '5gmi_a_Q99JX3', '5gs6_a_A0A109PRQ3', '5guh_a_A8D8P8', '5h2t_f_D1ABU6', '5h3k_a_P74396', '5h4s_a_A0A090BWT0', '5has_c_A0A140UHP8', '5hi9_a_Q9WUD2', '5i08_a_M1E1E4', '5i08_a_Q0ZME7', '5i4a_c_H2J4R4', '5ihe_a_Q9V2F3', '5ikj_a_O13881', '5ikk_a_P56523', '5iu9_a_F8W3X3', '5iv9_a_C4T9I0', '5iwk_a_Q9R186', '5j67_c_O75129', '5j6q_a_Q183N4', '5j72_a_Q183L9', '5j9t_g_P43572', '5jaj_a_G0YYQ5', '5jc7_a_D9N195', '5jhq_a_O95271', '5jk9_e_Q8IYV9', '5jmd_a_Q89YS4', '5jrj_a_D8IYL4', '5k5s_b_P41180', '5k6k_b_Q32ZE1', '5k8r_a_Q9Y5G1', '5kec_a_G3FT00', '5kfn_a_Q9Y253', '5kli_b_Q02760', '5kwb_a_Q5MQD0', '5kzk_a_Q92SJ4', '5kzw_a_P10253', '5l05_a_Q3JNW6', '5lsj_a_Q9H081', '5lsj_b_Q6P1K2', '5m99_a_A0A059TXD8', '5oe8_a_E5DV50', '5szn_a_Q91XX9', '5szp_a_Q91XX3', '5szq_a_Q91XY4', '5szr_c_Q91XX7', '5szs_b_Q6Q1S2', '5t67_b_B3TMQ9', '5t9t_a_Q8K486', '5tip_a_P30328', '5u0h_a_A0A384E0U0', '5u2g_a_P31776', '5u2o_a_A0A384E0U3', '5u6k_e_Q6ZQF0', '5ucg_a_P37475', '5ui2_a_P83689', '5uyt_b_B3GGB1', '5uz8_a_Q99PF4', '5v1t_a_A0A0Z8EWX1', '5v8f_b_P32833', '5vai_r_G1SGD4', '5vm9_a_Q9H9G7', '5vvm_a_Q9H251', '5vx6_a_P38491', '5w1d_a_Q99PJ1', '5w4t_a_F1R7G8', '5wgg_a_A3DDW1', '5wx3_a_A0A1W7GKH6', '5wx4_a_A0A1W7GKH4', '5wx5_d_A0A1X8XLG0', '5wx6_b_A0A1X8XLG1', '5wx7_c_A0A1X8XLG2', '5wxu_a_A0A162EGL7', '5x5f_a_K9N5Q8', '5x6b_f_Q58876', '5x7u_a_D1CE96', '5xbf_a_Q6PIF6', '5xmc_a_Q8C863', '5xy4_c_M4GGR7', '5y6f_a_P76010', '5y83_a_Q9X1H2', '5yem_b_M4GGR5', '5yks_a_Q9NRH2', '5zcc_a_A0A2Z5WH92', '5zcr_a_Q7LYV2', '6a0k_a_D2YYE1', '6aav_a_Q76LB0', '6ahy_b_P56703', '6al2_a_P25714', '6b3j_r_P43220', '6b6l_a_E2N721', '6b7n_a_A0A075E3D7', '6bx7_a_Q08174', '6bzh_c_Q6Q899', '6ces_a_Q7L523', '6cku_a_Q8QGN9', '6cn0_b_Q33DX5', '6cnm_a_O15554', '6cqb_a_A0A384E133', '6crz_a_P10104', '6crz_a_P59594', '6cv0_a_F4MIW6', '6cxh_a_G4SZ64', '6d1p_b_A0A078SSU5', '6dht_a_A7LXT3', '6dmu_a_Q9XSM3', '6e2f_b_Q9H1D0', '6e3y_r_Q16602', '6fkk_a_Q7KK54', '6gkh_a_Q8R5F7', '6gsw_a_P04905', '6gw3_b_B1Q2B6', '6gya_a_A0A3P8MUS3', '6i97_a_Q9I116', '6ifw_a_P37468', '6iwk_a_P22963', '6iym_a_K0A9N9', '6j5x_b_Q8NLC0', '6jqq_b_W1F4G9', '6jyt_a_P0C6X7', '6k5p_c_B0X223', '6l7j_a_M1HE54', '6lfk_c_A0A6I8WFM0', '6lgd_b_A0A077JI83', '6m3p_c_O70511', '6m3q_e_Q01484', '6mvf_a_D4K3H3', '6n51_a_P41594', '6nb3_a_A0A140AYW5', '6nin_x_Q3IY11', '6npb_a_A0A4V8H042', '6nsz_a_Q9C169', '6nzk_a_Q696P8', '6op5_a_A0A384E132', '6ppw_a_H2VFG5', '6qp9_a_Q24322', '6rtc_a_Q8BU91', '6s9v_b_D9TT09', '6sav_a_M9TI89', '6sdr_a_Q72EJ1', '6tp1_a_I3P686', '6u7k_a_Q91AV1', '6v88_b_P52285', '6vsb_a_P0DTC2', '6vv5_a_S5RJN4', '6vww_a_P0DTD1', '6wts_a_Q9H2E6', '6y3c_a_P23219', '6y9t_a_Q5FI02', '7acn_a_P16276', '7bur_a_P24826', '7ndj_b_Q5DTV4', '7oa5_a_P40832', '7pvc_a_P0ADE6', '7req_a_P11653', '7req_b_P11652', '8ruc_a_P00875', '9wga_a_P02876'])"
      ]
     },
     "execution_count": 32,
     "metadata": {},
     "output_type": "execute_result"
    }
   ],
   "source": [
    "dict_all_loops_smoothSS_first.keys()"
   ]
  },
  {
   "cell_type": "code",
   "execution_count": null,
   "id": "389e33cc-8dbf-4013-be43-311213b229cf",
   "metadata": {},
   "outputs": [],
   "source": []
  }
 ],
 "metadata": {
  "kernelspec": {
   "display_name": "py12",
   "language": "python",
   "name": "python3"
  },
  "language_info": {
   "codemirror_mode": {
    "name": "ipython",
    "version": 3
   },
   "file_extension": ".py",
   "mimetype": "text/x-python",
   "name": "python",
   "nbconvert_exporter": "python",
   "pygments_lexer": "ipython3",
   "version": "3.12.2"
  }
 },
 "nbformat": 4,
 "nbformat_minor": 5
}
